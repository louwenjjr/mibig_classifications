{
 "cells": [
  {
   "cell_type": "markdown",
   "id": "confirmed-adjustment",
   "metadata": {},
   "source": [
    "# Summary\n",
    "Read the class info file for MiBIG entries, and report probability tables."
   ]
  },
  {
   "cell_type": "code",
   "execution_count": 1,
   "id": "finnish-elder",
   "metadata": {},
   "outputs": [],
   "source": [
    "import os\n",
    "import urllib\n",
    "import glob\n",
    "import json\n",
    "import time\n",
    "import numpy as np\n",
    "import pandas as pd\n",
    "from collections import OrderedDict"
   ]
  },
  {
   "cell_type": "code",
   "execution_count": 2,
   "id": "altered-court",
   "metadata": {},
   "outputs": [
    {
     "name": "stdout",
     "output_type": "stream",
     "text": [
      "mibig_classes exists is True\n"
     ]
    }
   ],
   "source": [
    "mibig_folder = \"/mnt/scratch/louwe015/mibig_json_2.0/\"\n",
    "\n",
    "base_path = \"/mnt/scratch/louwe015/NPLinker/classifying/mibig_classifications/\"\n",
    "out_base = os.path.split(base_path[:-1])[0]\n",
    "mibig_classes = os.path.join(out_base, \"MIBiG2.0_compounds_with_AS_BGC_CF_NPC_classes.txt\")\n",
    "print(\"mibig_classes exists is\", os.path.isfile(mibig_classes))"
   ]
  },
  {
   "cell_type": "markdown",
   "id": "forty-hepatitis",
   "metadata": {},
   "source": [
    "## Reading file\n",
    "Making dict of {chem_id: [[bgc_classes], [chem_classes]]}, where bgc_classes is [class, subclass, AS_class], and chem_classes is the CF/NPC classes in order of input file"
   ]
  },
  {
   "cell_type": "code",
   "execution_count": 3,
   "id": "special-checkout",
   "metadata": {},
   "outputs": [
    {
     "name": "stdout",
     "output_type": "stream",
     "text": [
      "compound_name\tclass:subclass\tas_classes\tsmiles\tinchi_key\tcf_kingdom\tcf_superclass\tcf_class\tcf_subclass\tcf_direct_parent\tnpc_class\tnpc_superclass\tnpc_pathway\tnpc_isglycoside\n",
      "\n",
      "[[['Other'], [], ['phosphonate']], [[''], [''], [''], [''], [''], [''], [''], [''], ['0']]]\n",
      "[[['Polyketide'], [], ['T1PKS', 'NRPS-like']], [['Organic compounds'], ['Phenylpropanoids and polyketides'], ['Macrolactams'], [''], ['Macrolactams'], ['Ansa macrolides'], ['Macrolides'], ['Polyketides'], ['0']]]\n"
     ]
    },
    {
     "data": {
      "text/plain": [
       "[[['Polyketide'], ['Polyketide:Other'], ['T1PKS']],\n",
       " [['Organic compounds'],\n",
       "  ['Organoheterocyclic compounds'],\n",
       "  ['Oxanes'],\n",
       "  [''],\n",
       "  ['Oxanes'],\n",
       "  ['Spirotetronate macrolides'],\n",
       "  ['Macrolides'],\n",
       "  ['Polyketides'],\n",
       "  ['0']]]"
      ]
     },
     "execution_count": 3,
     "metadata": {},
     "output_type": "execute_result"
    }
   ],
   "source": [
    "classes_dict = {}\n",
    "with open(mibig_classes) as inf:\n",
    "    header = inf.readline()\n",
    "    print(header)\n",
    "    for line in inf:\n",
    "        elems = line.strip().split(\"\\t\")\n",
    "        chem_id = elems.pop(0)\n",
    "        class_base = elems.pop(0).split(',')\n",
    "        classes = [cls.partition(':')[0] for cls in class_base]\n",
    "        sub_classes = [cls for cls in class_base if cls.split(\":\")[1]]\n",
    "        as_classes = elems.pop(0).split(',')\n",
    "\n",
    "        bgc_classes = [classes, sub_classes, as_classes]        \n",
    "        chem_classes = [chem_cls.split('; ') for chem_cls in elems[2:]]\n",
    "        classes_dict[chem_id] = [bgc_classes, chem_classes]\n",
    "\n",
    "print(classes_dict[chem_id])  # example\n",
    "print(classes_dict['BGC0000020_maytansine'])\n",
    "classes_dict['BGC0000001_abyssomicin C']"
   ]
  },
  {
   "cell_type": "code",
   "execution_count": 37,
   "id": "diverse-cisco",
   "metadata": {},
   "outputs": [
    {
     "data": {
      "text/plain": [
       "[[['Polyketide', 'Saccharide'],\n",
       "  ['Polyketide:Tetracycline', 'Saccharide:hybrid/tailoring'],\n",
       "  ['T2PKS', 'oligosaccharide']],\n",
       " [['Organic compounds'],\n",
       "  ['Phenylpropanoids and polyketides'],\n",
       "  ['Anthracyclines'],\n",
       "  [''],\n",
       "  ['Anthracyclines'],\n",
       "  ['Angucyclines', 'Anthraquinones and anthrones'],\n",
       "  ['Polycyclic aromatic polyketides'],\n",
       "  ['Polyketides'],\n",
       "  ['1']]]"
      ]
     },
     "execution_count": 37,
     "metadata": {},
     "output_type": "execute_result"
    }
   ],
   "source": [
    "classes_dict['BGC0000199_arimetamycin B']"
   ]
  },
  {
   "cell_type": "code",
   "execution_count": 4,
   "id": "organized-judgment",
   "metadata": {},
   "outputs": [
    {
     "name": "stdout",
     "output_type": "stream",
     "text": [
      "['mibig_classes', 'class:subclass', 'as_classes'] ['cf_kingdom', 'cf_superclass', 'cf_class', 'cf_subclass', 'cf_direct_parent', 'npc_class', 'npc_superclass', 'npc_pathway', 'npc_isglycoside']\n"
     ]
    }
   ],
   "source": [
    "# creating legend from the header\n",
    "s_h = header.strip().split('\\t')\n",
    "legend_bgc = ['mibig_classes']+s_h[1:3]\n",
    "legend_chem = s_h[5:]\n",
    "print(legend_bgc, legend_chem)"
   ]
  },
  {
   "cell_type": "markdown",
   "id": "american-shock",
   "metadata": {},
   "source": [
    "## Do comparisons between bgc and chem classes"
   ]
  },
  {
   "cell_type": "code",
   "execution_count": 5,
   "id": "passive-creator",
   "metadata": {},
   "outputs": [],
   "source": [
    "from collections import defaultdict\n",
    "def rec_dd():\n",
    "    \"\"\"Initialises a recurring defaultdict\"\"\"\n",
    "    return defaultdict(rec_dd)"
   ]
  },
  {
   "cell_type": "code",
   "execution_count": 6,
   "id": "grave-integration",
   "metadata": {},
   "outputs": [],
   "source": [
    "# aggregate pairwise class matrices for all compounds\n",
    "result = rec_dd()\n",
    "# loop through each mibig compound\n",
    "for mibig_chem_id, (bgc_classes, chem_classes) in classes_dict.items():\n",
    "# get all combinations of classes for this compound\n",
    "    for i, bgc_cat in enumerate(legend_bgc):\n",
    "        init_bgc_class = bgc_classes[i]\n",
    "        if not init_bgc_class or init_bgc_class == ['']:\n",
    "            continue\n",
    "\n",
    "        bgc_class = init_bgc_class[:]  # if no exceptions, just assign classes\n",
    "\n",
    "        # do some cleanup for mibig classes\n",
    "        if bgc_cat == \"mibig_classes\":\n",
    "            # group pks-nrp hybrids for MIBiG classes\n",
    "            hyb_count = len([1 for init_bgc_c in init_bgc_class \\\n",
    "                             if any([test in init_bgc_c.lower() for test in ['nrp', 'pks', 'polyketide']])])\n",
    "            if hyb_count >= 2:\n",
    "                # if hybrid, reconstruct the bgc_class\n",
    "                bgc_class = []\n",
    "                bgc_class.append(\"PKS-NRP_Hybrids\")\n",
    "                # append other classes if there are more\n",
    "                for init_bgc_c in init_bgc_class:\n",
    "                    if not any([test in init_bgc_c.lower() for test in ['nrp', 'pks', 'polyketide']]):\n",
    "                        bgc_class.append(init_bgc_c)\n",
    "\n",
    "            # replace Alkaloid with Other in bgc_class\n",
    "            bgc_class = [\"Other\" if bgc_c == \"Alkaloid\" else bgc_c for bgc_c in bgc_class]\n",
    "\n",
    "        for j, chem_cat in enumerate(legend_chem):\n",
    "            chem_class = chem_classes[j]\n",
    "            if not chem_class or chem_class == ['']:\n",
    "                continue\n",
    "\n",
    "            for bgc_c in bgc_class:\n",
    "                for chem_c in chem_class:\n",
    "                    try:\n",
    "                        result[bgc_cat][chem_cat][bgc_c][chem_c] += 1\n",
    "                    except TypeError:\n",
    "                        result[bgc_cat][chem_cat][bgc_c][chem_c] = 1"
   ]
  },
  {
   "cell_type": "code",
   "execution_count": 7,
   "id": "engaging-introduction",
   "metadata": {},
   "outputs": [
    {
     "data": {
      "text/plain": [
       "defaultdict(<function __main__.rec_dd()>,\n",
       "            {'Polyketide': defaultdict(<function __main__.rec_dd()>,\n",
       "                         {'Polyketides': 548,\n",
       "                          'Shikimates and Phenylpropanoids': 20,\n",
       "                          'Alkaloids': 72,\n",
       "                          'Amino acids and Peptides': 24,\n",
       "                          'Terpenoids': 35,\n",
       "                          'Fatty acids': 14,\n",
       "                          'Carbohydrates': 9}),\n",
       "             'Other': defaultdict(<function __main__.rec_dd()>,\n",
       "                         {'Polyketides': 36,\n",
       "                          'Alkaloids': 193,\n",
       "                          'Carbohydrates': 46,\n",
       "                          'Amino acids and Peptides': 90,\n",
       "                          'Shikimates and Phenylpropanoids': 21,\n",
       "                          'Fatty acids': 19,\n",
       "                          'Terpenoids': 5}),\n",
       "             'Saccharide': defaultdict(<function __main__.rec_dd()>,\n",
       "                         {'Carbohydrates': 60,\n",
       "                          'Polyketides': 64,\n",
       "                          'Amino acids and Peptides': 9,\n",
       "                          'Terpenoids': 4,\n",
       "                          'Shikimates and Phenylpropanoids': 3}),\n",
       "             'Terpene': defaultdict(<function __main__.rec_dd()>,\n",
       "                         {'Polyketides': 19,\n",
       "                          'Terpenoids': 136,\n",
       "                          'Carbohydrates': 1,\n",
       "                          'Amino acids and Peptides': 2,\n",
       "                          'Alkaloids': 49,\n",
       "                          'Shikimates and Phenylpropanoids': 1}),\n",
       "             'PKS-NRP_Hybrids': defaultdict(<function __main__.rec_dd()>,\n",
       "                         {'Polyketides': 177,\n",
       "                          'Alkaloids': 58,\n",
       "                          'Amino acids and Peptides': 187,\n",
       "                          'Shikimates and Phenylpropanoids': 6,\n",
       "                          'Fatty acids': 12,\n",
       "                          'Terpenoids': 2,\n",
       "                          'Carbohydrates': 1}),\n",
       "             'NRP': defaultdict(<function __main__.rec_dd()>,\n",
       "                         {'Amino acids and Peptides': 320,\n",
       "                          'Carbohydrates': 8,\n",
       "                          'Alkaloids': 99,\n",
       "                          'Polyketides': 115,\n",
       "                          'Shikimates and Phenylpropanoids': 9,\n",
       "                          'Fatty acids': 2}),\n",
       "             'RiPP': defaultdict(<function __main__.rec_dd()>,\n",
       "                         {'Amino acids and Peptides': 113,\n",
       "                          'Polyketides': 4,\n",
       "                          'Alkaloids': 2})})"
      ]
     },
     "execution_count": 7,
     "metadata": {},
     "output_type": "execute_result"
    }
   ],
   "source": [
    "mibig_cls_npc_pathway = result['mibig_classes']['npc_pathway']  # MiBIG BGC class and NPC pathway\n",
    "mibig_cls_npc_pathway"
   ]
  },
  {
   "cell_type": "code",
   "execution_count": 8,
   "id": "damaged-installation",
   "metadata": {},
   "outputs": [
    {
     "data": {
      "text/plain": [
       "(dict_keys(['mibig_classes', 'class:subclass', 'as_classes']),\n",
       " defaultdict(<function __main__.rec_dd()>,\n",
       "             {'Polyketide': defaultdict(<function __main__.rec_dd()>,\n",
       "                          {'Terpene glycosides': 13,\n",
       "                           'Depsipeptides': 1,\n",
       "                           'Furanocoumarins': 7,\n",
       "                           'Terpene lactones': 10,\n",
       "                           'Carbohydrates and carbohydrate conjugates': 52,\n",
       "                           'Fatty alcohols': 8,\n",
       "                           'Nitrobenzenes': 4,\n",
       "                           'Carbonyl compounds': 26,\n",
       "                           '1-benzopyrans': 14,\n",
       "                           'Isoindolines': 2,\n",
       "                           'Amino acids, peptides, and analogues': 8,\n",
       "                           'Medium-chain hydroxy acids and derivatives': 1,\n",
       "                           'Imidothiolactones': 1,\n",
       "                           'Diterpenoids': 4,\n",
       "                           'Alcohols and polyols': 3,\n",
       "                           'Anthraquinones': 23,\n",
       "                           'Fatty acyl glycosides': 2,\n",
       "                           'Benzoic acids and derivatives': 6,\n",
       "                           'Benzo-p-dioxins': 2,\n",
       "                           'Pyranones and derivatives': 9,\n",
       "                           'Fumonisins': 2,\n",
       "                           'Naphthoquinones': 4,\n",
       "                           'Zearalenones': 2,\n",
       "                           'Fatty acids and conjugates': 12,\n",
       "                           'Delta valerolactones': 5,\n",
       "                           'Milbemycins': 2,\n",
       "                           'Benzophenones': 1,\n",
       "                           'Isobenzofuranones': 2,\n",
       "                           'Monoterpenoids': 2,\n",
       "                           'Ethers': 4,\n",
       "                           'Diphenylethers': 1,\n",
       "                           'Styrenes': 4,\n",
       "                           'Sesquiterpenoids': 13,\n",
       "                           'Hydroxysteroids': 4,\n",
       "                           'Organic nitro compounds': 3,\n",
       "                           'Halobenzenes': 1,\n",
       "                           'Triterpenoids': 2,\n",
       "                           'Furanones': 4,\n",
       "                           'Carboximidic acids': 5,\n",
       "                           'Naphthols and derivatives': 5,\n",
       "                           'Fatty alcohol esters': 1,\n",
       "                           'Sesterterpenoids': 5,\n",
       "                           'Piperidinones': 1,\n",
       "                           'Cinnamic acid esters': 2,\n",
       "                           'Tricarboxylic acids and derivatives': 3,\n",
       "                           'Pentacarboxylic acids and derivatives': 2,\n",
       "                           'Hydropyridines': 3,\n",
       "                           'Lineolic acids and derivatives': 3,\n",
       "                           'Indoles': 4,\n",
       "                           'Anthracenecarboxylic acids and derivatives': 4,\n",
       "                           'Naphthopyranones': 10,\n",
       "                           'Tetracenequinones': 9,\n",
       "                           'Naphthalenecarboxylic acids and derivatives': 1,\n",
       "                           'Indanones': 1,\n",
       "                           'Benzoisochromanequinones': 2,\n",
       "                           'Benzoquinolines': 1,\n",
       "                           'Phenanthrols': 3,\n",
       "                           'Substituted pyrroles': 4,\n",
       "                           'Hydroxycoumarins': 3,\n",
       "                           'Amines': 1,\n",
       "                           '1-hydroxy-4-unsubstituted benzenoids': 16,\n",
       "                           'Quinone and hydroquinone lipids': 1,\n",
       "                           'Unsaturated aliphatic hydrocarbons': 5,\n",
       "                           'Pyridinecarboxylic acids and derivatives': 1,\n",
       "                           'Pyridoindoles': 7,\n",
       "                           'Oxazoles': 1,\n",
       "                           '2-benzopyrans': 1,\n",
       "                           'Pyranoisoflavonoids': 1,\n",
       "                           'Tetracarboxylic acids and derivatives': 2,\n",
       "                           'Hybrid peptides': 3,\n",
       "                           'Xylenes': 1,\n",
       "                           'Alpha hydroxy acids and derivatives': 1,\n",
       "                           'Steroid esters': 1,\n",
       "                           'Eicosanoids': 1,\n",
       "                           'Carboxylic acid derivatives': 2,\n",
       "                           'Phenanthraquinones': 1,\n",
       "                           'Beta hydroxy acids and derivatives': 1,\n",
       "                           'Gamma butyrolactones': 1,\n",
       "                           'Methoxyphenols': 1,\n",
       "                           'Pyrrole carboxylic acids and derivatives': 1}),\n",
       "              'Other': defaultdict(<function __main__.rec_dd()>,\n",
       "                          {'Carbohydrates and carbohydrate conjugates': 17,\n",
       "                           'Carbonyl compounds': 1,\n",
       "                           'Depsipeptides': 1,\n",
       "                           'Amino acids, peptides, and analogues': 68,\n",
       "                           'Pyridoindoles': 14,\n",
       "                           'Hydroxysteroids': 1,\n",
       "                           'Indoles': 26,\n",
       "                           'Monoterpenoids': 1,\n",
       "                           'Indolines': 3,\n",
       "                           'Carbazoles': 20,\n",
       "                           'Benzoxazinones': 1,\n",
       "                           'Clavines and derivatives': 1,\n",
       "                           'Quinolones and derivatives': 1,\n",
       "                           'Pyrroloquinolines': 1,\n",
       "                           'Pyrroloindoles': 6,\n",
       "                           'Hydroxyindoles': 2,\n",
       "                           'Coumarin glycosides': 3,\n",
       "                           'Cresols': 2,\n",
       "                           'Anisoles': 2,\n",
       "                           'Beta lactams': 8,\n",
       "                           'Gamma butyrolactones': 3,\n",
       "                           'Fatty alcohols': 3,\n",
       "                           'Pyrazines': 1,\n",
       "                           'Fatty acids and conjugates': 6,\n",
       "                           'Glycerophosphoethanolamines': 2,\n",
       "                           'Triradylcglycerols': 1,\n",
       "                           \"Purine 3'-deoxyribonucleosides\": 3,\n",
       "                           'Hybrid peptides': 3,\n",
       "                           'Benzoic acids and derivatives': 2,\n",
       "                           'Substituted pyrroles': 4,\n",
       "                           'Isoxazolines': 1,\n",
       "                           'Naphthoquinones': 1,\n",
       "                           'Organic phosphonic acids': 4,\n",
       "                           'Metallotetrapyrroles': 2,\n",
       "                           'Quinone and hydroquinone lipids': 1,\n",
       "                           'Indolequinones': 1,\n",
       "                           'Pterins and derivatives': 2,\n",
       "                           'Hydroxycoumarins': 3,\n",
       "                           'Quinoline carboxylic acids': 2,\n",
       "                           'Pyrimidines and pyrimidine derivatives': 4,\n",
       "                           'Sesquiterpenoids': 2,\n",
       "                           'Benzodiazines': 12,\n",
       "                           'Amines': 1,\n",
       "                           'Carboxylic acid derivatives': 3,\n",
       "                           'Pentacarboxylic acids and derivatives': 1,\n",
       "                           'Tetracarboxylic acids and derivatives': 2,\n",
       "                           'Glycosphingolipids': 1,\n",
       "                           '1-benzopyrans': 1,\n",
       "                           'Pyranones and derivatives': 10,\n",
       "                           'Furanones': 1,\n",
       "                           'Anilides': 1,\n",
       "                           'Diazo compounds': 1,\n",
       "                           'Oxazoles': 1,\n",
       "                           'Pyrrolizidinones': 1,\n",
       "                           'Aryl bromides': 1,\n",
       "                           'Alcohols and polyols': 2,\n",
       "                           'Fatty alcohol esters': 1,\n",
       "                           \"Purine 2'-deoxyribonucleosides\": 1,\n",
       "                           'Tropolones': 3,\n",
       "                           'Cyclopentyl nucleosides': 1,\n",
       "                           'Fatty amides': 1,\n",
       "                           'Lysergic acids and derivatives': 1,\n",
       "                           'Purines and purine derivatives': 2,\n",
       "                           'Bipyridines and oligopyridines': 1,\n",
       "                           'Tricarboxylic acids and derivatives': 1,\n",
       "                           'Quinoline quinones': 5,\n",
       "                           '1-hydroxy-2-unsubstituted benzenoids': 1,\n",
       "                           'Indolecarboxylic acids and derivatives': 1,\n",
       "                           '4-quinolinemethanols': 1,\n",
       "                           'Organic nitro compounds': 1}),\n",
       "              'Saccharide': defaultdict(<function __main__.rec_dd()>,\n",
       "                          {'Carbohydrates and carbohydrate conjugates': 76,\n",
       "                           'Carbonyl compounds': 1,\n",
       "                           'Tetracenequinones': 2,\n",
       "                           'Naphthopyranones': 1,\n",
       "                           '1-benzopyrans': 3,\n",
       "                           'Anthraquinones': 5,\n",
       "                           'Naphthoquinones': 1,\n",
       "                           'Amino acids, peptides, and analogues': 3,\n",
       "                           'Steroidal glycosides': 1,\n",
       "                           'Terpene glycosides': 2,\n",
       "                           'Alcohols and polyols': 1,\n",
       "                           '1,4-dioxanes': 2,\n",
       "                           'Coumarin glycosides': 3,\n",
       "                           'Hybrid peptides': 3,\n",
       "                           'Hydroxycoumarins': 1,\n",
       "                           'Depsipeptides': 2}),\n",
       "              'Terpene': defaultdict(<function __main__.rec_dd()>,\n",
       "                          {'Isobenzofuranones': 1,\n",
       "                           'Tetraterpenoids': 19,\n",
       "                           'Monoterpenoids': 6,\n",
       "                           'Steroidal glycosides': 1,\n",
       "                           'Tetracenequinones': 1,\n",
       "                           'Triterpenoids': 5,\n",
       "                           'Quinone and hydroquinone lipids': 2,\n",
       "                           'Delta valerolactones': 2,\n",
       "                           'Terpene glycosides': 2,\n",
       "                           'Amino acids, peptides, and analogues': 3,\n",
       "                           'Sesquiterpenoids': 27,\n",
       "                           'Alcohols and polyols': 9,\n",
       "                           'Hopanoids': 1,\n",
       "                           'Diterpenoids': 17,\n",
       "                           'Hydroxysteroids': 3,\n",
       "                           'Indoles': 10,\n",
       "                           'Indolines': 2,\n",
       "                           'Sesterterpenoids': 2,\n",
       "                           'Cycloartanols and derivatives': 1,\n",
       "                           'Terpene lactones': 3,\n",
       "                           'Dibenzodiazepines': 1,\n",
       "                           'Steroid lactones': 1,\n",
       "                           'Anthraquinones': 1,\n",
       "                           'Fatty acids and conjugates': 1,\n",
       "                           'Naphthopyranones': 1,\n",
       "                           'Oxosteroids': 1,\n",
       "                           'Naphthoquinones': 2,\n",
       "                           '1-benzopyrans': 1,\n",
       "                           'Benzoic acids and derivatives': 3,\n",
       "                           'Lysergic acids and derivatives': 2,\n",
       "                           'Clavines and derivatives': 1,\n",
       "                           'Tetracarboxylic acids and derivatives': 2,\n",
       "                           'Branched unsaturated hydrocarbons': 3,\n",
       "                           'Flavans': 1,\n",
       "                           'Phenylquinolines': 1,\n",
       "                           'Steroid esters': 1,\n",
       "                           'Carbonyl compounds': 1,\n",
       "                           'Tropolones': 1}),\n",
       "              'PKS-NRP_Hybrids': defaultdict(<function __main__.rec_dd()>,\n",
       "                          {'1-benzopyrans': 3,\n",
       "                           'Fatty acids and conjugates': 3,\n",
       "                           '1-hydroxy-2-unsubstituted benzenoids': 1,\n",
       "                           'Amino acids, peptides, and analogues': 50,\n",
       "                           'Depsipeptides': 43,\n",
       "                           'Hybrid peptides': 26,\n",
       "                           '2-benzopyrans': 2,\n",
       "                           'Phenylpyridines': 4,\n",
       "                           'Naphthalenecarboxylic acids and derivatives': 1,\n",
       "                           'Phenethylamines': 1,\n",
       "                           'Bipyridines and oligopyridines': 1,\n",
       "                           'Monoterpenoids': 8,\n",
       "                           'Chaetoglobosins': 2,\n",
       "                           'Styrenes': 1,\n",
       "                           'Hydropyridines': 4,\n",
       "                           'Imidothiolactones': 2,\n",
       "                           'Indoles': 2,\n",
       "                           'Thiazoles': 7,\n",
       "                           'Epothilones and analogues': 4,\n",
       "                           'Fatty amides': 8,\n",
       "                           'Carbohydrates and carbohydrate conjugates': 6,\n",
       "                           'Aminoquinolines and derivatives': 8,\n",
       "                           'Fatty acid esters': 1,\n",
       "                           'Delta valerolactones': 1,\n",
       "                           'Furanones': 2,\n",
       "                           'Carbonyl compounds': 7,\n",
       "                           'Piperazines': 1,\n",
       "                           '1,4-dioxepanes': 1,\n",
       "                           'Amines': 1,\n",
       "                           'Zearalenones': 1,\n",
       "                           'Substituted pyrroles': 1,\n",
       "                           'N-acylpyrrolidines': 1,\n",
       "                           'Tetracenequinones': 1,\n",
       "                           'Anilides': 1,\n",
       "                           'Pyranones and derivatives': 2,\n",
       "                           'Oxazoles': 2,\n",
       "                           'Alcohols and polyols': 1,\n",
       "                           'Eicosanoids': 1,\n",
       "                           '1,2-dithiolanes': 1,\n",
       "                           'Ethers': 4,\n",
       "                           'Benzoic acids and derivatives': 2,\n",
       "                           'Terpene lactones': 1,\n",
       "                           'N-arylamides': 1,\n",
       "                           'Isoindolines': 1,\n",
       "                           'N-alkylpyrrolidines': 2,\n",
       "                           'Pyrrolizidinones': 3,\n",
       "                           'Sesquiterpenoids': 1,\n",
       "                           'O-methylated flavonoids': 1,\n",
       "                           'Isoindoles': 4,\n",
       "                           'Benzodiazines': 5}),\n",
       "              'NRP': defaultdict(<function __main__.rec_dd()>,\n",
       "                          {'Amino acids, peptides, and analogues': 165,\n",
       "                           'Carbohydrates and carbohydrate conjugates': 6,\n",
       "                           'Piperazines': 2,\n",
       "                           'Pyrroloindoles': 7,\n",
       "                           'Fatty acids and conjugates': 1,\n",
       "                           'Depsipeptides': 101,\n",
       "                           '1,4-benzodiazepines': 13,\n",
       "                           'Beta lactams': 5,\n",
       "                           'Peptoid-peptide hybrids': 2,\n",
       "                           'Hybrid peptides': 13,\n",
       "                           'Terphenyls': 5,\n",
       "                           'Lysergic acids and derivatives': 1,\n",
       "                           'Benzazocines': 2,\n",
       "                           'Benzodiazines': 5,\n",
       "                           'Pyridoindoles': 7,\n",
       "                           'Indoles': 5,\n",
       "                           'N-arylamides': 2,\n",
       "                           'Isoquinoline quinones': 3,\n",
       "                           'Carbonyl compounds': 1,\n",
       "                           'Quinone and hydroquinone lipids': 1,\n",
       "                           'Benzoic acids and derivatives': 3,\n",
       "                           'Pyrroloquinolines': 1,\n",
       "                           '1-benzopyrans': 2,\n",
       "                           'Nitrobenzenes': 1,\n",
       "                           'Pyrazines': 1,\n",
       "                           'Phenethylamines': 1,\n",
       "                           'Fatty amides': 1,\n",
       "                           'Methoxyphenols': 2,\n",
       "                           'Furanones': 1}),\n",
       "              'RiPP': defaultdict(<function __main__.rec_dd()>,\n",
       "                          {'Hybrid peptides': 9,\n",
       "                           'Amino acids, peptides, and analogues': 46,\n",
       "                           'Tetracarboxylic acids and derivatives': 1,\n",
       "                           'Depsipeptides': 2,\n",
       "                           'Imidothiolactones': 1})}))"
      ]
     },
     "execution_count": 8,
     "metadata": {},
     "output_type": "execute_result"
    }
   ],
   "source": [
    "result.keys(),result['mibig_classes']['cf_subclass']"
   ]
  },
  {
   "cell_type": "code",
   "execution_count": 9,
   "id": "voluntary-lancaster",
   "metadata": {},
   "outputs": [
    {
     "data": {
      "text/html": [
       "<div>\n",
       "<style scoped>\n",
       "    .dataframe tbody tr th:only-of-type {\n",
       "        vertical-align: middle;\n",
       "    }\n",
       "\n",
       "    .dataframe tbody tr th {\n",
       "        vertical-align: top;\n",
       "    }\n",
       "\n",
       "    .dataframe thead th {\n",
       "        text-align: right;\n",
       "    }\n",
       "</style>\n",
       "<table border=\"1\" class=\"dataframe\">\n",
       "  <thead>\n",
       "    <tr style=\"text-align: right;\">\n",
       "      <th></th>\n",
       "      <th>Polyketide</th>\n",
       "      <th>Other</th>\n",
       "      <th>Saccharide</th>\n",
       "      <th>Terpene</th>\n",
       "      <th>PKS-NRP_Hybrids</th>\n",
       "      <th>NRP</th>\n",
       "      <th>RiPP</th>\n",
       "    </tr>\n",
       "  </thead>\n",
       "  <tbody>\n",
       "    <tr>\n",
       "      <th>Polyketides</th>\n",
       "      <td>548</td>\n",
       "      <td>36</td>\n",
       "      <td>64.0</td>\n",
       "      <td>19.0</td>\n",
       "      <td>177</td>\n",
       "      <td>115.0</td>\n",
       "      <td>4.0</td>\n",
       "    </tr>\n",
       "    <tr>\n",
       "      <th>Shikimates and Phenylpropanoids</th>\n",
       "      <td>20</td>\n",
       "      <td>21</td>\n",
       "      <td>3.0</td>\n",
       "      <td>1.0</td>\n",
       "      <td>6</td>\n",
       "      <td>9.0</td>\n",
       "      <td>0.0</td>\n",
       "    </tr>\n",
       "    <tr>\n",
       "      <th>Alkaloids</th>\n",
       "      <td>72</td>\n",
       "      <td>193</td>\n",
       "      <td>0.0</td>\n",
       "      <td>49.0</td>\n",
       "      <td>58</td>\n",
       "      <td>99.0</td>\n",
       "      <td>2.0</td>\n",
       "    </tr>\n",
       "    <tr>\n",
       "      <th>Amino acids and Peptides</th>\n",
       "      <td>24</td>\n",
       "      <td>90</td>\n",
       "      <td>9.0</td>\n",
       "      <td>2.0</td>\n",
       "      <td>187</td>\n",
       "      <td>320.0</td>\n",
       "      <td>113.0</td>\n",
       "    </tr>\n",
       "    <tr>\n",
       "      <th>Terpenoids</th>\n",
       "      <td>35</td>\n",
       "      <td>5</td>\n",
       "      <td>4.0</td>\n",
       "      <td>136.0</td>\n",
       "      <td>2</td>\n",
       "      <td>0.0</td>\n",
       "      <td>0.0</td>\n",
       "    </tr>\n",
       "    <tr>\n",
       "      <th>Fatty acids</th>\n",
       "      <td>14</td>\n",
       "      <td>19</td>\n",
       "      <td>0.0</td>\n",
       "      <td>0.0</td>\n",
       "      <td>12</td>\n",
       "      <td>2.0</td>\n",
       "      <td>0.0</td>\n",
       "    </tr>\n",
       "    <tr>\n",
       "      <th>Carbohydrates</th>\n",
       "      <td>9</td>\n",
       "      <td>46</td>\n",
       "      <td>60.0</td>\n",
       "      <td>1.0</td>\n",
       "      <td>1</td>\n",
       "      <td>8.0</td>\n",
       "      <td>0.0</td>\n",
       "    </tr>\n",
       "  </tbody>\n",
       "</table>\n",
       "</div>"
      ],
      "text/plain": [
       "                                 Polyketide  Other  Saccharide  Terpene  \\\n",
       "Polyketides                             548     36        64.0     19.0   \n",
       "Shikimates and Phenylpropanoids          20     21         3.0      1.0   \n",
       "Alkaloids                                72    193         0.0     49.0   \n",
       "Amino acids and Peptides                 24     90         9.0      2.0   \n",
       "Terpenoids                               35      5         4.0    136.0   \n",
       "Fatty acids                              14     19         0.0      0.0   \n",
       "Carbohydrates                             9     46        60.0      1.0   \n",
       "\n",
       "                                 PKS-NRP_Hybrids    NRP   RiPP  \n",
       "Polyketides                                  177  115.0    4.0  \n",
       "Shikimates and Phenylpropanoids                6    9.0    0.0  \n",
       "Alkaloids                                     58   99.0    2.0  \n",
       "Amino acids and Peptides                     187  320.0  113.0  \n",
       "Terpenoids                                     2    0.0    0.0  \n",
       "Fatty acids                                   12    2.0    0.0  \n",
       "Carbohydrates                                  1    8.0    0.0  "
      ]
     },
     "execution_count": 9,
     "metadata": {},
     "output_type": "execute_result"
    }
   ],
   "source": [
    "df_mibig_cls_npc_pathway = pd.DataFrame.from_dict(mibig_cls_npc_pathway, dtype=int).fillna(0)\n",
    "df_mibig_cls_npc_pathway"
   ]
  },
  {
   "cell_type": "code",
   "execution_count": 10,
   "id": "indian-bikini",
   "metadata": {},
   "outputs": [
    {
     "data": {
      "text/html": [
       "<style  type=\"text/css\" >\n",
       "#T_1b9b4_row0_col0,#T_1b9b4_row0_col2,#T_1b9b4_row2_col1,#T_1b9b4_row3_col4,#T_1b9b4_row3_col5,#T_1b9b4_row3_col6,#T_1b9b4_row4_col3{\n",
       "            background-color:  #00441b;\n",
       "            color:  #f1f1f1;\n",
       "        }#T_1b9b4_row0_col1{\n",
       "            background-color:  #dbf1d6;\n",
       "            color:  #000000;\n",
       "        }#T_1b9b4_row0_col3{\n",
       "            background-color:  #e2f4dd;\n",
       "            color:  #000000;\n",
       "        }#T_1b9b4_row0_col4{\n",
       "            background-color:  #005522;\n",
       "            color:  #f1f1f1;\n",
       "        }#T_1b9b4_row0_col5,#T_1b9b4_row2_col3{\n",
       "            background-color:  #a5db9f;\n",
       "            color:  #000000;\n",
       "        }#T_1b9b4_row0_col6{\n",
       "            background-color:  #f2faef;\n",
       "            color:  #000000;\n",
       "        }#T_1b9b4_row1_col0{\n",
       "            background-color:  #f4fbf2;\n",
       "            color:  #000000;\n",
       "        }#T_1b9b4_row1_col1{\n",
       "            background-color:  #ebf7e7;\n",
       "            color:  #000000;\n",
       "        }#T_1b9b4_row1_col2,#T_1b9b4_row4_col0{\n",
       "            background-color:  #f0f9ed;\n",
       "            color:  #000000;\n",
       "        }#T_1b9b4_row1_col3,#T_1b9b4_row4_col4,#T_1b9b4_row5_col0,#T_1b9b4_row5_col5,#T_1b9b4_row6_col3{\n",
       "            background-color:  #f6fcf4;\n",
       "            color:  #000000;\n",
       "        }#T_1b9b4_row1_col4,#T_1b9b4_row6_col5{\n",
       "            background-color:  #f4fbf1;\n",
       "            color:  #000000;\n",
       "        }#T_1b9b4_row1_col5,#T_1b9b4_row3_col0{\n",
       "            background-color:  #f3faf0;\n",
       "            color:  #000000;\n",
       "        }#T_1b9b4_row1_col6,#T_1b9b4_row2_col2,#T_1b9b4_row4_col1,#T_1b9b4_row4_col5,#T_1b9b4_row4_col6,#T_1b9b4_row5_col2,#T_1b9b4_row5_col3,#T_1b9b4_row5_col6,#T_1b9b4_row6_col0,#T_1b9b4_row6_col4,#T_1b9b4_row6_col6{\n",
       "            background-color:  #f7fcf5;\n",
       "            color:  #000000;\n",
       "        }#T_1b9b4_row2_col0{\n",
       "            background-color:  #e7f6e2;\n",
       "            color:  #000000;\n",
       "        }#T_1b9b4_row2_col4{\n",
       "            background-color:  #b6e2af;\n",
       "            color:  #000000;\n",
       "        }#T_1b9b4_row2_col5{\n",
       "            background-color:  #b5e1ae;\n",
       "            color:  #000000;\n",
       "        }#T_1b9b4_row2_col6{\n",
       "            background-color:  #f5fbf2;\n",
       "            color:  #000000;\n",
       "        }#T_1b9b4_row3_col1{\n",
       "            background-color:  #86cc85;\n",
       "            color:  #000000;\n",
       "        }#T_1b9b4_row3_col2{\n",
       "            background-color:  #e1f3dc;\n",
       "            color:  #000000;\n",
       "        }#T_1b9b4_row3_col3{\n",
       "            background-color:  #f5fbf3;\n",
       "            color:  #000000;\n",
       "        }#T_1b9b4_row4_col2{\n",
       "            background-color:  #eef8ea;\n",
       "            color:  #000000;\n",
       "        }#T_1b9b4_row5_col1{\n",
       "            background-color:  #ecf8e8;\n",
       "            color:  #000000;\n",
       "        }#T_1b9b4_row5_col4{\n",
       "            background-color:  #eff9eb;\n",
       "            color:  #000000;\n",
       "        }#T_1b9b4_row6_col1{\n",
       "            background-color:  #cfecc9;\n",
       "            color:  #000000;\n",
       "        }#T_1b9b4_row6_col2{\n",
       "            background-color:  #005723;\n",
       "            color:  #f1f1f1;\n",
       "        }</style><table id=\"T_1b9b4_\" ><thead>    <tr>        <th class=\"blank level0\" ></th>        <th class=\"col_heading level0 col0\" >Polyketide</th>        <th class=\"col_heading level0 col1\" >Other</th>        <th class=\"col_heading level0 col2\" >Saccharide</th>        <th class=\"col_heading level0 col3\" >Terpene</th>        <th class=\"col_heading level0 col4\" >PKS-NRP_Hybrids</th>        <th class=\"col_heading level0 col5\" >NRP</th>        <th class=\"col_heading level0 col6\" >RiPP</th>    </tr></thead><tbody>\n",
       "                <tr>\n",
       "                        <th id=\"T_1b9b4_level0_row0\" class=\"row_heading level0 row0\" >Polyketides</th>\n",
       "                        <td id=\"T_1b9b4_row0_col0\" class=\"data row0 col0\" >548</td>\n",
       "                        <td id=\"T_1b9b4_row0_col1\" class=\"data row0 col1\" >36</td>\n",
       "                        <td id=\"T_1b9b4_row0_col2\" class=\"data row0 col2\" >64.000000</td>\n",
       "                        <td id=\"T_1b9b4_row0_col3\" class=\"data row0 col3\" >19.000000</td>\n",
       "                        <td id=\"T_1b9b4_row0_col4\" class=\"data row0 col4\" >177</td>\n",
       "                        <td id=\"T_1b9b4_row0_col5\" class=\"data row0 col5\" >115.000000</td>\n",
       "                        <td id=\"T_1b9b4_row0_col6\" class=\"data row0 col6\" >4.000000</td>\n",
       "            </tr>\n",
       "            <tr>\n",
       "                        <th id=\"T_1b9b4_level0_row1\" class=\"row_heading level0 row1\" >Shikimates and Phenylpropanoids</th>\n",
       "                        <td id=\"T_1b9b4_row1_col0\" class=\"data row1 col0\" >20</td>\n",
       "                        <td id=\"T_1b9b4_row1_col1\" class=\"data row1 col1\" >21</td>\n",
       "                        <td id=\"T_1b9b4_row1_col2\" class=\"data row1 col2\" >3.000000</td>\n",
       "                        <td id=\"T_1b9b4_row1_col3\" class=\"data row1 col3\" >1.000000</td>\n",
       "                        <td id=\"T_1b9b4_row1_col4\" class=\"data row1 col4\" >6</td>\n",
       "                        <td id=\"T_1b9b4_row1_col5\" class=\"data row1 col5\" >9.000000</td>\n",
       "                        <td id=\"T_1b9b4_row1_col6\" class=\"data row1 col6\" >0.000000</td>\n",
       "            </tr>\n",
       "            <tr>\n",
       "                        <th id=\"T_1b9b4_level0_row2\" class=\"row_heading level0 row2\" >Alkaloids</th>\n",
       "                        <td id=\"T_1b9b4_row2_col0\" class=\"data row2 col0\" >72</td>\n",
       "                        <td id=\"T_1b9b4_row2_col1\" class=\"data row2 col1\" >193</td>\n",
       "                        <td id=\"T_1b9b4_row2_col2\" class=\"data row2 col2\" >0.000000</td>\n",
       "                        <td id=\"T_1b9b4_row2_col3\" class=\"data row2 col3\" >49.000000</td>\n",
       "                        <td id=\"T_1b9b4_row2_col4\" class=\"data row2 col4\" >58</td>\n",
       "                        <td id=\"T_1b9b4_row2_col5\" class=\"data row2 col5\" >99.000000</td>\n",
       "                        <td id=\"T_1b9b4_row2_col6\" class=\"data row2 col6\" >2.000000</td>\n",
       "            </tr>\n",
       "            <tr>\n",
       "                        <th id=\"T_1b9b4_level0_row3\" class=\"row_heading level0 row3\" >Amino acids and Peptides</th>\n",
       "                        <td id=\"T_1b9b4_row3_col0\" class=\"data row3 col0\" >24</td>\n",
       "                        <td id=\"T_1b9b4_row3_col1\" class=\"data row3 col1\" >90</td>\n",
       "                        <td id=\"T_1b9b4_row3_col2\" class=\"data row3 col2\" >9.000000</td>\n",
       "                        <td id=\"T_1b9b4_row3_col3\" class=\"data row3 col3\" >2.000000</td>\n",
       "                        <td id=\"T_1b9b4_row3_col4\" class=\"data row3 col4\" >187</td>\n",
       "                        <td id=\"T_1b9b4_row3_col5\" class=\"data row3 col5\" >320.000000</td>\n",
       "                        <td id=\"T_1b9b4_row3_col6\" class=\"data row3 col6\" >113.000000</td>\n",
       "            </tr>\n",
       "            <tr>\n",
       "                        <th id=\"T_1b9b4_level0_row4\" class=\"row_heading level0 row4\" >Terpenoids</th>\n",
       "                        <td id=\"T_1b9b4_row4_col0\" class=\"data row4 col0\" >35</td>\n",
       "                        <td id=\"T_1b9b4_row4_col1\" class=\"data row4 col1\" >5</td>\n",
       "                        <td id=\"T_1b9b4_row4_col2\" class=\"data row4 col2\" >4.000000</td>\n",
       "                        <td id=\"T_1b9b4_row4_col3\" class=\"data row4 col3\" >136.000000</td>\n",
       "                        <td id=\"T_1b9b4_row4_col4\" class=\"data row4 col4\" >2</td>\n",
       "                        <td id=\"T_1b9b4_row4_col5\" class=\"data row4 col5\" >0.000000</td>\n",
       "                        <td id=\"T_1b9b4_row4_col6\" class=\"data row4 col6\" >0.000000</td>\n",
       "            </tr>\n",
       "            <tr>\n",
       "                        <th id=\"T_1b9b4_level0_row5\" class=\"row_heading level0 row5\" >Fatty acids</th>\n",
       "                        <td id=\"T_1b9b4_row5_col0\" class=\"data row5 col0\" >14</td>\n",
       "                        <td id=\"T_1b9b4_row5_col1\" class=\"data row5 col1\" >19</td>\n",
       "                        <td id=\"T_1b9b4_row5_col2\" class=\"data row5 col2\" >0.000000</td>\n",
       "                        <td id=\"T_1b9b4_row5_col3\" class=\"data row5 col3\" >0.000000</td>\n",
       "                        <td id=\"T_1b9b4_row5_col4\" class=\"data row5 col4\" >12</td>\n",
       "                        <td id=\"T_1b9b4_row5_col5\" class=\"data row5 col5\" >2.000000</td>\n",
       "                        <td id=\"T_1b9b4_row5_col6\" class=\"data row5 col6\" >0.000000</td>\n",
       "            </tr>\n",
       "            <tr>\n",
       "                        <th id=\"T_1b9b4_level0_row6\" class=\"row_heading level0 row6\" >Carbohydrates</th>\n",
       "                        <td id=\"T_1b9b4_row6_col0\" class=\"data row6 col0\" >9</td>\n",
       "                        <td id=\"T_1b9b4_row6_col1\" class=\"data row6 col1\" >46</td>\n",
       "                        <td id=\"T_1b9b4_row6_col2\" class=\"data row6 col2\" >60.000000</td>\n",
       "                        <td id=\"T_1b9b4_row6_col3\" class=\"data row6 col3\" >1.000000</td>\n",
       "                        <td id=\"T_1b9b4_row6_col4\" class=\"data row6 col4\" >1</td>\n",
       "                        <td id=\"T_1b9b4_row6_col5\" class=\"data row6 col5\" >8.000000</td>\n",
       "                        <td id=\"T_1b9b4_row6_col6\" class=\"data row6 col6\" >0.000000</td>\n",
       "            </tr>\n",
       "    </tbody></table>"
      ],
      "text/plain": [
       "<pandas.io.formats.style.Styler at 0x7fad3cf65ac8>"
      ]
     },
     "execution_count": 10,
     "metadata": {},
     "output_type": "execute_result"
    }
   ],
   "source": [
    "df_mibig_cls_npc_pathway.style.background_gradient('Greens')"
   ]
  },
  {
   "cell_type": "code",
   "execution_count": 11,
   "id": "imported-taiwan",
   "metadata": {},
   "outputs": [
    {
     "data": {
      "text/html": [
       "<style  type=\"text/css\" >\n",
       "#T_16f76_row0_col0,#T_16f76_row0_col2,#T_16f76_row2_col1,#T_16f76_row3_col4,#T_16f76_row3_col5,#T_16f76_row3_col6,#T_16f76_row4_col3{\n",
       "            width:  10em;\n",
       "             height:  80%;\n",
       "            background:  linear-gradient(90deg, transparent 50.0%, #5fba7d 50.0%, #5fba7d 100.0%, transparent 100.0%);\n",
       "        }#T_16f76_row0_col1{\n",
       "            width:  10em;\n",
       "             height:  80%;\n",
       "            background:  linear-gradient(90deg, transparent 50.0%, #5fba7d 50.0%, #5fba7d 59.3%, transparent 59.3%);\n",
       "        }#T_16f76_row0_col3,#T_16f76_row3_col2{\n",
       "            width:  10em;\n",
       "             height:  80%;\n",
       "            background:  linear-gradient(90deg, transparent 50.0%, #5fba7d 50.0%, #5fba7d 57.0%, transparent 57.0%);\n",
       "        }#T_16f76_row0_col4{\n",
       "            width:  10em;\n",
       "             height:  80%;\n",
       "            background:  linear-gradient(90deg, transparent 50.0%, #5fba7d 50.0%, #5fba7d 97.3%, transparent 97.3%);\n",
       "        }#T_16f76_row0_col5,#T_16f76_row2_col3{\n",
       "            width:  10em;\n",
       "             height:  80%;\n",
       "            background:  linear-gradient(90deg, transparent 50.0%, #5fba7d 50.0%, #5fba7d 68.0%, transparent 68.0%);\n",
       "        }#T_16f76_row0_col6,#T_16f76_row1_col0{\n",
       "            width:  10em;\n",
       "             height:  80%;\n",
       "            background:  linear-gradient(90deg, transparent 50.0%, #5fba7d 50.0%, #5fba7d 51.8%, transparent 51.8%);\n",
       "        }#T_16f76_row1_col1{\n",
       "            width:  10em;\n",
       "             height:  80%;\n",
       "            background:  linear-gradient(90deg, transparent 50.0%, #5fba7d 50.0%, #5fba7d 55.4%, transparent 55.4%);\n",
       "        }#T_16f76_row1_col2{\n",
       "            width:  10em;\n",
       "             height:  80%;\n",
       "            background:  linear-gradient(90deg, transparent 50.0%, #5fba7d 50.0%, #5fba7d 52.3%, transparent 52.3%);\n",
       "        }#T_16f76_row1_col3,#T_16f76_row6_col3{\n",
       "            width:  10em;\n",
       "             height:  80%;\n",
       "            background:  linear-gradient(90deg, transparent 50.0%, #5fba7d 50.0%, #5fba7d 50.4%, transparent 50.4%);\n",
       "        }#T_16f76_row1_col4{\n",
       "            width:  10em;\n",
       "             height:  80%;\n",
       "            background:  linear-gradient(90deg, transparent 50.0%, #5fba7d 50.0%, #5fba7d 51.6%, transparent 51.6%);\n",
       "        }#T_16f76_row1_col5{\n",
       "            width:  10em;\n",
       "             height:  80%;\n",
       "            background:  linear-gradient(90deg, transparent 50.0%, #5fba7d 50.0%, #5fba7d 51.4%, transparent 51.4%);\n",
       "        }#T_16f76_row1_col6,#T_16f76_row2_col2,#T_16f76_row4_col5,#T_16f76_row4_col6,#T_16f76_row5_col2,#T_16f76_row5_col3,#T_16f76_row5_col6,#T_16f76_row6_col6{\n",
       "            width:  10em;\n",
       "             height:  80%;\n",
       "        }#T_16f76_row2_col0{\n",
       "            width:  10em;\n",
       "             height:  80%;\n",
       "            background:  linear-gradient(90deg, transparent 50.0%, #5fba7d 50.0%, #5fba7d 56.6%, transparent 56.6%);\n",
       "        }#T_16f76_row2_col4,#T_16f76_row2_col5{\n",
       "            width:  10em;\n",
       "             height:  80%;\n",
       "            background:  linear-gradient(90deg, transparent 50.0%, #5fba7d 50.0%, #5fba7d 65.5%, transparent 65.5%);\n",
       "        }#T_16f76_row2_col6{\n",
       "            width:  10em;\n",
       "             height:  80%;\n",
       "            background:  linear-gradient(90deg, transparent 50.0%, #5fba7d 50.0%, #5fba7d 50.9%, transparent 50.9%);\n",
       "        }#T_16f76_row3_col0{\n",
       "            width:  10em;\n",
       "             height:  80%;\n",
       "            background:  linear-gradient(90deg, transparent 50.0%, #5fba7d 50.0%, #5fba7d 52.2%, transparent 52.2%);\n",
       "        }#T_16f76_row3_col1{\n",
       "            width:  10em;\n",
       "             height:  80%;\n",
       "            background:  linear-gradient(90deg, transparent 50.0%, #5fba7d 50.0%, #5fba7d 73.3%, transparent 73.3%);\n",
       "        }#T_16f76_row3_col3{\n",
       "            width:  10em;\n",
       "             height:  80%;\n",
       "            background:  linear-gradient(90deg, transparent 50.0%, #5fba7d 50.0%, #5fba7d 50.7%, transparent 50.7%);\n",
       "        }#T_16f76_row4_col0,#T_16f76_row5_col4{\n",
       "            width:  10em;\n",
       "             height:  80%;\n",
       "            background:  linear-gradient(90deg, transparent 50.0%, #5fba7d 50.0%, #5fba7d 53.2%, transparent 53.2%);\n",
       "        }#T_16f76_row4_col1,#T_16f76_row5_col0{\n",
       "            width:  10em;\n",
       "             height:  80%;\n",
       "            background:  linear-gradient(90deg, transparent 50.0%, #5fba7d 50.0%, #5fba7d 51.3%, transparent 51.3%);\n",
       "        }#T_16f76_row4_col2{\n",
       "            width:  10em;\n",
       "             height:  80%;\n",
       "            background:  linear-gradient(90deg, transparent 50.0%, #5fba7d 50.0%, #5fba7d 53.1%, transparent 53.1%);\n",
       "        }#T_16f76_row4_col4{\n",
       "            width:  10em;\n",
       "             height:  80%;\n",
       "            background:  linear-gradient(90deg, transparent 50.0%, #5fba7d 50.0%, #5fba7d 50.5%, transparent 50.5%);\n",
       "        }#T_16f76_row5_col1{\n",
       "            width:  10em;\n",
       "             height:  80%;\n",
       "            background:  linear-gradient(90deg, transparent 50.0%, #5fba7d 50.0%, #5fba7d 54.9%, transparent 54.9%);\n",
       "        }#T_16f76_row5_col5,#T_16f76_row6_col4{\n",
       "            width:  10em;\n",
       "             height:  80%;\n",
       "            background:  linear-gradient(90deg, transparent 50.0%, #5fba7d 50.0%, #5fba7d 50.3%, transparent 50.3%);\n",
       "        }#T_16f76_row6_col0{\n",
       "            width:  10em;\n",
       "             height:  80%;\n",
       "            background:  linear-gradient(90deg, transparent 50.0%, #5fba7d 50.0%, #5fba7d 50.8%, transparent 50.8%);\n",
       "        }#T_16f76_row6_col1{\n",
       "            width:  10em;\n",
       "             height:  80%;\n",
       "            background:  linear-gradient(90deg, transparent 50.0%, #5fba7d 50.0%, #5fba7d 61.9%, transparent 61.9%);\n",
       "        }#T_16f76_row6_col2{\n",
       "            width:  10em;\n",
       "             height:  80%;\n",
       "            background:  linear-gradient(90deg, transparent 50.0%, #5fba7d 50.0%, #5fba7d 96.9%, transparent 96.9%);\n",
       "        }#T_16f76_row6_col5{\n",
       "            width:  10em;\n",
       "             height:  80%;\n",
       "            background:  linear-gradient(90deg, transparent 50.0%, #5fba7d 50.0%, #5fba7d 51.2%, transparent 51.2%);\n",
       "        }</style><table id=\"T_16f76_\" ><thead>    <tr>        <th class=\"blank level0\" ></th>        <th class=\"col_heading level0 col0\" >Polyketide</th>        <th class=\"col_heading level0 col1\" >Other</th>        <th class=\"col_heading level0 col2\" >Saccharide</th>        <th class=\"col_heading level0 col3\" >Terpene</th>        <th class=\"col_heading level0 col4\" >PKS-NRP_Hybrids</th>        <th class=\"col_heading level0 col5\" >NRP</th>        <th class=\"col_heading level0 col6\" >RiPP</th>    </tr></thead><tbody>\n",
       "                <tr>\n",
       "                        <th id=\"T_16f76_level0_row0\" class=\"row_heading level0 row0\" >Polyketides</th>\n",
       "                        <td id=\"T_16f76_row0_col0\" class=\"data row0 col0\" >548</td>\n",
       "                        <td id=\"T_16f76_row0_col1\" class=\"data row0 col1\" >36</td>\n",
       "                        <td id=\"T_16f76_row0_col2\" class=\"data row0 col2\" >64.000000</td>\n",
       "                        <td id=\"T_16f76_row0_col3\" class=\"data row0 col3\" >19.000000</td>\n",
       "                        <td id=\"T_16f76_row0_col4\" class=\"data row0 col4\" >177</td>\n",
       "                        <td id=\"T_16f76_row0_col5\" class=\"data row0 col5\" >115.000000</td>\n",
       "                        <td id=\"T_16f76_row0_col6\" class=\"data row0 col6\" >4.000000</td>\n",
       "            </tr>\n",
       "            <tr>\n",
       "                        <th id=\"T_16f76_level0_row1\" class=\"row_heading level0 row1\" >Shikimates and Phenylpropanoids</th>\n",
       "                        <td id=\"T_16f76_row1_col0\" class=\"data row1 col0\" >20</td>\n",
       "                        <td id=\"T_16f76_row1_col1\" class=\"data row1 col1\" >21</td>\n",
       "                        <td id=\"T_16f76_row1_col2\" class=\"data row1 col2\" >3.000000</td>\n",
       "                        <td id=\"T_16f76_row1_col3\" class=\"data row1 col3\" >1.000000</td>\n",
       "                        <td id=\"T_16f76_row1_col4\" class=\"data row1 col4\" >6</td>\n",
       "                        <td id=\"T_16f76_row1_col5\" class=\"data row1 col5\" >9.000000</td>\n",
       "                        <td id=\"T_16f76_row1_col6\" class=\"data row1 col6\" >0.000000</td>\n",
       "            </tr>\n",
       "            <tr>\n",
       "                        <th id=\"T_16f76_level0_row2\" class=\"row_heading level0 row2\" >Alkaloids</th>\n",
       "                        <td id=\"T_16f76_row2_col0\" class=\"data row2 col0\" >72</td>\n",
       "                        <td id=\"T_16f76_row2_col1\" class=\"data row2 col1\" >193</td>\n",
       "                        <td id=\"T_16f76_row2_col2\" class=\"data row2 col2\" >0.000000</td>\n",
       "                        <td id=\"T_16f76_row2_col3\" class=\"data row2 col3\" >49.000000</td>\n",
       "                        <td id=\"T_16f76_row2_col4\" class=\"data row2 col4\" >58</td>\n",
       "                        <td id=\"T_16f76_row2_col5\" class=\"data row2 col5\" >99.000000</td>\n",
       "                        <td id=\"T_16f76_row2_col6\" class=\"data row2 col6\" >2.000000</td>\n",
       "            </tr>\n",
       "            <tr>\n",
       "                        <th id=\"T_16f76_level0_row3\" class=\"row_heading level0 row3\" >Amino acids and Peptides</th>\n",
       "                        <td id=\"T_16f76_row3_col0\" class=\"data row3 col0\" >24</td>\n",
       "                        <td id=\"T_16f76_row3_col1\" class=\"data row3 col1\" >90</td>\n",
       "                        <td id=\"T_16f76_row3_col2\" class=\"data row3 col2\" >9.000000</td>\n",
       "                        <td id=\"T_16f76_row3_col3\" class=\"data row3 col3\" >2.000000</td>\n",
       "                        <td id=\"T_16f76_row3_col4\" class=\"data row3 col4\" >187</td>\n",
       "                        <td id=\"T_16f76_row3_col5\" class=\"data row3 col5\" >320.000000</td>\n",
       "                        <td id=\"T_16f76_row3_col6\" class=\"data row3 col6\" >113.000000</td>\n",
       "            </tr>\n",
       "            <tr>\n",
       "                        <th id=\"T_16f76_level0_row4\" class=\"row_heading level0 row4\" >Terpenoids</th>\n",
       "                        <td id=\"T_16f76_row4_col0\" class=\"data row4 col0\" >35</td>\n",
       "                        <td id=\"T_16f76_row4_col1\" class=\"data row4 col1\" >5</td>\n",
       "                        <td id=\"T_16f76_row4_col2\" class=\"data row4 col2\" >4.000000</td>\n",
       "                        <td id=\"T_16f76_row4_col3\" class=\"data row4 col3\" >136.000000</td>\n",
       "                        <td id=\"T_16f76_row4_col4\" class=\"data row4 col4\" >2</td>\n",
       "                        <td id=\"T_16f76_row4_col5\" class=\"data row4 col5\" >0.000000</td>\n",
       "                        <td id=\"T_16f76_row4_col6\" class=\"data row4 col6\" >0.000000</td>\n",
       "            </tr>\n",
       "            <tr>\n",
       "                        <th id=\"T_16f76_level0_row5\" class=\"row_heading level0 row5\" >Fatty acids</th>\n",
       "                        <td id=\"T_16f76_row5_col0\" class=\"data row5 col0\" >14</td>\n",
       "                        <td id=\"T_16f76_row5_col1\" class=\"data row5 col1\" >19</td>\n",
       "                        <td id=\"T_16f76_row5_col2\" class=\"data row5 col2\" >0.000000</td>\n",
       "                        <td id=\"T_16f76_row5_col3\" class=\"data row5 col3\" >0.000000</td>\n",
       "                        <td id=\"T_16f76_row5_col4\" class=\"data row5 col4\" >12</td>\n",
       "                        <td id=\"T_16f76_row5_col5\" class=\"data row5 col5\" >2.000000</td>\n",
       "                        <td id=\"T_16f76_row5_col6\" class=\"data row5 col6\" >0.000000</td>\n",
       "            </tr>\n",
       "            <tr>\n",
       "                        <th id=\"T_16f76_level0_row6\" class=\"row_heading level0 row6\" >Carbohydrates</th>\n",
       "                        <td id=\"T_16f76_row6_col0\" class=\"data row6 col0\" >9</td>\n",
       "                        <td id=\"T_16f76_row6_col1\" class=\"data row6 col1\" >46</td>\n",
       "                        <td id=\"T_16f76_row6_col2\" class=\"data row6 col2\" >60.000000</td>\n",
       "                        <td id=\"T_16f76_row6_col3\" class=\"data row6 col3\" >1.000000</td>\n",
       "                        <td id=\"T_16f76_row6_col4\" class=\"data row6 col4\" >1</td>\n",
       "                        <td id=\"T_16f76_row6_col5\" class=\"data row6 col5\" >8.000000</td>\n",
       "                        <td id=\"T_16f76_row6_col6\" class=\"data row6 col6\" >0.000000</td>\n",
       "            </tr>\n",
       "    </tbody></table>"
      ],
      "text/plain": [
       "<pandas.io.formats.style.Styler at 0x7fad3bd93ba8>"
      ]
     },
     "execution_count": 11,
     "metadata": {},
     "output_type": "execute_result"
    }
   ],
   "source": [
    "s = df_mibig_cls_npc_pathway.style.bar(color=['#5fba7d'], axis=0, align='zero')\n",
    "# s.style.bar(color=['#5fba7d'], axis=1, align='zero')\n",
    "s"
   ]
  },
  {
   "cell_type": "code",
   "execution_count": 12,
   "id": "female-ordering",
   "metadata": {},
   "outputs": [
    {
     "data": {
      "text/html": [
       "<div>\n",
       "<style scoped>\n",
       "    .dataframe tbody tr th:only-of-type {\n",
       "        vertical-align: middle;\n",
       "    }\n",
       "\n",
       "    .dataframe tbody tr th {\n",
       "        vertical-align: top;\n",
       "    }\n",
       "\n",
       "    .dataframe thead th {\n",
       "        text-align: right;\n",
       "    }\n",
       "</style>\n",
       "<table border=\"1\" class=\"dataframe\">\n",
       "  <thead>\n",
       "    <tr style=\"text-align: right;\">\n",
       "      <th></th>\n",
       "      <th>Polyketide</th>\n",
       "      <th>Other</th>\n",
       "      <th>Saccharide</th>\n",
       "      <th>Terpene</th>\n",
       "      <th>PKS-NRP_Hybrids</th>\n",
       "      <th>NRP</th>\n",
       "      <th>RiPP</th>\n",
       "    </tr>\n",
       "  </thead>\n",
       "  <tbody>\n",
       "    <tr>\n",
       "      <th>Polyketides</th>\n",
       "      <td>0.759003</td>\n",
       "      <td>0.087805</td>\n",
       "      <td>0.457143</td>\n",
       "      <td>0.091346</td>\n",
       "      <td>0.399549</td>\n",
       "      <td>0.207957</td>\n",
       "      <td>0.033613</td>\n",
       "    </tr>\n",
       "    <tr>\n",
       "      <th>Shikimates and Phenylpropanoids</th>\n",
       "      <td>0.027701</td>\n",
       "      <td>0.051220</td>\n",
       "      <td>0.021429</td>\n",
       "      <td>0.004808</td>\n",
       "      <td>0.013544</td>\n",
       "      <td>0.016275</td>\n",
       "      <td>0.000000</td>\n",
       "    </tr>\n",
       "    <tr>\n",
       "      <th>Alkaloids</th>\n",
       "      <td>0.099723</td>\n",
       "      <td>0.470732</td>\n",
       "      <td>0.000000</td>\n",
       "      <td>0.235577</td>\n",
       "      <td>0.130926</td>\n",
       "      <td>0.179024</td>\n",
       "      <td>0.016807</td>\n",
       "    </tr>\n",
       "    <tr>\n",
       "      <th>Amino acids and Peptides</th>\n",
       "      <td>0.033241</td>\n",
       "      <td>0.219512</td>\n",
       "      <td>0.064286</td>\n",
       "      <td>0.009615</td>\n",
       "      <td>0.422122</td>\n",
       "      <td>0.578662</td>\n",
       "      <td>0.949580</td>\n",
       "    </tr>\n",
       "    <tr>\n",
       "      <th>Terpenoids</th>\n",
       "      <td>0.048476</td>\n",
       "      <td>0.012195</td>\n",
       "      <td>0.028571</td>\n",
       "      <td>0.653846</td>\n",
       "      <td>0.004515</td>\n",
       "      <td>0.000000</td>\n",
       "      <td>0.000000</td>\n",
       "    </tr>\n",
       "    <tr>\n",
       "      <th>Fatty acids</th>\n",
       "      <td>0.019391</td>\n",
       "      <td>0.046341</td>\n",
       "      <td>0.000000</td>\n",
       "      <td>0.000000</td>\n",
       "      <td>0.027088</td>\n",
       "      <td>0.003617</td>\n",
       "      <td>0.000000</td>\n",
       "    </tr>\n",
       "    <tr>\n",
       "      <th>Carbohydrates</th>\n",
       "      <td>0.012465</td>\n",
       "      <td>0.112195</td>\n",
       "      <td>0.428571</td>\n",
       "      <td>0.004808</td>\n",
       "      <td>0.002257</td>\n",
       "      <td>0.014467</td>\n",
       "      <td>0.000000</td>\n",
       "    </tr>\n",
       "  </tbody>\n",
       "</table>\n",
       "</div>"
      ],
      "text/plain": [
       "                                 Polyketide     Other  Saccharide   Terpene  \\\n",
       "Polyketides                        0.759003  0.087805    0.457143  0.091346   \n",
       "Shikimates and Phenylpropanoids    0.027701  0.051220    0.021429  0.004808   \n",
       "Alkaloids                          0.099723  0.470732    0.000000  0.235577   \n",
       "Amino acids and Peptides           0.033241  0.219512    0.064286  0.009615   \n",
       "Terpenoids                         0.048476  0.012195    0.028571  0.653846   \n",
       "Fatty acids                        0.019391  0.046341    0.000000  0.000000   \n",
       "Carbohydrates                      0.012465  0.112195    0.428571  0.004808   \n",
       "\n",
       "                                 PKS-NRP_Hybrids       NRP      RiPP  \n",
       "Polyketides                             0.399549  0.207957  0.033613  \n",
       "Shikimates and Phenylpropanoids         0.013544  0.016275  0.000000  \n",
       "Alkaloids                               0.130926  0.179024  0.016807  \n",
       "Amino acids and Peptides                0.422122  0.578662  0.949580  \n",
       "Terpenoids                              0.004515  0.000000  0.000000  \n",
       "Fatty acids                             0.027088  0.003617  0.000000  \n",
       "Carbohydrates                           0.002257  0.014467  0.000000  "
      ]
     },
     "execution_count": 12,
     "metadata": {},
     "output_type": "execute_result"
    }
   ],
   "source": [
    "# rules for BGC -> pathway (read column to row)\n",
    "df_mibig_cls_npc_pathway/df_mibig_cls_npc_pathway.sum(axis=0)"
   ]
  },
  {
   "cell_type": "code",
   "execution_count": 13,
   "id": "secondary-bicycle",
   "metadata": {},
   "outputs": [
    {
     "data": {
      "text/html": [
       "<div>\n",
       "<style scoped>\n",
       "    .dataframe tbody tr th:only-of-type {\n",
       "        vertical-align: middle;\n",
       "    }\n",
       "\n",
       "    .dataframe tbody tr th {\n",
       "        vertical-align: top;\n",
       "    }\n",
       "\n",
       "    .dataframe thead th {\n",
       "        text-align: right;\n",
       "    }\n",
       "</style>\n",
       "<table border=\"1\" class=\"dataframe\">\n",
       "  <thead>\n",
       "    <tr style=\"text-align: right;\">\n",
       "      <th></th>\n",
       "      <th>Polyketides</th>\n",
       "      <th>Shikimates and Phenylpropanoids</th>\n",
       "      <th>Alkaloids</th>\n",
       "      <th>Amino acids and Peptides</th>\n",
       "      <th>Terpenoids</th>\n",
       "      <th>Fatty acids</th>\n",
       "      <th>Carbohydrates</th>\n",
       "    </tr>\n",
       "  </thead>\n",
       "  <tbody>\n",
       "    <tr>\n",
       "      <th>Polyketide</th>\n",
       "      <td>0.569055</td>\n",
       "      <td>0.333333</td>\n",
       "      <td>0.152220</td>\n",
       "      <td>0.032215</td>\n",
       "      <td>0.192308</td>\n",
       "      <td>0.297872</td>\n",
       "      <td>0.072</td>\n",
       "    </tr>\n",
       "    <tr>\n",
       "      <th>Other</th>\n",
       "      <td>0.037383</td>\n",
       "      <td>0.350000</td>\n",
       "      <td>0.408034</td>\n",
       "      <td>0.120805</td>\n",
       "      <td>0.027473</td>\n",
       "      <td>0.404255</td>\n",
       "      <td>0.368</td>\n",
       "    </tr>\n",
       "    <tr>\n",
       "      <th>Saccharide</th>\n",
       "      <td>0.066459</td>\n",
       "      <td>0.050000</td>\n",
       "      <td>0.000000</td>\n",
       "      <td>0.012081</td>\n",
       "      <td>0.021978</td>\n",
       "      <td>0.000000</td>\n",
       "      <td>0.480</td>\n",
       "    </tr>\n",
       "    <tr>\n",
       "      <th>Terpene</th>\n",
       "      <td>0.019730</td>\n",
       "      <td>0.016667</td>\n",
       "      <td>0.103594</td>\n",
       "      <td>0.002685</td>\n",
       "      <td>0.747253</td>\n",
       "      <td>0.000000</td>\n",
       "      <td>0.008</td>\n",
       "    </tr>\n",
       "    <tr>\n",
       "      <th>PKS-NRP_Hybrids</th>\n",
       "      <td>0.183801</td>\n",
       "      <td>0.100000</td>\n",
       "      <td>0.122622</td>\n",
       "      <td>0.251007</td>\n",
       "      <td>0.010989</td>\n",
       "      <td>0.255319</td>\n",
       "      <td>0.008</td>\n",
       "    </tr>\n",
       "    <tr>\n",
       "      <th>NRP</th>\n",
       "      <td>0.119418</td>\n",
       "      <td>0.150000</td>\n",
       "      <td>0.209302</td>\n",
       "      <td>0.429530</td>\n",
       "      <td>0.000000</td>\n",
       "      <td>0.042553</td>\n",
       "      <td>0.064</td>\n",
       "    </tr>\n",
       "    <tr>\n",
       "      <th>RiPP</th>\n",
       "      <td>0.004154</td>\n",
       "      <td>0.000000</td>\n",
       "      <td>0.004228</td>\n",
       "      <td>0.151678</td>\n",
       "      <td>0.000000</td>\n",
       "      <td>0.000000</td>\n",
       "      <td>0.000</td>\n",
       "    </tr>\n",
       "  </tbody>\n",
       "</table>\n",
       "</div>"
      ],
      "text/plain": [
       "                 Polyketides  Shikimates and Phenylpropanoids  Alkaloids  \\\n",
       "Polyketide          0.569055                         0.333333   0.152220   \n",
       "Other               0.037383                         0.350000   0.408034   \n",
       "Saccharide          0.066459                         0.050000   0.000000   \n",
       "Terpene             0.019730                         0.016667   0.103594   \n",
       "PKS-NRP_Hybrids     0.183801                         0.100000   0.122622   \n",
       "NRP                 0.119418                         0.150000   0.209302   \n",
       "RiPP                0.004154                         0.000000   0.004228   \n",
       "\n",
       "                 Amino acids and Peptides  Terpenoids  Fatty acids  \\\n",
       "Polyketide                       0.032215    0.192308     0.297872   \n",
       "Other                            0.120805    0.027473     0.404255   \n",
       "Saccharide                       0.012081    0.021978     0.000000   \n",
       "Terpene                          0.002685    0.747253     0.000000   \n",
       "PKS-NRP_Hybrids                  0.251007    0.010989     0.255319   \n",
       "NRP                              0.429530    0.000000     0.042553   \n",
       "RiPP                             0.151678    0.000000     0.000000   \n",
       "\n",
       "                 Carbohydrates  \n",
       "Polyketide               0.072  \n",
       "Other                    0.368  \n",
       "Saccharide               0.480  \n",
       "Terpene                  0.008  \n",
       "PKS-NRP_Hybrids          0.008  \n",
       "NRP                      0.064  \n",
       "RiPP                     0.000  "
      ]
     },
     "execution_count": 13,
     "metadata": {},
     "output_type": "execute_result"
    }
   ],
   "source": [
    "# rules for pathway -> bgc (read column to row)\n",
    "df_mibig_cls_npc_pathway.T/df_mibig_cls_npc_pathway.sum(axis=1)"
   ]
  },
  {
   "cell_type": "code",
   "execution_count": 14,
   "id": "australian-optimization",
   "metadata": {},
   "outputs": [
    {
     "data": {
      "text/html": [
       "<div>\n",
       "<style scoped>\n",
       "    .dataframe tbody tr th:only-of-type {\n",
       "        vertical-align: middle;\n",
       "    }\n",
       "\n",
       "    .dataframe tbody tr th {\n",
       "        vertical-align: top;\n",
       "    }\n",
       "\n",
       "    .dataframe thead th {\n",
       "        text-align: right;\n",
       "    }\n",
       "</style>\n",
       "<table border=\"1\" class=\"dataframe\">\n",
       "  <thead>\n",
       "    <tr style=\"text-align: right;\">\n",
       "      <th></th>\n",
       "      <th>Polyketide</th>\n",
       "      <th>Other</th>\n",
       "      <th>Saccharide</th>\n",
       "      <th>Terpene</th>\n",
       "      <th>PKS-NRP_Hybrids</th>\n",
       "      <th>NRP</th>\n",
       "      <th>RiPP</th>\n",
       "    </tr>\n",
       "  </thead>\n",
       "  <tbody>\n",
       "    <tr>\n",
       "      <th>Organoheterocyclic compounds</th>\n",
       "      <td>110.0</td>\n",
       "      <td>149.0</td>\n",
       "      <td>6.0</td>\n",
       "      <td>45.0</td>\n",
       "      <td>67.0</td>\n",
       "      <td>55.0</td>\n",
       "      <td>0.0</td>\n",
       "    </tr>\n",
       "    <tr>\n",
       "      <th>Lipids and lipid-like molecules</th>\n",
       "      <td>83.0</td>\n",
       "      <td>20.0</td>\n",
       "      <td>3.0</td>\n",
       "      <td>93.0</td>\n",
       "      <td>23.0</td>\n",
       "      <td>3.0</td>\n",
       "      <td>0.0</td>\n",
       "    </tr>\n",
       "    <tr>\n",
       "      <th>Organic acids and derivatives</th>\n",
       "      <td>31.0</td>\n",
       "      <td>83.0</td>\n",
       "      <td>8.0</td>\n",
       "      <td>5.0</td>\n",
       "      <td>119.0</td>\n",
       "      <td>281.0</td>\n",
       "      <td>58.0</td>\n",
       "    </tr>\n",
       "    <tr>\n",
       "      <th>Phenylpropanoids and polyketides</th>\n",
       "      <td>159.0</td>\n",
       "      <td>26.0</td>\n",
       "      <td>17.0</td>\n",
       "      <td>1.0</td>\n",
       "      <td>45.0</td>\n",
       "      <td>3.0</td>\n",
       "      <td>6.0</td>\n",
       "    </tr>\n",
       "    <tr>\n",
       "      <th>Organic oxygen compounds</th>\n",
       "      <td>85.0</td>\n",
       "      <td>20.0</td>\n",
       "      <td>78.0</td>\n",
       "      <td>10.0</td>\n",
       "      <td>18.0</td>\n",
       "      <td>7.0</td>\n",
       "      <td>0.0</td>\n",
       "    </tr>\n",
       "    <tr>\n",
       "      <th>Alkaloids and derivatives</th>\n",
       "      <td>2.0</td>\n",
       "      <td>11.0</td>\n",
       "      <td>0.0</td>\n",
       "      <td>3.0</td>\n",
       "      <td>3.0</td>\n",
       "      <td>1.0</td>\n",
       "      <td>0.0</td>\n",
       "    </tr>\n",
       "    <tr>\n",
       "      <th>Benzenoids</th>\n",
       "      <td>109.0</td>\n",
       "      <td>17.0</td>\n",
       "      <td>10.0</td>\n",
       "      <td>10.0</td>\n",
       "      <td>8.0</td>\n",
       "      <td>14.0</td>\n",
       "      <td>0.0</td>\n",
       "    </tr>\n",
       "    <tr>\n",
       "      <th>Organosulfur compounds</th>\n",
       "      <td>1.0</td>\n",
       "      <td>0.0</td>\n",
       "      <td>0.0</td>\n",
       "      <td>0.0</td>\n",
       "      <td>2.0</td>\n",
       "      <td>0.0</td>\n",
       "      <td>1.0</td>\n",
       "    </tr>\n",
       "    <tr>\n",
       "      <th>Organic 1,3-dipolar compounds</th>\n",
       "      <td>3.0</td>\n",
       "      <td>2.0</td>\n",
       "      <td>0.0</td>\n",
       "      <td>0.0</td>\n",
       "      <td>0.0</td>\n",
       "      <td>0.0</td>\n",
       "      <td>0.0</td>\n",
       "    </tr>\n",
       "    <tr>\n",
       "      <th>Hydrocarbon derivatives</th>\n",
       "      <td>1.0</td>\n",
       "      <td>4.0</td>\n",
       "      <td>0.0</td>\n",
       "      <td>1.0</td>\n",
       "      <td>0.0</td>\n",
       "      <td>0.0</td>\n",
       "      <td>0.0</td>\n",
       "    </tr>\n",
       "    <tr>\n",
       "      <th>Organic nitrogen compounds</th>\n",
       "      <td>1.0</td>\n",
       "      <td>1.0</td>\n",
       "      <td>0.0</td>\n",
       "      <td>0.0</td>\n",
       "      <td>2.0</td>\n",
       "      <td>2.0</td>\n",
       "      <td>0.0</td>\n",
       "    </tr>\n",
       "    <tr>\n",
       "      <th>Hydrocarbons</th>\n",
       "      <td>5.0</td>\n",
       "      <td>0.0</td>\n",
       "      <td>0.0</td>\n",
       "      <td>3.0</td>\n",
       "      <td>0.0</td>\n",
       "      <td>0.0</td>\n",
       "      <td>0.0</td>\n",
       "    </tr>\n",
       "    <tr>\n",
       "      <th>Lignans, neolignans and related compounds</th>\n",
       "      <td>1.0</td>\n",
       "      <td>1.0</td>\n",
       "      <td>0.0</td>\n",
       "      <td>0.0</td>\n",
       "      <td>0.0</td>\n",
       "      <td>0.0</td>\n",
       "      <td>0.0</td>\n",
       "    </tr>\n",
       "    <tr>\n",
       "      <th>Nucleosides, nucleotides, and analogues</th>\n",
       "      <td>0.0</td>\n",
       "      <td>12.0</td>\n",
       "      <td>0.0</td>\n",
       "      <td>0.0</td>\n",
       "      <td>0.0</td>\n",
       "      <td>0.0</td>\n",
       "      <td>0.0</td>\n",
       "    </tr>\n",
       "    <tr>\n",
       "      <th>Organohalogen compounds</th>\n",
       "      <td>0.0</td>\n",
       "      <td>1.0</td>\n",
       "      <td>0.0</td>\n",
       "      <td>0.0</td>\n",
       "      <td>0.0</td>\n",
       "      <td>0.0</td>\n",
       "      <td>0.0</td>\n",
       "    </tr>\n",
       "    <tr>\n",
       "      <th>Organic Polymers</th>\n",
       "      <td>0.0</td>\n",
       "      <td>0.0</td>\n",
       "      <td>0.0</td>\n",
       "      <td>0.0</td>\n",
       "      <td>0.0</td>\n",
       "      <td>6.0</td>\n",
       "      <td>26.0</td>\n",
       "    </tr>\n",
       "  </tbody>\n",
       "</table>\n",
       "</div>"
      ],
      "text/plain": [
       "                                           Polyketide  Other  Saccharide  \\\n",
       "Organoheterocyclic compounds                    110.0  149.0         6.0   \n",
       "Lipids and lipid-like molecules                  83.0   20.0         3.0   \n",
       "Organic acids and derivatives                    31.0   83.0         8.0   \n",
       "Phenylpropanoids and polyketides                159.0   26.0        17.0   \n",
       "Organic oxygen compounds                         85.0   20.0        78.0   \n",
       "Alkaloids and derivatives                         2.0   11.0         0.0   \n",
       "Benzenoids                                      109.0   17.0        10.0   \n",
       "Organosulfur compounds                            1.0    0.0         0.0   \n",
       "Organic 1,3-dipolar compounds                     3.0    2.0         0.0   \n",
       "Hydrocarbon derivatives                           1.0    4.0         0.0   \n",
       "Organic nitrogen compounds                        1.0    1.0         0.0   \n",
       "Hydrocarbons                                      5.0    0.0         0.0   \n",
       "Lignans, neolignans and related compounds         1.0    1.0         0.0   \n",
       "Nucleosides, nucleotides, and analogues           0.0   12.0         0.0   \n",
       "Organohalogen compounds                           0.0    1.0         0.0   \n",
       "Organic Polymers                                  0.0    0.0         0.0   \n",
       "\n",
       "                                           Terpene  PKS-NRP_Hybrids    NRP  \\\n",
       "Organoheterocyclic compounds                  45.0             67.0   55.0   \n",
       "Lipids and lipid-like molecules               93.0             23.0    3.0   \n",
       "Organic acids and derivatives                  5.0            119.0  281.0   \n",
       "Phenylpropanoids and polyketides               1.0             45.0    3.0   \n",
       "Organic oxygen compounds                      10.0             18.0    7.0   \n",
       "Alkaloids and derivatives                      3.0              3.0    1.0   \n",
       "Benzenoids                                    10.0              8.0   14.0   \n",
       "Organosulfur compounds                         0.0              2.0    0.0   \n",
       "Organic 1,3-dipolar compounds                  0.0              0.0    0.0   \n",
       "Hydrocarbon derivatives                        1.0              0.0    0.0   \n",
       "Organic nitrogen compounds                     0.0              2.0    2.0   \n",
       "Hydrocarbons                                   3.0              0.0    0.0   \n",
       "Lignans, neolignans and related compounds      0.0              0.0    0.0   \n",
       "Nucleosides, nucleotides, and analogues        0.0              0.0    0.0   \n",
       "Organohalogen compounds                        0.0              0.0    0.0   \n",
       "Organic Polymers                               0.0              0.0    6.0   \n",
       "\n",
       "                                           RiPP  \n",
       "Organoheterocyclic compounds                0.0  \n",
       "Lipids and lipid-like molecules             0.0  \n",
       "Organic acids and derivatives              58.0  \n",
       "Phenylpropanoids and polyketides            6.0  \n",
       "Organic oxygen compounds                    0.0  \n",
       "Alkaloids and derivatives                   0.0  \n",
       "Benzenoids                                  0.0  \n",
       "Organosulfur compounds                      1.0  \n",
       "Organic 1,3-dipolar compounds               0.0  \n",
       "Hydrocarbon derivatives                     0.0  \n",
       "Organic nitrogen compounds                  0.0  \n",
       "Hydrocarbons                                0.0  \n",
       "Lignans, neolignans and related compounds   0.0  \n",
       "Nucleosides, nucleotides, and analogues     0.0  \n",
       "Organohalogen compounds                     0.0  \n",
       "Organic Polymers                           26.0  "
      ]
     },
     "execution_count": 14,
     "metadata": {},
     "output_type": "execute_result"
    }
   ],
   "source": [
    "df_mibig_cls_cf_superclass = pd.DataFrame.from_dict(result['mibig_classes']['cf_superclass'], dtype=int).fillna(0)\n",
    "df_mibig_cls_cf_superclass"
   ]
  },
  {
   "cell_type": "code",
   "execution_count": 15,
   "id": "criminal-journal",
   "metadata": {},
   "outputs": [
    {
     "data": {
      "text/html": [
       "<div>\n",
       "<style scoped>\n",
       "    .dataframe tbody tr th:only-of-type {\n",
       "        vertical-align: middle;\n",
       "    }\n",
       "\n",
       "    .dataframe tbody tr th {\n",
       "        vertical-align: top;\n",
       "    }\n",
       "\n",
       "    .dataframe thead th {\n",
       "        text-align: right;\n",
       "    }\n",
       "</style>\n",
       "<table border=\"1\" class=\"dataframe\">\n",
       "  <thead>\n",
       "    <tr style=\"text-align: right;\">\n",
       "      <th></th>\n",
       "      <th>Polyketide</th>\n",
       "      <th>Other</th>\n",
       "      <th>Saccharide</th>\n",
       "      <th>Terpene</th>\n",
       "      <th>PKS-NRP_Hybrids</th>\n",
       "      <th>NRP</th>\n",
       "      <th>RiPP</th>\n",
       "    </tr>\n",
       "  </thead>\n",
       "  <tbody>\n",
       "    <tr>\n",
       "      <th>Organoheterocyclic compounds</th>\n",
       "      <td>0.186125</td>\n",
       "      <td>0.429395</td>\n",
       "      <td>0.049180</td>\n",
       "      <td>0.263158</td>\n",
       "      <td>0.233449</td>\n",
       "      <td>0.147849</td>\n",
       "      <td>0.000000</td>\n",
       "    </tr>\n",
       "    <tr>\n",
       "      <th>Lipids and lipid-like molecules</th>\n",
       "      <td>0.140440</td>\n",
       "      <td>0.057637</td>\n",
       "      <td>0.024590</td>\n",
       "      <td>0.543860</td>\n",
       "      <td>0.080139</td>\n",
       "      <td>0.008065</td>\n",
       "      <td>0.000000</td>\n",
       "    </tr>\n",
       "    <tr>\n",
       "      <th>Organic acids and derivatives</th>\n",
       "      <td>0.052453</td>\n",
       "      <td>0.239193</td>\n",
       "      <td>0.065574</td>\n",
       "      <td>0.029240</td>\n",
       "      <td>0.414634</td>\n",
       "      <td>0.755376</td>\n",
       "      <td>0.637363</td>\n",
       "    </tr>\n",
       "    <tr>\n",
       "      <th>Phenylpropanoids and polyketides</th>\n",
       "      <td>0.269036</td>\n",
       "      <td>0.074928</td>\n",
       "      <td>0.139344</td>\n",
       "      <td>0.005848</td>\n",
       "      <td>0.156794</td>\n",
       "      <td>0.008065</td>\n",
       "      <td>0.065934</td>\n",
       "    </tr>\n",
       "    <tr>\n",
       "      <th>Organic oxygen compounds</th>\n",
       "      <td>0.143824</td>\n",
       "      <td>0.057637</td>\n",
       "      <td>0.639344</td>\n",
       "      <td>0.058480</td>\n",
       "      <td>0.062718</td>\n",
       "      <td>0.018817</td>\n",
       "      <td>0.000000</td>\n",
       "    </tr>\n",
       "    <tr>\n",
       "      <th>Alkaloids and derivatives</th>\n",
       "      <td>0.003384</td>\n",
       "      <td>0.031700</td>\n",
       "      <td>0.000000</td>\n",
       "      <td>0.017544</td>\n",
       "      <td>0.010453</td>\n",
       "      <td>0.002688</td>\n",
       "      <td>0.000000</td>\n",
       "    </tr>\n",
       "    <tr>\n",
       "      <th>Benzenoids</th>\n",
       "      <td>0.184433</td>\n",
       "      <td>0.048991</td>\n",
       "      <td>0.081967</td>\n",
       "      <td>0.058480</td>\n",
       "      <td>0.027875</td>\n",
       "      <td>0.037634</td>\n",
       "      <td>0.000000</td>\n",
       "    </tr>\n",
       "    <tr>\n",
       "      <th>Organosulfur compounds</th>\n",
       "      <td>0.001692</td>\n",
       "      <td>0.000000</td>\n",
       "      <td>0.000000</td>\n",
       "      <td>0.000000</td>\n",
       "      <td>0.006969</td>\n",
       "      <td>0.000000</td>\n",
       "      <td>0.010989</td>\n",
       "    </tr>\n",
       "    <tr>\n",
       "      <th>Organic 1,3-dipolar compounds</th>\n",
       "      <td>0.005076</td>\n",
       "      <td>0.005764</td>\n",
       "      <td>0.000000</td>\n",
       "      <td>0.000000</td>\n",
       "      <td>0.000000</td>\n",
       "      <td>0.000000</td>\n",
       "      <td>0.000000</td>\n",
       "    </tr>\n",
       "    <tr>\n",
       "      <th>Hydrocarbon derivatives</th>\n",
       "      <td>0.001692</td>\n",
       "      <td>0.011527</td>\n",
       "      <td>0.000000</td>\n",
       "      <td>0.005848</td>\n",
       "      <td>0.000000</td>\n",
       "      <td>0.000000</td>\n",
       "      <td>0.000000</td>\n",
       "    </tr>\n",
       "    <tr>\n",
       "      <th>Organic nitrogen compounds</th>\n",
       "      <td>0.001692</td>\n",
       "      <td>0.002882</td>\n",
       "      <td>0.000000</td>\n",
       "      <td>0.000000</td>\n",
       "      <td>0.006969</td>\n",
       "      <td>0.005376</td>\n",
       "      <td>0.000000</td>\n",
       "    </tr>\n",
       "    <tr>\n",
       "      <th>Hydrocarbons</th>\n",
       "      <td>0.008460</td>\n",
       "      <td>0.000000</td>\n",
       "      <td>0.000000</td>\n",
       "      <td>0.017544</td>\n",
       "      <td>0.000000</td>\n",
       "      <td>0.000000</td>\n",
       "      <td>0.000000</td>\n",
       "    </tr>\n",
       "    <tr>\n",
       "      <th>Lignans, neolignans and related compounds</th>\n",
       "      <td>0.001692</td>\n",
       "      <td>0.002882</td>\n",
       "      <td>0.000000</td>\n",
       "      <td>0.000000</td>\n",
       "      <td>0.000000</td>\n",
       "      <td>0.000000</td>\n",
       "      <td>0.000000</td>\n",
       "    </tr>\n",
       "    <tr>\n",
       "      <th>Nucleosides, nucleotides, and analogues</th>\n",
       "      <td>0.000000</td>\n",
       "      <td>0.034582</td>\n",
       "      <td>0.000000</td>\n",
       "      <td>0.000000</td>\n",
       "      <td>0.000000</td>\n",
       "      <td>0.000000</td>\n",
       "      <td>0.000000</td>\n",
       "    </tr>\n",
       "    <tr>\n",
       "      <th>Organohalogen compounds</th>\n",
       "      <td>0.000000</td>\n",
       "      <td>0.002882</td>\n",
       "      <td>0.000000</td>\n",
       "      <td>0.000000</td>\n",
       "      <td>0.000000</td>\n",
       "      <td>0.000000</td>\n",
       "      <td>0.000000</td>\n",
       "    </tr>\n",
       "    <tr>\n",
       "      <th>Organic Polymers</th>\n",
       "      <td>0.000000</td>\n",
       "      <td>0.000000</td>\n",
       "      <td>0.000000</td>\n",
       "      <td>0.000000</td>\n",
       "      <td>0.000000</td>\n",
       "      <td>0.016129</td>\n",
       "      <td>0.285714</td>\n",
       "    </tr>\n",
       "  </tbody>\n",
       "</table>\n",
       "</div>"
      ],
      "text/plain": [
       "                                           Polyketide     Other  Saccharide  \\\n",
       "Organoheterocyclic compounds                 0.186125  0.429395    0.049180   \n",
       "Lipids and lipid-like molecules              0.140440  0.057637    0.024590   \n",
       "Organic acids and derivatives                0.052453  0.239193    0.065574   \n",
       "Phenylpropanoids and polyketides             0.269036  0.074928    0.139344   \n",
       "Organic oxygen compounds                     0.143824  0.057637    0.639344   \n",
       "Alkaloids and derivatives                    0.003384  0.031700    0.000000   \n",
       "Benzenoids                                   0.184433  0.048991    0.081967   \n",
       "Organosulfur compounds                       0.001692  0.000000    0.000000   \n",
       "Organic 1,3-dipolar compounds                0.005076  0.005764    0.000000   \n",
       "Hydrocarbon derivatives                      0.001692  0.011527    0.000000   \n",
       "Organic nitrogen compounds                   0.001692  0.002882    0.000000   \n",
       "Hydrocarbons                                 0.008460  0.000000    0.000000   \n",
       "Lignans, neolignans and related compounds    0.001692  0.002882    0.000000   \n",
       "Nucleosides, nucleotides, and analogues      0.000000  0.034582    0.000000   \n",
       "Organohalogen compounds                      0.000000  0.002882    0.000000   \n",
       "Organic Polymers                             0.000000  0.000000    0.000000   \n",
       "\n",
       "                                            Terpene  PKS-NRP_Hybrids  \\\n",
       "Organoheterocyclic compounds               0.263158         0.233449   \n",
       "Lipids and lipid-like molecules            0.543860         0.080139   \n",
       "Organic acids and derivatives              0.029240         0.414634   \n",
       "Phenylpropanoids and polyketides           0.005848         0.156794   \n",
       "Organic oxygen compounds                   0.058480         0.062718   \n",
       "Alkaloids and derivatives                  0.017544         0.010453   \n",
       "Benzenoids                                 0.058480         0.027875   \n",
       "Organosulfur compounds                     0.000000         0.006969   \n",
       "Organic 1,3-dipolar compounds              0.000000         0.000000   \n",
       "Hydrocarbon derivatives                    0.005848         0.000000   \n",
       "Organic nitrogen compounds                 0.000000         0.006969   \n",
       "Hydrocarbons                               0.017544         0.000000   \n",
       "Lignans, neolignans and related compounds  0.000000         0.000000   \n",
       "Nucleosides, nucleotides, and analogues    0.000000         0.000000   \n",
       "Organohalogen compounds                    0.000000         0.000000   \n",
       "Organic Polymers                           0.000000         0.000000   \n",
       "\n",
       "                                                NRP      RiPP  \n",
       "Organoheterocyclic compounds               0.147849  0.000000  \n",
       "Lipids and lipid-like molecules            0.008065  0.000000  \n",
       "Organic acids and derivatives              0.755376  0.637363  \n",
       "Phenylpropanoids and polyketides           0.008065  0.065934  \n",
       "Organic oxygen compounds                   0.018817  0.000000  \n",
       "Alkaloids and derivatives                  0.002688  0.000000  \n",
       "Benzenoids                                 0.037634  0.000000  \n",
       "Organosulfur compounds                     0.000000  0.010989  \n",
       "Organic 1,3-dipolar compounds              0.000000  0.000000  \n",
       "Hydrocarbon derivatives                    0.000000  0.000000  \n",
       "Organic nitrogen compounds                 0.005376  0.000000  \n",
       "Hydrocarbons                               0.000000  0.000000  \n",
       "Lignans, neolignans and related compounds  0.000000  0.000000  \n",
       "Nucleosides, nucleotides, and analogues    0.000000  0.000000  \n",
       "Organohalogen compounds                    0.000000  0.000000  \n",
       "Organic Polymers                           0.016129  0.285714  "
      ]
     },
     "execution_count": 15,
     "metadata": {},
     "output_type": "execute_result"
    }
   ],
   "source": [
    "# rules for BGC -> superclass (read column to row)\n",
    "df_mibig_cls_cf_superclass/df_mibig_cls_cf_superclass.sum(axis=0)"
   ]
  },
  {
   "cell_type": "code",
   "execution_count": 16,
   "id": "sealed-elevation",
   "metadata": {},
   "outputs": [
    {
     "data": {
      "text/html": [
       "<div>\n",
       "<style scoped>\n",
       "    .dataframe tbody tr th:only-of-type {\n",
       "        vertical-align: middle;\n",
       "    }\n",
       "\n",
       "    .dataframe tbody tr th {\n",
       "        vertical-align: top;\n",
       "    }\n",
       "\n",
       "    .dataframe thead th {\n",
       "        text-align: right;\n",
       "    }\n",
       "</style>\n",
       "<table border=\"1\" class=\"dataframe\">\n",
       "  <thead>\n",
       "    <tr style=\"text-align: right;\">\n",
       "      <th></th>\n",
       "      <th>Organoheterocyclic compounds</th>\n",
       "      <th>Lipids and lipid-like molecules</th>\n",
       "      <th>Organic acids and derivatives</th>\n",
       "      <th>Phenylpropanoids and polyketides</th>\n",
       "      <th>Organic oxygen compounds</th>\n",
       "      <th>Alkaloids and derivatives</th>\n",
       "      <th>Benzenoids</th>\n",
       "      <th>Organosulfur compounds</th>\n",
       "      <th>Organic 1,3-dipolar compounds</th>\n",
       "      <th>Hydrocarbon derivatives</th>\n",
       "      <th>Organic nitrogen compounds</th>\n",
       "      <th>Hydrocarbons</th>\n",
       "      <th>Lignans, neolignans and related compounds</th>\n",
       "      <th>Nucleosides, nucleotides, and analogues</th>\n",
       "      <th>Organohalogen compounds</th>\n",
       "      <th>Organic Polymers</th>\n",
       "    </tr>\n",
       "  </thead>\n",
       "  <tbody>\n",
       "    <tr>\n",
       "      <th>Polyketide</th>\n",
       "      <td>0.254630</td>\n",
       "      <td>0.368889</td>\n",
       "      <td>0.052991</td>\n",
       "      <td>0.618677</td>\n",
       "      <td>0.389908</td>\n",
       "      <td>0.10</td>\n",
       "      <td>0.648810</td>\n",
       "      <td>0.25</td>\n",
       "      <td>0.6</td>\n",
       "      <td>0.166667</td>\n",
       "      <td>0.166667</td>\n",
       "      <td>0.625</td>\n",
       "      <td>0.5</td>\n",
       "      <td>0.0</td>\n",
       "      <td>0.0</td>\n",
       "      <td>0.0000</td>\n",
       "    </tr>\n",
       "    <tr>\n",
       "      <th>Other</th>\n",
       "      <td>0.344907</td>\n",
       "      <td>0.088889</td>\n",
       "      <td>0.141880</td>\n",
       "      <td>0.101167</td>\n",
       "      <td>0.091743</td>\n",
       "      <td>0.55</td>\n",
       "      <td>0.101190</td>\n",
       "      <td>0.00</td>\n",
       "      <td>0.4</td>\n",
       "      <td>0.666667</td>\n",
       "      <td>0.166667</td>\n",
       "      <td>0.000</td>\n",
       "      <td>0.5</td>\n",
       "      <td>1.0</td>\n",
       "      <td>1.0</td>\n",
       "      <td>0.0000</td>\n",
       "    </tr>\n",
       "    <tr>\n",
       "      <th>Saccharide</th>\n",
       "      <td>0.013889</td>\n",
       "      <td>0.013333</td>\n",
       "      <td>0.013675</td>\n",
       "      <td>0.066148</td>\n",
       "      <td>0.357798</td>\n",
       "      <td>0.00</td>\n",
       "      <td>0.059524</td>\n",
       "      <td>0.00</td>\n",
       "      <td>0.0</td>\n",
       "      <td>0.000000</td>\n",
       "      <td>0.000000</td>\n",
       "      <td>0.000</td>\n",
       "      <td>0.0</td>\n",
       "      <td>0.0</td>\n",
       "      <td>0.0</td>\n",
       "      <td>0.0000</td>\n",
       "    </tr>\n",
       "    <tr>\n",
       "      <th>Terpene</th>\n",
       "      <td>0.104167</td>\n",
       "      <td>0.413333</td>\n",
       "      <td>0.008547</td>\n",
       "      <td>0.003891</td>\n",
       "      <td>0.045872</td>\n",
       "      <td>0.15</td>\n",
       "      <td>0.059524</td>\n",
       "      <td>0.00</td>\n",
       "      <td>0.0</td>\n",
       "      <td>0.166667</td>\n",
       "      <td>0.000000</td>\n",
       "      <td>0.375</td>\n",
       "      <td>0.0</td>\n",
       "      <td>0.0</td>\n",
       "      <td>0.0</td>\n",
       "      <td>0.0000</td>\n",
       "    </tr>\n",
       "    <tr>\n",
       "      <th>PKS-NRP_Hybrids</th>\n",
       "      <td>0.155093</td>\n",
       "      <td>0.102222</td>\n",
       "      <td>0.203419</td>\n",
       "      <td>0.175097</td>\n",
       "      <td>0.082569</td>\n",
       "      <td>0.15</td>\n",
       "      <td>0.047619</td>\n",
       "      <td>0.50</td>\n",
       "      <td>0.0</td>\n",
       "      <td>0.000000</td>\n",
       "      <td>0.333333</td>\n",
       "      <td>0.000</td>\n",
       "      <td>0.0</td>\n",
       "      <td>0.0</td>\n",
       "      <td>0.0</td>\n",
       "      <td>0.0000</td>\n",
       "    </tr>\n",
       "    <tr>\n",
       "      <th>NRP</th>\n",
       "      <td>0.127315</td>\n",
       "      <td>0.013333</td>\n",
       "      <td>0.480342</td>\n",
       "      <td>0.011673</td>\n",
       "      <td>0.032110</td>\n",
       "      <td>0.05</td>\n",
       "      <td>0.083333</td>\n",
       "      <td>0.00</td>\n",
       "      <td>0.0</td>\n",
       "      <td>0.000000</td>\n",
       "      <td>0.333333</td>\n",
       "      <td>0.000</td>\n",
       "      <td>0.0</td>\n",
       "      <td>0.0</td>\n",
       "      <td>0.0</td>\n",
       "      <td>0.1875</td>\n",
       "    </tr>\n",
       "    <tr>\n",
       "      <th>RiPP</th>\n",
       "      <td>0.000000</td>\n",
       "      <td>0.000000</td>\n",
       "      <td>0.099145</td>\n",
       "      <td>0.023346</td>\n",
       "      <td>0.000000</td>\n",
       "      <td>0.00</td>\n",
       "      <td>0.000000</td>\n",
       "      <td>0.25</td>\n",
       "      <td>0.0</td>\n",
       "      <td>0.000000</td>\n",
       "      <td>0.000000</td>\n",
       "      <td>0.000</td>\n",
       "      <td>0.0</td>\n",
       "      <td>0.0</td>\n",
       "      <td>0.0</td>\n",
       "      <td>0.8125</td>\n",
       "    </tr>\n",
       "  </tbody>\n",
       "</table>\n",
       "</div>"
      ],
      "text/plain": [
       "                 Organoheterocyclic compounds  \\\n",
       "Polyketide                           0.254630   \n",
       "Other                                0.344907   \n",
       "Saccharide                           0.013889   \n",
       "Terpene                              0.104167   \n",
       "PKS-NRP_Hybrids                      0.155093   \n",
       "NRP                                  0.127315   \n",
       "RiPP                                 0.000000   \n",
       "\n",
       "                 Lipids and lipid-like molecules  \\\n",
       "Polyketide                              0.368889   \n",
       "Other                                   0.088889   \n",
       "Saccharide                              0.013333   \n",
       "Terpene                                 0.413333   \n",
       "PKS-NRP_Hybrids                         0.102222   \n",
       "NRP                                     0.013333   \n",
       "RiPP                                    0.000000   \n",
       "\n",
       "                 Organic acids and derivatives  \\\n",
       "Polyketide                            0.052991   \n",
       "Other                                 0.141880   \n",
       "Saccharide                            0.013675   \n",
       "Terpene                               0.008547   \n",
       "PKS-NRP_Hybrids                       0.203419   \n",
       "NRP                                   0.480342   \n",
       "RiPP                                  0.099145   \n",
       "\n",
       "                 Phenylpropanoids and polyketides  Organic oxygen compounds  \\\n",
       "Polyketide                               0.618677                  0.389908   \n",
       "Other                                    0.101167                  0.091743   \n",
       "Saccharide                               0.066148                  0.357798   \n",
       "Terpene                                  0.003891                  0.045872   \n",
       "PKS-NRP_Hybrids                          0.175097                  0.082569   \n",
       "NRP                                      0.011673                  0.032110   \n",
       "RiPP                                     0.023346                  0.000000   \n",
       "\n",
       "                 Alkaloids and derivatives  Benzenoids  \\\n",
       "Polyketide                            0.10    0.648810   \n",
       "Other                                 0.55    0.101190   \n",
       "Saccharide                            0.00    0.059524   \n",
       "Terpene                               0.15    0.059524   \n",
       "PKS-NRP_Hybrids                       0.15    0.047619   \n",
       "NRP                                   0.05    0.083333   \n",
       "RiPP                                  0.00    0.000000   \n",
       "\n",
       "                 Organosulfur compounds  Organic 1,3-dipolar compounds  \\\n",
       "Polyketide                         0.25                            0.6   \n",
       "Other                              0.00                            0.4   \n",
       "Saccharide                         0.00                            0.0   \n",
       "Terpene                            0.00                            0.0   \n",
       "PKS-NRP_Hybrids                    0.50                            0.0   \n",
       "NRP                                0.00                            0.0   \n",
       "RiPP                               0.25                            0.0   \n",
       "\n",
       "                 Hydrocarbon derivatives  Organic nitrogen compounds  \\\n",
       "Polyketide                      0.166667                    0.166667   \n",
       "Other                           0.666667                    0.166667   \n",
       "Saccharide                      0.000000                    0.000000   \n",
       "Terpene                         0.166667                    0.000000   \n",
       "PKS-NRP_Hybrids                 0.000000                    0.333333   \n",
       "NRP                             0.000000                    0.333333   \n",
       "RiPP                            0.000000                    0.000000   \n",
       "\n",
       "                 Hydrocarbons  Lignans, neolignans and related compounds  \\\n",
       "Polyketide              0.625                                        0.5   \n",
       "Other                   0.000                                        0.5   \n",
       "Saccharide              0.000                                        0.0   \n",
       "Terpene                 0.375                                        0.0   \n",
       "PKS-NRP_Hybrids         0.000                                        0.0   \n",
       "NRP                     0.000                                        0.0   \n",
       "RiPP                    0.000                                        0.0   \n",
       "\n",
       "                 Nucleosides, nucleotides, and analogues  \\\n",
       "Polyketide                                           0.0   \n",
       "Other                                                1.0   \n",
       "Saccharide                                           0.0   \n",
       "Terpene                                              0.0   \n",
       "PKS-NRP_Hybrids                                      0.0   \n",
       "NRP                                                  0.0   \n",
       "RiPP                                                 0.0   \n",
       "\n",
       "                 Organohalogen compounds  Organic Polymers  \n",
       "Polyketide                           0.0            0.0000  \n",
       "Other                                1.0            0.0000  \n",
       "Saccharide                           0.0            0.0000  \n",
       "Terpene                              0.0            0.0000  \n",
       "PKS-NRP_Hybrids                      0.0            0.0000  \n",
       "NRP                                  0.0            0.1875  \n",
       "RiPP                                 0.0            0.8125  "
      ]
     },
     "execution_count": 16,
     "metadata": {},
     "output_type": "execute_result"
    }
   ],
   "source": [
    "# rules for superclass -> bgc (read column to row)\n",
    "df_mibig_cls_cf_superclass.T/df_mibig_cls_cf_superclass.sum(axis=1)"
   ]
  },
  {
   "cell_type": "code",
   "execution_count": 17,
   "id": "powered-chosen",
   "metadata": {},
   "outputs": [
    {
     "data": {
      "text/html": [
       "<div>\n",
       "<style scoped>\n",
       "    .dataframe tbody tr th:only-of-type {\n",
       "        vertical-align: middle;\n",
       "    }\n",
       "\n",
       "    .dataframe tbody tr th {\n",
       "        vertical-align: top;\n",
       "    }\n",
       "\n",
       "    .dataframe thead th {\n",
       "        text-align: right;\n",
       "    }\n",
       "</style>\n",
       "<table border=\"1\" class=\"dataframe\">\n",
       "  <thead>\n",
       "    <tr style=\"text-align: right;\">\n",
       "      <th></th>\n",
       "      <th>Polyketide</th>\n",
       "      <th>Other</th>\n",
       "      <th>Saccharide</th>\n",
       "      <th>Terpene</th>\n",
       "      <th>PKS-NRP_Hybrids</th>\n",
       "      <th>NRP</th>\n",
       "      <th>RiPP</th>\n",
       "    </tr>\n",
       "  </thead>\n",
       "  <tbody>\n",
       "    <tr>\n",
       "      <th>Terpene glycosides</th>\n",
       "      <td>13.0</td>\n",
       "      <td>NaN</td>\n",
       "      <td>2.0</td>\n",
       "      <td>2.0</td>\n",
       "      <td>NaN</td>\n",
       "      <td>NaN</td>\n",
       "      <td>NaN</td>\n",
       "    </tr>\n",
       "    <tr>\n",
       "      <th>Depsipeptides</th>\n",
       "      <td>1.0</td>\n",
       "      <td>1.0</td>\n",
       "      <td>2.0</td>\n",
       "      <td>NaN</td>\n",
       "      <td>43.0</td>\n",
       "      <td>101.0</td>\n",
       "      <td>2.0</td>\n",
       "    </tr>\n",
       "    <tr>\n",
       "      <th>Furanocoumarins</th>\n",
       "      <td>7.0</td>\n",
       "      <td>NaN</td>\n",
       "      <td>NaN</td>\n",
       "      <td>NaN</td>\n",
       "      <td>NaN</td>\n",
       "      <td>NaN</td>\n",
       "      <td>NaN</td>\n",
       "    </tr>\n",
       "    <tr>\n",
       "      <th>Terpene lactones</th>\n",
       "      <td>10.0</td>\n",
       "      <td>NaN</td>\n",
       "      <td>NaN</td>\n",
       "      <td>3.0</td>\n",
       "      <td>1.0</td>\n",
       "      <td>NaN</td>\n",
       "      <td>NaN</td>\n",
       "    </tr>\n",
       "    <tr>\n",
       "      <th>Carbohydrates and carbohydrate conjugates</th>\n",
       "      <td>52.0</td>\n",
       "      <td>17.0</td>\n",
       "      <td>76.0</td>\n",
       "      <td>NaN</td>\n",
       "      <td>6.0</td>\n",
       "      <td>6.0</td>\n",
       "      <td>NaN</td>\n",
       "    </tr>\n",
       "    <tr>\n",
       "      <th>...</th>\n",
       "      <td>...</td>\n",
       "      <td>...</td>\n",
       "      <td>...</td>\n",
       "      <td>...</td>\n",
       "      <td>...</td>\n",
       "      <td>...</td>\n",
       "      <td>...</td>\n",
       "    </tr>\n",
       "    <tr>\n",
       "      <th>1,4-benzodiazepines</th>\n",
       "      <td>NaN</td>\n",
       "      <td>NaN</td>\n",
       "      <td>NaN</td>\n",
       "      <td>NaN</td>\n",
       "      <td>NaN</td>\n",
       "      <td>13.0</td>\n",
       "      <td>NaN</td>\n",
       "    </tr>\n",
       "    <tr>\n",
       "      <th>Peptoid-peptide hybrids</th>\n",
       "      <td>NaN</td>\n",
       "      <td>NaN</td>\n",
       "      <td>NaN</td>\n",
       "      <td>NaN</td>\n",
       "      <td>NaN</td>\n",
       "      <td>2.0</td>\n",
       "      <td>NaN</td>\n",
       "    </tr>\n",
       "    <tr>\n",
       "      <th>Terphenyls</th>\n",
       "      <td>NaN</td>\n",
       "      <td>NaN</td>\n",
       "      <td>NaN</td>\n",
       "      <td>NaN</td>\n",
       "      <td>NaN</td>\n",
       "      <td>5.0</td>\n",
       "      <td>NaN</td>\n",
       "    </tr>\n",
       "    <tr>\n",
       "      <th>Benzazocines</th>\n",
       "      <td>NaN</td>\n",
       "      <td>NaN</td>\n",
       "      <td>NaN</td>\n",
       "      <td>NaN</td>\n",
       "      <td>NaN</td>\n",
       "      <td>2.0</td>\n",
       "      <td>NaN</td>\n",
       "    </tr>\n",
       "    <tr>\n",
       "      <th>Isoquinoline quinones</th>\n",
       "      <td>NaN</td>\n",
       "      <td>NaN</td>\n",
       "      <td>NaN</td>\n",
       "      <td>NaN</td>\n",
       "      <td>NaN</td>\n",
       "      <td>3.0</td>\n",
       "      <td>NaN</td>\n",
       "    </tr>\n",
       "  </tbody>\n",
       "</table>\n",
       "<p>151 rows × 7 columns</p>\n",
       "</div>"
      ],
      "text/plain": [
       "                                           Polyketide  Other  Saccharide  \\\n",
       "Terpene glycosides                               13.0    NaN         2.0   \n",
       "Depsipeptides                                     1.0    1.0         2.0   \n",
       "Furanocoumarins                                   7.0    NaN         NaN   \n",
       "Terpene lactones                                 10.0    NaN         NaN   \n",
       "Carbohydrates and carbohydrate conjugates        52.0   17.0        76.0   \n",
       "...                                               ...    ...         ...   \n",
       "1,4-benzodiazepines                               NaN    NaN         NaN   \n",
       "Peptoid-peptide hybrids                           NaN    NaN         NaN   \n",
       "Terphenyls                                        NaN    NaN         NaN   \n",
       "Benzazocines                                      NaN    NaN         NaN   \n",
       "Isoquinoline quinones                             NaN    NaN         NaN   \n",
       "\n",
       "                                           Terpene  PKS-NRP_Hybrids    NRP  \\\n",
       "Terpene glycosides                             2.0              NaN    NaN   \n",
       "Depsipeptides                                  NaN             43.0  101.0   \n",
       "Furanocoumarins                                NaN              NaN    NaN   \n",
       "Terpene lactones                               3.0              1.0    NaN   \n",
       "Carbohydrates and carbohydrate conjugates      NaN              6.0    6.0   \n",
       "...                                            ...              ...    ...   \n",
       "1,4-benzodiazepines                            NaN              NaN   13.0   \n",
       "Peptoid-peptide hybrids                        NaN              NaN    2.0   \n",
       "Terphenyls                                     NaN              NaN    5.0   \n",
       "Benzazocines                                   NaN              NaN    2.0   \n",
       "Isoquinoline quinones                          NaN              NaN    3.0   \n",
       "\n",
       "                                           RiPP  \n",
       "Terpene glycosides                          NaN  \n",
       "Depsipeptides                               2.0  \n",
       "Furanocoumarins                             NaN  \n",
       "Terpene lactones                            NaN  \n",
       "Carbohydrates and carbohydrate conjugates   NaN  \n",
       "...                                         ...  \n",
       "1,4-benzodiazepines                         NaN  \n",
       "Peptoid-peptide hybrids                     NaN  \n",
       "Terphenyls                                  NaN  \n",
       "Benzazocines                                NaN  \n",
       "Isoquinoline quinones                       NaN  \n",
       "\n",
       "[151 rows x 7 columns]"
      ]
     },
     "execution_count": 17,
     "metadata": {},
     "output_type": "execute_result"
    }
   ],
   "source": [
    "# rules for mibig class -> subclass (read column to row)\n",
    "result['mibig_classes']['cf_subclass']\n",
    "df_mibig_cls_cf_subclass = pd.DataFrame.from_dict(result['mibig_classes']['cf_subclass'], dtype=int)\n",
    "df_mibig_cls_cf_subclass"
   ]
  },
  {
   "cell_type": "code",
   "execution_count": 18,
   "id": "complex-appraisal",
   "metadata": {},
   "outputs": [
    {
     "data": {
      "text/plain": [
       "Amino acids, peptides, and analogues         0.234483\n",
       "Indoles                                      0.089655\n",
       "Carbazoles                                   0.068966\n",
       "Carbohydrates and carbohydrate conjugates    0.058621\n",
       "Pyridoindoles                                0.048276\n",
       "                                               ...   \n",
       "1,4-benzodiazepines                               NaN\n",
       "Peptoid-peptide hybrids                           NaN\n",
       "Terphenyls                                        NaN\n",
       "Benzazocines                                      NaN\n",
       "Isoquinoline quinones                             NaN\n",
       "Name: Other, Length: 151, dtype: float64"
      ]
     },
     "execution_count": 18,
     "metadata": {},
     "output_type": "execute_result"
    }
   ],
   "source": [
    "scores_mibig_cls_cf_subclass = df_mibig_cls_cf_subclass/df_mibig_cls_cf_subclass.sum(axis=0)\n",
    "scores_mibig_cls_cf_subclass[\"Other\"].sort_values(ascending=False)"
   ]
  },
  {
   "cell_type": "code",
   "execution_count": 19,
   "id": "painted-moses",
   "metadata": {},
   "outputs": [
    {
     "data": {
      "text/plain": [
       "(290.0, 0.0043859649122807015)"
      ]
     },
     "execution_count": 19,
     "metadata": {},
     "output_type": "execute_result"
    }
   ],
   "source": [
    "df_mibig_cls_cf_subclass[\"Other\"].sum(), 1/228"
   ]
  },
  {
   "cell_type": "code",
   "execution_count": 20,
   "id": "lasting-spotlight",
   "metadata": {},
   "outputs": [
    {
     "data": {
      "text/plain": [
       "Pyridoindoles                           0.275862\n",
       "Carbazoles                              0.206897\n",
       "Indoles                                 0.149425\n",
       "Amino acids, peptides, and analogues    0.103448\n",
       "Pyrroloindoles                          0.057471\n",
       "                                          ...   \n",
       "Tetraterpenoids                              NaN\n",
       "Steroidal glycosides                         NaN\n",
       "Hopanoids                                    NaN\n",
       "Branched unsaturated hydrocarbons            NaN\n",
       "Alpha hydroxy acids and derivatives          NaN\n",
       "Name: indole, Length: 133, dtype: float64"
      ]
     },
     "execution_count": 20,
     "metadata": {},
     "output_type": "execute_result"
    }
   ],
   "source": [
    "bgc_class = 'as_classes'\n",
    "spec_class = 'cf_subclass'\n",
    "bgc_choose = \"indole\"\n",
    "df_res = pd.DataFrame.from_dict(result[bgc_class][spec_class], dtype=int)\n",
    "df_scores = df_res/df_res.sum(axis=0)\n",
    "df_scores[bgc_choose].sort_values(ascending=False)\n"
   ]
  },
  {
   "cell_type": "code",
   "execution_count": 21,
   "id": "experimental-procedure",
   "metadata": {},
   "outputs": [
    {
     "data": {
      "text/plain": [
       "Tryptophan alkaloids               74.0\n",
       "Peptide alkaloids                  13.0\n",
       "Histidine alkaloids                 4.0\n",
       "Polycyclic aromatic polyketides     3.0\n",
       "Small peptides                      3.0\n",
       "Oligopeptides                       2.0\n",
       "Polyols                             1.0\n",
       "Meroterpenoids                      1.0\n",
       "Anthranilic acid alkaloids          1.0\n",
       "Macrolides                          NaN\n",
       "Chromanes                           NaN\n",
       "Coumarins                           NaN\n",
       "Xanthones                           NaN\n",
       "Linear polyketides                  NaN\n",
       "Ornithine alkaloids                 NaN\n",
       "Cyclic polyketides                  NaN\n",
       "Saccharides                         NaN\n",
       "Naphthalenes                        NaN\n",
       "Polyethers                          NaN\n",
       "Pseudoalkaloids                     NaN\n",
       "Name: indole, dtype: float64"
      ]
     },
     "execution_count": 21,
     "metadata": {},
     "output_type": "execute_result"
    }
   ],
   "source": [
    "bgc_class = 'as_classes'\n",
    "spec_class = 'npc_superclass'\n",
    "bgc_choose = \"indole\"\n",
    "df_res = pd.DataFrame.from_dict(result[bgc_class][spec_class], dtype=int)\n",
    "df_scores = df_res/df_res.sum(axis=0)\n",
    "df_res[bgc_choose].sort_values(ascending=False)[:20]\n"
   ]
  },
  {
   "cell_type": "markdown",
   "id": "affiliated-farming",
   "metadata": {},
   "source": [
    "## Visualisation"
   ]
  },
  {
   "cell_type": "code",
   "execution_count": 22,
   "id": "baking-crash",
   "metadata": {},
   "outputs": [
    {
     "data": {
      "text/plain": [
       "(OrderedDict([('Polyketide', 0),\n",
       "              ('Other', 1),\n",
       "              ('Saccharide', 2),\n",
       "              ('Terpene', 3),\n",
       "              ('PKS-NRP_Hybrids', 4),\n",
       "              ('NRP', 5),\n",
       "              ('RiPP', 6),\n",
       "              ('Polyketides', 7),\n",
       "              ('Shikimates and Phenylpropanoids', 8),\n",
       "              ('Alkaloids', 9),\n",
       "              ('Amino acids and Peptides', 10),\n",
       "              ('Terpenoids', 11),\n",
       "              ('Fatty acids', 12),\n",
       "              ('Carbohydrates', 13)]),\n",
       " ['Polyketide',\n",
       "  'Other',\n",
       "  'Saccharide',\n",
       "  'Terpene',\n",
       "  'PKS-NRP_Hybrids',\n",
       "  'NRP',\n",
       "  'RiPP',\n",
       "  'Polyketides',\n",
       "  'Shikimates and Phenylpropanoids',\n",
       "  'Alkaloids',\n",
       "  'Amino acids and Peptides',\n",
       "  'Terpenoids',\n",
       "  'Fatty acids',\n",
       "  'Carbohydrates'])"
      ]
     },
     "execution_count": 22,
     "metadata": {},
     "output_type": "execute_result"
    }
   ],
   "source": [
    "label_dict = OrderedDict()\n",
    "label_dict.update({key:i for i, key in enumerate(mibig_cls_npc_pathway.keys())})\n",
    "cur = len(label_dict)\n",
    "for vals in mibig_cls_npc_pathway.values():\n",
    "    for val in vals.keys():\n",
    "        if val not in label_dict:\n",
    "            label_dict[val] = cur\n",
    "            cur += 1\n",
    "label_vals = list(label_dict.keys())\n",
    "label_dict, label_vals"
   ]
  },
  {
   "cell_type": "code",
   "execution_count": 23,
   "id": "everyday-puzzle",
   "metadata": {},
   "outputs": [],
   "source": [
    "label_colours = [\n",
    "    \"rgba(0,63,92,1)\",\n",
    "    \"rgba(62,70,101,1)\",\n",
    "    \"rgba(98,77,108,1)\",\n",
    "    \"rgba(128,85,111,1)\",\n",
    "    \"rgba(156,94,110,1)\",\n",
    "    \"rgba(181,104,105,1)\",\n",
    "    \"rgba(204,117,96,1)\",\n",
    "    \"rgba(224,131,81,1)\",\n",
    "    \"rgba(241,148,59,1)\",\n",
    "    \"rgba(255,166,0,1)\"]"
   ]
  },
  {
   "cell_type": "code",
   "execution_count": 24,
   "id": "bronze-brake",
   "metadata": {},
   "outputs": [],
   "source": [
    "colours_labels = [\n",
    "    'Polyketide',\n",
    "    'PKS-NRP_Hybrids',\n",
    "    'NRP',\n",
    "    'RiPP',\n",
    "    'Saccharide',\n",
    "    'Other',\n",
    "    'Terpene',\n",
    "    'Polyketides',\n",
    "    'Shikimates and Phenylpropanoids',\n",
    "    'Alkaloids',\n",
    "    'Amino acids and Peptides',\n",
    "    'Terpenoids',\n",
    "    'Fatty acids',\n",
    "    'Carbohydrates']"
   ]
  },
  {
   "cell_type": "code",
   "execution_count": 25,
   "id": "satisfied-mauritius",
   "metadata": {},
   "outputs": [],
   "source": [
    "colour_dict = {\n",
    "    'Polyketide': label_colours[0],\n",
    "    'PKS-NRP_Hybrids': label_colours[1],\n",
    "    'NRP': label_colours[2],\n",
    "    'RiPP': label_colours[3],\n",
    "    'Saccharide': label_colours[6],\n",
    "    'Other': label_colours[7],\n",
    "    'Terpene': label_colours[-1],\n",
    "    'Polyketides': label_colours[0],\n",
    "    'Amino acids and Peptides': label_colours[2],\n",
    "    'Fatty acids': label_colours[4],\n",
    "    'Shikimates and Phenylpropanoids': label_colours[5],\n",
    "    'Alkaloids': label_colours[7],\n",
    "    'Carbohydrates': label_colours[8],\n",
    "    'Terpenoids': label_colours[-1]}"
   ]
  },
  {
   "cell_type": "code",
   "execution_count": 26,
   "id": "representative-applicant",
   "metadata": {},
   "outputs": [],
   "source": [
    "# colour_dict = {}\n",
    "# colour_list = []\n",
    "# for i, lab in enumerate(colours_labels):\n",
    "#     try:\n",
    "#         cur_col = label_colours[i]\n",
    "#     except IndexError:\n",
    "#         cur_col = 'blue'\n",
    "#     colour_dict[lab] = cur_col\n",
    "#     colour_list.append(cur_col)"
   ]
  },
  {
   "cell_type": "code",
   "execution_count": 27,
   "id": "chronic-worth",
   "metadata": {},
   "outputs": [],
   "source": [
    "source_vals = []\n",
    "target_vals = []\n",
    "value_vals = []\n",
    "colour_vals = []\n",
    "opac = '0.4'\n",
    "\n",
    "for bgc_c, vals in mibig_cls_npc_pathway.items():\n",
    "    for chem_c, count in vals.items():\n",
    "        source_vals.append(label_dict[bgc_c])\n",
    "        target_vals.append(label_dict[chem_c])\n",
    "        value_vals.append(count)\n",
    "        col = colour_dict[bgc_c]\n",
    "        if col.startswith(\"rgba\"):\n",
    "            col = col.rpartition(',')[0] + f',{opac})'\n",
    "        colour_vals.append(col)"
   ]
  },
  {
   "cell_type": "code",
   "execution_count": 33,
   "id": "reserved-maryland",
   "metadata": {},
   "outputs": [
    {
     "data": {
      "application/vnd.plotly.v1+json": {
       "config": {
        "plotlyServerURL": "https://plot.ly"
       },
       "data": [
        {
         "link": {
          "color": [
           "rgba(0,63,92,0.4)",
           "rgba(0,63,92,0.4)",
           "rgba(0,63,92,0.4)",
           "rgba(0,63,92,0.4)",
           "rgba(0,63,92,0.4)",
           "rgba(0,63,92,0.4)",
           "rgba(0,63,92,0.4)",
           "rgba(224,131,81,0.4)",
           "rgba(224,131,81,0.4)",
           "rgba(224,131,81,0.4)",
           "rgba(224,131,81,0.4)",
           "rgba(224,131,81,0.4)",
           "rgba(224,131,81,0.4)",
           "rgba(224,131,81,0.4)",
           "rgba(204,117,96,0.4)",
           "rgba(204,117,96,0.4)",
           "rgba(204,117,96,0.4)",
           "rgba(204,117,96,0.4)",
           "rgba(204,117,96,0.4)",
           "rgba(255,166,0,0.4)",
           "rgba(255,166,0,0.4)",
           "rgba(255,166,0,0.4)",
           "rgba(255,166,0,0.4)",
           "rgba(255,166,0,0.4)",
           "rgba(255,166,0,0.4)",
           "rgba(62,70,101,0.4)",
           "rgba(62,70,101,0.4)",
           "rgba(62,70,101,0.4)",
           "rgba(62,70,101,0.4)",
           "rgba(62,70,101,0.4)",
           "rgba(62,70,101,0.4)",
           "rgba(62,70,101,0.4)",
           "rgba(98,77,108,0.4)",
           "rgba(98,77,108,0.4)",
           "rgba(98,77,108,0.4)",
           "rgba(98,77,108,0.4)",
           "rgba(98,77,108,0.4)",
           "rgba(98,77,108,0.4)",
           "rgba(128,85,111,0.4)",
           "rgba(128,85,111,0.4)",
           "rgba(128,85,111,0.4)"
          ],
          "source": [
           0,
           0,
           0,
           0,
           0,
           0,
           0,
           1,
           1,
           1,
           1,
           1,
           1,
           1,
           2,
           2,
           2,
           2,
           2,
           3,
           3,
           3,
           3,
           3,
           3,
           4,
           4,
           4,
           4,
           4,
           4,
           4,
           5,
           5,
           5,
           5,
           5,
           5,
           6,
           6,
           6
          ],
          "target": [
           7,
           8,
           9,
           10,
           11,
           12,
           13,
           7,
           9,
           13,
           10,
           8,
           12,
           11,
           13,
           7,
           10,
           11,
           8,
           7,
           11,
           13,
           10,
           9,
           8,
           7,
           9,
           10,
           8,
           12,
           11,
           13,
           10,
           13,
           9,
           7,
           8,
           12,
           10,
           7,
           9
          ],
          "value": [
           548,
           20,
           72,
           24,
           35,
           14,
           9,
           36,
           193,
           46,
           90,
           21,
           19,
           5,
           60,
           64,
           9,
           4,
           3,
           19,
           136,
           1,
           2,
           49,
           1,
           177,
           58,
           187,
           6,
           12,
           2,
           1,
           320,
           8,
           99,
           115,
           9,
           2,
           113,
           4,
           2
          ]
         },
         "node": {
          "color": [
           "rgba(0,63,92,1)",
           "rgba(224,131,81,1)",
           "rgba(204,117,96,1)",
           "rgba(255,166,0,1)",
           "rgba(62,70,101,1)",
           "rgba(98,77,108,1)",
           "rgba(128,85,111,1)",
           "rgba(0,63,92,1)",
           "rgba(181,104,105,1)",
           "rgba(224,131,81,1)",
           "rgba(98,77,108,1)",
           "rgba(255,166,0,1)",
           "rgba(156,94,110,1)",
           "rgba(241,148,59,1)"
          ],
          "label": [
           "Polyketide",
           "Other",
           "Saccharide",
           "Terpene",
           "PKS-NRP_Hybrids",
           "NRP",
           "RiPP",
           "Polyketides",
           "Shikimates and Phenylpropanoids",
           "Alkaloids",
           "Amino acids and Peptides",
           "Terpenoids",
           "Fatty acids",
           "Carbohydrates"
          ],
          "line": {
           "color": "black",
           "width": 0.5
          },
          "pad": 15,
          "thickness": 20
         },
         "type": "sankey"
        }
       ],
       "layout": {
        "font": {
         "size": 10
        },
        "template": {
         "data": {
          "bar": [
           {
            "error_x": {
             "color": "#2a3f5f"
            },
            "error_y": {
             "color": "#2a3f5f"
            },
            "marker": {
             "line": {
              "color": "#E5ECF6",
              "width": 0.5
             }
            },
            "type": "bar"
           }
          ],
          "barpolar": [
           {
            "marker": {
             "line": {
              "color": "#E5ECF6",
              "width": 0.5
             }
            },
            "type": "barpolar"
           }
          ],
          "carpet": [
           {
            "aaxis": {
             "endlinecolor": "#2a3f5f",
             "gridcolor": "white",
             "linecolor": "white",
             "minorgridcolor": "white",
             "startlinecolor": "#2a3f5f"
            },
            "baxis": {
             "endlinecolor": "#2a3f5f",
             "gridcolor": "white",
             "linecolor": "white",
             "minorgridcolor": "white",
             "startlinecolor": "#2a3f5f"
            },
            "type": "carpet"
           }
          ],
          "choropleth": [
           {
            "colorbar": {
             "outlinewidth": 0,
             "ticks": ""
            },
            "type": "choropleth"
           }
          ],
          "contour": [
           {
            "colorbar": {
             "outlinewidth": 0,
             "ticks": ""
            },
            "colorscale": [
             [
              0,
              "#0d0887"
             ],
             [
              0.1111111111111111,
              "#46039f"
             ],
             [
              0.2222222222222222,
              "#7201a8"
             ],
             [
              0.3333333333333333,
              "#9c179e"
             ],
             [
              0.4444444444444444,
              "#bd3786"
             ],
             [
              0.5555555555555556,
              "#d8576b"
             ],
             [
              0.6666666666666666,
              "#ed7953"
             ],
             [
              0.7777777777777778,
              "#fb9f3a"
             ],
             [
              0.8888888888888888,
              "#fdca26"
             ],
             [
              1,
              "#f0f921"
             ]
            ],
            "type": "contour"
           }
          ],
          "contourcarpet": [
           {
            "colorbar": {
             "outlinewidth": 0,
             "ticks": ""
            },
            "type": "contourcarpet"
           }
          ],
          "heatmap": [
           {
            "colorbar": {
             "outlinewidth": 0,
             "ticks": ""
            },
            "colorscale": [
             [
              0,
              "#0d0887"
             ],
             [
              0.1111111111111111,
              "#46039f"
             ],
             [
              0.2222222222222222,
              "#7201a8"
             ],
             [
              0.3333333333333333,
              "#9c179e"
             ],
             [
              0.4444444444444444,
              "#bd3786"
             ],
             [
              0.5555555555555556,
              "#d8576b"
             ],
             [
              0.6666666666666666,
              "#ed7953"
             ],
             [
              0.7777777777777778,
              "#fb9f3a"
             ],
             [
              0.8888888888888888,
              "#fdca26"
             ],
             [
              1,
              "#f0f921"
             ]
            ],
            "type": "heatmap"
           }
          ],
          "heatmapgl": [
           {
            "colorbar": {
             "outlinewidth": 0,
             "ticks": ""
            },
            "colorscale": [
             [
              0,
              "#0d0887"
             ],
             [
              0.1111111111111111,
              "#46039f"
             ],
             [
              0.2222222222222222,
              "#7201a8"
             ],
             [
              0.3333333333333333,
              "#9c179e"
             ],
             [
              0.4444444444444444,
              "#bd3786"
             ],
             [
              0.5555555555555556,
              "#d8576b"
             ],
             [
              0.6666666666666666,
              "#ed7953"
             ],
             [
              0.7777777777777778,
              "#fb9f3a"
             ],
             [
              0.8888888888888888,
              "#fdca26"
             ],
             [
              1,
              "#f0f921"
             ]
            ],
            "type": "heatmapgl"
           }
          ],
          "histogram": [
           {
            "marker": {
             "colorbar": {
              "outlinewidth": 0,
              "ticks": ""
             }
            },
            "type": "histogram"
           }
          ],
          "histogram2d": [
           {
            "colorbar": {
             "outlinewidth": 0,
             "ticks": ""
            },
            "colorscale": [
             [
              0,
              "#0d0887"
             ],
             [
              0.1111111111111111,
              "#46039f"
             ],
             [
              0.2222222222222222,
              "#7201a8"
             ],
             [
              0.3333333333333333,
              "#9c179e"
             ],
             [
              0.4444444444444444,
              "#bd3786"
             ],
             [
              0.5555555555555556,
              "#d8576b"
             ],
             [
              0.6666666666666666,
              "#ed7953"
             ],
             [
              0.7777777777777778,
              "#fb9f3a"
             ],
             [
              0.8888888888888888,
              "#fdca26"
             ],
             [
              1,
              "#f0f921"
             ]
            ],
            "type": "histogram2d"
           }
          ],
          "histogram2dcontour": [
           {
            "colorbar": {
             "outlinewidth": 0,
             "ticks": ""
            },
            "colorscale": [
             [
              0,
              "#0d0887"
             ],
             [
              0.1111111111111111,
              "#46039f"
             ],
             [
              0.2222222222222222,
              "#7201a8"
             ],
             [
              0.3333333333333333,
              "#9c179e"
             ],
             [
              0.4444444444444444,
              "#bd3786"
             ],
             [
              0.5555555555555556,
              "#d8576b"
             ],
             [
              0.6666666666666666,
              "#ed7953"
             ],
             [
              0.7777777777777778,
              "#fb9f3a"
             ],
             [
              0.8888888888888888,
              "#fdca26"
             ],
             [
              1,
              "#f0f921"
             ]
            ],
            "type": "histogram2dcontour"
           }
          ],
          "mesh3d": [
           {
            "colorbar": {
             "outlinewidth": 0,
             "ticks": ""
            },
            "type": "mesh3d"
           }
          ],
          "parcoords": [
           {
            "line": {
             "colorbar": {
              "outlinewidth": 0,
              "ticks": ""
             }
            },
            "type": "parcoords"
           }
          ],
          "pie": [
           {
            "automargin": true,
            "type": "pie"
           }
          ],
          "scatter": [
           {
            "marker": {
             "colorbar": {
              "outlinewidth": 0,
              "ticks": ""
             }
            },
            "type": "scatter"
           }
          ],
          "scatter3d": [
           {
            "line": {
             "colorbar": {
              "outlinewidth": 0,
              "ticks": ""
             }
            },
            "marker": {
             "colorbar": {
              "outlinewidth": 0,
              "ticks": ""
             }
            },
            "type": "scatter3d"
           }
          ],
          "scattercarpet": [
           {
            "marker": {
             "colorbar": {
              "outlinewidth": 0,
              "ticks": ""
             }
            },
            "type": "scattercarpet"
           }
          ],
          "scattergeo": [
           {
            "marker": {
             "colorbar": {
              "outlinewidth": 0,
              "ticks": ""
             }
            },
            "type": "scattergeo"
           }
          ],
          "scattergl": [
           {
            "marker": {
             "colorbar": {
              "outlinewidth": 0,
              "ticks": ""
             }
            },
            "type": "scattergl"
           }
          ],
          "scattermapbox": [
           {
            "marker": {
             "colorbar": {
              "outlinewidth": 0,
              "ticks": ""
             }
            },
            "type": "scattermapbox"
           }
          ],
          "scatterpolar": [
           {
            "marker": {
             "colorbar": {
              "outlinewidth": 0,
              "ticks": ""
             }
            },
            "type": "scatterpolar"
           }
          ],
          "scatterpolargl": [
           {
            "marker": {
             "colorbar": {
              "outlinewidth": 0,
              "ticks": ""
             }
            },
            "type": "scatterpolargl"
           }
          ],
          "scatterternary": [
           {
            "marker": {
             "colorbar": {
              "outlinewidth": 0,
              "ticks": ""
             }
            },
            "type": "scatterternary"
           }
          ],
          "surface": [
           {
            "colorbar": {
             "outlinewidth": 0,
             "ticks": ""
            },
            "colorscale": [
             [
              0,
              "#0d0887"
             ],
             [
              0.1111111111111111,
              "#46039f"
             ],
             [
              0.2222222222222222,
              "#7201a8"
             ],
             [
              0.3333333333333333,
              "#9c179e"
             ],
             [
              0.4444444444444444,
              "#bd3786"
             ],
             [
              0.5555555555555556,
              "#d8576b"
             ],
             [
              0.6666666666666666,
              "#ed7953"
             ],
             [
              0.7777777777777778,
              "#fb9f3a"
             ],
             [
              0.8888888888888888,
              "#fdca26"
             ],
             [
              1,
              "#f0f921"
             ]
            ],
            "type": "surface"
           }
          ],
          "table": [
           {
            "cells": {
             "fill": {
              "color": "#EBF0F8"
             },
             "line": {
              "color": "white"
             }
            },
            "header": {
             "fill": {
              "color": "#C8D4E3"
             },
             "line": {
              "color": "white"
             }
            },
            "type": "table"
           }
          ]
         },
         "layout": {
          "annotationdefaults": {
           "arrowcolor": "#2a3f5f",
           "arrowhead": 0,
           "arrowwidth": 1
          },
          "autotypenumbers": "strict",
          "coloraxis": {
           "colorbar": {
            "outlinewidth": 0,
            "ticks": ""
           }
          },
          "colorscale": {
           "diverging": [
            [
             0,
             "#8e0152"
            ],
            [
             0.1,
             "#c51b7d"
            ],
            [
             0.2,
             "#de77ae"
            ],
            [
             0.3,
             "#f1b6da"
            ],
            [
             0.4,
             "#fde0ef"
            ],
            [
             0.5,
             "#f7f7f7"
            ],
            [
             0.6,
             "#e6f5d0"
            ],
            [
             0.7,
             "#b8e186"
            ],
            [
             0.8,
             "#7fbc41"
            ],
            [
             0.9,
             "#4d9221"
            ],
            [
             1,
             "#276419"
            ]
           ],
           "sequential": [
            [
             0,
             "#0d0887"
            ],
            [
             0.1111111111111111,
             "#46039f"
            ],
            [
             0.2222222222222222,
             "#7201a8"
            ],
            [
             0.3333333333333333,
             "#9c179e"
            ],
            [
             0.4444444444444444,
             "#bd3786"
            ],
            [
             0.5555555555555556,
             "#d8576b"
            ],
            [
             0.6666666666666666,
             "#ed7953"
            ],
            [
             0.7777777777777778,
             "#fb9f3a"
            ],
            [
             0.8888888888888888,
             "#fdca26"
            ],
            [
             1,
             "#f0f921"
            ]
           ],
           "sequentialminus": [
            [
             0,
             "#0d0887"
            ],
            [
             0.1111111111111111,
             "#46039f"
            ],
            [
             0.2222222222222222,
             "#7201a8"
            ],
            [
             0.3333333333333333,
             "#9c179e"
            ],
            [
             0.4444444444444444,
             "#bd3786"
            ],
            [
             0.5555555555555556,
             "#d8576b"
            ],
            [
             0.6666666666666666,
             "#ed7953"
            ],
            [
             0.7777777777777778,
             "#fb9f3a"
            ],
            [
             0.8888888888888888,
             "#fdca26"
            ],
            [
             1,
             "#f0f921"
            ]
           ]
          },
          "colorway": [
           "#636efa",
           "#EF553B",
           "#00cc96",
           "#ab63fa",
           "#FFA15A",
           "#19d3f3",
           "#FF6692",
           "#B6E880",
           "#FF97FF",
           "#FECB52"
          ],
          "font": {
           "color": "#2a3f5f"
          },
          "geo": {
           "bgcolor": "white",
           "lakecolor": "white",
           "landcolor": "#E5ECF6",
           "showlakes": true,
           "showland": true,
           "subunitcolor": "white"
          },
          "hoverlabel": {
           "align": "left"
          },
          "hovermode": "closest",
          "mapbox": {
           "style": "light"
          },
          "paper_bgcolor": "white",
          "plot_bgcolor": "#E5ECF6",
          "polar": {
           "angularaxis": {
            "gridcolor": "white",
            "linecolor": "white",
            "ticks": ""
           },
           "bgcolor": "#E5ECF6",
           "radialaxis": {
            "gridcolor": "white",
            "linecolor": "white",
            "ticks": ""
           }
          },
          "scene": {
           "xaxis": {
            "backgroundcolor": "#E5ECF6",
            "gridcolor": "white",
            "gridwidth": 2,
            "linecolor": "white",
            "showbackground": true,
            "ticks": "",
            "zerolinecolor": "white"
           },
           "yaxis": {
            "backgroundcolor": "#E5ECF6",
            "gridcolor": "white",
            "gridwidth": 2,
            "linecolor": "white",
            "showbackground": true,
            "ticks": "",
            "zerolinecolor": "white"
           },
           "zaxis": {
            "backgroundcolor": "#E5ECF6",
            "gridcolor": "white",
            "gridwidth": 2,
            "linecolor": "white",
            "showbackground": true,
            "ticks": "",
            "zerolinecolor": "white"
           }
          },
          "shapedefaults": {
           "line": {
            "color": "#2a3f5f"
           }
          },
          "ternary": {
           "aaxis": {
            "gridcolor": "white",
            "linecolor": "white",
            "ticks": ""
           },
           "baxis": {
            "gridcolor": "white",
            "linecolor": "white",
            "ticks": ""
           },
           "bgcolor": "#E5ECF6",
           "caxis": {
            "gridcolor": "white",
            "linecolor": "white",
            "ticks": ""
           }
          },
          "title": {
           "x": 0.05
          },
          "xaxis": {
           "automargin": true,
           "gridcolor": "white",
           "linecolor": "white",
           "ticks": "",
           "title": {
            "standoff": 15
           },
           "zerolinecolor": "white",
           "zerolinewidth": 2
          },
          "yaxis": {
           "automargin": true,
           "gridcolor": "white",
           "linecolor": "white",
           "ticks": "",
           "title": {
            "standoff": 15
           },
           "zerolinecolor": "white",
           "zerolinewidth": 2
          }
         }
        },
        "title": {
         "text": "MIBiG BGC classes vs NPClassifier pathways"
        }
       }
      },
      "text/html": [
       "<div>                            <div id=\"f46da64a-e85d-46cc-b770-19884ef27093\" class=\"plotly-graph-div\" style=\"height:525px; width:100%;\"></div>            <script type=\"text/javascript\">                require([\"plotly\"], function(Plotly) {                    window.PLOTLYENV=window.PLOTLYENV || {};                                    if (document.getElementById(\"f46da64a-e85d-46cc-b770-19884ef27093\")) {                    Plotly.newPlot(                        \"f46da64a-e85d-46cc-b770-19884ef27093\",                        [{\"link\": {\"color\": [\"rgba(0,63,92,0.4)\", \"rgba(0,63,92,0.4)\", \"rgba(0,63,92,0.4)\", \"rgba(0,63,92,0.4)\", \"rgba(0,63,92,0.4)\", \"rgba(0,63,92,0.4)\", \"rgba(0,63,92,0.4)\", \"rgba(224,131,81,0.4)\", \"rgba(224,131,81,0.4)\", \"rgba(224,131,81,0.4)\", \"rgba(224,131,81,0.4)\", \"rgba(224,131,81,0.4)\", \"rgba(224,131,81,0.4)\", \"rgba(224,131,81,0.4)\", \"rgba(204,117,96,0.4)\", \"rgba(204,117,96,0.4)\", \"rgba(204,117,96,0.4)\", \"rgba(204,117,96,0.4)\", \"rgba(204,117,96,0.4)\", \"rgba(255,166,0,0.4)\", \"rgba(255,166,0,0.4)\", \"rgba(255,166,0,0.4)\", \"rgba(255,166,0,0.4)\", \"rgba(255,166,0,0.4)\", \"rgba(255,166,0,0.4)\", \"rgba(62,70,101,0.4)\", \"rgba(62,70,101,0.4)\", \"rgba(62,70,101,0.4)\", \"rgba(62,70,101,0.4)\", \"rgba(62,70,101,0.4)\", \"rgba(62,70,101,0.4)\", \"rgba(62,70,101,0.4)\", \"rgba(98,77,108,0.4)\", \"rgba(98,77,108,0.4)\", \"rgba(98,77,108,0.4)\", \"rgba(98,77,108,0.4)\", \"rgba(98,77,108,0.4)\", \"rgba(98,77,108,0.4)\", \"rgba(128,85,111,0.4)\", \"rgba(128,85,111,0.4)\", \"rgba(128,85,111,0.4)\"], \"source\": [0, 0, 0, 0, 0, 0, 0, 1, 1, 1, 1, 1, 1, 1, 2, 2, 2, 2, 2, 3, 3, 3, 3, 3, 3, 4, 4, 4, 4, 4, 4, 4, 5, 5, 5, 5, 5, 5, 6, 6, 6], \"target\": [7, 8, 9, 10, 11, 12, 13, 7, 9, 13, 10, 8, 12, 11, 13, 7, 10, 11, 8, 7, 11, 13, 10, 9, 8, 7, 9, 10, 8, 12, 11, 13, 10, 13, 9, 7, 8, 12, 10, 7, 9], \"value\": [548, 20, 72, 24, 35, 14, 9, 36, 193, 46, 90, 21, 19, 5, 60, 64, 9, 4, 3, 19, 136, 1, 2, 49, 1, 177, 58, 187, 6, 12, 2, 1, 320, 8, 99, 115, 9, 2, 113, 4, 2]}, \"node\": {\"color\": [\"rgba(0,63,92,1)\", \"rgba(224,131,81,1)\", \"rgba(204,117,96,1)\", \"rgba(255,166,0,1)\", \"rgba(62,70,101,1)\", \"rgba(98,77,108,1)\", \"rgba(128,85,111,1)\", \"rgba(0,63,92,1)\", \"rgba(181,104,105,1)\", \"rgba(224,131,81,1)\", \"rgba(98,77,108,1)\", \"rgba(255,166,0,1)\", \"rgba(156,94,110,1)\", \"rgba(241,148,59,1)\"], \"label\": [\"Polyketide\", \"Other\", \"Saccharide\", \"Terpene\", \"PKS-NRP_Hybrids\", \"NRP\", \"RiPP\", \"Polyketides\", \"Shikimates and Phenylpropanoids\", \"Alkaloids\", \"Amino acids and Peptides\", \"Terpenoids\", \"Fatty acids\", \"Carbohydrates\"], \"line\": {\"color\": \"black\", \"width\": 0.5}, \"pad\": 15, \"thickness\": 20}, \"type\": \"sankey\"}],                        {\"font\": {\"size\": 10}, \"template\": {\"data\": {\"bar\": [{\"error_x\": {\"color\": \"#2a3f5f\"}, \"error_y\": {\"color\": \"#2a3f5f\"}, \"marker\": {\"line\": {\"color\": \"#E5ECF6\", \"width\": 0.5}}, \"type\": \"bar\"}], \"barpolar\": [{\"marker\": {\"line\": {\"color\": \"#E5ECF6\", \"width\": 0.5}}, \"type\": \"barpolar\"}], \"carpet\": [{\"aaxis\": {\"endlinecolor\": \"#2a3f5f\", \"gridcolor\": \"white\", \"linecolor\": \"white\", \"minorgridcolor\": \"white\", \"startlinecolor\": \"#2a3f5f\"}, \"baxis\": {\"endlinecolor\": \"#2a3f5f\", \"gridcolor\": \"white\", \"linecolor\": \"white\", \"minorgridcolor\": \"white\", \"startlinecolor\": \"#2a3f5f\"}, \"type\": \"carpet\"}], \"choropleth\": [{\"colorbar\": {\"outlinewidth\": 0, \"ticks\": \"\"}, \"type\": \"choropleth\"}], \"contour\": [{\"colorbar\": {\"outlinewidth\": 0, \"ticks\": \"\"}, \"colorscale\": [[0.0, \"#0d0887\"], [0.1111111111111111, \"#46039f\"], [0.2222222222222222, \"#7201a8\"], [0.3333333333333333, \"#9c179e\"], [0.4444444444444444, \"#bd3786\"], [0.5555555555555556, \"#d8576b\"], [0.6666666666666666, \"#ed7953\"], [0.7777777777777778, \"#fb9f3a\"], [0.8888888888888888, \"#fdca26\"], [1.0, \"#f0f921\"]], \"type\": \"contour\"}], \"contourcarpet\": [{\"colorbar\": {\"outlinewidth\": 0, \"ticks\": \"\"}, \"type\": \"contourcarpet\"}], \"heatmap\": [{\"colorbar\": {\"outlinewidth\": 0, \"ticks\": \"\"}, \"colorscale\": [[0.0, \"#0d0887\"], [0.1111111111111111, \"#46039f\"], [0.2222222222222222, \"#7201a8\"], [0.3333333333333333, \"#9c179e\"], [0.4444444444444444, \"#bd3786\"], [0.5555555555555556, \"#d8576b\"], [0.6666666666666666, \"#ed7953\"], [0.7777777777777778, \"#fb9f3a\"], [0.8888888888888888, \"#fdca26\"], [1.0, \"#f0f921\"]], \"type\": \"heatmap\"}], \"heatmapgl\": [{\"colorbar\": {\"outlinewidth\": 0, \"ticks\": \"\"}, \"colorscale\": [[0.0, \"#0d0887\"], [0.1111111111111111, \"#46039f\"], [0.2222222222222222, \"#7201a8\"], [0.3333333333333333, \"#9c179e\"], [0.4444444444444444, \"#bd3786\"], [0.5555555555555556, \"#d8576b\"], [0.6666666666666666, \"#ed7953\"], [0.7777777777777778, \"#fb9f3a\"], [0.8888888888888888, \"#fdca26\"], [1.0, \"#f0f921\"]], \"type\": \"heatmapgl\"}], \"histogram\": [{\"marker\": {\"colorbar\": {\"outlinewidth\": 0, \"ticks\": \"\"}}, \"type\": \"histogram\"}], \"histogram2d\": [{\"colorbar\": {\"outlinewidth\": 0, \"ticks\": \"\"}, \"colorscale\": [[0.0, \"#0d0887\"], [0.1111111111111111, \"#46039f\"], [0.2222222222222222, \"#7201a8\"], [0.3333333333333333, \"#9c179e\"], [0.4444444444444444, \"#bd3786\"], [0.5555555555555556, \"#d8576b\"], [0.6666666666666666, \"#ed7953\"], [0.7777777777777778, \"#fb9f3a\"], [0.8888888888888888, \"#fdca26\"], [1.0, \"#f0f921\"]], \"type\": \"histogram2d\"}], \"histogram2dcontour\": [{\"colorbar\": {\"outlinewidth\": 0, \"ticks\": \"\"}, \"colorscale\": [[0.0, \"#0d0887\"], [0.1111111111111111, \"#46039f\"], [0.2222222222222222, \"#7201a8\"], [0.3333333333333333, \"#9c179e\"], [0.4444444444444444, \"#bd3786\"], [0.5555555555555556, \"#d8576b\"], [0.6666666666666666, \"#ed7953\"], [0.7777777777777778, \"#fb9f3a\"], [0.8888888888888888, \"#fdca26\"], [1.0, \"#f0f921\"]], \"type\": \"histogram2dcontour\"}], \"mesh3d\": [{\"colorbar\": {\"outlinewidth\": 0, \"ticks\": \"\"}, \"type\": \"mesh3d\"}], \"parcoords\": [{\"line\": {\"colorbar\": {\"outlinewidth\": 0, \"ticks\": \"\"}}, \"type\": \"parcoords\"}], \"pie\": [{\"automargin\": true, \"type\": \"pie\"}], \"scatter\": [{\"marker\": {\"colorbar\": {\"outlinewidth\": 0, \"ticks\": \"\"}}, \"type\": \"scatter\"}], \"scatter3d\": [{\"line\": {\"colorbar\": {\"outlinewidth\": 0, \"ticks\": \"\"}}, \"marker\": {\"colorbar\": {\"outlinewidth\": 0, \"ticks\": \"\"}}, \"type\": \"scatter3d\"}], \"scattercarpet\": [{\"marker\": {\"colorbar\": {\"outlinewidth\": 0, \"ticks\": \"\"}}, \"type\": \"scattercarpet\"}], \"scattergeo\": [{\"marker\": {\"colorbar\": {\"outlinewidth\": 0, \"ticks\": \"\"}}, \"type\": \"scattergeo\"}], \"scattergl\": [{\"marker\": {\"colorbar\": {\"outlinewidth\": 0, \"ticks\": \"\"}}, \"type\": \"scattergl\"}], \"scattermapbox\": [{\"marker\": {\"colorbar\": {\"outlinewidth\": 0, \"ticks\": \"\"}}, \"type\": \"scattermapbox\"}], \"scatterpolar\": [{\"marker\": {\"colorbar\": {\"outlinewidth\": 0, \"ticks\": \"\"}}, \"type\": \"scatterpolar\"}], \"scatterpolargl\": [{\"marker\": {\"colorbar\": {\"outlinewidth\": 0, \"ticks\": \"\"}}, \"type\": \"scatterpolargl\"}], \"scatterternary\": [{\"marker\": {\"colorbar\": {\"outlinewidth\": 0, \"ticks\": \"\"}}, \"type\": \"scatterternary\"}], \"surface\": [{\"colorbar\": {\"outlinewidth\": 0, \"ticks\": \"\"}, \"colorscale\": [[0.0, \"#0d0887\"], [0.1111111111111111, \"#46039f\"], [0.2222222222222222, \"#7201a8\"], [0.3333333333333333, \"#9c179e\"], [0.4444444444444444, \"#bd3786\"], [0.5555555555555556, \"#d8576b\"], [0.6666666666666666, \"#ed7953\"], [0.7777777777777778, \"#fb9f3a\"], [0.8888888888888888, \"#fdca26\"], [1.0, \"#f0f921\"]], \"type\": \"surface\"}], \"table\": [{\"cells\": {\"fill\": {\"color\": \"#EBF0F8\"}, \"line\": {\"color\": \"white\"}}, \"header\": {\"fill\": {\"color\": \"#C8D4E3\"}, \"line\": {\"color\": \"white\"}}, \"type\": \"table\"}]}, \"layout\": {\"annotationdefaults\": {\"arrowcolor\": \"#2a3f5f\", \"arrowhead\": 0, \"arrowwidth\": 1}, \"autotypenumbers\": \"strict\", \"coloraxis\": {\"colorbar\": {\"outlinewidth\": 0, \"ticks\": \"\"}}, \"colorscale\": {\"diverging\": [[0, \"#8e0152\"], [0.1, \"#c51b7d\"], [0.2, \"#de77ae\"], [0.3, \"#f1b6da\"], [0.4, \"#fde0ef\"], [0.5, \"#f7f7f7\"], [0.6, \"#e6f5d0\"], [0.7, \"#b8e186\"], [0.8, \"#7fbc41\"], [0.9, \"#4d9221\"], [1, \"#276419\"]], \"sequential\": [[0.0, \"#0d0887\"], [0.1111111111111111, \"#46039f\"], [0.2222222222222222, \"#7201a8\"], [0.3333333333333333, \"#9c179e\"], [0.4444444444444444, \"#bd3786\"], [0.5555555555555556, \"#d8576b\"], [0.6666666666666666, \"#ed7953\"], [0.7777777777777778, \"#fb9f3a\"], [0.8888888888888888, \"#fdca26\"], [1.0, \"#f0f921\"]], \"sequentialminus\": [[0.0, \"#0d0887\"], [0.1111111111111111, \"#46039f\"], [0.2222222222222222, \"#7201a8\"], [0.3333333333333333, \"#9c179e\"], [0.4444444444444444, \"#bd3786\"], [0.5555555555555556, \"#d8576b\"], [0.6666666666666666, \"#ed7953\"], [0.7777777777777778, \"#fb9f3a\"], [0.8888888888888888, \"#fdca26\"], [1.0, \"#f0f921\"]]}, \"colorway\": [\"#636efa\", \"#EF553B\", \"#00cc96\", \"#ab63fa\", \"#FFA15A\", \"#19d3f3\", \"#FF6692\", \"#B6E880\", \"#FF97FF\", \"#FECB52\"], \"font\": {\"color\": \"#2a3f5f\"}, \"geo\": {\"bgcolor\": \"white\", \"lakecolor\": \"white\", \"landcolor\": \"#E5ECF6\", \"showlakes\": true, \"showland\": true, \"subunitcolor\": \"white\"}, \"hoverlabel\": {\"align\": \"left\"}, \"hovermode\": \"closest\", \"mapbox\": {\"style\": \"light\"}, \"paper_bgcolor\": \"white\", \"plot_bgcolor\": \"#E5ECF6\", \"polar\": {\"angularaxis\": {\"gridcolor\": \"white\", \"linecolor\": \"white\", \"ticks\": \"\"}, \"bgcolor\": \"#E5ECF6\", \"radialaxis\": {\"gridcolor\": \"white\", \"linecolor\": \"white\", \"ticks\": \"\"}}, \"scene\": {\"xaxis\": {\"backgroundcolor\": \"#E5ECF6\", \"gridcolor\": \"white\", \"gridwidth\": 2, \"linecolor\": \"white\", \"showbackground\": true, \"ticks\": \"\", \"zerolinecolor\": \"white\"}, \"yaxis\": {\"backgroundcolor\": \"#E5ECF6\", \"gridcolor\": \"white\", \"gridwidth\": 2, \"linecolor\": \"white\", \"showbackground\": true, \"ticks\": \"\", \"zerolinecolor\": \"white\"}, \"zaxis\": {\"backgroundcolor\": \"#E5ECF6\", \"gridcolor\": \"white\", \"gridwidth\": 2, \"linecolor\": \"white\", \"showbackground\": true, \"ticks\": \"\", \"zerolinecolor\": \"white\"}}, \"shapedefaults\": {\"line\": {\"color\": \"#2a3f5f\"}}, \"ternary\": {\"aaxis\": {\"gridcolor\": \"white\", \"linecolor\": \"white\", \"ticks\": \"\"}, \"baxis\": {\"gridcolor\": \"white\", \"linecolor\": \"white\", \"ticks\": \"\"}, \"bgcolor\": \"#E5ECF6\", \"caxis\": {\"gridcolor\": \"white\", \"linecolor\": \"white\", \"ticks\": \"\"}}, \"title\": {\"x\": 0.05}, \"xaxis\": {\"automargin\": true, \"gridcolor\": \"white\", \"linecolor\": \"white\", \"ticks\": \"\", \"title\": {\"standoff\": 15}, \"zerolinecolor\": \"white\", \"zerolinewidth\": 2}, \"yaxis\": {\"automargin\": true, \"gridcolor\": \"white\", \"linecolor\": \"white\", \"ticks\": \"\", \"title\": {\"standoff\": 15}, \"zerolinecolor\": \"white\", \"zerolinewidth\": 2}}}, \"title\": {\"text\": \"MIBiG BGC classes vs NPClassifier pathways\"}},                        {\"responsive\": true}                    ).then(function(){\n",
       "                            \n",
       "var gd = document.getElementById('f46da64a-e85d-46cc-b770-19884ef27093');\n",
       "var x = new MutationObserver(function (mutations, observer) {{\n",
       "        var display = window.getComputedStyle(gd).display;\n",
       "        if (!display || display === 'none') {{\n",
       "            console.log([gd, 'removed!']);\n",
       "            Plotly.purge(gd);\n",
       "            observer.disconnect();\n",
       "        }}\n",
       "}});\n",
       "\n",
       "// Listen for the removal of the full notebook cells\n",
       "var notebookContainer = gd.closest('#notebook-container');\n",
       "if (notebookContainer) {{\n",
       "    x.observe(notebookContainer, {childList: true});\n",
       "}}\n",
       "\n",
       "// Listen for the clearing of the current output cell\n",
       "var outputEl = gd.closest('.output');\n",
       "if (outputEl) {{\n",
       "    x.observe(outputEl, {childList: true});\n",
       "}}\n",
       "\n",
       "                        })                };                });            </script>        </div>"
      ]
     },
     "metadata": {},
     "output_type": "display_data"
    }
   ],
   "source": [
    "import plotly.graph_objects as go\n",
    "\n",
    "fig = go.Figure(data=[go.Sankey(\n",
    "    node = dict(\n",
    "      pad = 15,\n",
    "      thickness = 20,\n",
    "      line = dict(color = \"black\", width = 0.5),\n",
    "      label = label_vals,\n",
    "      color = [colour_dict[lab] for lab in label_vals]\n",
    "    ),\n",
    "    link = dict(\n",
    "      source = source_vals, # indices correspond to labels, eg A1, A2, A1, B1, ...\n",
    "      target = target_vals,\n",
    "      value = value_vals,\n",
    "      color = colour_vals,\n",
    "  ))])\n",
    "\n",
    "fig_title = \"MIBiG BGC classes vs NPClassifier pathways\"\n",
    "fig.update_layout(title_text=fig_title, font_size=10)\n",
    "fig.show()\n",
    "fig.write_html(os.path.join(out_base, '_'.join(fig_title.split(' '))) + \".html\")"
   ]
  },
  {
   "cell_type": "code",
   "execution_count": 36,
   "id": "egyptian-revision",
   "metadata": {
    "scrolled": false
   },
   "outputs": [
    {
     "data": {
      "application/vnd.plotly.v1+json": {
       "config": {
        "plotlyServerURL": "https://plot.ly"
       },
       "data": [
        {
         "link": {
          "color": [
           "rgba(0,63,92,0.4)",
           "rgba(0,63,92,0.4)",
           "rgba(0,63,92,0.4)",
           "rgba(0,63,92,0.4)",
           "rgba(0,63,92,0.4)",
           "rgba(0,63,92,0.4)",
           "rgba(0,63,92,0.4)",
           "rgba(224,131,81,0.4)",
           "rgba(224,131,81,0.4)",
           "rgba(224,131,81,0.4)",
           "rgba(224,131,81,0.4)",
           "rgba(224,131,81,0.4)",
           "rgba(224,131,81,0.4)",
           "rgba(224,131,81,0.4)",
           "rgba(204,117,96,0.4)",
           "rgba(204,117,96,0.4)",
           "rgba(204,117,96,0.4)",
           "rgba(204,117,96,0.4)",
           "rgba(204,117,96,0.4)",
           "rgba(255,166,0,0.4)",
           "rgba(255,166,0,0.4)",
           "rgba(255,166,0,0.4)",
           "rgba(255,166,0,0.4)",
           "rgba(255,166,0,0.4)",
           "rgba(255,166,0,0.4)",
           "rgba(62,70,101,0.4)",
           "rgba(62,70,101,0.4)",
           "rgba(62,70,101,0.4)",
           "rgba(62,70,101,0.4)",
           "rgba(62,70,101,0.4)",
           "rgba(62,70,101,0.4)",
           "rgba(62,70,101,0.4)",
           "rgba(98,77,108,0.4)",
           "rgba(98,77,108,0.4)",
           "rgba(98,77,108,0.4)",
           "rgba(98,77,108,0.4)",
           "rgba(98,77,108,0.4)",
           "rgba(98,77,108,0.4)",
           "rgba(128,85,111,0.4)",
           "rgba(128,85,111,0.4)",
           "rgba(128,85,111,0.4)"
          ],
          "source": [
           0,
           0,
           0,
           0,
           0,
           0,
           0,
           1,
           1,
           1,
           1,
           1,
           1,
           1,
           2,
           2,
           2,
           2,
           2,
           3,
           3,
           3,
           3,
           3,
           3,
           4,
           4,
           4,
           4,
           4,
           4,
           4,
           5,
           5,
           5,
           5,
           5,
           5,
           6,
           6,
           6
          ],
          "target": [
           7,
           8,
           9,
           10,
           11,
           12,
           13,
           7,
           9,
           13,
           10,
           8,
           12,
           11,
           13,
           7,
           10,
           11,
           8,
           7,
           11,
           13,
           10,
           9,
           8,
           7,
           9,
           10,
           8,
           12,
           11,
           13,
           10,
           13,
           9,
           7,
           8,
           12,
           10,
           7,
           9
          ],
          "value": [
           548,
           20,
           72,
           24,
           35,
           14,
           9,
           36,
           193,
           46,
           90,
           21,
           19,
           5,
           60,
           64,
           9,
           4,
           3,
           19,
           136,
           1,
           2,
           49,
           1,
           177,
           58,
           187,
           6,
           12,
           2,
           1,
           320,
           8,
           99,
           115,
           9,
           2,
           113,
           4,
           2
          ]
         },
         "node": {
          "color": [
           "rgba(0,63,92,1)",
           "rgba(224,131,81,1)",
           "rgba(204,117,96,1)",
           "rgba(255,166,0,1)",
           "rgba(62,70,101,1)",
           "rgba(98,77,108,1)",
           "rgba(128,85,111,1)",
           "rgba(0,63,92,1)",
           "rgba(181,104,105,1)",
           "rgba(224,131,81,1)",
           "rgba(98,77,108,1)",
           "rgba(255,166,0,1)",
           "rgba(156,94,110,1)",
           "rgba(241,148,59,1)"
          ],
          "label": [
           "Polyketide",
           "Other",
           "Saccharide",
           "Terpene",
           "PKS-NRP_Hybrids",
           "NRP",
           "RiPP",
           "Polyketides",
           "Shikimates and Phenylpropanoids",
           "Alkaloids",
           "Amino acids and Peptides",
           "Terpenoids",
           "Fatty acids",
           "Carbohydrates"
          ],
          "line": {
           "color": "black",
           "width": 0.5
          },
          "pad": 15,
          "thickness": 20
         },
         "type": "sankey"
        }
       ],
       "layout": {
        "font": {
         "size": 12.2
        },
        "height": 500,
        "template": {
         "data": {
          "bar": [
           {
            "error_x": {
             "color": "#2a3f5f"
            },
            "error_y": {
             "color": "#2a3f5f"
            },
            "marker": {
             "line": {
              "color": "#E5ECF6",
              "width": 0.5
             }
            },
            "type": "bar"
           }
          ],
          "barpolar": [
           {
            "marker": {
             "line": {
              "color": "#E5ECF6",
              "width": 0.5
             }
            },
            "type": "barpolar"
           }
          ],
          "carpet": [
           {
            "aaxis": {
             "endlinecolor": "#2a3f5f",
             "gridcolor": "white",
             "linecolor": "white",
             "minorgridcolor": "white",
             "startlinecolor": "#2a3f5f"
            },
            "baxis": {
             "endlinecolor": "#2a3f5f",
             "gridcolor": "white",
             "linecolor": "white",
             "minorgridcolor": "white",
             "startlinecolor": "#2a3f5f"
            },
            "type": "carpet"
           }
          ],
          "choropleth": [
           {
            "colorbar": {
             "outlinewidth": 0,
             "ticks": ""
            },
            "type": "choropleth"
           }
          ],
          "contour": [
           {
            "colorbar": {
             "outlinewidth": 0,
             "ticks": ""
            },
            "colorscale": [
             [
              0,
              "#0d0887"
             ],
             [
              0.1111111111111111,
              "#46039f"
             ],
             [
              0.2222222222222222,
              "#7201a8"
             ],
             [
              0.3333333333333333,
              "#9c179e"
             ],
             [
              0.4444444444444444,
              "#bd3786"
             ],
             [
              0.5555555555555556,
              "#d8576b"
             ],
             [
              0.6666666666666666,
              "#ed7953"
             ],
             [
              0.7777777777777778,
              "#fb9f3a"
             ],
             [
              0.8888888888888888,
              "#fdca26"
             ],
             [
              1,
              "#f0f921"
             ]
            ],
            "type": "contour"
           }
          ],
          "contourcarpet": [
           {
            "colorbar": {
             "outlinewidth": 0,
             "ticks": ""
            },
            "type": "contourcarpet"
           }
          ],
          "heatmap": [
           {
            "colorbar": {
             "outlinewidth": 0,
             "ticks": ""
            },
            "colorscale": [
             [
              0,
              "#0d0887"
             ],
             [
              0.1111111111111111,
              "#46039f"
             ],
             [
              0.2222222222222222,
              "#7201a8"
             ],
             [
              0.3333333333333333,
              "#9c179e"
             ],
             [
              0.4444444444444444,
              "#bd3786"
             ],
             [
              0.5555555555555556,
              "#d8576b"
             ],
             [
              0.6666666666666666,
              "#ed7953"
             ],
             [
              0.7777777777777778,
              "#fb9f3a"
             ],
             [
              0.8888888888888888,
              "#fdca26"
             ],
             [
              1,
              "#f0f921"
             ]
            ],
            "type": "heatmap"
           }
          ],
          "heatmapgl": [
           {
            "colorbar": {
             "outlinewidth": 0,
             "ticks": ""
            },
            "colorscale": [
             [
              0,
              "#0d0887"
             ],
             [
              0.1111111111111111,
              "#46039f"
             ],
             [
              0.2222222222222222,
              "#7201a8"
             ],
             [
              0.3333333333333333,
              "#9c179e"
             ],
             [
              0.4444444444444444,
              "#bd3786"
             ],
             [
              0.5555555555555556,
              "#d8576b"
             ],
             [
              0.6666666666666666,
              "#ed7953"
             ],
             [
              0.7777777777777778,
              "#fb9f3a"
             ],
             [
              0.8888888888888888,
              "#fdca26"
             ],
             [
              1,
              "#f0f921"
             ]
            ],
            "type": "heatmapgl"
           }
          ],
          "histogram": [
           {
            "marker": {
             "colorbar": {
              "outlinewidth": 0,
              "ticks": ""
             }
            },
            "type": "histogram"
           }
          ],
          "histogram2d": [
           {
            "colorbar": {
             "outlinewidth": 0,
             "ticks": ""
            },
            "colorscale": [
             [
              0,
              "#0d0887"
             ],
             [
              0.1111111111111111,
              "#46039f"
             ],
             [
              0.2222222222222222,
              "#7201a8"
             ],
             [
              0.3333333333333333,
              "#9c179e"
             ],
             [
              0.4444444444444444,
              "#bd3786"
             ],
             [
              0.5555555555555556,
              "#d8576b"
             ],
             [
              0.6666666666666666,
              "#ed7953"
             ],
             [
              0.7777777777777778,
              "#fb9f3a"
             ],
             [
              0.8888888888888888,
              "#fdca26"
             ],
             [
              1,
              "#f0f921"
             ]
            ],
            "type": "histogram2d"
           }
          ],
          "histogram2dcontour": [
           {
            "colorbar": {
             "outlinewidth": 0,
             "ticks": ""
            },
            "colorscale": [
             [
              0,
              "#0d0887"
             ],
             [
              0.1111111111111111,
              "#46039f"
             ],
             [
              0.2222222222222222,
              "#7201a8"
             ],
             [
              0.3333333333333333,
              "#9c179e"
             ],
             [
              0.4444444444444444,
              "#bd3786"
             ],
             [
              0.5555555555555556,
              "#d8576b"
             ],
             [
              0.6666666666666666,
              "#ed7953"
             ],
             [
              0.7777777777777778,
              "#fb9f3a"
             ],
             [
              0.8888888888888888,
              "#fdca26"
             ],
             [
              1,
              "#f0f921"
             ]
            ],
            "type": "histogram2dcontour"
           }
          ],
          "mesh3d": [
           {
            "colorbar": {
             "outlinewidth": 0,
             "ticks": ""
            },
            "type": "mesh3d"
           }
          ],
          "parcoords": [
           {
            "line": {
             "colorbar": {
              "outlinewidth": 0,
              "ticks": ""
             }
            },
            "type": "parcoords"
           }
          ],
          "pie": [
           {
            "automargin": true,
            "type": "pie"
           }
          ],
          "scatter": [
           {
            "marker": {
             "colorbar": {
              "outlinewidth": 0,
              "ticks": ""
             }
            },
            "type": "scatter"
           }
          ],
          "scatter3d": [
           {
            "line": {
             "colorbar": {
              "outlinewidth": 0,
              "ticks": ""
             }
            },
            "marker": {
             "colorbar": {
              "outlinewidth": 0,
              "ticks": ""
             }
            },
            "type": "scatter3d"
           }
          ],
          "scattercarpet": [
           {
            "marker": {
             "colorbar": {
              "outlinewidth": 0,
              "ticks": ""
             }
            },
            "type": "scattercarpet"
           }
          ],
          "scattergeo": [
           {
            "marker": {
             "colorbar": {
              "outlinewidth": 0,
              "ticks": ""
             }
            },
            "type": "scattergeo"
           }
          ],
          "scattergl": [
           {
            "marker": {
             "colorbar": {
              "outlinewidth": 0,
              "ticks": ""
             }
            },
            "type": "scattergl"
           }
          ],
          "scattermapbox": [
           {
            "marker": {
             "colorbar": {
              "outlinewidth": 0,
              "ticks": ""
             }
            },
            "type": "scattermapbox"
           }
          ],
          "scatterpolar": [
           {
            "marker": {
             "colorbar": {
              "outlinewidth": 0,
              "ticks": ""
             }
            },
            "type": "scatterpolar"
           }
          ],
          "scatterpolargl": [
           {
            "marker": {
             "colorbar": {
              "outlinewidth": 0,
              "ticks": ""
             }
            },
            "type": "scatterpolargl"
           }
          ],
          "scatterternary": [
           {
            "marker": {
             "colorbar": {
              "outlinewidth": 0,
              "ticks": ""
             }
            },
            "type": "scatterternary"
           }
          ],
          "surface": [
           {
            "colorbar": {
             "outlinewidth": 0,
             "ticks": ""
            },
            "colorscale": [
             [
              0,
              "#0d0887"
             ],
             [
              0.1111111111111111,
              "#46039f"
             ],
             [
              0.2222222222222222,
              "#7201a8"
             ],
             [
              0.3333333333333333,
              "#9c179e"
             ],
             [
              0.4444444444444444,
              "#bd3786"
             ],
             [
              0.5555555555555556,
              "#d8576b"
             ],
             [
              0.6666666666666666,
              "#ed7953"
             ],
             [
              0.7777777777777778,
              "#fb9f3a"
             ],
             [
              0.8888888888888888,
              "#fdca26"
             ],
             [
              1,
              "#f0f921"
             ]
            ],
            "type": "surface"
           }
          ],
          "table": [
           {
            "cells": {
             "fill": {
              "color": "#EBF0F8"
             },
             "line": {
              "color": "white"
             }
            },
            "header": {
             "fill": {
              "color": "#C8D4E3"
             },
             "line": {
              "color": "white"
             }
            },
            "type": "table"
           }
          ]
         },
         "layout": {
          "annotationdefaults": {
           "arrowcolor": "#2a3f5f",
           "arrowhead": 0,
           "arrowwidth": 1
          },
          "autotypenumbers": "strict",
          "coloraxis": {
           "colorbar": {
            "outlinewidth": 0,
            "ticks": ""
           }
          },
          "colorscale": {
           "diverging": [
            [
             0,
             "#8e0152"
            ],
            [
             0.1,
             "#c51b7d"
            ],
            [
             0.2,
             "#de77ae"
            ],
            [
             0.3,
             "#f1b6da"
            ],
            [
             0.4,
             "#fde0ef"
            ],
            [
             0.5,
             "#f7f7f7"
            ],
            [
             0.6,
             "#e6f5d0"
            ],
            [
             0.7,
             "#b8e186"
            ],
            [
             0.8,
             "#7fbc41"
            ],
            [
             0.9,
             "#4d9221"
            ],
            [
             1,
             "#276419"
            ]
           ],
           "sequential": [
            [
             0,
             "#0d0887"
            ],
            [
             0.1111111111111111,
             "#46039f"
            ],
            [
             0.2222222222222222,
             "#7201a8"
            ],
            [
             0.3333333333333333,
             "#9c179e"
            ],
            [
             0.4444444444444444,
             "#bd3786"
            ],
            [
             0.5555555555555556,
             "#d8576b"
            ],
            [
             0.6666666666666666,
             "#ed7953"
            ],
            [
             0.7777777777777778,
             "#fb9f3a"
            ],
            [
             0.8888888888888888,
             "#fdca26"
            ],
            [
             1,
             "#f0f921"
            ]
           ],
           "sequentialminus": [
            [
             0,
             "#0d0887"
            ],
            [
             0.1111111111111111,
             "#46039f"
            ],
            [
             0.2222222222222222,
             "#7201a8"
            ],
            [
             0.3333333333333333,
             "#9c179e"
            ],
            [
             0.4444444444444444,
             "#bd3786"
            ],
            [
             0.5555555555555556,
             "#d8576b"
            ],
            [
             0.6666666666666666,
             "#ed7953"
            ],
            [
             0.7777777777777778,
             "#fb9f3a"
            ],
            [
             0.8888888888888888,
             "#fdca26"
            ],
            [
             1,
             "#f0f921"
            ]
           ]
          },
          "colorway": [
           "#636efa",
           "#EF553B",
           "#00cc96",
           "#ab63fa",
           "#FFA15A",
           "#19d3f3",
           "#FF6692",
           "#B6E880",
           "#FF97FF",
           "#FECB52"
          ],
          "font": {
           "color": "#2a3f5f"
          },
          "geo": {
           "bgcolor": "white",
           "lakecolor": "white",
           "landcolor": "#E5ECF6",
           "showlakes": true,
           "showland": true,
           "subunitcolor": "white"
          },
          "hoverlabel": {
           "align": "left"
          },
          "hovermode": "closest",
          "mapbox": {
           "style": "light"
          },
          "paper_bgcolor": "white",
          "plot_bgcolor": "#E5ECF6",
          "polar": {
           "angularaxis": {
            "gridcolor": "white",
            "linecolor": "white",
            "ticks": ""
           },
           "bgcolor": "#E5ECF6",
           "radialaxis": {
            "gridcolor": "white",
            "linecolor": "white",
            "ticks": ""
           }
          },
          "scene": {
           "xaxis": {
            "backgroundcolor": "#E5ECF6",
            "gridcolor": "white",
            "gridwidth": 2,
            "linecolor": "white",
            "showbackground": true,
            "ticks": "",
            "zerolinecolor": "white"
           },
           "yaxis": {
            "backgroundcolor": "#E5ECF6",
            "gridcolor": "white",
            "gridwidth": 2,
            "linecolor": "white",
            "showbackground": true,
            "ticks": "",
            "zerolinecolor": "white"
           },
           "zaxis": {
            "backgroundcolor": "#E5ECF6",
            "gridcolor": "white",
            "gridwidth": 2,
            "linecolor": "white",
            "showbackground": true,
            "ticks": "",
            "zerolinecolor": "white"
           }
          },
          "shapedefaults": {
           "line": {
            "color": "#2a3f5f"
           }
          },
          "ternary": {
           "aaxis": {
            "gridcolor": "white",
            "linecolor": "white",
            "ticks": ""
           },
           "baxis": {
            "gridcolor": "white",
            "linecolor": "white",
            "ticks": ""
           },
           "bgcolor": "#E5ECF6",
           "caxis": {
            "gridcolor": "white",
            "linecolor": "white",
            "ticks": ""
           }
          },
          "title": {
           "x": 0.05
          },
          "xaxis": {
           "automargin": true,
           "gridcolor": "white",
           "linecolor": "white",
           "ticks": "",
           "title": {
            "standoff": 15
           },
           "zerolinecolor": "white",
           "zerolinewidth": 2
          },
          "yaxis": {
           "automargin": true,
           "gridcolor": "white",
           "linecolor": "white",
           "ticks": "",
           "title": {
            "standoff": 15
           },
           "zerolinecolor": "white",
           "zerolinewidth": 2
          }
         }
        },
        "title": {
         "text": "MIBiG BGC classes vs NPClassifier pathways"
        },
        "width": 700
       }
      },
      "text/html": [
       "<div>                            <div id=\"edba13d1-b4d0-45b8-a21b-91011683db42\" class=\"plotly-graph-div\" style=\"height:500px; width:700px;\"></div>            <script type=\"text/javascript\">                require([\"plotly\"], function(Plotly) {                    window.PLOTLYENV=window.PLOTLYENV || {};                                    if (document.getElementById(\"edba13d1-b4d0-45b8-a21b-91011683db42\")) {                    Plotly.newPlot(                        \"edba13d1-b4d0-45b8-a21b-91011683db42\",                        [{\"link\": {\"color\": [\"rgba(0,63,92,0.4)\", \"rgba(0,63,92,0.4)\", \"rgba(0,63,92,0.4)\", \"rgba(0,63,92,0.4)\", \"rgba(0,63,92,0.4)\", \"rgba(0,63,92,0.4)\", \"rgba(0,63,92,0.4)\", \"rgba(224,131,81,0.4)\", \"rgba(224,131,81,0.4)\", \"rgba(224,131,81,0.4)\", \"rgba(224,131,81,0.4)\", \"rgba(224,131,81,0.4)\", \"rgba(224,131,81,0.4)\", \"rgba(224,131,81,0.4)\", \"rgba(204,117,96,0.4)\", \"rgba(204,117,96,0.4)\", \"rgba(204,117,96,0.4)\", \"rgba(204,117,96,0.4)\", \"rgba(204,117,96,0.4)\", \"rgba(255,166,0,0.4)\", \"rgba(255,166,0,0.4)\", \"rgba(255,166,0,0.4)\", \"rgba(255,166,0,0.4)\", \"rgba(255,166,0,0.4)\", \"rgba(255,166,0,0.4)\", \"rgba(62,70,101,0.4)\", \"rgba(62,70,101,0.4)\", \"rgba(62,70,101,0.4)\", \"rgba(62,70,101,0.4)\", \"rgba(62,70,101,0.4)\", \"rgba(62,70,101,0.4)\", \"rgba(62,70,101,0.4)\", \"rgba(98,77,108,0.4)\", \"rgba(98,77,108,0.4)\", \"rgba(98,77,108,0.4)\", \"rgba(98,77,108,0.4)\", \"rgba(98,77,108,0.4)\", \"rgba(98,77,108,0.4)\", \"rgba(128,85,111,0.4)\", \"rgba(128,85,111,0.4)\", \"rgba(128,85,111,0.4)\"], \"source\": [0, 0, 0, 0, 0, 0, 0, 1, 1, 1, 1, 1, 1, 1, 2, 2, 2, 2, 2, 3, 3, 3, 3, 3, 3, 4, 4, 4, 4, 4, 4, 4, 5, 5, 5, 5, 5, 5, 6, 6, 6], \"target\": [7, 8, 9, 10, 11, 12, 13, 7, 9, 13, 10, 8, 12, 11, 13, 7, 10, 11, 8, 7, 11, 13, 10, 9, 8, 7, 9, 10, 8, 12, 11, 13, 10, 13, 9, 7, 8, 12, 10, 7, 9], \"value\": [548, 20, 72, 24, 35, 14, 9, 36, 193, 46, 90, 21, 19, 5, 60, 64, 9, 4, 3, 19, 136, 1, 2, 49, 1, 177, 58, 187, 6, 12, 2, 1, 320, 8, 99, 115, 9, 2, 113, 4, 2]}, \"node\": {\"color\": [\"rgba(0,63,92,1)\", \"rgba(224,131,81,1)\", \"rgba(204,117,96,1)\", \"rgba(255,166,0,1)\", \"rgba(62,70,101,1)\", \"rgba(98,77,108,1)\", \"rgba(128,85,111,1)\", \"rgba(0,63,92,1)\", \"rgba(181,104,105,1)\", \"rgba(224,131,81,1)\", \"rgba(98,77,108,1)\", \"rgba(255,166,0,1)\", \"rgba(156,94,110,1)\", \"rgba(241,148,59,1)\"], \"label\": [\"Polyketide\", \"Other\", \"Saccharide\", \"Terpene\", \"PKS-NRP_Hybrids\", \"NRP\", \"RiPP\", \"Polyketides\", \"Shikimates and Phenylpropanoids\", \"Alkaloids\", \"Amino acids and Peptides\", \"Terpenoids\", \"Fatty acids\", \"Carbohydrates\"], \"line\": {\"color\": \"black\", \"width\": 0.5}, \"pad\": 15, \"thickness\": 20}, \"type\": \"sankey\"}],                        {\"font\": {\"size\": 12.2}, \"height\": 500, \"template\": {\"data\": {\"bar\": [{\"error_x\": {\"color\": \"#2a3f5f\"}, \"error_y\": {\"color\": \"#2a3f5f\"}, \"marker\": {\"line\": {\"color\": \"#E5ECF6\", \"width\": 0.5}}, \"type\": \"bar\"}], \"barpolar\": [{\"marker\": {\"line\": {\"color\": \"#E5ECF6\", \"width\": 0.5}}, \"type\": \"barpolar\"}], \"carpet\": [{\"aaxis\": {\"endlinecolor\": \"#2a3f5f\", \"gridcolor\": \"white\", \"linecolor\": \"white\", \"minorgridcolor\": \"white\", \"startlinecolor\": \"#2a3f5f\"}, \"baxis\": {\"endlinecolor\": \"#2a3f5f\", \"gridcolor\": \"white\", \"linecolor\": \"white\", \"minorgridcolor\": \"white\", \"startlinecolor\": \"#2a3f5f\"}, \"type\": \"carpet\"}], \"choropleth\": [{\"colorbar\": {\"outlinewidth\": 0, \"ticks\": \"\"}, \"type\": \"choropleth\"}], \"contour\": [{\"colorbar\": {\"outlinewidth\": 0, \"ticks\": \"\"}, \"colorscale\": [[0.0, \"#0d0887\"], [0.1111111111111111, \"#46039f\"], [0.2222222222222222, \"#7201a8\"], [0.3333333333333333, \"#9c179e\"], [0.4444444444444444, \"#bd3786\"], [0.5555555555555556, \"#d8576b\"], [0.6666666666666666, \"#ed7953\"], [0.7777777777777778, \"#fb9f3a\"], [0.8888888888888888, \"#fdca26\"], [1.0, \"#f0f921\"]], \"type\": \"contour\"}], \"contourcarpet\": [{\"colorbar\": {\"outlinewidth\": 0, \"ticks\": \"\"}, \"type\": \"contourcarpet\"}], \"heatmap\": [{\"colorbar\": {\"outlinewidth\": 0, \"ticks\": \"\"}, \"colorscale\": [[0.0, \"#0d0887\"], [0.1111111111111111, \"#46039f\"], [0.2222222222222222, \"#7201a8\"], [0.3333333333333333, \"#9c179e\"], [0.4444444444444444, \"#bd3786\"], [0.5555555555555556, \"#d8576b\"], [0.6666666666666666, \"#ed7953\"], [0.7777777777777778, \"#fb9f3a\"], [0.8888888888888888, \"#fdca26\"], [1.0, \"#f0f921\"]], \"type\": \"heatmap\"}], \"heatmapgl\": [{\"colorbar\": {\"outlinewidth\": 0, \"ticks\": \"\"}, \"colorscale\": [[0.0, \"#0d0887\"], [0.1111111111111111, \"#46039f\"], [0.2222222222222222, \"#7201a8\"], [0.3333333333333333, \"#9c179e\"], [0.4444444444444444, \"#bd3786\"], [0.5555555555555556, \"#d8576b\"], [0.6666666666666666, \"#ed7953\"], [0.7777777777777778, \"#fb9f3a\"], [0.8888888888888888, \"#fdca26\"], [1.0, \"#f0f921\"]], \"type\": \"heatmapgl\"}], \"histogram\": [{\"marker\": {\"colorbar\": {\"outlinewidth\": 0, \"ticks\": \"\"}}, \"type\": \"histogram\"}], \"histogram2d\": [{\"colorbar\": {\"outlinewidth\": 0, \"ticks\": \"\"}, \"colorscale\": [[0.0, \"#0d0887\"], [0.1111111111111111, \"#46039f\"], [0.2222222222222222, \"#7201a8\"], [0.3333333333333333, \"#9c179e\"], [0.4444444444444444, \"#bd3786\"], [0.5555555555555556, \"#d8576b\"], [0.6666666666666666, \"#ed7953\"], [0.7777777777777778, \"#fb9f3a\"], [0.8888888888888888, \"#fdca26\"], [1.0, \"#f0f921\"]], \"type\": \"histogram2d\"}], \"histogram2dcontour\": [{\"colorbar\": {\"outlinewidth\": 0, \"ticks\": \"\"}, \"colorscale\": [[0.0, \"#0d0887\"], [0.1111111111111111, \"#46039f\"], [0.2222222222222222, \"#7201a8\"], [0.3333333333333333, \"#9c179e\"], [0.4444444444444444, \"#bd3786\"], [0.5555555555555556, \"#d8576b\"], [0.6666666666666666, \"#ed7953\"], [0.7777777777777778, \"#fb9f3a\"], [0.8888888888888888, \"#fdca26\"], [1.0, \"#f0f921\"]], \"type\": \"histogram2dcontour\"}], \"mesh3d\": [{\"colorbar\": {\"outlinewidth\": 0, \"ticks\": \"\"}, \"type\": \"mesh3d\"}], \"parcoords\": [{\"line\": {\"colorbar\": {\"outlinewidth\": 0, \"ticks\": \"\"}}, \"type\": \"parcoords\"}], \"pie\": [{\"automargin\": true, \"type\": \"pie\"}], \"scatter\": [{\"marker\": {\"colorbar\": {\"outlinewidth\": 0, \"ticks\": \"\"}}, \"type\": \"scatter\"}], \"scatter3d\": [{\"line\": {\"colorbar\": {\"outlinewidth\": 0, \"ticks\": \"\"}}, \"marker\": {\"colorbar\": {\"outlinewidth\": 0, \"ticks\": \"\"}}, \"type\": \"scatter3d\"}], \"scattercarpet\": [{\"marker\": {\"colorbar\": {\"outlinewidth\": 0, \"ticks\": \"\"}}, \"type\": \"scattercarpet\"}], \"scattergeo\": [{\"marker\": {\"colorbar\": {\"outlinewidth\": 0, \"ticks\": \"\"}}, \"type\": \"scattergeo\"}], \"scattergl\": [{\"marker\": {\"colorbar\": {\"outlinewidth\": 0, \"ticks\": \"\"}}, \"type\": \"scattergl\"}], \"scattermapbox\": [{\"marker\": {\"colorbar\": {\"outlinewidth\": 0, \"ticks\": \"\"}}, \"type\": \"scattermapbox\"}], \"scatterpolar\": [{\"marker\": {\"colorbar\": {\"outlinewidth\": 0, \"ticks\": \"\"}}, \"type\": \"scatterpolar\"}], \"scatterpolargl\": [{\"marker\": {\"colorbar\": {\"outlinewidth\": 0, \"ticks\": \"\"}}, \"type\": \"scatterpolargl\"}], \"scatterternary\": [{\"marker\": {\"colorbar\": {\"outlinewidth\": 0, \"ticks\": \"\"}}, \"type\": \"scatterternary\"}], \"surface\": [{\"colorbar\": {\"outlinewidth\": 0, \"ticks\": \"\"}, \"colorscale\": [[0.0, \"#0d0887\"], [0.1111111111111111, \"#46039f\"], [0.2222222222222222, \"#7201a8\"], [0.3333333333333333, \"#9c179e\"], [0.4444444444444444, \"#bd3786\"], [0.5555555555555556, \"#d8576b\"], [0.6666666666666666, \"#ed7953\"], [0.7777777777777778, \"#fb9f3a\"], [0.8888888888888888, \"#fdca26\"], [1.0, \"#f0f921\"]], \"type\": \"surface\"}], \"table\": [{\"cells\": {\"fill\": {\"color\": \"#EBF0F8\"}, \"line\": {\"color\": \"white\"}}, \"header\": {\"fill\": {\"color\": \"#C8D4E3\"}, \"line\": {\"color\": \"white\"}}, \"type\": \"table\"}]}, \"layout\": {\"annotationdefaults\": {\"arrowcolor\": \"#2a3f5f\", \"arrowhead\": 0, \"arrowwidth\": 1}, \"autotypenumbers\": \"strict\", \"coloraxis\": {\"colorbar\": {\"outlinewidth\": 0, \"ticks\": \"\"}}, \"colorscale\": {\"diverging\": [[0, \"#8e0152\"], [0.1, \"#c51b7d\"], [0.2, \"#de77ae\"], [0.3, \"#f1b6da\"], [0.4, \"#fde0ef\"], [0.5, \"#f7f7f7\"], [0.6, \"#e6f5d0\"], [0.7, \"#b8e186\"], [0.8, \"#7fbc41\"], [0.9, \"#4d9221\"], [1, \"#276419\"]], \"sequential\": [[0.0, \"#0d0887\"], [0.1111111111111111, \"#46039f\"], [0.2222222222222222, \"#7201a8\"], [0.3333333333333333, \"#9c179e\"], [0.4444444444444444, \"#bd3786\"], [0.5555555555555556, \"#d8576b\"], [0.6666666666666666, \"#ed7953\"], [0.7777777777777778, \"#fb9f3a\"], [0.8888888888888888, \"#fdca26\"], [1.0, \"#f0f921\"]], \"sequentialminus\": [[0.0, \"#0d0887\"], [0.1111111111111111, \"#46039f\"], [0.2222222222222222, \"#7201a8\"], [0.3333333333333333, \"#9c179e\"], [0.4444444444444444, \"#bd3786\"], [0.5555555555555556, \"#d8576b\"], [0.6666666666666666, \"#ed7953\"], [0.7777777777777778, \"#fb9f3a\"], [0.8888888888888888, \"#fdca26\"], [1.0, \"#f0f921\"]]}, \"colorway\": [\"#636efa\", \"#EF553B\", \"#00cc96\", \"#ab63fa\", \"#FFA15A\", \"#19d3f3\", \"#FF6692\", \"#B6E880\", \"#FF97FF\", \"#FECB52\"], \"font\": {\"color\": \"#2a3f5f\"}, \"geo\": {\"bgcolor\": \"white\", \"lakecolor\": \"white\", \"landcolor\": \"#E5ECF6\", \"showlakes\": true, \"showland\": true, \"subunitcolor\": \"white\"}, \"hoverlabel\": {\"align\": \"left\"}, \"hovermode\": \"closest\", \"mapbox\": {\"style\": \"light\"}, \"paper_bgcolor\": \"white\", \"plot_bgcolor\": \"#E5ECF6\", \"polar\": {\"angularaxis\": {\"gridcolor\": \"white\", \"linecolor\": \"white\", \"ticks\": \"\"}, \"bgcolor\": \"#E5ECF6\", \"radialaxis\": {\"gridcolor\": \"white\", \"linecolor\": \"white\", \"ticks\": \"\"}}, \"scene\": {\"xaxis\": {\"backgroundcolor\": \"#E5ECF6\", \"gridcolor\": \"white\", \"gridwidth\": 2, \"linecolor\": \"white\", \"showbackground\": true, \"ticks\": \"\", \"zerolinecolor\": \"white\"}, \"yaxis\": {\"backgroundcolor\": \"#E5ECF6\", \"gridcolor\": \"white\", \"gridwidth\": 2, \"linecolor\": \"white\", \"showbackground\": true, \"ticks\": \"\", \"zerolinecolor\": \"white\"}, \"zaxis\": {\"backgroundcolor\": \"#E5ECF6\", \"gridcolor\": \"white\", \"gridwidth\": 2, \"linecolor\": \"white\", \"showbackground\": true, \"ticks\": \"\", \"zerolinecolor\": \"white\"}}, \"shapedefaults\": {\"line\": {\"color\": \"#2a3f5f\"}}, \"ternary\": {\"aaxis\": {\"gridcolor\": \"white\", \"linecolor\": \"white\", \"ticks\": \"\"}, \"baxis\": {\"gridcolor\": \"white\", \"linecolor\": \"white\", \"ticks\": \"\"}, \"bgcolor\": \"#E5ECF6\", \"caxis\": {\"gridcolor\": \"white\", \"linecolor\": \"white\", \"ticks\": \"\"}}, \"title\": {\"x\": 0.05}, \"xaxis\": {\"automargin\": true, \"gridcolor\": \"white\", \"linecolor\": \"white\", \"ticks\": \"\", \"title\": {\"standoff\": 15}, \"zerolinecolor\": \"white\", \"zerolinewidth\": 2}, \"yaxis\": {\"automargin\": true, \"gridcolor\": \"white\", \"linecolor\": \"white\", \"ticks\": \"\", \"title\": {\"standoff\": 15}, \"zerolinecolor\": \"white\", \"zerolinewidth\": 2}}}, \"title\": {\"text\": \"MIBiG BGC classes vs NPClassifier pathways\"}, \"width\": 700},                        {\"responsive\": true}                    ).then(function(){\n",
       "                            \n",
       "var gd = document.getElementById('edba13d1-b4d0-45b8-a21b-91011683db42');\n",
       "var x = new MutationObserver(function (mutations, observer) {{\n",
       "        var display = window.getComputedStyle(gd).display;\n",
       "        if (!display || display === 'none') {{\n",
       "            console.log([gd, 'removed!']);\n",
       "            Plotly.purge(gd);\n",
       "            observer.disconnect();\n",
       "        }}\n",
       "}});\n",
       "\n",
       "// Listen for the removal of the full notebook cells\n",
       "var notebookContainer = gd.closest('#notebook-container');\n",
       "if (notebookContainer) {{\n",
       "    x.observe(notebookContainer, {childList: true});\n",
       "}}\n",
       "\n",
       "// Listen for the clearing of the current output cell\n",
       "var outputEl = gd.closest('.output');\n",
       "if (outputEl) {{\n",
       "    x.observe(outputEl, {childList: true});\n",
       "}}\n",
       "\n",
       "                        })                };                });            </script>        </div>"
      ]
     },
     "metadata": {},
     "output_type": "display_data"
    }
   ],
   "source": [
    "fig.update_layout(\n",
    "#     autosize=False,\n",
    "    width=700,\n",
    "    height=500,\n",
    "    font_size=12.2\n",
    ")\n",
    "fig.show()\n",
    "fig.write_image(os.path.join(out_base, '_'.join(fig_title.split(' '))) + \"_small.svg\")"
   ]
  },
  {
   "cell_type": "markdown",
   "id": "numeric-platinum",
   "metadata": {},
   "source": [
    "## Plotting function"
   ]
  },
  {
   "cell_type": "code",
   "execution_count": 38,
   "id": "vanilla-surgeon",
   "metadata": {},
   "outputs": [],
   "source": [
    "from typing import Dict, Union\n",
    "from copy import deepcopy\n",
    "\n",
    "def make_class_sankey_plot(class_dict_ori: Dict[str, Dict[str, int]],\n",
    "                           plot_title: str = \"MIBiG BGC classes vs NPClassifier pathways\",\n",
    "                           cutoff: Union[None, int] = None) -> go.Figure:\n",
    "    class_dict = deepcopy(class_dict_ori)\n",
    "    if cutoff:\n",
    "        for key, inner_dict in class_dict.items():\n",
    "            inner_copy = deepcopy(list(inner_dict.items()))\n",
    "            for inner_key, value in inner_copy:\n",
    "                if value < cutoff:\n",
    "                    del class_dict[key][inner_key]\n",
    "\n",
    "    label_dict = OrderedDict()\n",
    "    label_dict.update({key:i for i, key in enumerate(class_dict.keys())})\n",
    "    cur = len(label_dict)\n",
    "    for vals in class_dict.values():\n",
    "        for val in vals.keys():\n",
    "            if val not in label_dict:\n",
    "                label_dict[val] = cur\n",
    "                cur += 1\n",
    "    label_vals = list(label_dict.keys())\n",
    "\n",
    "    source_vals = []\n",
    "    target_vals = []\n",
    "    value_vals = []\n",
    "\n",
    "    for bgc_c, vals in class_dict.items():\n",
    "        for chem_c, count in vals.items():\n",
    "            source_vals.append(label_dict[bgc_c])\n",
    "            target_vals.append(label_dict[chem_c])\n",
    "            value_vals.append(count)\n",
    "\n",
    "    fig = go.Figure(data=[go.Sankey(\n",
    "        node = dict(\n",
    "          pad = 15,\n",
    "          thickness = 20,\n",
    "          line = dict(color = \"black\", width = 0.5),\n",
    "          label = label_vals\n",
    "        ),\n",
    "        link = dict(\n",
    "          source = source_vals, # indices correspond to labels, eg A1, A2, A1, B1, ...\n",
    "          target = target_vals,\n",
    "          value = value_vals\n",
    "      ))])\n",
    "\n",
    "    fig.update_layout(title_text=plot_title, font_size=10)\n",
    "    return fig"
   ]
  },
  {
   "cell_type": "code",
   "execution_count": 39,
   "id": "regulation-worship",
   "metadata": {},
   "outputs": [
    {
     "name": "stdout",
     "output_type": "stream",
     "text": [
      "dict_keys(['mibig_classes', 'class:subclass', 'as_classes'])\n"
     ]
    },
    {
     "data": {
      "text/plain": [
       "dict_keys(['cf_kingdom', 'cf_superclass', 'cf_class', 'cf_direct_parent', 'npc_class', 'npc_superclass', 'npc_pathway', 'npc_isglycoside', 'cf_subclass'])"
      ]
     },
     "execution_count": 39,
     "metadata": {},
     "output_type": "execute_result"
    }
   ],
   "source": [
    "print(result.keys())\n",
    "result[list(result.keys())[0]].keys()"
   ]
  },
  {
   "cell_type": "code",
   "execution_count": 40,
   "id": "diagnostic-switch",
   "metadata": {},
   "outputs": [
    {
     "data": {
      "text/plain": [
       "defaultdict(<function __main__.rec_dd()>,\n",
       "            {'Polyketide': defaultdict(<function __main__.rec_dd()>,\n",
       "                         {'0': 502, '1': 178}),\n",
       "             'Other': defaultdict(<function __main__.rec_dd()>,\n",
       "                         {'1': 50, '0': 345}),\n",
       "             'Saccharide': defaultdict(<function __main__.rec_dd()>,\n",
       "                         {'1': 122, '0': 19}),\n",
       "             'Terpene': defaultdict(<function __main__.rec_dd()>,\n",
       "                         {'0': 157, '1': 21}),\n",
       "             'PKS-NRP_Hybrids': defaultdict(<function __main__.rec_dd()>,\n",
       "                         {'0': 298, '1': 31}),\n",
       "             'NRP': defaultdict(<function __main__.rec_dd()>,\n",
       "                         {'0': 387, '1': 34}),\n",
       "             'RiPP': defaultdict(<function __main__.rec_dd()>,\n",
       "                         {'0': 113, '1': 2})})"
      ]
     },
     "execution_count": 40,
     "metadata": {},
     "output_type": "execute_result"
    }
   ],
   "source": [
    "classes_result_dict = result['mibig_classes']['npc_isglycoside']\n",
    "classes_result_dict"
   ]
  },
  {
   "cell_type": "code",
   "execution_count": 57,
   "id": "anonymous-ghost",
   "metadata": {},
   "outputs": [
    {
     "data": {
      "application/vnd.plotly.v1+json": {
       "config": {
        "plotlyServerURL": "https://plot.ly"
       },
       "data": [
        {
         "link": {
          "source": [
           0,
           0,
           0,
           0,
           0,
           0,
           0,
           0,
           0,
           0,
           0,
           0,
           0,
           1,
           1,
           1,
           1,
           1,
           1,
           1,
           1,
           1,
           1,
           1,
           1,
           1,
           2,
           2,
           2,
           2,
           2,
           2,
           3,
           3,
           3,
           3,
           3,
           3,
           3,
           3,
           3,
           4,
           4,
           4,
           4,
           4,
           4,
           4,
           4,
           4,
           5,
           5,
           5,
           5,
           5,
           5,
           5,
           5,
           5,
           6,
           6,
           6,
           6
          ],
          "target": [
           7,
           8,
           9,
           10,
           11,
           12,
           13,
           14,
           15,
           16,
           17,
           18,
           19,
           11,
           12,
           10,
           9,
           7,
           8,
           13,
           20,
           17,
           15,
           16,
           21,
           19,
           11,
           10,
           13,
           7,
           9,
           8,
           7,
           8,
           13,
           9,
           11,
           12,
           18,
           10,
           16,
           10,
           7,
           8,
           13,
           9,
           12,
           14,
           11,
           17,
           9,
           11,
           7,
           8,
           22,
           13,
           12,
           10,
           17,
           9,
           10,
           22,
           14
          ],
          "value": [
           110,
           83,
           31,
           159,
           85,
           2,
           109,
           1,
           3,
           1,
           1,
           5,
           1,
           20,
           11,
           26,
           83,
           149,
           20,
           17,
           12,
           1,
           2,
           4,
           1,
           1,
           78,
           17,
           10,
           6,
           8,
           3,
           45,
           93,
           10,
           5,
           10,
           3,
           3,
           1,
           1,
           45,
           67,
           23,
           8,
           119,
           3,
           2,
           18,
           2,
           281,
           7,
           55,
           3,
           6,
           14,
           1,
           3,
           2,
           58,
           6,
           26,
           1
          ]
         },
         "node": {
          "label": [
           "Polyketide",
           "Other",
           "Saccharide",
           "Terpene",
           "PKS-NRP_Hybrids",
           "NRP",
           "RiPP",
           "Organoheterocyclic compounds",
           "Lipids and lipid-like molecules",
           "Organic acids and derivatives",
           "Phenylpropanoids and polyketides",
           "Organic oxygen compounds",
           "Alkaloids and derivatives",
           "Benzenoids",
           "Organosulfur compounds",
           "Organic 1,3-dipolar compounds",
           "Hydrocarbon derivatives",
           "Organic nitrogen compounds",
           "Hydrocarbons",
           "Lignans, neolignans and related compounds",
           "Nucleosides, nucleotides, and analogues",
           "Organohalogen compounds",
           "Organic Polymers"
          ],
          "line": {
           "color": "black",
           "width": 0.5
          },
          "pad": 15,
          "thickness": 20
         },
         "type": "sankey"
        }
       ],
       "layout": {
        "font": {
         "size": 12.2
        },
        "height": 700,
        "template": {
         "data": {
          "bar": [
           {
            "error_x": {
             "color": "#2a3f5f"
            },
            "error_y": {
             "color": "#2a3f5f"
            },
            "marker": {
             "line": {
              "color": "#E5ECF6",
              "width": 0.5
             }
            },
            "type": "bar"
           }
          ],
          "barpolar": [
           {
            "marker": {
             "line": {
              "color": "#E5ECF6",
              "width": 0.5
             }
            },
            "type": "barpolar"
           }
          ],
          "carpet": [
           {
            "aaxis": {
             "endlinecolor": "#2a3f5f",
             "gridcolor": "white",
             "linecolor": "white",
             "minorgridcolor": "white",
             "startlinecolor": "#2a3f5f"
            },
            "baxis": {
             "endlinecolor": "#2a3f5f",
             "gridcolor": "white",
             "linecolor": "white",
             "minorgridcolor": "white",
             "startlinecolor": "#2a3f5f"
            },
            "type": "carpet"
           }
          ],
          "choropleth": [
           {
            "colorbar": {
             "outlinewidth": 0,
             "ticks": ""
            },
            "type": "choropleth"
           }
          ],
          "contour": [
           {
            "colorbar": {
             "outlinewidth": 0,
             "ticks": ""
            },
            "colorscale": [
             [
              0,
              "#0d0887"
             ],
             [
              0.1111111111111111,
              "#46039f"
             ],
             [
              0.2222222222222222,
              "#7201a8"
             ],
             [
              0.3333333333333333,
              "#9c179e"
             ],
             [
              0.4444444444444444,
              "#bd3786"
             ],
             [
              0.5555555555555556,
              "#d8576b"
             ],
             [
              0.6666666666666666,
              "#ed7953"
             ],
             [
              0.7777777777777778,
              "#fb9f3a"
             ],
             [
              0.8888888888888888,
              "#fdca26"
             ],
             [
              1,
              "#f0f921"
             ]
            ],
            "type": "contour"
           }
          ],
          "contourcarpet": [
           {
            "colorbar": {
             "outlinewidth": 0,
             "ticks": ""
            },
            "type": "contourcarpet"
           }
          ],
          "heatmap": [
           {
            "colorbar": {
             "outlinewidth": 0,
             "ticks": ""
            },
            "colorscale": [
             [
              0,
              "#0d0887"
             ],
             [
              0.1111111111111111,
              "#46039f"
             ],
             [
              0.2222222222222222,
              "#7201a8"
             ],
             [
              0.3333333333333333,
              "#9c179e"
             ],
             [
              0.4444444444444444,
              "#bd3786"
             ],
             [
              0.5555555555555556,
              "#d8576b"
             ],
             [
              0.6666666666666666,
              "#ed7953"
             ],
             [
              0.7777777777777778,
              "#fb9f3a"
             ],
             [
              0.8888888888888888,
              "#fdca26"
             ],
             [
              1,
              "#f0f921"
             ]
            ],
            "type": "heatmap"
           }
          ],
          "heatmapgl": [
           {
            "colorbar": {
             "outlinewidth": 0,
             "ticks": ""
            },
            "colorscale": [
             [
              0,
              "#0d0887"
             ],
             [
              0.1111111111111111,
              "#46039f"
             ],
             [
              0.2222222222222222,
              "#7201a8"
             ],
             [
              0.3333333333333333,
              "#9c179e"
             ],
             [
              0.4444444444444444,
              "#bd3786"
             ],
             [
              0.5555555555555556,
              "#d8576b"
             ],
             [
              0.6666666666666666,
              "#ed7953"
             ],
             [
              0.7777777777777778,
              "#fb9f3a"
             ],
             [
              0.8888888888888888,
              "#fdca26"
             ],
             [
              1,
              "#f0f921"
             ]
            ],
            "type": "heatmapgl"
           }
          ],
          "histogram": [
           {
            "marker": {
             "colorbar": {
              "outlinewidth": 0,
              "ticks": ""
             }
            },
            "type": "histogram"
           }
          ],
          "histogram2d": [
           {
            "colorbar": {
             "outlinewidth": 0,
             "ticks": ""
            },
            "colorscale": [
             [
              0,
              "#0d0887"
             ],
             [
              0.1111111111111111,
              "#46039f"
             ],
             [
              0.2222222222222222,
              "#7201a8"
             ],
             [
              0.3333333333333333,
              "#9c179e"
             ],
             [
              0.4444444444444444,
              "#bd3786"
             ],
             [
              0.5555555555555556,
              "#d8576b"
             ],
             [
              0.6666666666666666,
              "#ed7953"
             ],
             [
              0.7777777777777778,
              "#fb9f3a"
             ],
             [
              0.8888888888888888,
              "#fdca26"
             ],
             [
              1,
              "#f0f921"
             ]
            ],
            "type": "histogram2d"
           }
          ],
          "histogram2dcontour": [
           {
            "colorbar": {
             "outlinewidth": 0,
             "ticks": ""
            },
            "colorscale": [
             [
              0,
              "#0d0887"
             ],
             [
              0.1111111111111111,
              "#46039f"
             ],
             [
              0.2222222222222222,
              "#7201a8"
             ],
             [
              0.3333333333333333,
              "#9c179e"
             ],
             [
              0.4444444444444444,
              "#bd3786"
             ],
             [
              0.5555555555555556,
              "#d8576b"
             ],
             [
              0.6666666666666666,
              "#ed7953"
             ],
             [
              0.7777777777777778,
              "#fb9f3a"
             ],
             [
              0.8888888888888888,
              "#fdca26"
             ],
             [
              1,
              "#f0f921"
             ]
            ],
            "type": "histogram2dcontour"
           }
          ],
          "mesh3d": [
           {
            "colorbar": {
             "outlinewidth": 0,
             "ticks": ""
            },
            "type": "mesh3d"
           }
          ],
          "parcoords": [
           {
            "line": {
             "colorbar": {
              "outlinewidth": 0,
              "ticks": ""
             }
            },
            "type": "parcoords"
           }
          ],
          "pie": [
           {
            "automargin": true,
            "type": "pie"
           }
          ],
          "scatter": [
           {
            "marker": {
             "colorbar": {
              "outlinewidth": 0,
              "ticks": ""
             }
            },
            "type": "scatter"
           }
          ],
          "scatter3d": [
           {
            "line": {
             "colorbar": {
              "outlinewidth": 0,
              "ticks": ""
             }
            },
            "marker": {
             "colorbar": {
              "outlinewidth": 0,
              "ticks": ""
             }
            },
            "type": "scatter3d"
           }
          ],
          "scattercarpet": [
           {
            "marker": {
             "colorbar": {
              "outlinewidth": 0,
              "ticks": ""
             }
            },
            "type": "scattercarpet"
           }
          ],
          "scattergeo": [
           {
            "marker": {
             "colorbar": {
              "outlinewidth": 0,
              "ticks": ""
             }
            },
            "type": "scattergeo"
           }
          ],
          "scattergl": [
           {
            "marker": {
             "colorbar": {
              "outlinewidth": 0,
              "ticks": ""
             }
            },
            "type": "scattergl"
           }
          ],
          "scattermapbox": [
           {
            "marker": {
             "colorbar": {
              "outlinewidth": 0,
              "ticks": ""
             }
            },
            "type": "scattermapbox"
           }
          ],
          "scatterpolar": [
           {
            "marker": {
             "colorbar": {
              "outlinewidth": 0,
              "ticks": ""
             }
            },
            "type": "scatterpolar"
           }
          ],
          "scatterpolargl": [
           {
            "marker": {
             "colorbar": {
              "outlinewidth": 0,
              "ticks": ""
             }
            },
            "type": "scatterpolargl"
           }
          ],
          "scatterternary": [
           {
            "marker": {
             "colorbar": {
              "outlinewidth": 0,
              "ticks": ""
             }
            },
            "type": "scatterternary"
           }
          ],
          "surface": [
           {
            "colorbar": {
             "outlinewidth": 0,
             "ticks": ""
            },
            "colorscale": [
             [
              0,
              "#0d0887"
             ],
             [
              0.1111111111111111,
              "#46039f"
             ],
             [
              0.2222222222222222,
              "#7201a8"
             ],
             [
              0.3333333333333333,
              "#9c179e"
             ],
             [
              0.4444444444444444,
              "#bd3786"
             ],
             [
              0.5555555555555556,
              "#d8576b"
             ],
             [
              0.6666666666666666,
              "#ed7953"
             ],
             [
              0.7777777777777778,
              "#fb9f3a"
             ],
             [
              0.8888888888888888,
              "#fdca26"
             ],
             [
              1,
              "#f0f921"
             ]
            ],
            "type": "surface"
           }
          ],
          "table": [
           {
            "cells": {
             "fill": {
              "color": "#EBF0F8"
             },
             "line": {
              "color": "white"
             }
            },
            "header": {
             "fill": {
              "color": "#C8D4E3"
             },
             "line": {
              "color": "white"
             }
            },
            "type": "table"
           }
          ]
         },
         "layout": {
          "annotationdefaults": {
           "arrowcolor": "#2a3f5f",
           "arrowhead": 0,
           "arrowwidth": 1
          },
          "autotypenumbers": "strict",
          "coloraxis": {
           "colorbar": {
            "outlinewidth": 0,
            "ticks": ""
           }
          },
          "colorscale": {
           "diverging": [
            [
             0,
             "#8e0152"
            ],
            [
             0.1,
             "#c51b7d"
            ],
            [
             0.2,
             "#de77ae"
            ],
            [
             0.3,
             "#f1b6da"
            ],
            [
             0.4,
             "#fde0ef"
            ],
            [
             0.5,
             "#f7f7f7"
            ],
            [
             0.6,
             "#e6f5d0"
            ],
            [
             0.7,
             "#b8e186"
            ],
            [
             0.8,
             "#7fbc41"
            ],
            [
             0.9,
             "#4d9221"
            ],
            [
             1,
             "#276419"
            ]
           ],
           "sequential": [
            [
             0,
             "#0d0887"
            ],
            [
             0.1111111111111111,
             "#46039f"
            ],
            [
             0.2222222222222222,
             "#7201a8"
            ],
            [
             0.3333333333333333,
             "#9c179e"
            ],
            [
             0.4444444444444444,
             "#bd3786"
            ],
            [
             0.5555555555555556,
             "#d8576b"
            ],
            [
             0.6666666666666666,
             "#ed7953"
            ],
            [
             0.7777777777777778,
             "#fb9f3a"
            ],
            [
             0.8888888888888888,
             "#fdca26"
            ],
            [
             1,
             "#f0f921"
            ]
           ],
           "sequentialminus": [
            [
             0,
             "#0d0887"
            ],
            [
             0.1111111111111111,
             "#46039f"
            ],
            [
             0.2222222222222222,
             "#7201a8"
            ],
            [
             0.3333333333333333,
             "#9c179e"
            ],
            [
             0.4444444444444444,
             "#bd3786"
            ],
            [
             0.5555555555555556,
             "#d8576b"
            ],
            [
             0.6666666666666666,
             "#ed7953"
            ],
            [
             0.7777777777777778,
             "#fb9f3a"
            ],
            [
             0.8888888888888888,
             "#fdca26"
            ],
            [
             1,
             "#f0f921"
            ]
           ]
          },
          "colorway": [
           "#636efa",
           "#EF553B",
           "#00cc96",
           "#ab63fa",
           "#FFA15A",
           "#19d3f3",
           "#FF6692",
           "#B6E880",
           "#FF97FF",
           "#FECB52"
          ],
          "font": {
           "color": "#2a3f5f"
          },
          "geo": {
           "bgcolor": "white",
           "lakecolor": "white",
           "landcolor": "#E5ECF6",
           "showlakes": true,
           "showland": true,
           "subunitcolor": "white"
          },
          "hoverlabel": {
           "align": "left"
          },
          "hovermode": "closest",
          "mapbox": {
           "style": "light"
          },
          "paper_bgcolor": "white",
          "plot_bgcolor": "#E5ECF6",
          "polar": {
           "angularaxis": {
            "gridcolor": "white",
            "linecolor": "white",
            "ticks": ""
           },
           "bgcolor": "#E5ECF6",
           "radialaxis": {
            "gridcolor": "white",
            "linecolor": "white",
            "ticks": ""
           }
          },
          "scene": {
           "xaxis": {
            "backgroundcolor": "#E5ECF6",
            "gridcolor": "white",
            "gridwidth": 2,
            "linecolor": "white",
            "showbackground": true,
            "ticks": "",
            "zerolinecolor": "white"
           },
           "yaxis": {
            "backgroundcolor": "#E5ECF6",
            "gridcolor": "white",
            "gridwidth": 2,
            "linecolor": "white",
            "showbackground": true,
            "ticks": "",
            "zerolinecolor": "white"
           },
           "zaxis": {
            "backgroundcolor": "#E5ECF6",
            "gridcolor": "white",
            "gridwidth": 2,
            "linecolor": "white",
            "showbackground": true,
            "ticks": "",
            "zerolinecolor": "white"
           }
          },
          "shapedefaults": {
           "line": {
            "color": "#2a3f5f"
           }
          },
          "ternary": {
           "aaxis": {
            "gridcolor": "white",
            "linecolor": "white",
            "ticks": ""
           },
           "baxis": {
            "gridcolor": "white",
            "linecolor": "white",
            "ticks": ""
           },
           "bgcolor": "#E5ECF6",
           "caxis": {
            "gridcolor": "white",
            "linecolor": "white",
            "ticks": ""
           }
          },
          "title": {
           "x": 0.05
          },
          "xaxis": {
           "automargin": true,
           "gridcolor": "white",
           "linecolor": "white",
           "ticks": "",
           "title": {
            "standoff": 15
           },
           "zerolinecolor": "white",
           "zerolinewidth": 2
          },
          "yaxis": {
           "automargin": true,
           "gridcolor": "white",
           "linecolor": "white",
           "ticks": "",
           "title": {
            "standoff": 15
           },
           "zerolinecolor": "white",
           "zerolinewidth": 2
          }
         }
        },
        "title": {
         "text": "MIBiG classes vs ClassyFire superclass"
        },
        "width": 700
       }
      },
      "text/html": [
       "<div>                            <div id=\"9e1484ec-9b1a-4f09-aaae-18b91bbd6d39\" class=\"plotly-graph-div\" style=\"height:700px; width:700px;\"></div>            <script type=\"text/javascript\">                require([\"plotly\"], function(Plotly) {                    window.PLOTLYENV=window.PLOTLYENV || {};                                    if (document.getElementById(\"9e1484ec-9b1a-4f09-aaae-18b91bbd6d39\")) {                    Plotly.newPlot(                        \"9e1484ec-9b1a-4f09-aaae-18b91bbd6d39\",                        [{\"link\": {\"source\": [0, 0, 0, 0, 0, 0, 0, 0, 0, 0, 0, 0, 0, 1, 1, 1, 1, 1, 1, 1, 1, 1, 1, 1, 1, 1, 2, 2, 2, 2, 2, 2, 3, 3, 3, 3, 3, 3, 3, 3, 3, 4, 4, 4, 4, 4, 4, 4, 4, 4, 5, 5, 5, 5, 5, 5, 5, 5, 5, 6, 6, 6, 6], \"target\": [7, 8, 9, 10, 11, 12, 13, 14, 15, 16, 17, 18, 19, 11, 12, 10, 9, 7, 8, 13, 20, 17, 15, 16, 21, 19, 11, 10, 13, 7, 9, 8, 7, 8, 13, 9, 11, 12, 18, 10, 16, 10, 7, 8, 13, 9, 12, 14, 11, 17, 9, 11, 7, 8, 22, 13, 12, 10, 17, 9, 10, 22, 14], \"value\": [110, 83, 31, 159, 85, 2, 109, 1, 3, 1, 1, 5, 1, 20, 11, 26, 83, 149, 20, 17, 12, 1, 2, 4, 1, 1, 78, 17, 10, 6, 8, 3, 45, 93, 10, 5, 10, 3, 3, 1, 1, 45, 67, 23, 8, 119, 3, 2, 18, 2, 281, 7, 55, 3, 6, 14, 1, 3, 2, 58, 6, 26, 1]}, \"node\": {\"label\": [\"Polyketide\", \"Other\", \"Saccharide\", \"Terpene\", \"PKS-NRP_Hybrids\", \"NRP\", \"RiPP\", \"Organoheterocyclic compounds\", \"Lipids and lipid-like molecules\", \"Organic acids and derivatives\", \"Phenylpropanoids and polyketides\", \"Organic oxygen compounds\", \"Alkaloids and derivatives\", \"Benzenoids\", \"Organosulfur compounds\", \"Organic 1,3-dipolar compounds\", \"Hydrocarbon derivatives\", \"Organic nitrogen compounds\", \"Hydrocarbons\", \"Lignans, neolignans and related compounds\", \"Nucleosides, nucleotides, and analogues\", \"Organohalogen compounds\", \"Organic Polymers\"], \"line\": {\"color\": \"black\", \"width\": 0.5}, \"pad\": 15, \"thickness\": 20}, \"type\": \"sankey\"}],                        {\"font\": {\"size\": 12.2}, \"height\": 700, \"template\": {\"data\": {\"bar\": [{\"error_x\": {\"color\": \"#2a3f5f\"}, \"error_y\": {\"color\": \"#2a3f5f\"}, \"marker\": {\"line\": {\"color\": \"#E5ECF6\", \"width\": 0.5}}, \"type\": \"bar\"}], \"barpolar\": [{\"marker\": {\"line\": {\"color\": \"#E5ECF6\", \"width\": 0.5}}, \"type\": \"barpolar\"}], \"carpet\": [{\"aaxis\": {\"endlinecolor\": \"#2a3f5f\", \"gridcolor\": \"white\", \"linecolor\": \"white\", \"minorgridcolor\": \"white\", \"startlinecolor\": \"#2a3f5f\"}, \"baxis\": {\"endlinecolor\": \"#2a3f5f\", \"gridcolor\": \"white\", \"linecolor\": \"white\", \"minorgridcolor\": \"white\", \"startlinecolor\": \"#2a3f5f\"}, \"type\": \"carpet\"}], \"choropleth\": [{\"colorbar\": {\"outlinewidth\": 0, \"ticks\": \"\"}, \"type\": \"choropleth\"}], \"contour\": [{\"colorbar\": {\"outlinewidth\": 0, \"ticks\": \"\"}, \"colorscale\": [[0.0, \"#0d0887\"], [0.1111111111111111, \"#46039f\"], [0.2222222222222222, \"#7201a8\"], [0.3333333333333333, \"#9c179e\"], [0.4444444444444444, \"#bd3786\"], [0.5555555555555556, \"#d8576b\"], [0.6666666666666666, \"#ed7953\"], [0.7777777777777778, \"#fb9f3a\"], [0.8888888888888888, \"#fdca26\"], [1.0, \"#f0f921\"]], \"type\": \"contour\"}], \"contourcarpet\": [{\"colorbar\": {\"outlinewidth\": 0, \"ticks\": \"\"}, \"type\": \"contourcarpet\"}], \"heatmap\": [{\"colorbar\": {\"outlinewidth\": 0, \"ticks\": \"\"}, \"colorscale\": [[0.0, \"#0d0887\"], [0.1111111111111111, \"#46039f\"], [0.2222222222222222, \"#7201a8\"], [0.3333333333333333, \"#9c179e\"], [0.4444444444444444, \"#bd3786\"], [0.5555555555555556, \"#d8576b\"], [0.6666666666666666, \"#ed7953\"], [0.7777777777777778, \"#fb9f3a\"], [0.8888888888888888, \"#fdca26\"], [1.0, \"#f0f921\"]], \"type\": \"heatmap\"}], \"heatmapgl\": [{\"colorbar\": {\"outlinewidth\": 0, \"ticks\": \"\"}, \"colorscale\": [[0.0, \"#0d0887\"], [0.1111111111111111, \"#46039f\"], [0.2222222222222222, \"#7201a8\"], [0.3333333333333333, \"#9c179e\"], [0.4444444444444444, \"#bd3786\"], [0.5555555555555556, \"#d8576b\"], [0.6666666666666666, \"#ed7953\"], [0.7777777777777778, \"#fb9f3a\"], [0.8888888888888888, \"#fdca26\"], [1.0, \"#f0f921\"]], \"type\": \"heatmapgl\"}], \"histogram\": [{\"marker\": {\"colorbar\": {\"outlinewidth\": 0, \"ticks\": \"\"}}, \"type\": \"histogram\"}], \"histogram2d\": [{\"colorbar\": {\"outlinewidth\": 0, \"ticks\": \"\"}, \"colorscale\": [[0.0, \"#0d0887\"], [0.1111111111111111, \"#46039f\"], [0.2222222222222222, \"#7201a8\"], [0.3333333333333333, \"#9c179e\"], [0.4444444444444444, \"#bd3786\"], [0.5555555555555556, \"#d8576b\"], [0.6666666666666666, \"#ed7953\"], [0.7777777777777778, \"#fb9f3a\"], [0.8888888888888888, \"#fdca26\"], [1.0, \"#f0f921\"]], \"type\": \"histogram2d\"}], \"histogram2dcontour\": [{\"colorbar\": {\"outlinewidth\": 0, \"ticks\": \"\"}, \"colorscale\": [[0.0, \"#0d0887\"], [0.1111111111111111, \"#46039f\"], [0.2222222222222222, \"#7201a8\"], [0.3333333333333333, \"#9c179e\"], [0.4444444444444444, \"#bd3786\"], [0.5555555555555556, \"#d8576b\"], [0.6666666666666666, \"#ed7953\"], [0.7777777777777778, \"#fb9f3a\"], [0.8888888888888888, \"#fdca26\"], [1.0, \"#f0f921\"]], \"type\": \"histogram2dcontour\"}], \"mesh3d\": [{\"colorbar\": {\"outlinewidth\": 0, \"ticks\": \"\"}, \"type\": \"mesh3d\"}], \"parcoords\": [{\"line\": {\"colorbar\": {\"outlinewidth\": 0, \"ticks\": \"\"}}, \"type\": \"parcoords\"}], \"pie\": [{\"automargin\": true, \"type\": \"pie\"}], \"scatter\": [{\"marker\": {\"colorbar\": {\"outlinewidth\": 0, \"ticks\": \"\"}}, \"type\": \"scatter\"}], \"scatter3d\": [{\"line\": {\"colorbar\": {\"outlinewidth\": 0, \"ticks\": \"\"}}, \"marker\": {\"colorbar\": {\"outlinewidth\": 0, \"ticks\": \"\"}}, \"type\": \"scatter3d\"}], \"scattercarpet\": [{\"marker\": {\"colorbar\": {\"outlinewidth\": 0, \"ticks\": \"\"}}, \"type\": \"scattercarpet\"}], \"scattergeo\": [{\"marker\": {\"colorbar\": {\"outlinewidth\": 0, \"ticks\": \"\"}}, \"type\": \"scattergeo\"}], \"scattergl\": [{\"marker\": {\"colorbar\": {\"outlinewidth\": 0, \"ticks\": \"\"}}, \"type\": \"scattergl\"}], \"scattermapbox\": [{\"marker\": {\"colorbar\": {\"outlinewidth\": 0, \"ticks\": \"\"}}, \"type\": \"scattermapbox\"}], \"scatterpolar\": [{\"marker\": {\"colorbar\": {\"outlinewidth\": 0, \"ticks\": \"\"}}, \"type\": \"scatterpolar\"}], \"scatterpolargl\": [{\"marker\": {\"colorbar\": {\"outlinewidth\": 0, \"ticks\": \"\"}}, \"type\": \"scatterpolargl\"}], \"scatterternary\": [{\"marker\": {\"colorbar\": {\"outlinewidth\": 0, \"ticks\": \"\"}}, \"type\": \"scatterternary\"}], \"surface\": [{\"colorbar\": {\"outlinewidth\": 0, \"ticks\": \"\"}, \"colorscale\": [[0.0, \"#0d0887\"], [0.1111111111111111, \"#46039f\"], [0.2222222222222222, \"#7201a8\"], [0.3333333333333333, \"#9c179e\"], [0.4444444444444444, \"#bd3786\"], [0.5555555555555556, \"#d8576b\"], [0.6666666666666666, \"#ed7953\"], [0.7777777777777778, \"#fb9f3a\"], [0.8888888888888888, \"#fdca26\"], [1.0, \"#f0f921\"]], \"type\": \"surface\"}], \"table\": [{\"cells\": {\"fill\": {\"color\": \"#EBF0F8\"}, \"line\": {\"color\": \"white\"}}, \"header\": {\"fill\": {\"color\": \"#C8D4E3\"}, \"line\": {\"color\": \"white\"}}, \"type\": \"table\"}]}, \"layout\": {\"annotationdefaults\": {\"arrowcolor\": \"#2a3f5f\", \"arrowhead\": 0, \"arrowwidth\": 1}, \"autotypenumbers\": \"strict\", \"coloraxis\": {\"colorbar\": {\"outlinewidth\": 0, \"ticks\": \"\"}}, \"colorscale\": {\"diverging\": [[0, \"#8e0152\"], [0.1, \"#c51b7d\"], [0.2, \"#de77ae\"], [0.3, \"#f1b6da\"], [0.4, \"#fde0ef\"], [0.5, \"#f7f7f7\"], [0.6, \"#e6f5d0\"], [0.7, \"#b8e186\"], [0.8, \"#7fbc41\"], [0.9, \"#4d9221\"], [1, \"#276419\"]], \"sequential\": [[0.0, \"#0d0887\"], [0.1111111111111111, \"#46039f\"], [0.2222222222222222, \"#7201a8\"], [0.3333333333333333, \"#9c179e\"], [0.4444444444444444, \"#bd3786\"], [0.5555555555555556, \"#d8576b\"], [0.6666666666666666, \"#ed7953\"], [0.7777777777777778, \"#fb9f3a\"], [0.8888888888888888, \"#fdca26\"], [1.0, \"#f0f921\"]], \"sequentialminus\": [[0.0, \"#0d0887\"], [0.1111111111111111, \"#46039f\"], [0.2222222222222222, \"#7201a8\"], [0.3333333333333333, \"#9c179e\"], [0.4444444444444444, \"#bd3786\"], [0.5555555555555556, \"#d8576b\"], [0.6666666666666666, \"#ed7953\"], [0.7777777777777778, \"#fb9f3a\"], [0.8888888888888888, \"#fdca26\"], [1.0, \"#f0f921\"]]}, \"colorway\": [\"#636efa\", \"#EF553B\", \"#00cc96\", \"#ab63fa\", \"#FFA15A\", \"#19d3f3\", \"#FF6692\", \"#B6E880\", \"#FF97FF\", \"#FECB52\"], \"font\": {\"color\": \"#2a3f5f\"}, \"geo\": {\"bgcolor\": \"white\", \"lakecolor\": \"white\", \"landcolor\": \"#E5ECF6\", \"showlakes\": true, \"showland\": true, \"subunitcolor\": \"white\"}, \"hoverlabel\": {\"align\": \"left\"}, \"hovermode\": \"closest\", \"mapbox\": {\"style\": \"light\"}, \"paper_bgcolor\": \"white\", \"plot_bgcolor\": \"#E5ECF6\", \"polar\": {\"angularaxis\": {\"gridcolor\": \"white\", \"linecolor\": \"white\", \"ticks\": \"\"}, \"bgcolor\": \"#E5ECF6\", \"radialaxis\": {\"gridcolor\": \"white\", \"linecolor\": \"white\", \"ticks\": \"\"}}, \"scene\": {\"xaxis\": {\"backgroundcolor\": \"#E5ECF6\", \"gridcolor\": \"white\", \"gridwidth\": 2, \"linecolor\": \"white\", \"showbackground\": true, \"ticks\": \"\", \"zerolinecolor\": \"white\"}, \"yaxis\": {\"backgroundcolor\": \"#E5ECF6\", \"gridcolor\": \"white\", \"gridwidth\": 2, \"linecolor\": \"white\", \"showbackground\": true, \"ticks\": \"\", \"zerolinecolor\": \"white\"}, \"zaxis\": {\"backgroundcolor\": \"#E5ECF6\", \"gridcolor\": \"white\", \"gridwidth\": 2, \"linecolor\": \"white\", \"showbackground\": true, \"ticks\": \"\", \"zerolinecolor\": \"white\"}}, \"shapedefaults\": {\"line\": {\"color\": \"#2a3f5f\"}}, \"ternary\": {\"aaxis\": {\"gridcolor\": \"white\", \"linecolor\": \"white\", \"ticks\": \"\"}, \"baxis\": {\"gridcolor\": \"white\", \"linecolor\": \"white\", \"ticks\": \"\"}, \"bgcolor\": \"#E5ECF6\", \"caxis\": {\"gridcolor\": \"white\", \"linecolor\": \"white\", \"ticks\": \"\"}}, \"title\": {\"x\": 0.05}, \"xaxis\": {\"automargin\": true, \"gridcolor\": \"white\", \"linecolor\": \"white\", \"ticks\": \"\", \"title\": {\"standoff\": 15}, \"zerolinecolor\": \"white\", \"zerolinewidth\": 2}, \"yaxis\": {\"automargin\": true, \"gridcolor\": \"white\", \"linecolor\": \"white\", \"ticks\": \"\", \"title\": {\"standoff\": 15}, \"zerolinecolor\": \"white\", \"zerolinewidth\": 2}}}, \"title\": {\"text\": \"MIBiG classes vs ClassyFire superclass\"}, \"width\": 700},                        {\"responsive\": true}                    ).then(function(){\n",
       "                            \n",
       "var gd = document.getElementById('9e1484ec-9b1a-4f09-aaae-18b91bbd6d39');\n",
       "var x = new MutationObserver(function (mutations, observer) {{\n",
       "        var display = window.getComputedStyle(gd).display;\n",
       "        if (!display || display === 'none') {{\n",
       "            console.log([gd, 'removed!']);\n",
       "            Plotly.purge(gd);\n",
       "            observer.disconnect();\n",
       "        }}\n",
       "}});\n",
       "\n",
       "// Listen for the removal of the full notebook cells\n",
       "var notebookContainer = gd.closest('#notebook-container');\n",
       "if (notebookContainer) {{\n",
       "    x.observe(notebookContainer, {childList: true});\n",
       "}}\n",
       "\n",
       "// Listen for the clearing of the current output cell\n",
       "var outputEl = gd.closest('.output');\n",
       "if (outputEl) {{\n",
       "    x.observe(outputEl, {childList: true});\n",
       "}}\n",
       "\n",
       "                        })                };                });            </script>        </div>"
      ]
     },
     "metadata": {},
     "output_type": "display_data"
    }
   ],
   "source": [
    "classes_result_dict = result['mibig_classes']['cf_superclass']\n",
    "result_fig_title = \"MIBiG classes vs ClassyFire superclass\"\n",
    "result_fig = make_class_sankey_plot(classes_result_dict, result_fig_title)\n",
    "# result_fig.write_html(os.path.join(out_base, '_'.join(result_fig_title.split(' '))) + \".html\")\n",
    "result_fig.update_layout(\n",
    "#     autosize=False,\n",
    "    width=700,\n",
    "    height=700,\n",
    "    font_size=12.2\n",
    ")\n",
    "result_fig.write_image(os.path.join(out_base, '_'.join(result_fig_title.split(' '))) + \".svg\")\n",
    "result_fig"
   ]
  },
  {
   "cell_type": "code",
   "execution_count": 59,
   "id": "suburban-forest",
   "metadata": {},
   "outputs": [
    {
     "data": {
      "application/vnd.plotly.v1+json": {
       "config": {
        "plotlyServerURL": "https://plot.ly"
       },
       "data": [
        {
         "link": {
          "source": [
           0,
           0,
           0,
           0,
           0,
           0,
           0,
           0,
           0,
           0,
           0,
           0,
           0,
           0,
           0,
           0,
           0,
           0,
           0,
           0,
           0,
           0,
           0,
           0,
           0,
           0,
           0,
           1,
           1,
           1,
           1,
           2,
           2,
           2,
           2,
           2,
           2,
           2,
           2,
           3,
           3,
           3,
           3,
           3,
           3,
           3,
           3,
           5,
           5,
           5,
           5,
           5,
           5,
           5,
           5,
           5,
           5,
           5,
           5,
           5,
           5,
           5,
           5,
           7,
           7,
           7,
           7,
           7,
           7,
           7,
           8,
           8,
           8,
           8,
           8,
           9,
           9,
           9,
           10,
           10,
           10,
           10,
           10,
           10,
           10,
           11,
           11,
           12,
           12,
           15,
           15,
           15,
           15,
           15,
           15,
           15,
           15,
           15,
           16,
           17,
           18,
           19,
           19,
           20,
           21,
           21,
           21,
           22,
           22,
           23,
           24,
           24,
           25,
           25,
           27,
           28,
           28,
           29,
           36,
           36,
           36,
           36,
           41,
           42,
           43
          ],
          "target": [
           51,
           52,
           53,
           54,
           55,
           56,
           57,
           58,
           59,
           60,
           61,
           62,
           63,
           64,
           65,
           66,
           67,
           68,
           69,
           70,
           71,
           72,
           73,
           74,
           75,
           76,
           77,
           55,
           78,
           79,
           63,
           55,
           56,
           59,
           62,
           52,
           74,
           76,
           57,
           55,
           57,
           58,
           75,
           78,
           63,
           52,
           77,
           62,
           55,
           52,
           57,
           58,
           72,
           53,
           80,
           81,
           70,
           59,
           56,
           60,
           71,
           73,
           82,
           55,
           52,
           62,
           53,
           72,
           77,
           82,
           57,
           62,
           58,
           52,
           55,
           72,
           62,
           83,
           62,
           58,
           55,
           52,
           77,
           75,
           82,
           57,
           52,
           81,
           62,
           84,
           78,
           85,
           63,
           83,
           86,
           60,
           55,
           79,
           53,
           54,
           77,
           62,
           87,
           55,
           62,
           55,
           88,
           62,
           56,
           62,
           89,
           63,
           53,
           62,
           62,
           56,
           62,
           62,
           62,
           52,
           55,
           83,
           62,
           58,
           58
          ],
          "value": [
           5,
           49,
           67,
           7,
           84,
           35,
           48,
           25,
           19,
           12,
           5,
           64,
           10,
           10,
           8,
           7,
           6,
           5,
           5,
           21,
           12,
           9,
           8,
           8,
           16,
           5,
           5,
           7,
           8,
           6,
           5,
           13,
           21,
           10,
           12,
           6,
           8,
           5,
           5,
           9,
           6,
           11,
           16,
           10,
           6,
           7,
           5,
           211,
           22,
           13,
           9,
           14,
           22,
           187,
           13,
           6,
           23,
           8,
           8,
           6,
           8,
           8,
           5,
           9,
           7,
           6,
           11,
           19,
           9,
           5,
           23,
           5,
           15,
           6,
           5,
           63,
           9,
           12,
           24,
           6,
           5,
           7,
           7,
           17,
           5,
           8,
           6,
           14,
           7,
           12,
           15,
           6,
           19,
           8,
           11,
           6,
           10,
           14,
           14,
           7,
           18,
           11,
           5,
           27,
           7,
           5,
           8,
           10,
           5,
           10,
           5,
           5,
           6,
           10,
           9,
           5,
           19,
           20,
           6,
           67,
           7,
           7,
           9,
           5,
           5
          ]
         },
         "node": {
          "label": [
           "T1PKS",
           "oligosaccharide",
           "NRPS-like",
           "PKS-like",
           "butyrolactone",
           "NRPS",
           "arylpolyene",
           "other",
           "transAT-PKS",
           "indole",
           "T3PKS",
           "transAT-PKS-like",
           "lanthipeptide",
           "hserlactone",
           "furan",
           "T2PKS",
           "ladderane",
           "aminocoumarin",
           "phenazine",
           "nucleoside",
           "amglyccycl",
           "blactam",
           "siderophore",
           "betalactone",
           "melanin",
           "bacteriocin",
           "bottromycin",
           "cyanobactin",
           "LAP",
           "thiopeptide",
           "lassopeptide",
           "linaridin",
           "microviridin",
           "proteusin",
           "head_to_tail",
           "sactipeptide",
           "terpene",
           "TfuA-related",
           "fungal-RiPP",
           "resorcinol",
           "CDPS",
           "ectoine",
           "hglE-KS",
           "PUFA",
           "PBDE",
           "phosphonate",
           "fused",
           "RaS-RiPP",
           "PpyS-KS",
           "tropodithietic-acid",
           "phosphoglycolipid",
           "Oxanes",
           "Prenol lipids",
           "Peptidomimetics",
           "Coumarins and derivatives",
           "Organooxygen compounds",
           "Macrolactams",
           "Macrolides and analogues",
           "Fatty Acyls",
           "Benzene and substituted derivatives",
           "Benzopyrans",
           "Isoindoles and derivatives",
           "Carboxylic acids and derivatives",
           "Anthracenes",
           "Pyrans",
           "Benzofurans",
           "Naphthalenes",
           "Lactones",
           "Steroids and steroid derivatives",
           "Carboximidic acids and derivatives",
           "Macrolide lactams",
           "Pyridines and derivatives",
           "Indoles and derivatives",
           "Azoles",
           "Quinolines and derivatives",
           "Phenols",
           "Unsaturated hydrocarbons",
           "Diazanaphthalenes",
           "Anthracyclines",
           "Angucyclines",
           "Benzodiazepines",
           "Polypeptides",
           "Naphthofurans",
           "Naphthopyrans",
           "Phenanthrenes and derivatives",
           "Isochromanequinones",
           "Naphthacenes",
           "Pyrrolopyrimidine nucleosides and nucleotides",
           "Lactams",
           "Depsides and depsidones"
          ],
          "line": {
           "color": "black",
           "width": 0.5
          },
          "pad": 15,
          "thickness": 20
         },
         "type": "sankey"
        }
       ],
       "layout": {
        "font": {
         "size": 12.2
        },
        "height": 800,
        "template": {
         "data": {
          "bar": [
           {
            "error_x": {
             "color": "#2a3f5f"
            },
            "error_y": {
             "color": "#2a3f5f"
            },
            "marker": {
             "line": {
              "color": "#E5ECF6",
              "width": 0.5
             }
            },
            "type": "bar"
           }
          ],
          "barpolar": [
           {
            "marker": {
             "line": {
              "color": "#E5ECF6",
              "width": 0.5
             }
            },
            "type": "barpolar"
           }
          ],
          "carpet": [
           {
            "aaxis": {
             "endlinecolor": "#2a3f5f",
             "gridcolor": "white",
             "linecolor": "white",
             "minorgridcolor": "white",
             "startlinecolor": "#2a3f5f"
            },
            "baxis": {
             "endlinecolor": "#2a3f5f",
             "gridcolor": "white",
             "linecolor": "white",
             "minorgridcolor": "white",
             "startlinecolor": "#2a3f5f"
            },
            "type": "carpet"
           }
          ],
          "choropleth": [
           {
            "colorbar": {
             "outlinewidth": 0,
             "ticks": ""
            },
            "type": "choropleth"
           }
          ],
          "contour": [
           {
            "colorbar": {
             "outlinewidth": 0,
             "ticks": ""
            },
            "colorscale": [
             [
              0,
              "#0d0887"
             ],
             [
              0.1111111111111111,
              "#46039f"
             ],
             [
              0.2222222222222222,
              "#7201a8"
             ],
             [
              0.3333333333333333,
              "#9c179e"
             ],
             [
              0.4444444444444444,
              "#bd3786"
             ],
             [
              0.5555555555555556,
              "#d8576b"
             ],
             [
              0.6666666666666666,
              "#ed7953"
             ],
             [
              0.7777777777777778,
              "#fb9f3a"
             ],
             [
              0.8888888888888888,
              "#fdca26"
             ],
             [
              1,
              "#f0f921"
             ]
            ],
            "type": "contour"
           }
          ],
          "contourcarpet": [
           {
            "colorbar": {
             "outlinewidth": 0,
             "ticks": ""
            },
            "type": "contourcarpet"
           }
          ],
          "heatmap": [
           {
            "colorbar": {
             "outlinewidth": 0,
             "ticks": ""
            },
            "colorscale": [
             [
              0,
              "#0d0887"
             ],
             [
              0.1111111111111111,
              "#46039f"
             ],
             [
              0.2222222222222222,
              "#7201a8"
             ],
             [
              0.3333333333333333,
              "#9c179e"
             ],
             [
              0.4444444444444444,
              "#bd3786"
             ],
             [
              0.5555555555555556,
              "#d8576b"
             ],
             [
              0.6666666666666666,
              "#ed7953"
             ],
             [
              0.7777777777777778,
              "#fb9f3a"
             ],
             [
              0.8888888888888888,
              "#fdca26"
             ],
             [
              1,
              "#f0f921"
             ]
            ],
            "type": "heatmap"
           }
          ],
          "heatmapgl": [
           {
            "colorbar": {
             "outlinewidth": 0,
             "ticks": ""
            },
            "colorscale": [
             [
              0,
              "#0d0887"
             ],
             [
              0.1111111111111111,
              "#46039f"
             ],
             [
              0.2222222222222222,
              "#7201a8"
             ],
             [
              0.3333333333333333,
              "#9c179e"
             ],
             [
              0.4444444444444444,
              "#bd3786"
             ],
             [
              0.5555555555555556,
              "#d8576b"
             ],
             [
              0.6666666666666666,
              "#ed7953"
             ],
             [
              0.7777777777777778,
              "#fb9f3a"
             ],
             [
              0.8888888888888888,
              "#fdca26"
             ],
             [
              1,
              "#f0f921"
             ]
            ],
            "type": "heatmapgl"
           }
          ],
          "histogram": [
           {
            "marker": {
             "colorbar": {
              "outlinewidth": 0,
              "ticks": ""
             }
            },
            "type": "histogram"
           }
          ],
          "histogram2d": [
           {
            "colorbar": {
             "outlinewidth": 0,
             "ticks": ""
            },
            "colorscale": [
             [
              0,
              "#0d0887"
             ],
             [
              0.1111111111111111,
              "#46039f"
             ],
             [
              0.2222222222222222,
              "#7201a8"
             ],
             [
              0.3333333333333333,
              "#9c179e"
             ],
             [
              0.4444444444444444,
              "#bd3786"
             ],
             [
              0.5555555555555556,
              "#d8576b"
             ],
             [
              0.6666666666666666,
              "#ed7953"
             ],
             [
              0.7777777777777778,
              "#fb9f3a"
             ],
             [
              0.8888888888888888,
              "#fdca26"
             ],
             [
              1,
              "#f0f921"
             ]
            ],
            "type": "histogram2d"
           }
          ],
          "histogram2dcontour": [
           {
            "colorbar": {
             "outlinewidth": 0,
             "ticks": ""
            },
            "colorscale": [
             [
              0,
              "#0d0887"
             ],
             [
              0.1111111111111111,
              "#46039f"
             ],
             [
              0.2222222222222222,
              "#7201a8"
             ],
             [
              0.3333333333333333,
              "#9c179e"
             ],
             [
              0.4444444444444444,
              "#bd3786"
             ],
             [
              0.5555555555555556,
              "#d8576b"
             ],
             [
              0.6666666666666666,
              "#ed7953"
             ],
             [
              0.7777777777777778,
              "#fb9f3a"
             ],
             [
              0.8888888888888888,
              "#fdca26"
             ],
             [
              1,
              "#f0f921"
             ]
            ],
            "type": "histogram2dcontour"
           }
          ],
          "mesh3d": [
           {
            "colorbar": {
             "outlinewidth": 0,
             "ticks": ""
            },
            "type": "mesh3d"
           }
          ],
          "parcoords": [
           {
            "line": {
             "colorbar": {
              "outlinewidth": 0,
              "ticks": ""
             }
            },
            "type": "parcoords"
           }
          ],
          "pie": [
           {
            "automargin": true,
            "type": "pie"
           }
          ],
          "scatter": [
           {
            "marker": {
             "colorbar": {
              "outlinewidth": 0,
              "ticks": ""
             }
            },
            "type": "scatter"
           }
          ],
          "scatter3d": [
           {
            "line": {
             "colorbar": {
              "outlinewidth": 0,
              "ticks": ""
             }
            },
            "marker": {
             "colorbar": {
              "outlinewidth": 0,
              "ticks": ""
             }
            },
            "type": "scatter3d"
           }
          ],
          "scattercarpet": [
           {
            "marker": {
             "colorbar": {
              "outlinewidth": 0,
              "ticks": ""
             }
            },
            "type": "scattercarpet"
           }
          ],
          "scattergeo": [
           {
            "marker": {
             "colorbar": {
              "outlinewidth": 0,
              "ticks": ""
             }
            },
            "type": "scattergeo"
           }
          ],
          "scattergl": [
           {
            "marker": {
             "colorbar": {
              "outlinewidth": 0,
              "ticks": ""
             }
            },
            "type": "scattergl"
           }
          ],
          "scattermapbox": [
           {
            "marker": {
             "colorbar": {
              "outlinewidth": 0,
              "ticks": ""
             }
            },
            "type": "scattermapbox"
           }
          ],
          "scatterpolar": [
           {
            "marker": {
             "colorbar": {
              "outlinewidth": 0,
              "ticks": ""
             }
            },
            "type": "scatterpolar"
           }
          ],
          "scatterpolargl": [
           {
            "marker": {
             "colorbar": {
              "outlinewidth": 0,
              "ticks": ""
             }
            },
            "type": "scatterpolargl"
           }
          ],
          "scatterternary": [
           {
            "marker": {
             "colorbar": {
              "outlinewidth": 0,
              "ticks": ""
             }
            },
            "type": "scatterternary"
           }
          ],
          "surface": [
           {
            "colorbar": {
             "outlinewidth": 0,
             "ticks": ""
            },
            "colorscale": [
             [
              0,
              "#0d0887"
             ],
             [
              0.1111111111111111,
              "#46039f"
             ],
             [
              0.2222222222222222,
              "#7201a8"
             ],
             [
              0.3333333333333333,
              "#9c179e"
             ],
             [
              0.4444444444444444,
              "#bd3786"
             ],
             [
              0.5555555555555556,
              "#d8576b"
             ],
             [
              0.6666666666666666,
              "#ed7953"
             ],
             [
              0.7777777777777778,
              "#fb9f3a"
             ],
             [
              0.8888888888888888,
              "#fdca26"
             ],
             [
              1,
              "#f0f921"
             ]
            ],
            "type": "surface"
           }
          ],
          "table": [
           {
            "cells": {
             "fill": {
              "color": "#EBF0F8"
             },
             "line": {
              "color": "white"
             }
            },
            "header": {
             "fill": {
              "color": "#C8D4E3"
             },
             "line": {
              "color": "white"
             }
            },
            "type": "table"
           }
          ]
         },
         "layout": {
          "annotationdefaults": {
           "arrowcolor": "#2a3f5f",
           "arrowhead": 0,
           "arrowwidth": 1
          },
          "autotypenumbers": "strict",
          "coloraxis": {
           "colorbar": {
            "outlinewidth": 0,
            "ticks": ""
           }
          },
          "colorscale": {
           "diverging": [
            [
             0,
             "#8e0152"
            ],
            [
             0.1,
             "#c51b7d"
            ],
            [
             0.2,
             "#de77ae"
            ],
            [
             0.3,
             "#f1b6da"
            ],
            [
             0.4,
             "#fde0ef"
            ],
            [
             0.5,
             "#f7f7f7"
            ],
            [
             0.6,
             "#e6f5d0"
            ],
            [
             0.7,
             "#b8e186"
            ],
            [
             0.8,
             "#7fbc41"
            ],
            [
             0.9,
             "#4d9221"
            ],
            [
             1,
             "#276419"
            ]
           ],
           "sequential": [
            [
             0,
             "#0d0887"
            ],
            [
             0.1111111111111111,
             "#46039f"
            ],
            [
             0.2222222222222222,
             "#7201a8"
            ],
            [
             0.3333333333333333,
             "#9c179e"
            ],
            [
             0.4444444444444444,
             "#bd3786"
            ],
            [
             0.5555555555555556,
             "#d8576b"
            ],
            [
             0.6666666666666666,
             "#ed7953"
            ],
            [
             0.7777777777777778,
             "#fb9f3a"
            ],
            [
             0.8888888888888888,
             "#fdca26"
            ],
            [
             1,
             "#f0f921"
            ]
           ],
           "sequentialminus": [
            [
             0,
             "#0d0887"
            ],
            [
             0.1111111111111111,
             "#46039f"
            ],
            [
             0.2222222222222222,
             "#7201a8"
            ],
            [
             0.3333333333333333,
             "#9c179e"
            ],
            [
             0.4444444444444444,
             "#bd3786"
            ],
            [
             0.5555555555555556,
             "#d8576b"
            ],
            [
             0.6666666666666666,
             "#ed7953"
            ],
            [
             0.7777777777777778,
             "#fb9f3a"
            ],
            [
             0.8888888888888888,
             "#fdca26"
            ],
            [
             1,
             "#f0f921"
            ]
           ]
          },
          "colorway": [
           "#636efa",
           "#EF553B",
           "#00cc96",
           "#ab63fa",
           "#FFA15A",
           "#19d3f3",
           "#FF6692",
           "#B6E880",
           "#FF97FF",
           "#FECB52"
          ],
          "font": {
           "color": "#2a3f5f"
          },
          "geo": {
           "bgcolor": "white",
           "lakecolor": "white",
           "landcolor": "#E5ECF6",
           "showlakes": true,
           "showland": true,
           "subunitcolor": "white"
          },
          "hoverlabel": {
           "align": "left"
          },
          "hovermode": "closest",
          "mapbox": {
           "style": "light"
          },
          "paper_bgcolor": "white",
          "plot_bgcolor": "#E5ECF6",
          "polar": {
           "angularaxis": {
            "gridcolor": "white",
            "linecolor": "white",
            "ticks": ""
           },
           "bgcolor": "#E5ECF6",
           "radialaxis": {
            "gridcolor": "white",
            "linecolor": "white",
            "ticks": ""
           }
          },
          "scene": {
           "xaxis": {
            "backgroundcolor": "#E5ECF6",
            "gridcolor": "white",
            "gridwidth": 2,
            "linecolor": "white",
            "showbackground": true,
            "ticks": "",
            "zerolinecolor": "white"
           },
           "yaxis": {
            "backgroundcolor": "#E5ECF6",
            "gridcolor": "white",
            "gridwidth": 2,
            "linecolor": "white",
            "showbackground": true,
            "ticks": "",
            "zerolinecolor": "white"
           },
           "zaxis": {
            "backgroundcolor": "#E5ECF6",
            "gridcolor": "white",
            "gridwidth": 2,
            "linecolor": "white",
            "showbackground": true,
            "ticks": "",
            "zerolinecolor": "white"
           }
          },
          "shapedefaults": {
           "line": {
            "color": "#2a3f5f"
           }
          },
          "ternary": {
           "aaxis": {
            "gridcolor": "white",
            "linecolor": "white",
            "ticks": ""
           },
           "baxis": {
            "gridcolor": "white",
            "linecolor": "white",
            "ticks": ""
           },
           "bgcolor": "#E5ECF6",
           "caxis": {
            "gridcolor": "white",
            "linecolor": "white",
            "ticks": ""
           }
          },
          "title": {
           "x": 0.05
          },
          "xaxis": {
           "automargin": true,
           "gridcolor": "white",
           "linecolor": "white",
           "ticks": "",
           "title": {
            "standoff": 15
           },
           "zerolinecolor": "white",
           "zerolinewidth": 2
          },
          "yaxis": {
           "automargin": true,
           "gridcolor": "white",
           "linecolor": "white",
           "ticks": "",
           "title": {
            "standoff": 15
           },
           "zerolinecolor": "white",
           "zerolinewidth": 2
          }
         }
        },
        "title": {
         "text": "antiSMASH BGC classes vs CF class cutoff 5"
        },
        "width": 800
       }
      },
      "text/html": [
       "<div>                            <div id=\"1ddd18b8-c99a-4edc-ba1d-40d16891db80\" class=\"plotly-graph-div\" style=\"height:800px; width:800px;\"></div>            <script type=\"text/javascript\">                require([\"plotly\"], function(Plotly) {                    window.PLOTLYENV=window.PLOTLYENV || {};                                    if (document.getElementById(\"1ddd18b8-c99a-4edc-ba1d-40d16891db80\")) {                    Plotly.newPlot(                        \"1ddd18b8-c99a-4edc-ba1d-40d16891db80\",                        [{\"link\": {\"source\": [0, 0, 0, 0, 0, 0, 0, 0, 0, 0, 0, 0, 0, 0, 0, 0, 0, 0, 0, 0, 0, 0, 0, 0, 0, 0, 0, 1, 1, 1, 1, 2, 2, 2, 2, 2, 2, 2, 2, 3, 3, 3, 3, 3, 3, 3, 3, 5, 5, 5, 5, 5, 5, 5, 5, 5, 5, 5, 5, 5, 5, 5, 5, 7, 7, 7, 7, 7, 7, 7, 8, 8, 8, 8, 8, 9, 9, 9, 10, 10, 10, 10, 10, 10, 10, 11, 11, 12, 12, 15, 15, 15, 15, 15, 15, 15, 15, 15, 16, 17, 18, 19, 19, 20, 21, 21, 21, 22, 22, 23, 24, 24, 25, 25, 27, 28, 28, 29, 36, 36, 36, 36, 41, 42, 43], \"target\": [51, 52, 53, 54, 55, 56, 57, 58, 59, 60, 61, 62, 63, 64, 65, 66, 67, 68, 69, 70, 71, 72, 73, 74, 75, 76, 77, 55, 78, 79, 63, 55, 56, 59, 62, 52, 74, 76, 57, 55, 57, 58, 75, 78, 63, 52, 77, 62, 55, 52, 57, 58, 72, 53, 80, 81, 70, 59, 56, 60, 71, 73, 82, 55, 52, 62, 53, 72, 77, 82, 57, 62, 58, 52, 55, 72, 62, 83, 62, 58, 55, 52, 77, 75, 82, 57, 52, 81, 62, 84, 78, 85, 63, 83, 86, 60, 55, 79, 53, 54, 77, 62, 87, 55, 62, 55, 88, 62, 56, 62, 89, 63, 53, 62, 62, 56, 62, 62, 62, 52, 55, 83, 62, 58, 58], \"value\": [5, 49, 67, 7, 84, 35, 48, 25, 19, 12, 5, 64, 10, 10, 8, 7, 6, 5, 5, 21, 12, 9, 8, 8, 16, 5, 5, 7, 8, 6, 5, 13, 21, 10, 12, 6, 8, 5, 5, 9, 6, 11, 16, 10, 6, 7, 5, 211, 22, 13, 9, 14, 22, 187, 13, 6, 23, 8, 8, 6, 8, 8, 5, 9, 7, 6, 11, 19, 9, 5, 23, 5, 15, 6, 5, 63, 9, 12, 24, 6, 5, 7, 7, 17, 5, 8, 6, 14, 7, 12, 15, 6, 19, 8, 11, 6, 10, 14, 14, 7, 18, 11, 5, 27, 7, 5, 8, 10, 5, 10, 5, 5, 6, 10, 9, 5, 19, 20, 6, 67, 7, 7, 9, 5, 5]}, \"node\": {\"label\": [\"T1PKS\", \"oligosaccharide\", \"NRPS-like\", \"PKS-like\", \"butyrolactone\", \"NRPS\", \"arylpolyene\", \"other\", \"transAT-PKS\", \"indole\", \"T3PKS\", \"transAT-PKS-like\", \"lanthipeptide\", \"hserlactone\", \"furan\", \"T2PKS\", \"ladderane\", \"aminocoumarin\", \"phenazine\", \"nucleoside\", \"amglyccycl\", \"blactam\", \"siderophore\", \"betalactone\", \"melanin\", \"bacteriocin\", \"bottromycin\", \"cyanobactin\", \"LAP\", \"thiopeptide\", \"lassopeptide\", \"linaridin\", \"microviridin\", \"proteusin\", \"head_to_tail\", \"sactipeptide\", \"terpene\", \"TfuA-related\", \"fungal-RiPP\", \"resorcinol\", \"CDPS\", \"ectoine\", \"hglE-KS\", \"PUFA\", \"PBDE\", \"phosphonate\", \"fused\", \"RaS-RiPP\", \"PpyS-KS\", \"tropodithietic-acid\", \"phosphoglycolipid\", \"Oxanes\", \"Prenol lipids\", \"Peptidomimetics\", \"Coumarins and derivatives\", \"Organooxygen compounds\", \"Macrolactams\", \"Macrolides and analogues\", \"Fatty Acyls\", \"Benzene and substituted derivatives\", \"Benzopyrans\", \"Isoindoles and derivatives\", \"Carboxylic acids and derivatives\", \"Anthracenes\", \"Pyrans\", \"Benzofurans\", \"Naphthalenes\", \"Lactones\", \"Steroids and steroid derivatives\", \"Carboximidic acids and derivatives\", \"Macrolide lactams\", \"Pyridines and derivatives\", \"Indoles and derivatives\", \"Azoles\", \"Quinolines and derivatives\", \"Phenols\", \"Unsaturated hydrocarbons\", \"Diazanaphthalenes\", \"Anthracyclines\", \"Angucyclines\", \"Benzodiazepines\", \"Polypeptides\", \"Naphthofurans\", \"Naphthopyrans\", \"Phenanthrenes and derivatives\", \"Isochromanequinones\", \"Naphthacenes\", \"Pyrrolopyrimidine nucleosides and nucleotides\", \"Lactams\", \"Depsides and depsidones\"], \"line\": {\"color\": \"black\", \"width\": 0.5}, \"pad\": 15, \"thickness\": 20}, \"type\": \"sankey\"}],                        {\"font\": {\"size\": 12.2}, \"height\": 800, \"template\": {\"data\": {\"bar\": [{\"error_x\": {\"color\": \"#2a3f5f\"}, \"error_y\": {\"color\": \"#2a3f5f\"}, \"marker\": {\"line\": {\"color\": \"#E5ECF6\", \"width\": 0.5}}, \"type\": \"bar\"}], \"barpolar\": [{\"marker\": {\"line\": {\"color\": \"#E5ECF6\", \"width\": 0.5}}, \"type\": \"barpolar\"}], \"carpet\": [{\"aaxis\": {\"endlinecolor\": \"#2a3f5f\", \"gridcolor\": \"white\", \"linecolor\": \"white\", \"minorgridcolor\": \"white\", \"startlinecolor\": \"#2a3f5f\"}, \"baxis\": {\"endlinecolor\": \"#2a3f5f\", \"gridcolor\": \"white\", \"linecolor\": \"white\", \"minorgridcolor\": \"white\", \"startlinecolor\": \"#2a3f5f\"}, \"type\": \"carpet\"}], \"choropleth\": [{\"colorbar\": {\"outlinewidth\": 0, \"ticks\": \"\"}, \"type\": \"choropleth\"}], \"contour\": [{\"colorbar\": {\"outlinewidth\": 0, \"ticks\": \"\"}, \"colorscale\": [[0.0, \"#0d0887\"], [0.1111111111111111, \"#46039f\"], [0.2222222222222222, \"#7201a8\"], [0.3333333333333333, \"#9c179e\"], [0.4444444444444444, \"#bd3786\"], [0.5555555555555556, \"#d8576b\"], [0.6666666666666666, \"#ed7953\"], [0.7777777777777778, \"#fb9f3a\"], [0.8888888888888888, \"#fdca26\"], [1.0, \"#f0f921\"]], \"type\": \"contour\"}], \"contourcarpet\": [{\"colorbar\": {\"outlinewidth\": 0, \"ticks\": \"\"}, \"type\": \"contourcarpet\"}], \"heatmap\": [{\"colorbar\": {\"outlinewidth\": 0, \"ticks\": \"\"}, \"colorscale\": [[0.0, \"#0d0887\"], [0.1111111111111111, \"#46039f\"], [0.2222222222222222, \"#7201a8\"], [0.3333333333333333, \"#9c179e\"], [0.4444444444444444, \"#bd3786\"], [0.5555555555555556, \"#d8576b\"], [0.6666666666666666, \"#ed7953\"], [0.7777777777777778, \"#fb9f3a\"], [0.8888888888888888, \"#fdca26\"], [1.0, \"#f0f921\"]], \"type\": \"heatmap\"}], \"heatmapgl\": [{\"colorbar\": {\"outlinewidth\": 0, \"ticks\": \"\"}, \"colorscale\": [[0.0, \"#0d0887\"], [0.1111111111111111, \"#46039f\"], [0.2222222222222222, \"#7201a8\"], [0.3333333333333333, \"#9c179e\"], [0.4444444444444444, \"#bd3786\"], [0.5555555555555556, \"#d8576b\"], [0.6666666666666666, \"#ed7953\"], [0.7777777777777778, \"#fb9f3a\"], [0.8888888888888888, \"#fdca26\"], [1.0, \"#f0f921\"]], \"type\": \"heatmapgl\"}], \"histogram\": [{\"marker\": {\"colorbar\": {\"outlinewidth\": 0, \"ticks\": \"\"}}, \"type\": \"histogram\"}], \"histogram2d\": [{\"colorbar\": {\"outlinewidth\": 0, \"ticks\": \"\"}, \"colorscale\": [[0.0, \"#0d0887\"], [0.1111111111111111, \"#46039f\"], [0.2222222222222222, \"#7201a8\"], [0.3333333333333333, \"#9c179e\"], [0.4444444444444444, \"#bd3786\"], [0.5555555555555556, \"#d8576b\"], [0.6666666666666666, \"#ed7953\"], [0.7777777777777778, \"#fb9f3a\"], [0.8888888888888888, \"#fdca26\"], [1.0, \"#f0f921\"]], \"type\": \"histogram2d\"}], \"histogram2dcontour\": [{\"colorbar\": {\"outlinewidth\": 0, \"ticks\": \"\"}, \"colorscale\": [[0.0, \"#0d0887\"], [0.1111111111111111, \"#46039f\"], [0.2222222222222222, \"#7201a8\"], [0.3333333333333333, \"#9c179e\"], [0.4444444444444444, \"#bd3786\"], [0.5555555555555556, \"#d8576b\"], [0.6666666666666666, \"#ed7953\"], [0.7777777777777778, \"#fb9f3a\"], [0.8888888888888888, \"#fdca26\"], [1.0, \"#f0f921\"]], \"type\": \"histogram2dcontour\"}], \"mesh3d\": [{\"colorbar\": {\"outlinewidth\": 0, \"ticks\": \"\"}, \"type\": \"mesh3d\"}], \"parcoords\": [{\"line\": {\"colorbar\": {\"outlinewidth\": 0, \"ticks\": \"\"}}, \"type\": \"parcoords\"}], \"pie\": [{\"automargin\": true, \"type\": \"pie\"}], \"scatter\": [{\"marker\": {\"colorbar\": {\"outlinewidth\": 0, \"ticks\": \"\"}}, \"type\": \"scatter\"}], \"scatter3d\": [{\"line\": {\"colorbar\": {\"outlinewidth\": 0, \"ticks\": \"\"}}, \"marker\": {\"colorbar\": {\"outlinewidth\": 0, \"ticks\": \"\"}}, \"type\": \"scatter3d\"}], \"scattercarpet\": [{\"marker\": {\"colorbar\": {\"outlinewidth\": 0, \"ticks\": \"\"}}, \"type\": \"scattercarpet\"}], \"scattergeo\": [{\"marker\": {\"colorbar\": {\"outlinewidth\": 0, \"ticks\": \"\"}}, \"type\": \"scattergeo\"}], \"scattergl\": [{\"marker\": {\"colorbar\": {\"outlinewidth\": 0, \"ticks\": \"\"}}, \"type\": \"scattergl\"}], \"scattermapbox\": [{\"marker\": {\"colorbar\": {\"outlinewidth\": 0, \"ticks\": \"\"}}, \"type\": \"scattermapbox\"}], \"scatterpolar\": [{\"marker\": {\"colorbar\": {\"outlinewidth\": 0, \"ticks\": \"\"}}, \"type\": \"scatterpolar\"}], \"scatterpolargl\": [{\"marker\": {\"colorbar\": {\"outlinewidth\": 0, \"ticks\": \"\"}}, \"type\": \"scatterpolargl\"}], \"scatterternary\": [{\"marker\": {\"colorbar\": {\"outlinewidth\": 0, \"ticks\": \"\"}}, \"type\": \"scatterternary\"}], \"surface\": [{\"colorbar\": {\"outlinewidth\": 0, \"ticks\": \"\"}, \"colorscale\": [[0.0, \"#0d0887\"], [0.1111111111111111, \"#46039f\"], [0.2222222222222222, \"#7201a8\"], [0.3333333333333333, \"#9c179e\"], [0.4444444444444444, \"#bd3786\"], [0.5555555555555556, \"#d8576b\"], [0.6666666666666666, \"#ed7953\"], [0.7777777777777778, \"#fb9f3a\"], [0.8888888888888888, \"#fdca26\"], [1.0, \"#f0f921\"]], \"type\": \"surface\"}], \"table\": [{\"cells\": {\"fill\": {\"color\": \"#EBF0F8\"}, \"line\": {\"color\": \"white\"}}, \"header\": {\"fill\": {\"color\": \"#C8D4E3\"}, \"line\": {\"color\": \"white\"}}, \"type\": \"table\"}]}, \"layout\": {\"annotationdefaults\": {\"arrowcolor\": \"#2a3f5f\", \"arrowhead\": 0, \"arrowwidth\": 1}, \"autotypenumbers\": \"strict\", \"coloraxis\": {\"colorbar\": {\"outlinewidth\": 0, \"ticks\": \"\"}}, \"colorscale\": {\"diverging\": [[0, \"#8e0152\"], [0.1, \"#c51b7d\"], [0.2, \"#de77ae\"], [0.3, \"#f1b6da\"], [0.4, \"#fde0ef\"], [0.5, \"#f7f7f7\"], [0.6, \"#e6f5d0\"], [0.7, \"#b8e186\"], [0.8, \"#7fbc41\"], [0.9, \"#4d9221\"], [1, \"#276419\"]], \"sequential\": [[0.0, \"#0d0887\"], [0.1111111111111111, \"#46039f\"], [0.2222222222222222, \"#7201a8\"], [0.3333333333333333, \"#9c179e\"], [0.4444444444444444, \"#bd3786\"], [0.5555555555555556, \"#d8576b\"], [0.6666666666666666, \"#ed7953\"], [0.7777777777777778, \"#fb9f3a\"], [0.8888888888888888, \"#fdca26\"], [1.0, \"#f0f921\"]], \"sequentialminus\": [[0.0, \"#0d0887\"], [0.1111111111111111, \"#46039f\"], [0.2222222222222222, \"#7201a8\"], [0.3333333333333333, \"#9c179e\"], [0.4444444444444444, \"#bd3786\"], [0.5555555555555556, \"#d8576b\"], [0.6666666666666666, \"#ed7953\"], [0.7777777777777778, \"#fb9f3a\"], [0.8888888888888888, \"#fdca26\"], [1.0, \"#f0f921\"]]}, \"colorway\": [\"#636efa\", \"#EF553B\", \"#00cc96\", \"#ab63fa\", \"#FFA15A\", \"#19d3f3\", \"#FF6692\", \"#B6E880\", \"#FF97FF\", \"#FECB52\"], \"font\": {\"color\": \"#2a3f5f\"}, \"geo\": {\"bgcolor\": \"white\", \"lakecolor\": \"white\", \"landcolor\": \"#E5ECF6\", \"showlakes\": true, \"showland\": true, \"subunitcolor\": \"white\"}, \"hoverlabel\": {\"align\": \"left\"}, \"hovermode\": \"closest\", \"mapbox\": {\"style\": \"light\"}, \"paper_bgcolor\": \"white\", \"plot_bgcolor\": \"#E5ECF6\", \"polar\": {\"angularaxis\": {\"gridcolor\": \"white\", \"linecolor\": \"white\", \"ticks\": \"\"}, \"bgcolor\": \"#E5ECF6\", \"radialaxis\": {\"gridcolor\": \"white\", \"linecolor\": \"white\", \"ticks\": \"\"}}, \"scene\": {\"xaxis\": {\"backgroundcolor\": \"#E5ECF6\", \"gridcolor\": \"white\", \"gridwidth\": 2, \"linecolor\": \"white\", \"showbackground\": true, \"ticks\": \"\", \"zerolinecolor\": \"white\"}, \"yaxis\": {\"backgroundcolor\": \"#E5ECF6\", \"gridcolor\": \"white\", \"gridwidth\": 2, \"linecolor\": \"white\", \"showbackground\": true, \"ticks\": \"\", \"zerolinecolor\": \"white\"}, \"zaxis\": {\"backgroundcolor\": \"#E5ECF6\", \"gridcolor\": \"white\", \"gridwidth\": 2, \"linecolor\": \"white\", \"showbackground\": true, \"ticks\": \"\", \"zerolinecolor\": \"white\"}}, \"shapedefaults\": {\"line\": {\"color\": \"#2a3f5f\"}}, \"ternary\": {\"aaxis\": {\"gridcolor\": \"white\", \"linecolor\": \"white\", \"ticks\": \"\"}, \"baxis\": {\"gridcolor\": \"white\", \"linecolor\": \"white\", \"ticks\": \"\"}, \"bgcolor\": \"#E5ECF6\", \"caxis\": {\"gridcolor\": \"white\", \"linecolor\": \"white\", \"ticks\": \"\"}}, \"title\": {\"x\": 0.05}, \"xaxis\": {\"automargin\": true, \"gridcolor\": \"white\", \"linecolor\": \"white\", \"ticks\": \"\", \"title\": {\"standoff\": 15}, \"zerolinecolor\": \"white\", \"zerolinewidth\": 2}, \"yaxis\": {\"automargin\": true, \"gridcolor\": \"white\", \"linecolor\": \"white\", \"ticks\": \"\", \"title\": {\"standoff\": 15}, \"zerolinecolor\": \"white\", \"zerolinewidth\": 2}}}, \"title\": {\"text\": \"antiSMASH BGC classes vs CF class cutoff 5\"}, \"width\": 800},                        {\"responsive\": true}                    ).then(function(){\n",
       "                            \n",
       "var gd = document.getElementById('1ddd18b8-c99a-4edc-ba1d-40d16891db80');\n",
       "var x = new MutationObserver(function (mutations, observer) {{\n",
       "        var display = window.getComputedStyle(gd).display;\n",
       "        if (!display || display === 'none') {{\n",
       "            console.log([gd, 'removed!']);\n",
       "            Plotly.purge(gd);\n",
       "            observer.disconnect();\n",
       "        }}\n",
       "}});\n",
       "\n",
       "// Listen for the removal of the full notebook cells\n",
       "var notebookContainer = gd.closest('#notebook-container');\n",
       "if (notebookContainer) {{\n",
       "    x.observe(notebookContainer, {childList: true});\n",
       "}}\n",
       "\n",
       "// Listen for the clearing of the current output cell\n",
       "var outputEl = gd.closest('.output');\n",
       "if (outputEl) {{\n",
       "    x.observe(outputEl, {childList: true});\n",
       "}}\n",
       "\n",
       "                        })                };                });            </script>        </div>"
      ]
     },
     "metadata": {},
     "output_type": "display_data"
    }
   ],
   "source": [
    "# need to do some naming cleanup to make this plot visible\n",
    "from copy import deepcopy\n",
    "# only select results with counts >5\n",
    "cutoff = 5\n",
    "as_classes_cutoff = deepcopy(result['as_classes']['cf_class'])\n",
    "for key, inner_dict in as_classes_cutoff.items():\n",
    "    inner_copy = deepcopy(list(inner_dict.items()))\n",
    "    for inner_key, value in inner_copy:\n",
    "        if value < cutoff:\n",
    "            del as_classes_cutoff[key][inner_key]\n",
    "cur_fig_title = \"antiSMASH BGC classes vs CF class cutoff 5\"\n",
    "fig_result = make_class_sankey_plot(as_classes_cutoff, cur_fig_title)\n",
    "fig_result.update_layout(\n",
    "#     autosize=False,\n",
    "    width=800,\n",
    "    height=800,\n",
    "    font_size=12.2\n",
    ")\n",
    "fig_result.write_image(os.path.join(out_base, '_'.join(cur_fig_title.split(' '))) + \".svg\")\n",
    "fig_result"
   ]
  },
  {
   "cell_type": "code",
   "execution_count": 51,
   "id": "gorgeous-gothic",
   "metadata": {},
   "outputs": [
    {
     "data": {
      "application/vnd.plotly.v1+json": {
       "config": {
        "plotlyServerURL": "https://plot.ly"
       },
       "data": [
        {
         "link": {
          "source": [
           0,
           0,
           0,
           0,
           0,
           0,
           0,
           0,
           0,
           0,
           0,
           0,
           0,
           0,
           0,
           0,
           0,
           0,
           0,
           0,
           0,
           0,
           0,
           1,
           1,
           1,
           1,
           1,
           2,
           2,
           3,
           3,
           3,
           3,
           3,
           3,
           4,
           4,
           4,
           4,
           4,
           4,
           4,
           4,
           4,
           4,
           4,
           4,
           4,
           4,
           4,
           4,
           4,
           4,
           6,
           6,
           6,
           6,
           7,
           7,
           7,
           8,
           10,
           10,
           11,
           11,
           11,
           11,
           11,
           11,
           11,
           12,
           12,
           13,
           16,
           16,
           17,
           18,
           19,
           20,
           20,
           21,
           21,
           22,
           23,
           23,
           24,
           25,
           27,
           28,
           29,
           30,
           36,
           36,
           36,
           36,
           37,
           40
          ],
          "target": [
           51,
           52,
           53,
           54,
           55,
           56,
           57,
           58,
           59,
           60,
           61,
           62,
           63,
           64,
           65,
           66,
           67,
           68,
           69,
           70,
           71,
           72,
           73,
           55,
           51,
           56,
           74,
           61,
           51,
           62,
           51,
           55,
           62,
           69,
           65,
           72,
           55,
           64,
           51,
           65,
           66,
           75,
           76,
           77,
           78,
           69,
           79,
           71,
           80,
           81,
           82,
           59,
           70,
           56,
           51,
           65,
           71,
           69,
           73,
           55,
           51,
           62,
           75,
           71,
           51,
           55,
           57,
           65,
           69,
           77,
           72,
           51,
           55,
           65,
           62,
           57,
           65,
           69,
           77,
           83,
           84,
           77,
           79,
           65,
           65,
           76,
           85,
           65,
           65,
           65,
           65,
           65,
           60,
           86,
           57,
           71,
           65,
           76
          ],
          "value": [
           185,
           18,
           13,
           6,
           80,
           31,
           9,
           15,
           10,
           5,
           6,
           20,
           9,
           5,
           138,
           15,
           16,
           12,
           6,
           5,
           9,
           22,
           7,
           5,
           52,
           6,
           5,
           5,
           7,
           31,
           22,
           16,
           21,
           6,
           7,
           20,
           48,
           5,
           39,
           400,
           12,
           30,
           33,
           6,
           7,
           20,
           6,
           11,
           6,
           5,
           7,
           7,
           7,
           5,
           7,
           15,
           24,
           10,
           11,
           20,
           23,
           7,
           13,
           74,
           5,
           13,
           8,
           24,
           8,
           12,
           22,
           15,
           8,
           23,
           123,
           16,
           19,
           20,
           21,
           27,
           14,
           6,
           14,
           5,
           8,
           5,
           8,
           23,
           16,
           28,
           27,
           11,
           43,
           14,
           5,
           11,
           7,
           9
          ]
         },
         "node": {
          "label": [
           "T1PKS",
           "NRPS-like",
           "oligosaccharide",
           "PKS-like",
           "NRPS",
           "arylpolyene",
           "other",
           "transAT-PKS",
           "butyrolactone",
           "aminocoumarin",
           "indole",
           "T3PKS",
           "transAT-PKS-like",
           "lanthipeptide",
           "hserlactone",
           "furan",
           "T2PKS",
           "ladderane",
           "phenazine",
           "nucleoside",
           "amglyccycl",
           "blactam",
           "siderophore",
           "betalactone",
           "melanin",
           "bacteriocin",
           "bottromycin",
           "cyanobactin",
           "LAP",
           "thiopeptide",
           "lassopeptide",
           "linaridin",
           "microviridin",
           "proteusin",
           "head_to_tail",
           "sactipeptide",
           "terpene",
           "TfuA-related",
           "fungal-RiPP",
           "CDPS",
           "ectoine",
           "hglE-KS",
           "PUFA",
           "PBDE",
           "phosphonate",
           "RaS-RiPP",
           "PpyS-KS",
           "tropodithietic-acid",
           "phosphoglycolipid",
           "resorcinol",
           "fused",
           "Macrolides",
           "Chromanes",
           "Coumarins",
           "Xanthones",
           "Linear polyketides",
           "Cyclic polyketides",
           "Naphthalenes",
           "Polyethers",
           "Pseudoalkaloids",
           "Sesquiterpenoids",
           "Fatty acyls",
           "Polycyclic aromatic polyketides",
           "Aromatic polyketides",
           "Tetramate alkaloids",
           "Oligopeptides",
           "Nicotinic acid alkaloids",
           "Proline alkaloids",
           "Meroterpenoids",
           "Anthranilic acid alkaloids",
           "Fatty amides",
           "Tryptophan alkaloids",
           "Alkylresorsinols",
           "Lysine alkaloids",
           "Terphenyls",
           "Peptide alkaloids",
           "Small peptides",
           "Nucleosides",
           "Histidine alkaloids",
           "β-lactams",
           "Tyrosine alkaloids",
           "Serine alkaloids",
           "Ornithine alkaloids",
           "Polyols",
           "Aminosugars and aminoglycosides",
           "Phenolic acids (C6-C1)",
           "Diterpenoids"
          ],
          "line": {
           "color": "black",
           "width": 0.5
          },
          "pad": 15,
          "thickness": 20
         },
         "type": "sankey"
        }
       ],
       "layout": {
        "font": {
         "size": 12.2
        },
        "height": 800,
        "template": {
         "data": {
          "bar": [
           {
            "error_x": {
             "color": "#2a3f5f"
            },
            "error_y": {
             "color": "#2a3f5f"
            },
            "marker": {
             "line": {
              "color": "#E5ECF6",
              "width": 0.5
             }
            },
            "type": "bar"
           }
          ],
          "barpolar": [
           {
            "marker": {
             "line": {
              "color": "#E5ECF6",
              "width": 0.5
             }
            },
            "type": "barpolar"
           }
          ],
          "carpet": [
           {
            "aaxis": {
             "endlinecolor": "#2a3f5f",
             "gridcolor": "white",
             "linecolor": "white",
             "minorgridcolor": "white",
             "startlinecolor": "#2a3f5f"
            },
            "baxis": {
             "endlinecolor": "#2a3f5f",
             "gridcolor": "white",
             "linecolor": "white",
             "minorgridcolor": "white",
             "startlinecolor": "#2a3f5f"
            },
            "type": "carpet"
           }
          ],
          "choropleth": [
           {
            "colorbar": {
             "outlinewidth": 0,
             "ticks": ""
            },
            "type": "choropleth"
           }
          ],
          "contour": [
           {
            "colorbar": {
             "outlinewidth": 0,
             "ticks": ""
            },
            "colorscale": [
             [
              0,
              "#0d0887"
             ],
             [
              0.1111111111111111,
              "#46039f"
             ],
             [
              0.2222222222222222,
              "#7201a8"
             ],
             [
              0.3333333333333333,
              "#9c179e"
             ],
             [
              0.4444444444444444,
              "#bd3786"
             ],
             [
              0.5555555555555556,
              "#d8576b"
             ],
             [
              0.6666666666666666,
              "#ed7953"
             ],
             [
              0.7777777777777778,
              "#fb9f3a"
             ],
             [
              0.8888888888888888,
              "#fdca26"
             ],
             [
              1,
              "#f0f921"
             ]
            ],
            "type": "contour"
           }
          ],
          "contourcarpet": [
           {
            "colorbar": {
             "outlinewidth": 0,
             "ticks": ""
            },
            "type": "contourcarpet"
           }
          ],
          "heatmap": [
           {
            "colorbar": {
             "outlinewidth": 0,
             "ticks": ""
            },
            "colorscale": [
             [
              0,
              "#0d0887"
             ],
             [
              0.1111111111111111,
              "#46039f"
             ],
             [
              0.2222222222222222,
              "#7201a8"
             ],
             [
              0.3333333333333333,
              "#9c179e"
             ],
             [
              0.4444444444444444,
              "#bd3786"
             ],
             [
              0.5555555555555556,
              "#d8576b"
             ],
             [
              0.6666666666666666,
              "#ed7953"
             ],
             [
              0.7777777777777778,
              "#fb9f3a"
             ],
             [
              0.8888888888888888,
              "#fdca26"
             ],
             [
              1,
              "#f0f921"
             ]
            ],
            "type": "heatmap"
           }
          ],
          "heatmapgl": [
           {
            "colorbar": {
             "outlinewidth": 0,
             "ticks": ""
            },
            "colorscale": [
             [
              0,
              "#0d0887"
             ],
             [
              0.1111111111111111,
              "#46039f"
             ],
             [
              0.2222222222222222,
              "#7201a8"
             ],
             [
              0.3333333333333333,
              "#9c179e"
             ],
             [
              0.4444444444444444,
              "#bd3786"
             ],
             [
              0.5555555555555556,
              "#d8576b"
             ],
             [
              0.6666666666666666,
              "#ed7953"
             ],
             [
              0.7777777777777778,
              "#fb9f3a"
             ],
             [
              0.8888888888888888,
              "#fdca26"
             ],
             [
              1,
              "#f0f921"
             ]
            ],
            "type": "heatmapgl"
           }
          ],
          "histogram": [
           {
            "marker": {
             "colorbar": {
              "outlinewidth": 0,
              "ticks": ""
             }
            },
            "type": "histogram"
           }
          ],
          "histogram2d": [
           {
            "colorbar": {
             "outlinewidth": 0,
             "ticks": ""
            },
            "colorscale": [
             [
              0,
              "#0d0887"
             ],
             [
              0.1111111111111111,
              "#46039f"
             ],
             [
              0.2222222222222222,
              "#7201a8"
             ],
             [
              0.3333333333333333,
              "#9c179e"
             ],
             [
              0.4444444444444444,
              "#bd3786"
             ],
             [
              0.5555555555555556,
              "#d8576b"
             ],
             [
              0.6666666666666666,
              "#ed7953"
             ],
             [
              0.7777777777777778,
              "#fb9f3a"
             ],
             [
              0.8888888888888888,
              "#fdca26"
             ],
             [
              1,
              "#f0f921"
             ]
            ],
            "type": "histogram2d"
           }
          ],
          "histogram2dcontour": [
           {
            "colorbar": {
             "outlinewidth": 0,
             "ticks": ""
            },
            "colorscale": [
             [
              0,
              "#0d0887"
             ],
             [
              0.1111111111111111,
              "#46039f"
             ],
             [
              0.2222222222222222,
              "#7201a8"
             ],
             [
              0.3333333333333333,
              "#9c179e"
             ],
             [
              0.4444444444444444,
              "#bd3786"
             ],
             [
              0.5555555555555556,
              "#d8576b"
             ],
             [
              0.6666666666666666,
              "#ed7953"
             ],
             [
              0.7777777777777778,
              "#fb9f3a"
             ],
             [
              0.8888888888888888,
              "#fdca26"
             ],
             [
              1,
              "#f0f921"
             ]
            ],
            "type": "histogram2dcontour"
           }
          ],
          "mesh3d": [
           {
            "colorbar": {
             "outlinewidth": 0,
             "ticks": ""
            },
            "type": "mesh3d"
           }
          ],
          "parcoords": [
           {
            "line": {
             "colorbar": {
              "outlinewidth": 0,
              "ticks": ""
             }
            },
            "type": "parcoords"
           }
          ],
          "pie": [
           {
            "automargin": true,
            "type": "pie"
           }
          ],
          "scatter": [
           {
            "marker": {
             "colorbar": {
              "outlinewidth": 0,
              "ticks": ""
             }
            },
            "type": "scatter"
           }
          ],
          "scatter3d": [
           {
            "line": {
             "colorbar": {
              "outlinewidth": 0,
              "ticks": ""
             }
            },
            "marker": {
             "colorbar": {
              "outlinewidth": 0,
              "ticks": ""
             }
            },
            "type": "scatter3d"
           }
          ],
          "scattercarpet": [
           {
            "marker": {
             "colorbar": {
              "outlinewidth": 0,
              "ticks": ""
             }
            },
            "type": "scattercarpet"
           }
          ],
          "scattergeo": [
           {
            "marker": {
             "colorbar": {
              "outlinewidth": 0,
              "ticks": ""
             }
            },
            "type": "scattergeo"
           }
          ],
          "scattergl": [
           {
            "marker": {
             "colorbar": {
              "outlinewidth": 0,
              "ticks": ""
             }
            },
            "type": "scattergl"
           }
          ],
          "scattermapbox": [
           {
            "marker": {
             "colorbar": {
              "outlinewidth": 0,
              "ticks": ""
             }
            },
            "type": "scattermapbox"
           }
          ],
          "scatterpolar": [
           {
            "marker": {
             "colorbar": {
              "outlinewidth": 0,
              "ticks": ""
             }
            },
            "type": "scatterpolar"
           }
          ],
          "scatterpolargl": [
           {
            "marker": {
             "colorbar": {
              "outlinewidth": 0,
              "ticks": ""
             }
            },
            "type": "scatterpolargl"
           }
          ],
          "scatterternary": [
           {
            "marker": {
             "colorbar": {
              "outlinewidth": 0,
              "ticks": ""
             }
            },
            "type": "scatterternary"
           }
          ],
          "surface": [
           {
            "colorbar": {
             "outlinewidth": 0,
             "ticks": ""
            },
            "colorscale": [
             [
              0,
              "#0d0887"
             ],
             [
              0.1111111111111111,
              "#46039f"
             ],
             [
              0.2222222222222222,
              "#7201a8"
             ],
             [
              0.3333333333333333,
              "#9c179e"
             ],
             [
              0.4444444444444444,
              "#bd3786"
             ],
             [
              0.5555555555555556,
              "#d8576b"
             ],
             [
              0.6666666666666666,
              "#ed7953"
             ],
             [
              0.7777777777777778,
              "#fb9f3a"
             ],
             [
              0.8888888888888888,
              "#fdca26"
             ],
             [
              1,
              "#f0f921"
             ]
            ],
            "type": "surface"
           }
          ],
          "table": [
           {
            "cells": {
             "fill": {
              "color": "#EBF0F8"
             },
             "line": {
              "color": "white"
             }
            },
            "header": {
             "fill": {
              "color": "#C8D4E3"
             },
             "line": {
              "color": "white"
             }
            },
            "type": "table"
           }
          ]
         },
         "layout": {
          "annotationdefaults": {
           "arrowcolor": "#2a3f5f",
           "arrowhead": 0,
           "arrowwidth": 1
          },
          "autotypenumbers": "strict",
          "coloraxis": {
           "colorbar": {
            "outlinewidth": 0,
            "ticks": ""
           }
          },
          "colorscale": {
           "diverging": [
            [
             0,
             "#8e0152"
            ],
            [
             0.1,
             "#c51b7d"
            ],
            [
             0.2,
             "#de77ae"
            ],
            [
             0.3,
             "#f1b6da"
            ],
            [
             0.4,
             "#fde0ef"
            ],
            [
             0.5,
             "#f7f7f7"
            ],
            [
             0.6,
             "#e6f5d0"
            ],
            [
             0.7,
             "#b8e186"
            ],
            [
             0.8,
             "#7fbc41"
            ],
            [
             0.9,
             "#4d9221"
            ],
            [
             1,
             "#276419"
            ]
           ],
           "sequential": [
            [
             0,
             "#0d0887"
            ],
            [
             0.1111111111111111,
             "#46039f"
            ],
            [
             0.2222222222222222,
             "#7201a8"
            ],
            [
             0.3333333333333333,
             "#9c179e"
            ],
            [
             0.4444444444444444,
             "#bd3786"
            ],
            [
             0.5555555555555556,
             "#d8576b"
            ],
            [
             0.6666666666666666,
             "#ed7953"
            ],
            [
             0.7777777777777778,
             "#fb9f3a"
            ],
            [
             0.8888888888888888,
             "#fdca26"
            ],
            [
             1,
             "#f0f921"
            ]
           ],
           "sequentialminus": [
            [
             0,
             "#0d0887"
            ],
            [
             0.1111111111111111,
             "#46039f"
            ],
            [
             0.2222222222222222,
             "#7201a8"
            ],
            [
             0.3333333333333333,
             "#9c179e"
            ],
            [
             0.4444444444444444,
             "#bd3786"
            ],
            [
             0.5555555555555556,
             "#d8576b"
            ],
            [
             0.6666666666666666,
             "#ed7953"
            ],
            [
             0.7777777777777778,
             "#fb9f3a"
            ],
            [
             0.8888888888888888,
             "#fdca26"
            ],
            [
             1,
             "#f0f921"
            ]
           ]
          },
          "colorway": [
           "#636efa",
           "#EF553B",
           "#00cc96",
           "#ab63fa",
           "#FFA15A",
           "#19d3f3",
           "#FF6692",
           "#B6E880",
           "#FF97FF",
           "#FECB52"
          ],
          "font": {
           "color": "#2a3f5f"
          },
          "geo": {
           "bgcolor": "white",
           "lakecolor": "white",
           "landcolor": "#E5ECF6",
           "showlakes": true,
           "showland": true,
           "subunitcolor": "white"
          },
          "hoverlabel": {
           "align": "left"
          },
          "hovermode": "closest",
          "mapbox": {
           "style": "light"
          },
          "paper_bgcolor": "white",
          "plot_bgcolor": "#E5ECF6",
          "polar": {
           "angularaxis": {
            "gridcolor": "white",
            "linecolor": "white",
            "ticks": ""
           },
           "bgcolor": "#E5ECF6",
           "radialaxis": {
            "gridcolor": "white",
            "linecolor": "white",
            "ticks": ""
           }
          },
          "scene": {
           "xaxis": {
            "backgroundcolor": "#E5ECF6",
            "gridcolor": "white",
            "gridwidth": 2,
            "linecolor": "white",
            "showbackground": true,
            "ticks": "",
            "zerolinecolor": "white"
           },
           "yaxis": {
            "backgroundcolor": "#E5ECF6",
            "gridcolor": "white",
            "gridwidth": 2,
            "linecolor": "white",
            "showbackground": true,
            "ticks": "",
            "zerolinecolor": "white"
           },
           "zaxis": {
            "backgroundcolor": "#E5ECF6",
            "gridcolor": "white",
            "gridwidth": 2,
            "linecolor": "white",
            "showbackground": true,
            "ticks": "",
            "zerolinecolor": "white"
           }
          },
          "shapedefaults": {
           "line": {
            "color": "#2a3f5f"
           }
          },
          "ternary": {
           "aaxis": {
            "gridcolor": "white",
            "linecolor": "white",
            "ticks": ""
           },
           "baxis": {
            "gridcolor": "white",
            "linecolor": "white",
            "ticks": ""
           },
           "bgcolor": "#E5ECF6",
           "caxis": {
            "gridcolor": "white",
            "linecolor": "white",
            "ticks": ""
           }
          },
          "title": {
           "x": 0.05
          },
          "xaxis": {
           "automargin": true,
           "gridcolor": "white",
           "linecolor": "white",
           "ticks": "",
           "title": {
            "standoff": 15
           },
           "zerolinecolor": "white",
           "zerolinewidth": 2
          },
          "yaxis": {
           "automargin": true,
           "gridcolor": "white",
           "linecolor": "white",
           "ticks": "",
           "title": {
            "standoff": 15
           },
           "zerolinecolor": "white",
           "zerolinewidth": 2
          }
         }
        },
        "title": {
         "text": "antiSMASH BGC classes vs NPC superclass cutoff 5"
        },
        "width": 800
       }
      },
      "text/html": [
       "<div>                            <div id=\"cefd86fb-3c98-4f8d-a4a2-29caf71302e6\" class=\"plotly-graph-div\" style=\"height:800px; width:800px;\"></div>            <script type=\"text/javascript\">                require([\"plotly\"], function(Plotly) {                    window.PLOTLYENV=window.PLOTLYENV || {};                                    if (document.getElementById(\"cefd86fb-3c98-4f8d-a4a2-29caf71302e6\")) {                    Plotly.newPlot(                        \"cefd86fb-3c98-4f8d-a4a2-29caf71302e6\",                        [{\"link\": {\"source\": [0, 0, 0, 0, 0, 0, 0, 0, 0, 0, 0, 0, 0, 0, 0, 0, 0, 0, 0, 0, 0, 0, 0, 1, 1, 1, 1, 1, 2, 2, 3, 3, 3, 3, 3, 3, 4, 4, 4, 4, 4, 4, 4, 4, 4, 4, 4, 4, 4, 4, 4, 4, 4, 4, 6, 6, 6, 6, 7, 7, 7, 8, 10, 10, 11, 11, 11, 11, 11, 11, 11, 12, 12, 13, 16, 16, 17, 18, 19, 20, 20, 21, 21, 22, 23, 23, 24, 25, 27, 28, 29, 30, 36, 36, 36, 36, 37, 40], \"target\": [51, 52, 53, 54, 55, 56, 57, 58, 59, 60, 61, 62, 63, 64, 65, 66, 67, 68, 69, 70, 71, 72, 73, 55, 51, 56, 74, 61, 51, 62, 51, 55, 62, 69, 65, 72, 55, 64, 51, 65, 66, 75, 76, 77, 78, 69, 79, 71, 80, 81, 82, 59, 70, 56, 51, 65, 71, 69, 73, 55, 51, 62, 75, 71, 51, 55, 57, 65, 69, 77, 72, 51, 55, 65, 62, 57, 65, 69, 77, 83, 84, 77, 79, 65, 65, 76, 85, 65, 65, 65, 65, 65, 60, 86, 57, 71, 65, 76], \"value\": [185, 18, 13, 6, 80, 31, 9, 15, 10, 5, 6, 20, 9, 5, 138, 15, 16, 12, 6, 5, 9, 22, 7, 5, 52, 6, 5, 5, 7, 31, 22, 16, 21, 6, 7, 20, 48, 5, 39, 400, 12, 30, 33, 6, 7, 20, 6, 11, 6, 5, 7, 7, 7, 5, 7, 15, 24, 10, 11, 20, 23, 7, 13, 74, 5, 13, 8, 24, 8, 12, 22, 15, 8, 23, 123, 16, 19, 20, 21, 27, 14, 6, 14, 5, 8, 5, 8, 23, 16, 28, 27, 11, 43, 14, 5, 11, 7, 9]}, \"node\": {\"label\": [\"T1PKS\", \"NRPS-like\", \"oligosaccharide\", \"PKS-like\", \"NRPS\", \"arylpolyene\", \"other\", \"transAT-PKS\", \"butyrolactone\", \"aminocoumarin\", \"indole\", \"T3PKS\", \"transAT-PKS-like\", \"lanthipeptide\", \"hserlactone\", \"furan\", \"T2PKS\", \"ladderane\", \"phenazine\", \"nucleoside\", \"amglyccycl\", \"blactam\", \"siderophore\", \"betalactone\", \"melanin\", \"bacteriocin\", \"bottromycin\", \"cyanobactin\", \"LAP\", \"thiopeptide\", \"lassopeptide\", \"linaridin\", \"microviridin\", \"proteusin\", \"head_to_tail\", \"sactipeptide\", \"terpene\", \"TfuA-related\", \"fungal-RiPP\", \"CDPS\", \"ectoine\", \"hglE-KS\", \"PUFA\", \"PBDE\", \"phosphonate\", \"RaS-RiPP\", \"PpyS-KS\", \"tropodithietic-acid\", \"phosphoglycolipid\", \"resorcinol\", \"fused\", \"Macrolides\", \"Chromanes\", \"Coumarins\", \"Xanthones\", \"Linear polyketides\", \"Cyclic polyketides\", \"Naphthalenes\", \"Polyethers\", \"Pseudoalkaloids\", \"Sesquiterpenoids\", \"Fatty acyls\", \"Polycyclic aromatic polyketides\", \"Aromatic polyketides\", \"Tetramate alkaloids\", \"Oligopeptides\", \"Nicotinic acid alkaloids\", \"Proline alkaloids\", \"Meroterpenoids\", \"Anthranilic acid alkaloids\", \"Fatty amides\", \"Tryptophan alkaloids\", \"Alkylresorsinols\", \"Lysine alkaloids\", \"Terphenyls\", \"Peptide alkaloids\", \"Small peptides\", \"Nucleosides\", \"Histidine alkaloids\", \"\\u03b2-lactams\", \"Tyrosine alkaloids\", \"Serine alkaloids\", \"Ornithine alkaloids\", \"Polyols\", \"Aminosugars and aminoglycosides\", \"Phenolic acids (C6-C1)\", \"Diterpenoids\"], \"line\": {\"color\": \"black\", \"width\": 0.5}, \"pad\": 15, \"thickness\": 20}, \"type\": \"sankey\"}],                        {\"font\": {\"size\": 12.2}, \"height\": 800, \"template\": {\"data\": {\"bar\": [{\"error_x\": {\"color\": \"#2a3f5f\"}, \"error_y\": {\"color\": \"#2a3f5f\"}, \"marker\": {\"line\": {\"color\": \"#E5ECF6\", \"width\": 0.5}}, \"type\": \"bar\"}], \"barpolar\": [{\"marker\": {\"line\": {\"color\": \"#E5ECF6\", \"width\": 0.5}}, \"type\": \"barpolar\"}], \"carpet\": [{\"aaxis\": {\"endlinecolor\": \"#2a3f5f\", \"gridcolor\": \"white\", \"linecolor\": \"white\", \"minorgridcolor\": \"white\", \"startlinecolor\": \"#2a3f5f\"}, \"baxis\": {\"endlinecolor\": \"#2a3f5f\", \"gridcolor\": \"white\", \"linecolor\": \"white\", \"minorgridcolor\": \"white\", \"startlinecolor\": \"#2a3f5f\"}, \"type\": \"carpet\"}], \"choropleth\": [{\"colorbar\": {\"outlinewidth\": 0, \"ticks\": \"\"}, \"type\": \"choropleth\"}], \"contour\": [{\"colorbar\": {\"outlinewidth\": 0, \"ticks\": \"\"}, \"colorscale\": [[0.0, \"#0d0887\"], [0.1111111111111111, \"#46039f\"], [0.2222222222222222, \"#7201a8\"], [0.3333333333333333, \"#9c179e\"], [0.4444444444444444, \"#bd3786\"], [0.5555555555555556, \"#d8576b\"], [0.6666666666666666, \"#ed7953\"], [0.7777777777777778, \"#fb9f3a\"], [0.8888888888888888, \"#fdca26\"], [1.0, \"#f0f921\"]], \"type\": \"contour\"}], \"contourcarpet\": [{\"colorbar\": {\"outlinewidth\": 0, \"ticks\": \"\"}, \"type\": \"contourcarpet\"}], \"heatmap\": [{\"colorbar\": {\"outlinewidth\": 0, \"ticks\": \"\"}, \"colorscale\": [[0.0, \"#0d0887\"], [0.1111111111111111, \"#46039f\"], [0.2222222222222222, \"#7201a8\"], [0.3333333333333333, \"#9c179e\"], [0.4444444444444444, \"#bd3786\"], [0.5555555555555556, \"#d8576b\"], [0.6666666666666666, \"#ed7953\"], [0.7777777777777778, \"#fb9f3a\"], [0.8888888888888888, \"#fdca26\"], [1.0, \"#f0f921\"]], \"type\": \"heatmap\"}], \"heatmapgl\": [{\"colorbar\": {\"outlinewidth\": 0, \"ticks\": \"\"}, \"colorscale\": [[0.0, \"#0d0887\"], [0.1111111111111111, \"#46039f\"], [0.2222222222222222, \"#7201a8\"], [0.3333333333333333, \"#9c179e\"], [0.4444444444444444, \"#bd3786\"], [0.5555555555555556, \"#d8576b\"], [0.6666666666666666, \"#ed7953\"], [0.7777777777777778, \"#fb9f3a\"], [0.8888888888888888, \"#fdca26\"], [1.0, \"#f0f921\"]], \"type\": \"heatmapgl\"}], \"histogram\": [{\"marker\": {\"colorbar\": {\"outlinewidth\": 0, \"ticks\": \"\"}}, \"type\": \"histogram\"}], \"histogram2d\": [{\"colorbar\": {\"outlinewidth\": 0, \"ticks\": \"\"}, \"colorscale\": [[0.0, \"#0d0887\"], [0.1111111111111111, \"#46039f\"], [0.2222222222222222, \"#7201a8\"], [0.3333333333333333, \"#9c179e\"], [0.4444444444444444, \"#bd3786\"], [0.5555555555555556, \"#d8576b\"], [0.6666666666666666, \"#ed7953\"], [0.7777777777777778, \"#fb9f3a\"], [0.8888888888888888, \"#fdca26\"], [1.0, \"#f0f921\"]], \"type\": \"histogram2d\"}], \"histogram2dcontour\": [{\"colorbar\": {\"outlinewidth\": 0, \"ticks\": \"\"}, \"colorscale\": [[0.0, \"#0d0887\"], [0.1111111111111111, \"#46039f\"], [0.2222222222222222, \"#7201a8\"], [0.3333333333333333, \"#9c179e\"], [0.4444444444444444, \"#bd3786\"], [0.5555555555555556, \"#d8576b\"], [0.6666666666666666, \"#ed7953\"], [0.7777777777777778, \"#fb9f3a\"], [0.8888888888888888, \"#fdca26\"], [1.0, \"#f0f921\"]], \"type\": \"histogram2dcontour\"}], \"mesh3d\": [{\"colorbar\": {\"outlinewidth\": 0, \"ticks\": \"\"}, \"type\": \"mesh3d\"}], \"parcoords\": [{\"line\": {\"colorbar\": {\"outlinewidth\": 0, \"ticks\": \"\"}}, \"type\": \"parcoords\"}], \"pie\": [{\"automargin\": true, \"type\": \"pie\"}], \"scatter\": [{\"marker\": {\"colorbar\": {\"outlinewidth\": 0, \"ticks\": \"\"}}, \"type\": \"scatter\"}], \"scatter3d\": [{\"line\": {\"colorbar\": {\"outlinewidth\": 0, \"ticks\": \"\"}}, \"marker\": {\"colorbar\": {\"outlinewidth\": 0, \"ticks\": \"\"}}, \"type\": \"scatter3d\"}], \"scattercarpet\": [{\"marker\": {\"colorbar\": {\"outlinewidth\": 0, \"ticks\": \"\"}}, \"type\": \"scattercarpet\"}], \"scattergeo\": [{\"marker\": {\"colorbar\": {\"outlinewidth\": 0, \"ticks\": \"\"}}, \"type\": \"scattergeo\"}], \"scattergl\": [{\"marker\": {\"colorbar\": {\"outlinewidth\": 0, \"ticks\": \"\"}}, \"type\": \"scattergl\"}], \"scattermapbox\": [{\"marker\": {\"colorbar\": {\"outlinewidth\": 0, \"ticks\": \"\"}}, \"type\": \"scattermapbox\"}], \"scatterpolar\": [{\"marker\": {\"colorbar\": {\"outlinewidth\": 0, \"ticks\": \"\"}}, \"type\": \"scatterpolar\"}], \"scatterpolargl\": [{\"marker\": {\"colorbar\": {\"outlinewidth\": 0, \"ticks\": \"\"}}, \"type\": \"scatterpolargl\"}], \"scatterternary\": [{\"marker\": {\"colorbar\": {\"outlinewidth\": 0, \"ticks\": \"\"}}, \"type\": \"scatterternary\"}], \"surface\": [{\"colorbar\": {\"outlinewidth\": 0, \"ticks\": \"\"}, \"colorscale\": [[0.0, \"#0d0887\"], [0.1111111111111111, \"#46039f\"], [0.2222222222222222, \"#7201a8\"], [0.3333333333333333, \"#9c179e\"], [0.4444444444444444, \"#bd3786\"], [0.5555555555555556, \"#d8576b\"], [0.6666666666666666, \"#ed7953\"], [0.7777777777777778, \"#fb9f3a\"], [0.8888888888888888, \"#fdca26\"], [1.0, \"#f0f921\"]], \"type\": \"surface\"}], \"table\": [{\"cells\": {\"fill\": {\"color\": \"#EBF0F8\"}, \"line\": {\"color\": \"white\"}}, \"header\": {\"fill\": {\"color\": \"#C8D4E3\"}, \"line\": {\"color\": \"white\"}}, \"type\": \"table\"}]}, \"layout\": {\"annotationdefaults\": {\"arrowcolor\": \"#2a3f5f\", \"arrowhead\": 0, \"arrowwidth\": 1}, \"autotypenumbers\": \"strict\", \"coloraxis\": {\"colorbar\": {\"outlinewidth\": 0, \"ticks\": \"\"}}, \"colorscale\": {\"diverging\": [[0, \"#8e0152\"], [0.1, \"#c51b7d\"], [0.2, \"#de77ae\"], [0.3, \"#f1b6da\"], [0.4, \"#fde0ef\"], [0.5, \"#f7f7f7\"], [0.6, \"#e6f5d0\"], [0.7, \"#b8e186\"], [0.8, \"#7fbc41\"], [0.9, \"#4d9221\"], [1, \"#276419\"]], \"sequential\": [[0.0, \"#0d0887\"], [0.1111111111111111, \"#46039f\"], [0.2222222222222222, \"#7201a8\"], [0.3333333333333333, \"#9c179e\"], [0.4444444444444444, \"#bd3786\"], [0.5555555555555556, \"#d8576b\"], [0.6666666666666666, \"#ed7953\"], [0.7777777777777778, \"#fb9f3a\"], [0.8888888888888888, \"#fdca26\"], [1.0, \"#f0f921\"]], \"sequentialminus\": [[0.0, \"#0d0887\"], [0.1111111111111111, \"#46039f\"], [0.2222222222222222, \"#7201a8\"], [0.3333333333333333, \"#9c179e\"], [0.4444444444444444, \"#bd3786\"], [0.5555555555555556, \"#d8576b\"], [0.6666666666666666, \"#ed7953\"], [0.7777777777777778, \"#fb9f3a\"], [0.8888888888888888, \"#fdca26\"], [1.0, \"#f0f921\"]]}, \"colorway\": [\"#636efa\", \"#EF553B\", \"#00cc96\", \"#ab63fa\", \"#FFA15A\", \"#19d3f3\", \"#FF6692\", \"#B6E880\", \"#FF97FF\", \"#FECB52\"], \"font\": {\"color\": \"#2a3f5f\"}, \"geo\": {\"bgcolor\": \"white\", \"lakecolor\": \"white\", \"landcolor\": \"#E5ECF6\", \"showlakes\": true, \"showland\": true, \"subunitcolor\": \"white\"}, \"hoverlabel\": {\"align\": \"left\"}, \"hovermode\": \"closest\", \"mapbox\": {\"style\": \"light\"}, \"paper_bgcolor\": \"white\", \"plot_bgcolor\": \"#E5ECF6\", \"polar\": {\"angularaxis\": {\"gridcolor\": \"white\", \"linecolor\": \"white\", \"ticks\": \"\"}, \"bgcolor\": \"#E5ECF6\", \"radialaxis\": {\"gridcolor\": \"white\", \"linecolor\": \"white\", \"ticks\": \"\"}}, \"scene\": {\"xaxis\": {\"backgroundcolor\": \"#E5ECF6\", \"gridcolor\": \"white\", \"gridwidth\": 2, \"linecolor\": \"white\", \"showbackground\": true, \"ticks\": \"\", \"zerolinecolor\": \"white\"}, \"yaxis\": {\"backgroundcolor\": \"#E5ECF6\", \"gridcolor\": \"white\", \"gridwidth\": 2, \"linecolor\": \"white\", \"showbackground\": true, \"ticks\": \"\", \"zerolinecolor\": \"white\"}, \"zaxis\": {\"backgroundcolor\": \"#E5ECF6\", \"gridcolor\": \"white\", \"gridwidth\": 2, \"linecolor\": \"white\", \"showbackground\": true, \"ticks\": \"\", \"zerolinecolor\": \"white\"}}, \"shapedefaults\": {\"line\": {\"color\": \"#2a3f5f\"}}, \"ternary\": {\"aaxis\": {\"gridcolor\": \"white\", \"linecolor\": \"white\", \"ticks\": \"\"}, \"baxis\": {\"gridcolor\": \"white\", \"linecolor\": \"white\", \"ticks\": \"\"}, \"bgcolor\": \"#E5ECF6\", \"caxis\": {\"gridcolor\": \"white\", \"linecolor\": \"white\", \"ticks\": \"\"}}, \"title\": {\"x\": 0.05}, \"xaxis\": {\"automargin\": true, \"gridcolor\": \"white\", \"linecolor\": \"white\", \"ticks\": \"\", \"title\": {\"standoff\": 15}, \"zerolinecolor\": \"white\", \"zerolinewidth\": 2}, \"yaxis\": {\"automargin\": true, \"gridcolor\": \"white\", \"linecolor\": \"white\", \"ticks\": \"\", \"title\": {\"standoff\": 15}, \"zerolinecolor\": \"white\", \"zerolinewidth\": 2}}}, \"title\": {\"text\": \"antiSMASH BGC classes vs NPC superclass cutoff 5\"}, \"width\": 800},                        {\"responsive\": true}                    ).then(function(){\n",
       "                            \n",
       "var gd = document.getElementById('cefd86fb-3c98-4f8d-a4a2-29caf71302e6');\n",
       "var x = new MutationObserver(function (mutations, observer) {{\n",
       "        var display = window.getComputedStyle(gd).display;\n",
       "        if (!display || display === 'none') {{\n",
       "            console.log([gd, 'removed!']);\n",
       "            Plotly.purge(gd);\n",
       "            observer.disconnect();\n",
       "        }}\n",
       "}});\n",
       "\n",
       "// Listen for the removal of the full notebook cells\n",
       "var notebookContainer = gd.closest('#notebook-container');\n",
       "if (notebookContainer) {{\n",
       "    x.observe(notebookContainer, {childList: true});\n",
       "}}\n",
       "\n",
       "// Listen for the clearing of the current output cell\n",
       "var outputEl = gd.closest('.output');\n",
       "if (outputEl) {{\n",
       "    x.observe(outputEl, {childList: true});\n",
       "}}\n",
       "\n",
       "                        })                };                });            </script>        </div>"
      ]
     },
     "metadata": {},
     "output_type": "display_data"
    }
   ],
   "source": [
    "# need to do some naming cleanup to make this plot visible\n",
    "from copy import deepcopy\n",
    "# only select results with counts >5\n",
    "cutoff = 5\n",
    "as_classes_cutoff = deepcopy(result['as_classes']['npc_superclass'])\n",
    "for key, inner_dict in as_classes_cutoff.items():\n",
    "    inner_copy = deepcopy(list(inner_dict.items()))\n",
    "    for inner_key, value in inner_copy:\n",
    "        if value < cutoff:\n",
    "            del as_classes_cutoff[key][inner_key]\n",
    "fig_result = make_class_sankey_plot(as_classes_cutoff, \"antiSMASH BGC classes vs NPC superclass cutoff 5\")\n",
    "fig_result.update_layout(\n",
    "#     autosize=False,\n",
    "    width=800,\n",
    "    height=800,\n",
    "    font_size=12.2\n",
    ")\n",
    "fig_result"
   ]
  },
  {
   "cell_type": "code",
   "execution_count": 43,
   "id": "collected-compression",
   "metadata": {},
   "outputs": [
    {
     "data": {
      "text/plain": [
       "defaultdict(<function __main__.rec_dd()>,\n",
       "            {'T1PKS': defaultdict(<function __main__.rec_dd()>,\n",
       "                         {'Polyketides': 474,\n",
       "                          'Shikimates and Phenylpropanoids': 18,\n",
       "                          'Alkaloids': 104,\n",
       "                          'Carbohydrates': 11,\n",
       "                          'Amino acids and Peptides': 204,\n",
       "                          'Terpenoids': 23,\n",
       "                          'Fatty acids': 17}),\n",
       "             'NRPS-like': defaultdict(<function __main__.rec_dd()>,\n",
       "                         {'Polyketides': 68,\n",
       "                          'Alkaloids': 32,\n",
       "                          'Shikimates and Phenylpropanoids': 11,\n",
       "                          'Amino acids and Peptides': 8,\n",
       "                          'Carbohydrates': 7,\n",
       "                          'Fatty acids': 9,\n",
       "                          'Terpenoids': 4}),\n",
       "             'oligosaccharide': defaultdict(<function __main__.rec_dd()>,\n",
       "                         {'Carbohydrates': 2,\n",
       "                          'Polyketides': 38,\n",
       "                          'Amino acids and Peptides': 1}),\n",
       "             'PKS-like': defaultdict(<function __main__.rec_dd()>,\n",
       "                         {'Carbohydrates': 7,\n",
       "                          'Polyketides': 88,\n",
       "                          'Fatty acids': 5,\n",
       "                          'Alkaloids': 9,\n",
       "                          'Terpenoids': 2,\n",
       "                          'Shikimates and Phenylpropanoids': 2,\n",
       "                          'Amino acids and Peptides': 9}),\n",
       "             'butyrolactone': defaultdict(<function __main__.rec_dd()>,\n",
       "                         {'Alkaloids': 2,\n",
       "                          'Carbohydrates': 1,\n",
       "                          'Polyketides': 18,\n",
       "                          'Amino acids and Peptides': 2,\n",
       "                          'Fatty acids': 2,\n",
       "                          'Terpenoids': 7,\n",
       "                          'Shikimates and Phenylpropanoids': 2}),\n",
       "             'NRPS': defaultdict(<function __main__.rec_dd()>,\n",
       "                         {'Polyketides': 285,\n",
       "                          'Alkaloids': 130,\n",
       "                          'Amino acids and Peptides': 507,\n",
       "                          'Carbohydrates': 7,\n",
       "                          'Shikimates and Phenylpropanoids': 5,\n",
       "                          'Fatty acids': 10,\n",
       "                          'Terpenoids': 8}),\n",
       "             'arylpolyene': defaultdict(<function __main__.rec_dd()>,\n",
       "                         {'Alkaloids': 2,\n",
       "                          'Amino acids and Peptides': 4,\n",
       "                          'Polyketides': 5,\n",
       "                          'Carbohydrates': 3}),\n",
       "             'other': defaultdict(<function __main__.rec_dd()>,\n",
       "                         {'Alkaloids': 44,\n",
       "                          'Amino acids and Peptides': 17,\n",
       "                          'Polyketides': 26,\n",
       "                          'Carbohydrates': 7,\n",
       "                          'Terpenoids': 9,\n",
       "                          'Shikimates and Phenylpropanoids': 3,\n",
       "                          'Fatty acids': 1}),\n",
       "             'transAT-PKS': defaultdict(<function __main__.rec_dd()>,\n",
       "                         {'Alkaloids': 14,\n",
       "                          'Polyketides': 54,\n",
       "                          'Shikimates and Phenylpropanoids': 3,\n",
       "                          'Fatty acids': 7,\n",
       "                          'Terpenoids': 6,\n",
       "                          'Amino acids and Peptides': 8}),\n",
       "             'aminocoumarin': defaultdict(<function __main__.rec_dd()>,\n",
       "                         {'Alkaloids': 1,\n",
       "                          'Polyketides': 4,\n",
       "                          'Shikimates and Phenylpropanoids': 4,\n",
       "                          'Amino acids and Peptides': 1}),\n",
       "             'indole': defaultdict(<function __main__.rec_dd()>,\n",
       "                         {'Polyketides': 6,\n",
       "                          'Terpenoids': 17,\n",
       "                          'Alkaloids': 99,\n",
       "                          'Amino acids and Peptides': 18,\n",
       "                          'Carbohydrates': 1}),\n",
       "             'T3PKS': defaultdict(<function __main__.rec_dd()>,\n",
       "                         {'Fatty acids': 2,\n",
       "                          'Polyketides': 58,\n",
       "                          'Terpenoids': 10,\n",
       "                          'Amino acids and Peptides': 25,\n",
       "                          'Alkaloids': 13,\n",
       "                          'Carbohydrates': 13,\n",
       "                          'Shikimates and Phenylpropanoids': 1}),\n",
       "             'transAT-PKS-like': defaultdict(<function __main__.rec_dd()>,\n",
       "                         {'Polyketides': 29,\n",
       "                          'Shikimates and Phenylpropanoids': 2,\n",
       "                          'Alkaloids': 3,\n",
       "                          'Amino acids and Peptides': 3,\n",
       "                          'Terpenoids': 1}),\n",
       "             'lanthipeptide': defaultdict(<function __main__.rec_dd()>,\n",
       "                         {'Alkaloids': 1,\n",
       "                          'Amino acids and Peptides': 23,\n",
       "                          'Polyketides': 2,\n",
       "                          'Carbohydrates': 1}),\n",
       "             'hserlactone': defaultdict(<function __main__.rec_dd()>,\n",
       "                         {'Polyketides': 1,\n",
       "                          'Shikimates and Phenylpropanoids': 1,\n",
       "                          'Alkaloids': 3,\n",
       "                          'Amino acids and Peptides': 1}),\n",
       "             'furan': defaultdict(<function __main__.rec_dd()>,\n",
       "                         {'Polyketides': 2, 'Terpenoids': 1}),\n",
       "             'T2PKS': defaultdict(<function __main__.rec_dd()>,\n",
       "                         {'Polyketides': 138,\n",
       "                          'Carbohydrates': 2,\n",
       "                          'Terpenoids': 1,\n",
       "                          'Alkaloids': 2,\n",
       "                          'Shikimates and Phenylpropanoids': 1}),\n",
       "             'ladderane': defaultdict(<function __main__.rec_dd()>,\n",
       "                         {'Polyketides': 21,\n",
       "                          'Carbohydrates': 1,\n",
       "                          'Amino acids and Peptides': 19,\n",
       "                          'Alkaloids': 2}),\n",
       "             'phenazine': defaultdict(<function __main__.rec_dd()>,\n",
       "                         {'Polyketides': 2, 'Alkaloids': 20}),\n",
       "             'nucleoside': defaultdict(<function __main__.rec_dd()>,\n",
       "                         {'Carbohydrates': 23,\n",
       "                          'Amino acids and Peptides': 1,\n",
       "                          'Alkaloids': 1}),\n",
       "             'amglyccycl': defaultdict(<function __main__.rec_dd()>,\n",
       "                         {'Carbohydrates': 30, 'Polyketides': 2}),\n",
       "             'blactam': defaultdict(<function __main__.rec_dd()>,\n",
       "                         {'Carbohydrates': 6, 'Amino acids and Peptides': 15}),\n",
       "             'siderophore': defaultdict(<function __main__.rec_dd()>,\n",
       "                         {'Alkaloids': 4,\n",
       "                          'Amino acids and Peptides': 12,\n",
       "                          'Fatty acids': 4}),\n",
       "             'betalactone': defaultdict(<function __main__.rec_dd()>,\n",
       "                         {'Amino acids and Peptides': 13, 'Polyketides': 1}),\n",
       "             'melanin': defaultdict(<function __main__.rec_dd()>,\n",
       "                         {'Alkaloids': 8,\n",
       "                          'Shikimates and Phenylpropanoids': 9,\n",
       "                          'Polyketides': 5}),\n",
       "             'bacteriocin': defaultdict(<function __main__.rec_dd()>,\n",
       "                         {'Amino acids and Peptides': 24, 'Alkaloids': 1}),\n",
       "             'bottromycin': defaultdict(<function __main__.rec_dd()>,\n",
       "                         {'Amino acids and Peptides': 4}),\n",
       "             'cyanobactin': defaultdict(<function __main__.rec_dd()>,\n",
       "                         {'Amino acids and Peptides': 16}),\n",
       "             'LAP': defaultdict(<function __main__.rec_dd()>,\n",
       "                         {'Amino acids and Peptides': 28, 'Alkaloids': 1}),\n",
       "             'thiopeptide': defaultdict(<function __main__.rec_dd()>,\n",
       "                         {'Amino acids and Peptides': 27, 'Alkaloids': 1}),\n",
       "             'lassopeptide': defaultdict(<function __main__.rec_dd()>,\n",
       "                         {'Amino acids and Peptides': 11, 'Polyketides': 1}),\n",
       "             'linaridin': defaultdict(<function __main__.rec_dd()>,\n",
       "                         {'Amino acids and Peptides': 2,\n",
       "                          'Polyketides': 1,\n",
       "                          'Alkaloids': 1,\n",
       "                          'Carbohydrates': 2}),\n",
       "             'microviridin': defaultdict(<function __main__.rec_dd()>,\n",
       "                         {'Amino acids and Peptides': 3, 'Polyketides': 1}),\n",
       "             'proteusin': defaultdict(<function __main__.rec_dd()>,\n",
       "                         {'Amino acids and Peptides': 2}),\n",
       "             'head_to_tail': defaultdict(<function __main__.rec_dd()>,\n",
       "                         {'Amino acids and Peptides': 1}),\n",
       "             'sactipeptide': defaultdict(<function __main__.rec_dd()>,\n",
       "                         {'Amino acids and Peptides': 1}),\n",
       "             'terpene': defaultdict(<function __main__.rec_dd()>,\n",
       "                         {'Amino acids and Peptides': 2,\n",
       "                          'Terpenoids': 98,\n",
       "                          'Carbohydrates': 1,\n",
       "                          'Polyketides': 10,\n",
       "                          'Alkaloids': 12}),\n",
       "             'TfuA-related': defaultdict(<function __main__.rec_dd()>,\n",
       "                         {'Amino acids and Peptides': 11}),\n",
       "             'fungal-RiPP': defaultdict(<function __main__.rec_dd()>,\n",
       "                         {'Amino acids and Peptides': 1}),\n",
       "             'resorcinol': defaultdict(<function __main__.rec_dd()>,\n",
       "                         {'Polyketides': 4}),\n",
       "             'CDPS': defaultdict(<function __main__.rec_dd()>,\n",
       "                         {'Alkaloids': 4, 'Amino acids and Peptides': 2}),\n",
       "             'ectoine': defaultdict(<function __main__.rec_dd()>,\n",
       "                         {'Amino acids and Peptides': 9,\n",
       "                          'Polyketides': 1,\n",
       "                          'Carbohydrates': 1}),\n",
       "             'hglE-KS': defaultdict(<function __main__.rec_dd()>,\n",
       "                         {'Fatty acids': 7,\n",
       "                          'Amino acids and Peptides': 3,\n",
       "                          'Polyketides': 2,\n",
       "                          'Alkaloids': 2}),\n",
       "             'PUFA': defaultdict(<function __main__.rec_dd()>,\n",
       "                         {'Fatty acids': 7,\n",
       "                          'Amino acids and Peptides': 2,\n",
       "                          'Alkaloids': 1}),\n",
       "             'PBDE': defaultdict(<function __main__.rec_dd()>,\n",
       "                         {'Shikimates and Phenylpropanoids': 2}),\n",
       "             'phosphonate': defaultdict(<function __main__.rec_dd()>,\n",
       "                         {'Alkaloids': 1,\n",
       "                          'Amino acids and Peptides': 2,\n",
       "                          'Terpenoids': 2}),\n",
       "             'fused': defaultdict(<function __main__.rec_dd()>,\n",
       "                         {'Amino acids and Peptides': 3}),\n",
       "             'RaS-RiPP': defaultdict(<function __main__.rec_dd()>,\n",
       "                         {'Amino acids and Peptides': 1}),\n",
       "             'PpyS-KS': defaultdict(<function __main__.rec_dd()>,\n",
       "                         {'Polyketides': 2}),\n",
       "             'tropodithietic-acid': defaultdict(<function __main__.rec_dd()>,\n",
       "                         {'Shikimates and Phenylpropanoids': 1}),\n",
       "             'phosphoglycolipid': defaultdict(<function __main__.rec_dd()>,\n",
       "                         {'Amino acids and Peptides': 1})})"
      ]
     },
     "execution_count": 43,
     "metadata": {},
     "output_type": "execute_result"
    }
   ],
   "source": [
    "result['as_classes']['npc_pathway']"
   ]
  },
  {
   "cell_type": "code",
   "execution_count": null,
   "id": "electoral-justice",
   "metadata": {
    "scrolled": true
   },
   "outputs": [],
   "source": [
    "from copy import deepcopy\n",
    "as_npc_pathway = deepcopy(result['as_classes']['npc_pathway'])\n",
    "as_npc_pathway_sub = {key:val for key, val in as_npc_pathway.items()\\\n",
    "                      if any([test in key.lower() for test in ['nrp', 'pks', 'polyketide']])}\n",
    "as_npc_pathway_sub"
   ]
  },
  {
   "cell_type": "code",
   "execution_count": null,
   "id": "false-archive",
   "metadata": {},
   "outputs": [],
   "source": [
    "as_npc_pathway_sub_title = \"antiSMASH PKS-NRPS classes vs NPClassifier pathways\"\n",
    "as_npc_pathway_sub_fig_result = make_class_sankey_plot(\n",
    "    as_npc_pathway_sub, as_npc_pathway_sub_title)\n",
    "as_npc_pathway_sub_fig_result.write_html(os.path.join(out_base, '_'.join(as_npc_pathway_sub_title.split(' '))) + \".html\")\n",
    "as_npc_pathway_sub_fig_result"
   ]
  },
  {
   "cell_type": "code",
   "execution_count": null,
   "id": "composite-socket",
   "metadata": {
    "scrolled": true
   },
   "outputs": [],
   "source": [
    "from copy import deepcopy\n",
    "as_cf_superclass = deepcopy(result['as_classes']['cf_superclass'])\n",
    "as_cf_superclass_sub = {key:val for key, val in as_cf_superclass.items()\\\n",
    "                      if any([test in key.lower() for test in ['nrp', 'pks', 'polyketide']])}\n",
    "as_cf_superclass_sub"
   ]
  },
  {
   "cell_type": "code",
   "execution_count": null,
   "id": "interstate-annotation",
   "metadata": {},
   "outputs": [],
   "source": [
    "as_cf_superclass_sub_title = \"antiSMASH PKS-NRPS classes vs ClassyFire superclasses\"\n",
    "as_cf_superclass_sub_fig_result = make_class_sankey_plot(\n",
    "    as_cf_superclass_sub, as_cf_superclass_sub_title)\n",
    "as_cf_superclass_sub_fig_result.write_html(os.path.join(out_base, '_'.join(as_cf_superclass_sub_title.split(' '))) + \".html\")\n",
    "as_cf_superclass_sub_fig_result"
   ]
  },
  {
   "cell_type": "markdown",
   "id": "conditional-street",
   "metadata": {},
   "source": [
    "## Get fractions per pairing"
   ]
  },
  {
   "cell_type": "code",
   "execution_count": null,
   "id": "falling-value",
   "metadata": {},
   "outputs": [],
   "source": [
    "cur_class_dict = deepcopy(result['mibig_classes']['cf_superclass'])\n",
    "frac_class_dict = {}\n",
    "for key, inner_dict in cur_class_dict.items():\n",
    "    inner_tups = list(inner_dict.items())\n",
    "    inner_total = 0\n",
    "    frac_class_dict[key] = {}\n",
    "    for inner_key, val in inner_tups:\n",
    "        inner_total += val\n",
    "    for inner_key, val in inner_tups:\n",
    "        frac_class_dict[key][inner_key] = round(val/inner_total, 3)\n",
    "frac_class_dict"
   ]
  }
 ],
 "metadata": {
  "kernelspec": {
   "display_name": "Python 3",
   "language": "python",
   "name": "python3"
  },
  "language_info": {
   "codemirror_mode": {
    "name": "ipython",
    "version": 3
   },
   "file_extension": ".py",
   "mimetype": "text/x-python",
   "name": "python",
   "nbconvert_exporter": "python",
   "pygments_lexer": "ipython3",
   "version": "3.7.2"
  }
 },
 "nbformat": 4,
 "nbformat_minor": 5
}
