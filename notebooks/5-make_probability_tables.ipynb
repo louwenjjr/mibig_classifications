{
 "cells": [
  {
   "cell_type": "markdown",
   "id": "confirmed-adjustment",
   "metadata": {},
   "source": [
    "# Summary\n",
    "Read the class info file for MiBIG entries, and report probability tables."
   ]
  },
  {
   "cell_type": "code",
   "execution_count": 1,
   "id": "finnish-elder",
   "metadata": {},
   "outputs": [],
   "source": [
    "import os\n",
    "import urllib\n",
    "import glob\n",
    "import json\n",
    "import time\n",
    "import numpy as np\n",
    "import pandas as pd\n",
    "from collections import OrderedDict"
   ]
  },
  {
   "cell_type": "code",
   "execution_count": 2,
   "id": "altered-court",
   "metadata": {},
   "outputs": [
    {
     "name": "stdout",
     "output_type": "stream",
     "text": [
      "mibig_classes exists is True\n"
     ]
    }
   ],
   "source": [
    "mibig_folder = \"/mnt/scratch/louwe015/mibig_json_2.0/\"\n",
    "\n",
    "base_path = \"/mnt/scratch/louwe015/NPLinker/classifying/mibig_classifications/\"\n",
    "out_base = os.path.split(base_path[:-1])[0]\n",
    "mibig_classes = os.path.join(out_base, \"All_MIBiG_compounds_with_AS_BGC_CF_NPC_classes.txt\")\n",
    "print(\"mibig_classes exists is\", os.path.isfile(mibig_classes))"
   ]
  },
  {
   "cell_type": "markdown",
   "id": "forty-hepatitis",
   "metadata": {},
   "source": [
    "## Reading file\n",
    "Making dict of {chem_id: [[bgc_classes], [chem_classes]]}, where bgc_classes is [class, subclass, AS_class], and chem_classes is the CF/NPC classes in order of input file"
   ]
  },
  {
   "cell_type": "code",
   "execution_count": 3,
   "id": "special-checkout",
   "metadata": {},
   "outputs": [
    {
     "name": "stdout",
     "output_type": "stream",
     "text": [
      "compound_name\tclass:subclass\tAS_classes\tsmiles\tinchi_key\tkingdom\tsuperclass\tclass\tsubclass\tdirect_parent\tclass_results\tsuperclass_results\tpathway_results\tisglycoside\n",
      "\n",
      "[[['Other'], [], ['phosphonate']], [[''], [''], [''], [''], [''], [''], [''], [''], ['0']]]\n",
      "[[['Polyketide'], [], ['T1PKS', 'NRPS-like']], [['Organic compounds'], ['Phenylpropanoids and polyketides'], ['Macrolactams'], [''], ['Macrolactams'], ['Ansa macrolides'], ['Macrolides'], ['Polyketides'], ['0']]]\n"
     ]
    },
    {
     "data": {
      "text/plain": [
       "[[['Polyketide'], ['Polyketide:Other'], ['T1PKS']],\n",
       " [['Organic compounds'],\n",
       "  ['Organoheterocyclic compounds'],\n",
       "  ['Oxanes'],\n",
       "  [''],\n",
       "  ['Oxanes'],\n",
       "  ['Spirotetronate macrolides'],\n",
       "  ['Macrolides'],\n",
       "  ['Polyketides'],\n",
       "  ['0']]]"
      ]
     },
     "execution_count": 3,
     "metadata": {},
     "output_type": "execute_result"
    }
   ],
   "source": [
    "classes_dict = {}\n",
    "with open(mibig_classes) as inf:\n",
    "    header = inf.readline()\n",
    "    print(header)\n",
    "    for line in inf:\n",
    "        elems = line.strip().split(\"\\t\")\n",
    "        chem_id = elems.pop(0)\n",
    "        class_base = elems.pop(0).split(',')\n",
    "        classes = [cls.partition(':')[0] for cls in class_base]\n",
    "        sub_classes = [cls for cls in class_base if cls.split(\":\")[1]]\n",
    "        as_classes = elems.pop(0).split(',')\n",
    "\n",
    "        bgc_classes = [classes, sub_classes, as_classes]        \n",
    "        chem_classes = [chem_cls.split('; ') for chem_cls in elems[2:]]\n",
    "        classes_dict[chem_id] = [bgc_classes, chem_classes]\n",
    "\n",
    "print(classes_dict[chem_id])  # example\n",
    "print(classes_dict['BGC0000020_maytansine'])\n",
    "classes_dict['BGC0000001_abyssomicin C']"
   ]
  },
  {
   "cell_type": "code",
   "execution_count": 4,
   "id": "organized-judgment",
   "metadata": {},
   "outputs": [
    {
     "name": "stdout",
     "output_type": "stream",
     "text": [
      "['mibig_class', 'class:subclass', 'AS_classes'] ['kingdom', 'superclass', 'class', 'subclass', 'direct_parent', 'class_results', 'superclass_results', 'pathway_results', 'isglycoside']\n"
     ]
    }
   ],
   "source": [
    "# creating legend from the header\n",
    "s_h = header.strip().split('\\t')\n",
    "legend_bgc = ['mibig_class']+s_h[1:3]\n",
    "legend_chem = s_h[5:]\n",
    "print(legend_bgc, legend_chem)"
   ]
  },
  {
   "cell_type": "markdown",
   "id": "american-shock",
   "metadata": {},
   "source": [
    "## Do comparisons between bgc and chem classes"
   ]
  },
  {
   "cell_type": "code",
   "execution_count": 5,
   "id": "passive-creator",
   "metadata": {},
   "outputs": [],
   "source": [
    "from collections import defaultdict\n",
    "def rec_dd():\n",
    "    \"\"\"Initialises a recurring defaultdict\"\"\"\n",
    "    return defaultdict(rec_dd)"
   ]
  },
  {
   "cell_type": "code",
   "execution_count": 56,
   "id": "seasonal-diversity",
   "metadata": {},
   "outputs": [],
   "source": [
    "# aggregate pairwise class matrices for all compounds\n",
    "result = rec_dd()\n",
    "for chem_id, classes in classes_dict.items():\n",
    "    bgc_classes, chem_classes = classes\n",
    "    \n",
    "    for i, bgc_cat in enumerate(legend_bgc):\n",
    "        init_bgc_class = bgc_classes[i]\n",
    "        if not init_bgc_class or init_bgc_class == ['']:\n",
    "            continue\n",
    "        \n",
    "        #group pks-nrp hybrids\n",
    "        hyb_count = len([1 for init_bgc_c in init_bgc_class if any([test in init_bgc_c.lower() for test in ['nrp', 'pks', 'polyketide']])])\n",
    "        bgc_class = []\n",
    "        if hyb_count >= 2:\n",
    "            bgc_class.append(\"PKS-NRP-hybrid\")\n",
    "            for init_bgc_c in init_bgc_class:\n",
    "                if any([test in init_bgc_c.lower() for test in ['nrp', 'pks', 'polyketide']]):\n",
    "                    pass\n",
    "                else:\n",
    "                    bgc_class.append(init_bgc_c)\n",
    "        else:\n",
    "            bgc_class = init_bgc_class[:]\n",
    "#         print(bgc_class, init_bgc_class)\n",
    "        \n",
    "        for j, chem_cat in enumerate(legend_chem):\n",
    "            chem_class = chem_classes[j]\n",
    "            if not chem_class or chem_class == ['']:\n",
    "                continue\n",
    "            \n",
    "            for bgc_c in bgc_class:\n",
    "                for chem_c in chem_class:\n",
    "                    try:\n",
    "                        result[bgc_cat][chem_cat][bgc_c][chem_c] += 1\n",
    "                    except TypeError:\n",
    "                        result[bgc_cat][chem_cat][bgc_c][chem_c] = 1"
   ]
  },
  {
   "cell_type": "code",
   "execution_count": 57,
   "id": "engaging-introduction",
   "metadata": {},
   "outputs": [
    {
     "data": {
      "text/plain": [
       "defaultdict(<function __main__.rec_dd()>,\n",
       "            {'Polyketide': defaultdict(<function __main__.rec_dd()>,\n",
       "                         {'Polyketides': 548,\n",
       "                          'Shikimates and Phenylpropanoids': 20,\n",
       "                          'Alkaloids': 72,\n",
       "                          'Amino acids and Peptides': 24,\n",
       "                          'Terpenoids': 35,\n",
       "                          'Fatty acids': 14,\n",
       "                          'Carbohydrates': 9}),\n",
       "             'Other': defaultdict(<function __main__.rec_dd()>,\n",
       "                         {'Polyketides': 35,\n",
       "                          'Carbohydrates': 46,\n",
       "                          'Amino acids and Peptides': 78,\n",
       "                          'Alkaloids': 96,\n",
       "                          'Shikimates and Phenylpropanoids': 21,\n",
       "                          'Fatty acids': 19,\n",
       "                          'Terpenoids': 5}),\n",
       "             'Alkaloid': defaultdict(<function __main__.rec_dd()>,\n",
       "                         {'Alkaloids': 97,\n",
       "                          'Amino acids and Peptides': 12,\n",
       "                          'Polyketides': 1}),\n",
       "             'Saccharide': defaultdict(<function __main__.rec_dd()>,\n",
       "                         {'Carbohydrates': 60,\n",
       "                          'Polyketides': 64,\n",
       "                          'Amino acids and Peptides': 9,\n",
       "                          'Terpenoids': 4,\n",
       "                          'Shikimates and Phenylpropanoids': 3}),\n",
       "             'Terpene': defaultdict(<function __main__.rec_dd()>,\n",
       "                         {'Polyketides': 19,\n",
       "                          'Terpenoids': 136,\n",
       "                          'Carbohydrates': 1,\n",
       "                          'Amino acids and Peptides': 2,\n",
       "                          'Alkaloids': 49,\n",
       "                          'Shikimates and Phenylpropanoids': 1}),\n",
       "             'PKS-NRP-hybrid': defaultdict(<function __main__.rec_dd()>,\n",
       "                         {'Polyketides': 177,\n",
       "                          'Alkaloids': 58,\n",
       "                          'Amino acids and Peptides': 187,\n",
       "                          'Shikimates and Phenylpropanoids': 6,\n",
       "                          'Fatty acids': 12,\n",
       "                          'Terpenoids': 2,\n",
       "                          'Carbohydrates': 1}),\n",
       "             'NRP': defaultdict(<function __main__.rec_dd()>,\n",
       "                         {'Amino acids and Peptides': 320,\n",
       "                          'Carbohydrates': 8,\n",
       "                          'Alkaloids': 99,\n",
       "                          'Polyketides': 115,\n",
       "                          'Shikimates and Phenylpropanoids': 9,\n",
       "                          'Fatty acids': 2}),\n",
       "             'RiPP': defaultdict(<function __main__.rec_dd()>,\n",
       "                         {'Amino acids and Peptides': 113,\n",
       "                          'Polyketides': 4,\n",
       "                          'Alkaloids': 2})})"
      ]
     },
     "execution_count": 57,
     "metadata": {},
     "output_type": "execute_result"
    }
   ],
   "source": [
    "mibig_cls_npc_pathway = result['mibig_class']['pathway_results']  # MiBIG BGC class and NPC pathway\n",
    "mibig_cls_npc_pathway"
   ]
  },
  {
   "cell_type": "code",
   "execution_count": 58,
   "id": "voluntary-lancaster",
   "metadata": {},
   "outputs": [
    {
     "data": {
      "text/html": [
       "<div>\n",
       "<style scoped>\n",
       "    .dataframe tbody tr th:only-of-type {\n",
       "        vertical-align: middle;\n",
       "    }\n",
       "\n",
       "    .dataframe tbody tr th {\n",
       "        vertical-align: top;\n",
       "    }\n",
       "\n",
       "    .dataframe thead th {\n",
       "        text-align: right;\n",
       "    }\n",
       "</style>\n",
       "<table border=\"1\" class=\"dataframe\">\n",
       "  <thead>\n",
       "    <tr style=\"text-align: right;\">\n",
       "      <th></th>\n",
       "      <th>Polyketide</th>\n",
       "      <th>Other</th>\n",
       "      <th>Alkaloid</th>\n",
       "      <th>Saccharide</th>\n",
       "      <th>Terpene</th>\n",
       "      <th>PKS-NRP-hybrid</th>\n",
       "      <th>NRP</th>\n",
       "      <th>RiPP</th>\n",
       "    </tr>\n",
       "  </thead>\n",
       "  <tbody>\n",
       "    <tr>\n",
       "      <th>Polyketides</th>\n",
       "      <td>548</td>\n",
       "      <td>35</td>\n",
       "      <td>1.0</td>\n",
       "      <td>64.0</td>\n",
       "      <td>19.0</td>\n",
       "      <td>177</td>\n",
       "      <td>115.0</td>\n",
       "      <td>4.0</td>\n",
       "    </tr>\n",
       "    <tr>\n",
       "      <th>Shikimates and Phenylpropanoids</th>\n",
       "      <td>20</td>\n",
       "      <td>21</td>\n",
       "      <td>0.0</td>\n",
       "      <td>3.0</td>\n",
       "      <td>1.0</td>\n",
       "      <td>6</td>\n",
       "      <td>9.0</td>\n",
       "      <td>0.0</td>\n",
       "    </tr>\n",
       "    <tr>\n",
       "      <th>Alkaloids</th>\n",
       "      <td>72</td>\n",
       "      <td>96</td>\n",
       "      <td>97.0</td>\n",
       "      <td>0.0</td>\n",
       "      <td>49.0</td>\n",
       "      <td>58</td>\n",
       "      <td>99.0</td>\n",
       "      <td>2.0</td>\n",
       "    </tr>\n",
       "    <tr>\n",
       "      <th>Amino acids and Peptides</th>\n",
       "      <td>24</td>\n",
       "      <td>78</td>\n",
       "      <td>12.0</td>\n",
       "      <td>9.0</td>\n",
       "      <td>2.0</td>\n",
       "      <td>187</td>\n",
       "      <td>320.0</td>\n",
       "      <td>113.0</td>\n",
       "    </tr>\n",
       "    <tr>\n",
       "      <th>Terpenoids</th>\n",
       "      <td>35</td>\n",
       "      <td>5</td>\n",
       "      <td>0.0</td>\n",
       "      <td>4.0</td>\n",
       "      <td>136.0</td>\n",
       "      <td>2</td>\n",
       "      <td>0.0</td>\n",
       "      <td>0.0</td>\n",
       "    </tr>\n",
       "    <tr>\n",
       "      <th>Fatty acids</th>\n",
       "      <td>14</td>\n",
       "      <td>19</td>\n",
       "      <td>0.0</td>\n",
       "      <td>0.0</td>\n",
       "      <td>0.0</td>\n",
       "      <td>12</td>\n",
       "      <td>2.0</td>\n",
       "      <td>0.0</td>\n",
       "    </tr>\n",
       "    <tr>\n",
       "      <th>Carbohydrates</th>\n",
       "      <td>9</td>\n",
       "      <td>46</td>\n",
       "      <td>0.0</td>\n",
       "      <td>60.0</td>\n",
       "      <td>1.0</td>\n",
       "      <td>1</td>\n",
       "      <td>8.0</td>\n",
       "      <td>0.0</td>\n",
       "    </tr>\n",
       "  </tbody>\n",
       "</table>\n",
       "</div>"
      ],
      "text/plain": [
       "                                 Polyketide  Other  Alkaloid  Saccharide  \\\n",
       "Polyketides                             548     35       1.0        64.0   \n",
       "Shikimates and Phenylpropanoids          20     21       0.0         3.0   \n",
       "Alkaloids                                72     96      97.0         0.0   \n",
       "Amino acids and Peptides                 24     78      12.0         9.0   \n",
       "Terpenoids                               35      5       0.0         4.0   \n",
       "Fatty acids                              14     19       0.0         0.0   \n",
       "Carbohydrates                             9     46       0.0        60.0   \n",
       "\n",
       "                                 Terpene  PKS-NRP-hybrid    NRP   RiPP  \n",
       "Polyketides                         19.0             177  115.0    4.0  \n",
       "Shikimates and Phenylpropanoids      1.0               6    9.0    0.0  \n",
       "Alkaloids                           49.0              58   99.0    2.0  \n",
       "Amino acids and Peptides             2.0             187  320.0  113.0  \n",
       "Terpenoids                         136.0               2    0.0    0.0  \n",
       "Fatty acids                          0.0              12    2.0    0.0  \n",
       "Carbohydrates                        1.0               1    8.0    0.0  "
      ]
     },
     "execution_count": 58,
     "metadata": {},
     "output_type": "execute_result"
    }
   ],
   "source": [
    "df_mibig_cls_npc_pathway = pd.DataFrame.from_dict(mibig_cls_npc_pathway, dtype=int).fillna(0)\n",
    "df_mibig_cls_npc_pathway"
   ]
  },
  {
   "cell_type": "code",
   "execution_count": 59,
   "id": "indian-bikini",
   "metadata": {},
   "outputs": [
    {
     "data": {
      "text/html": [
       "<style  type=\"text/css\" >\n",
       "#T_ce33e_row0_col0,#T_ce33e_row0_col3,#T_ce33e_row2_col1,#T_ce33e_row2_col2,#T_ce33e_row3_col5,#T_ce33e_row3_col6,#T_ce33e_row3_col7,#T_ce33e_row4_col4{\n",
       "            background-color:  #00441b;\n",
       "            color:  #f1f1f1;\n",
       "        }#T_ce33e_row0_col1{\n",
       "            background-color:  #afdfa8;\n",
       "            color:  #000000;\n",
       "        }#T_ce33e_row0_col2,#T_ce33e_row1_col4,#T_ce33e_row4_col5,#T_ce33e_row5_col0,#T_ce33e_row5_col6,#T_ce33e_row6_col4{\n",
       "            background-color:  #f6fcf4;\n",
       "            color:  #000000;\n",
       "        }#T_ce33e_row0_col4{\n",
       "            background-color:  #e2f4dd;\n",
       "            color:  #000000;\n",
       "        }#T_ce33e_row0_col5{\n",
       "            background-color:  #005522;\n",
       "            color:  #f1f1f1;\n",
       "        }#T_ce33e_row0_col6,#T_ce33e_row2_col4{\n",
       "            background-color:  #a5db9f;\n",
       "            color:  #000000;\n",
       "        }#T_ce33e_row0_col7{\n",
       "            background-color:  #f2faef;\n",
       "            color:  #000000;\n",
       "        }#T_ce33e_row1_col0{\n",
       "            background-color:  #f4fbf2;\n",
       "            color:  #000000;\n",
       "        }#T_ce33e_row1_col1{\n",
       "            background-color:  #d9f0d3;\n",
       "            color:  #000000;\n",
       "        }#T_ce33e_row1_col2,#T_ce33e_row1_col7,#T_ce33e_row2_col3,#T_ce33e_row4_col1,#T_ce33e_row4_col2,#T_ce33e_row4_col6,#T_ce33e_row4_col7,#T_ce33e_row5_col2,#T_ce33e_row5_col3,#T_ce33e_row5_col4,#T_ce33e_row5_col7,#T_ce33e_row6_col0,#T_ce33e_row6_col2,#T_ce33e_row6_col5,#T_ce33e_row6_col7{\n",
       "            background-color:  #f7fcf5;\n",
       "            color:  #000000;\n",
       "        }#T_ce33e_row1_col3,#T_ce33e_row4_col0{\n",
       "            background-color:  #f0f9ed;\n",
       "            color:  #000000;\n",
       "        }#T_ce33e_row1_col5,#T_ce33e_row6_col6{\n",
       "            background-color:  #f4fbf1;\n",
       "            color:  #000000;\n",
       "        }#T_ce33e_row1_col6,#T_ce33e_row3_col0{\n",
       "            background-color:  #f3faf0;\n",
       "            color:  #000000;\n",
       "        }#T_ce33e_row2_col0{\n",
       "            background-color:  #e7f6e2;\n",
       "            color:  #000000;\n",
       "        }#T_ce33e_row2_col5{\n",
       "            background-color:  #b6e2af;\n",
       "            color:  #000000;\n",
       "        }#T_ce33e_row2_col6{\n",
       "            background-color:  #b5e1ae;\n",
       "            color:  #000000;\n",
       "        }#T_ce33e_row2_col7{\n",
       "            background-color:  #f5fbf2;\n",
       "            color:  #000000;\n",
       "        }#T_ce33e_row3_col1{\n",
       "            background-color:  #147e3a;\n",
       "            color:  #f1f1f1;\n",
       "        }#T_ce33e_row3_col2{\n",
       "            background-color:  #e5f5e1;\n",
       "            color:  #000000;\n",
       "        }#T_ce33e_row3_col3{\n",
       "            background-color:  #e1f3dc;\n",
       "            color:  #000000;\n",
       "        }#T_ce33e_row3_col4{\n",
       "            background-color:  #f5fbf3;\n",
       "            color:  #000000;\n",
       "        }#T_ce33e_row4_col3{\n",
       "            background-color:  #eef8ea;\n",
       "            color:  #000000;\n",
       "        }#T_ce33e_row5_col1{\n",
       "            background-color:  #def2d9;\n",
       "            color:  #000000;\n",
       "        }#T_ce33e_row5_col5{\n",
       "            background-color:  #eff9eb;\n",
       "            color:  #000000;\n",
       "        }#T_ce33e_row6_col1{\n",
       "            background-color:  #86cc85;\n",
       "            color:  #000000;\n",
       "        }#T_ce33e_row6_col3{\n",
       "            background-color:  #005723;\n",
       "            color:  #f1f1f1;\n",
       "        }</style><table id=\"T_ce33e_\" ><thead>    <tr>        <th class=\"blank level0\" ></th>        <th class=\"col_heading level0 col0\" >Polyketide</th>        <th class=\"col_heading level0 col1\" >Other</th>        <th class=\"col_heading level0 col2\" >Alkaloid</th>        <th class=\"col_heading level0 col3\" >Saccharide</th>        <th class=\"col_heading level0 col4\" >Terpene</th>        <th class=\"col_heading level0 col5\" >PKS-NRP-hybrid</th>        <th class=\"col_heading level0 col6\" >NRP</th>        <th class=\"col_heading level0 col7\" >RiPP</th>    </tr></thead><tbody>\n",
       "                <tr>\n",
       "                        <th id=\"T_ce33e_level0_row0\" class=\"row_heading level0 row0\" >Polyketides</th>\n",
       "                        <td id=\"T_ce33e_row0_col0\" class=\"data row0 col0\" >548</td>\n",
       "                        <td id=\"T_ce33e_row0_col1\" class=\"data row0 col1\" >35</td>\n",
       "                        <td id=\"T_ce33e_row0_col2\" class=\"data row0 col2\" >1.000000</td>\n",
       "                        <td id=\"T_ce33e_row0_col3\" class=\"data row0 col3\" >64.000000</td>\n",
       "                        <td id=\"T_ce33e_row0_col4\" class=\"data row0 col4\" >19.000000</td>\n",
       "                        <td id=\"T_ce33e_row0_col5\" class=\"data row0 col5\" >177</td>\n",
       "                        <td id=\"T_ce33e_row0_col6\" class=\"data row0 col6\" >115.000000</td>\n",
       "                        <td id=\"T_ce33e_row0_col7\" class=\"data row0 col7\" >4.000000</td>\n",
       "            </tr>\n",
       "            <tr>\n",
       "                        <th id=\"T_ce33e_level0_row1\" class=\"row_heading level0 row1\" >Shikimates and Phenylpropanoids</th>\n",
       "                        <td id=\"T_ce33e_row1_col0\" class=\"data row1 col0\" >20</td>\n",
       "                        <td id=\"T_ce33e_row1_col1\" class=\"data row1 col1\" >21</td>\n",
       "                        <td id=\"T_ce33e_row1_col2\" class=\"data row1 col2\" >0.000000</td>\n",
       "                        <td id=\"T_ce33e_row1_col3\" class=\"data row1 col3\" >3.000000</td>\n",
       "                        <td id=\"T_ce33e_row1_col4\" class=\"data row1 col4\" >1.000000</td>\n",
       "                        <td id=\"T_ce33e_row1_col5\" class=\"data row1 col5\" >6</td>\n",
       "                        <td id=\"T_ce33e_row1_col6\" class=\"data row1 col6\" >9.000000</td>\n",
       "                        <td id=\"T_ce33e_row1_col7\" class=\"data row1 col7\" >0.000000</td>\n",
       "            </tr>\n",
       "            <tr>\n",
       "                        <th id=\"T_ce33e_level0_row2\" class=\"row_heading level0 row2\" >Alkaloids</th>\n",
       "                        <td id=\"T_ce33e_row2_col0\" class=\"data row2 col0\" >72</td>\n",
       "                        <td id=\"T_ce33e_row2_col1\" class=\"data row2 col1\" >96</td>\n",
       "                        <td id=\"T_ce33e_row2_col2\" class=\"data row2 col2\" >97.000000</td>\n",
       "                        <td id=\"T_ce33e_row2_col3\" class=\"data row2 col3\" >0.000000</td>\n",
       "                        <td id=\"T_ce33e_row2_col4\" class=\"data row2 col4\" >49.000000</td>\n",
       "                        <td id=\"T_ce33e_row2_col5\" class=\"data row2 col5\" >58</td>\n",
       "                        <td id=\"T_ce33e_row2_col6\" class=\"data row2 col6\" >99.000000</td>\n",
       "                        <td id=\"T_ce33e_row2_col7\" class=\"data row2 col7\" >2.000000</td>\n",
       "            </tr>\n",
       "            <tr>\n",
       "                        <th id=\"T_ce33e_level0_row3\" class=\"row_heading level0 row3\" >Amino acids and Peptides</th>\n",
       "                        <td id=\"T_ce33e_row3_col0\" class=\"data row3 col0\" >24</td>\n",
       "                        <td id=\"T_ce33e_row3_col1\" class=\"data row3 col1\" >78</td>\n",
       "                        <td id=\"T_ce33e_row3_col2\" class=\"data row3 col2\" >12.000000</td>\n",
       "                        <td id=\"T_ce33e_row3_col3\" class=\"data row3 col3\" >9.000000</td>\n",
       "                        <td id=\"T_ce33e_row3_col4\" class=\"data row3 col4\" >2.000000</td>\n",
       "                        <td id=\"T_ce33e_row3_col5\" class=\"data row3 col5\" >187</td>\n",
       "                        <td id=\"T_ce33e_row3_col6\" class=\"data row3 col6\" >320.000000</td>\n",
       "                        <td id=\"T_ce33e_row3_col7\" class=\"data row3 col7\" >113.000000</td>\n",
       "            </tr>\n",
       "            <tr>\n",
       "                        <th id=\"T_ce33e_level0_row4\" class=\"row_heading level0 row4\" >Terpenoids</th>\n",
       "                        <td id=\"T_ce33e_row4_col0\" class=\"data row4 col0\" >35</td>\n",
       "                        <td id=\"T_ce33e_row4_col1\" class=\"data row4 col1\" >5</td>\n",
       "                        <td id=\"T_ce33e_row4_col2\" class=\"data row4 col2\" >0.000000</td>\n",
       "                        <td id=\"T_ce33e_row4_col3\" class=\"data row4 col3\" >4.000000</td>\n",
       "                        <td id=\"T_ce33e_row4_col4\" class=\"data row4 col4\" >136.000000</td>\n",
       "                        <td id=\"T_ce33e_row4_col5\" class=\"data row4 col5\" >2</td>\n",
       "                        <td id=\"T_ce33e_row4_col6\" class=\"data row4 col6\" >0.000000</td>\n",
       "                        <td id=\"T_ce33e_row4_col7\" class=\"data row4 col7\" >0.000000</td>\n",
       "            </tr>\n",
       "            <tr>\n",
       "                        <th id=\"T_ce33e_level0_row5\" class=\"row_heading level0 row5\" >Fatty acids</th>\n",
       "                        <td id=\"T_ce33e_row5_col0\" class=\"data row5 col0\" >14</td>\n",
       "                        <td id=\"T_ce33e_row5_col1\" class=\"data row5 col1\" >19</td>\n",
       "                        <td id=\"T_ce33e_row5_col2\" class=\"data row5 col2\" >0.000000</td>\n",
       "                        <td id=\"T_ce33e_row5_col3\" class=\"data row5 col3\" >0.000000</td>\n",
       "                        <td id=\"T_ce33e_row5_col4\" class=\"data row5 col4\" >0.000000</td>\n",
       "                        <td id=\"T_ce33e_row5_col5\" class=\"data row5 col5\" >12</td>\n",
       "                        <td id=\"T_ce33e_row5_col6\" class=\"data row5 col6\" >2.000000</td>\n",
       "                        <td id=\"T_ce33e_row5_col7\" class=\"data row5 col7\" >0.000000</td>\n",
       "            </tr>\n",
       "            <tr>\n",
       "                        <th id=\"T_ce33e_level0_row6\" class=\"row_heading level0 row6\" >Carbohydrates</th>\n",
       "                        <td id=\"T_ce33e_row6_col0\" class=\"data row6 col0\" >9</td>\n",
       "                        <td id=\"T_ce33e_row6_col1\" class=\"data row6 col1\" >46</td>\n",
       "                        <td id=\"T_ce33e_row6_col2\" class=\"data row6 col2\" >0.000000</td>\n",
       "                        <td id=\"T_ce33e_row6_col3\" class=\"data row6 col3\" >60.000000</td>\n",
       "                        <td id=\"T_ce33e_row6_col4\" class=\"data row6 col4\" >1.000000</td>\n",
       "                        <td id=\"T_ce33e_row6_col5\" class=\"data row6 col5\" >1</td>\n",
       "                        <td id=\"T_ce33e_row6_col6\" class=\"data row6 col6\" >8.000000</td>\n",
       "                        <td id=\"T_ce33e_row6_col7\" class=\"data row6 col7\" >0.000000</td>\n",
       "            </tr>\n",
       "    </tbody></table>"
      ],
      "text/plain": [
       "<pandas.io.formats.style.Styler at 0x7fef198673c8>"
      ]
     },
     "execution_count": 59,
     "metadata": {},
     "output_type": "execute_result"
    }
   ],
   "source": [
    "df_mibig_cls_npc_pathway.style.background_gradient('Greens')"
   ]
  },
  {
   "cell_type": "code",
   "execution_count": 60,
   "id": "imported-taiwan",
   "metadata": {},
   "outputs": [
    {
     "data": {
      "text/html": [
       "<style  type=\"text/css\" >\n",
       "#T_1e1b3_row0_col0,#T_1e1b3_row0_col3,#T_1e1b3_row2_col1,#T_1e1b3_row2_col2,#T_1e1b3_row3_col5,#T_1e1b3_row3_col6,#T_1e1b3_row3_col7,#T_1e1b3_row4_col4{\n",
       "            width:  10em;\n",
       "             height:  80%;\n",
       "            background:  linear-gradient(90deg, transparent 50.0%, #5fba7d 50.0%, #5fba7d 100.0%, transparent 100.0%);\n",
       "        }#T_1e1b3_row0_col1{\n",
       "            width:  10em;\n",
       "             height:  80%;\n",
       "            background:  linear-gradient(90deg, transparent 50.0%, #5fba7d 50.0%, #5fba7d 68.2%, transparent 68.2%);\n",
       "        }#T_1e1b3_row0_col2,#T_1e1b3_row4_col5{\n",
       "            width:  10em;\n",
       "             height:  80%;\n",
       "            background:  linear-gradient(90deg, transparent 50.0%, #5fba7d 50.0%, #5fba7d 50.5%, transparent 50.5%);\n",
       "        }#T_1e1b3_row0_col4,#T_1e1b3_row3_col3{\n",
       "            width:  10em;\n",
       "             height:  80%;\n",
       "            background:  linear-gradient(90deg, transparent 50.0%, #5fba7d 50.0%, #5fba7d 57.0%, transparent 57.0%);\n",
       "        }#T_1e1b3_row0_col5{\n",
       "            width:  10em;\n",
       "             height:  80%;\n",
       "            background:  linear-gradient(90deg, transparent 50.0%, #5fba7d 50.0%, #5fba7d 97.3%, transparent 97.3%);\n",
       "        }#T_1e1b3_row0_col6,#T_1e1b3_row2_col4{\n",
       "            width:  10em;\n",
       "             height:  80%;\n",
       "            background:  linear-gradient(90deg, transparent 50.0%, #5fba7d 50.0%, #5fba7d 68.0%, transparent 68.0%);\n",
       "        }#T_1e1b3_row0_col7,#T_1e1b3_row1_col0{\n",
       "            width:  10em;\n",
       "             height:  80%;\n",
       "            background:  linear-gradient(90deg, transparent 50.0%, #5fba7d 50.0%, #5fba7d 51.8%, transparent 51.8%);\n",
       "        }#T_1e1b3_row1_col1{\n",
       "            width:  10em;\n",
       "             height:  80%;\n",
       "            background:  linear-gradient(90deg, transparent 50.0%, #5fba7d 50.0%, #5fba7d 60.9%, transparent 60.9%);\n",
       "        }#T_1e1b3_row1_col2,#T_1e1b3_row1_col7,#T_1e1b3_row2_col3,#T_1e1b3_row4_col2,#T_1e1b3_row4_col6,#T_1e1b3_row4_col7,#T_1e1b3_row5_col2,#T_1e1b3_row5_col3,#T_1e1b3_row5_col4,#T_1e1b3_row5_col7,#T_1e1b3_row6_col2,#T_1e1b3_row6_col7{\n",
       "            width:  10em;\n",
       "             height:  80%;\n",
       "        }#T_1e1b3_row1_col3{\n",
       "            width:  10em;\n",
       "             height:  80%;\n",
       "            background:  linear-gradient(90deg, transparent 50.0%, #5fba7d 50.0%, #5fba7d 52.3%, transparent 52.3%);\n",
       "        }#T_1e1b3_row1_col4,#T_1e1b3_row6_col4{\n",
       "            width:  10em;\n",
       "             height:  80%;\n",
       "            background:  linear-gradient(90deg, transparent 50.0%, #5fba7d 50.0%, #5fba7d 50.4%, transparent 50.4%);\n",
       "        }#T_1e1b3_row1_col5{\n",
       "            width:  10em;\n",
       "             height:  80%;\n",
       "            background:  linear-gradient(90deg, transparent 50.0%, #5fba7d 50.0%, #5fba7d 51.6%, transparent 51.6%);\n",
       "        }#T_1e1b3_row1_col6{\n",
       "            width:  10em;\n",
       "             height:  80%;\n",
       "            background:  linear-gradient(90deg, transparent 50.0%, #5fba7d 50.0%, #5fba7d 51.4%, transparent 51.4%);\n",
       "        }#T_1e1b3_row2_col0{\n",
       "            width:  10em;\n",
       "             height:  80%;\n",
       "            background:  linear-gradient(90deg, transparent 50.0%, #5fba7d 50.0%, #5fba7d 56.6%, transparent 56.6%);\n",
       "        }#T_1e1b3_row2_col5,#T_1e1b3_row2_col6{\n",
       "            width:  10em;\n",
       "             height:  80%;\n",
       "            background:  linear-gradient(90deg, transparent 50.0%, #5fba7d 50.0%, #5fba7d 65.5%, transparent 65.5%);\n",
       "        }#T_1e1b3_row2_col7{\n",
       "            width:  10em;\n",
       "             height:  80%;\n",
       "            background:  linear-gradient(90deg, transparent 50.0%, #5fba7d 50.0%, #5fba7d 50.9%, transparent 50.9%);\n",
       "        }#T_1e1b3_row3_col0{\n",
       "            width:  10em;\n",
       "             height:  80%;\n",
       "            background:  linear-gradient(90deg, transparent 50.0%, #5fba7d 50.0%, #5fba7d 52.2%, transparent 52.2%);\n",
       "        }#T_1e1b3_row3_col1{\n",
       "            width:  10em;\n",
       "             height:  80%;\n",
       "            background:  linear-gradient(90deg, transparent 50.0%, #5fba7d 50.0%, #5fba7d 90.6%, transparent 90.6%);\n",
       "        }#T_1e1b3_row3_col2{\n",
       "            width:  10em;\n",
       "             height:  80%;\n",
       "            background:  linear-gradient(90deg, transparent 50.0%, #5fba7d 50.0%, #5fba7d 56.2%, transparent 56.2%);\n",
       "        }#T_1e1b3_row3_col4{\n",
       "            width:  10em;\n",
       "             height:  80%;\n",
       "            background:  linear-gradient(90deg, transparent 50.0%, #5fba7d 50.0%, #5fba7d 50.7%, transparent 50.7%);\n",
       "        }#T_1e1b3_row4_col0,#T_1e1b3_row5_col5{\n",
       "            width:  10em;\n",
       "             height:  80%;\n",
       "            background:  linear-gradient(90deg, transparent 50.0%, #5fba7d 50.0%, #5fba7d 53.2%, transparent 53.2%);\n",
       "        }#T_1e1b3_row4_col1{\n",
       "            width:  10em;\n",
       "             height:  80%;\n",
       "            background:  linear-gradient(90deg, transparent 50.0%, #5fba7d 50.0%, #5fba7d 52.6%, transparent 52.6%);\n",
       "        }#T_1e1b3_row4_col3{\n",
       "            width:  10em;\n",
       "             height:  80%;\n",
       "            background:  linear-gradient(90deg, transparent 50.0%, #5fba7d 50.0%, #5fba7d 53.1%, transparent 53.1%);\n",
       "        }#T_1e1b3_row5_col0{\n",
       "            width:  10em;\n",
       "             height:  80%;\n",
       "            background:  linear-gradient(90deg, transparent 50.0%, #5fba7d 50.0%, #5fba7d 51.3%, transparent 51.3%);\n",
       "        }#T_1e1b3_row5_col1{\n",
       "            width:  10em;\n",
       "             height:  80%;\n",
       "            background:  linear-gradient(90deg, transparent 50.0%, #5fba7d 50.0%, #5fba7d 59.9%, transparent 59.9%);\n",
       "        }#T_1e1b3_row5_col6,#T_1e1b3_row6_col5{\n",
       "            width:  10em;\n",
       "             height:  80%;\n",
       "            background:  linear-gradient(90deg, transparent 50.0%, #5fba7d 50.0%, #5fba7d 50.3%, transparent 50.3%);\n",
       "        }#T_1e1b3_row6_col0{\n",
       "            width:  10em;\n",
       "             height:  80%;\n",
       "            background:  linear-gradient(90deg, transparent 50.0%, #5fba7d 50.0%, #5fba7d 50.8%, transparent 50.8%);\n",
       "        }#T_1e1b3_row6_col1{\n",
       "            width:  10em;\n",
       "             height:  80%;\n",
       "            background:  linear-gradient(90deg, transparent 50.0%, #5fba7d 50.0%, #5fba7d 74.0%, transparent 74.0%);\n",
       "        }#T_1e1b3_row6_col3{\n",
       "            width:  10em;\n",
       "             height:  80%;\n",
       "            background:  linear-gradient(90deg, transparent 50.0%, #5fba7d 50.0%, #5fba7d 96.9%, transparent 96.9%);\n",
       "        }#T_1e1b3_row6_col6{\n",
       "            width:  10em;\n",
       "             height:  80%;\n",
       "            background:  linear-gradient(90deg, transparent 50.0%, #5fba7d 50.0%, #5fba7d 51.2%, transparent 51.2%);\n",
       "        }</style><table id=\"T_1e1b3_\" ><thead>    <tr>        <th class=\"blank level0\" ></th>        <th class=\"col_heading level0 col0\" >Polyketide</th>        <th class=\"col_heading level0 col1\" >Other</th>        <th class=\"col_heading level0 col2\" >Alkaloid</th>        <th class=\"col_heading level0 col3\" >Saccharide</th>        <th class=\"col_heading level0 col4\" >Terpene</th>        <th class=\"col_heading level0 col5\" >PKS-NRP-hybrid</th>        <th class=\"col_heading level0 col6\" >NRP</th>        <th class=\"col_heading level0 col7\" >RiPP</th>    </tr></thead><tbody>\n",
       "                <tr>\n",
       "                        <th id=\"T_1e1b3_level0_row0\" class=\"row_heading level0 row0\" >Polyketides</th>\n",
       "                        <td id=\"T_1e1b3_row0_col0\" class=\"data row0 col0\" >548</td>\n",
       "                        <td id=\"T_1e1b3_row0_col1\" class=\"data row0 col1\" >35</td>\n",
       "                        <td id=\"T_1e1b3_row0_col2\" class=\"data row0 col2\" >1.000000</td>\n",
       "                        <td id=\"T_1e1b3_row0_col3\" class=\"data row0 col3\" >64.000000</td>\n",
       "                        <td id=\"T_1e1b3_row0_col4\" class=\"data row0 col4\" >19.000000</td>\n",
       "                        <td id=\"T_1e1b3_row0_col5\" class=\"data row0 col5\" >177</td>\n",
       "                        <td id=\"T_1e1b3_row0_col6\" class=\"data row0 col6\" >115.000000</td>\n",
       "                        <td id=\"T_1e1b3_row0_col7\" class=\"data row0 col7\" >4.000000</td>\n",
       "            </tr>\n",
       "            <tr>\n",
       "                        <th id=\"T_1e1b3_level0_row1\" class=\"row_heading level0 row1\" >Shikimates and Phenylpropanoids</th>\n",
       "                        <td id=\"T_1e1b3_row1_col0\" class=\"data row1 col0\" >20</td>\n",
       "                        <td id=\"T_1e1b3_row1_col1\" class=\"data row1 col1\" >21</td>\n",
       "                        <td id=\"T_1e1b3_row1_col2\" class=\"data row1 col2\" >0.000000</td>\n",
       "                        <td id=\"T_1e1b3_row1_col3\" class=\"data row1 col3\" >3.000000</td>\n",
       "                        <td id=\"T_1e1b3_row1_col4\" class=\"data row1 col4\" >1.000000</td>\n",
       "                        <td id=\"T_1e1b3_row1_col5\" class=\"data row1 col5\" >6</td>\n",
       "                        <td id=\"T_1e1b3_row1_col6\" class=\"data row1 col6\" >9.000000</td>\n",
       "                        <td id=\"T_1e1b3_row1_col7\" class=\"data row1 col7\" >0.000000</td>\n",
       "            </tr>\n",
       "            <tr>\n",
       "                        <th id=\"T_1e1b3_level0_row2\" class=\"row_heading level0 row2\" >Alkaloids</th>\n",
       "                        <td id=\"T_1e1b3_row2_col0\" class=\"data row2 col0\" >72</td>\n",
       "                        <td id=\"T_1e1b3_row2_col1\" class=\"data row2 col1\" >96</td>\n",
       "                        <td id=\"T_1e1b3_row2_col2\" class=\"data row2 col2\" >97.000000</td>\n",
       "                        <td id=\"T_1e1b3_row2_col3\" class=\"data row2 col3\" >0.000000</td>\n",
       "                        <td id=\"T_1e1b3_row2_col4\" class=\"data row2 col4\" >49.000000</td>\n",
       "                        <td id=\"T_1e1b3_row2_col5\" class=\"data row2 col5\" >58</td>\n",
       "                        <td id=\"T_1e1b3_row2_col6\" class=\"data row2 col6\" >99.000000</td>\n",
       "                        <td id=\"T_1e1b3_row2_col7\" class=\"data row2 col7\" >2.000000</td>\n",
       "            </tr>\n",
       "            <tr>\n",
       "                        <th id=\"T_1e1b3_level0_row3\" class=\"row_heading level0 row3\" >Amino acids and Peptides</th>\n",
       "                        <td id=\"T_1e1b3_row3_col0\" class=\"data row3 col0\" >24</td>\n",
       "                        <td id=\"T_1e1b3_row3_col1\" class=\"data row3 col1\" >78</td>\n",
       "                        <td id=\"T_1e1b3_row3_col2\" class=\"data row3 col2\" >12.000000</td>\n",
       "                        <td id=\"T_1e1b3_row3_col3\" class=\"data row3 col3\" >9.000000</td>\n",
       "                        <td id=\"T_1e1b3_row3_col4\" class=\"data row3 col4\" >2.000000</td>\n",
       "                        <td id=\"T_1e1b3_row3_col5\" class=\"data row3 col5\" >187</td>\n",
       "                        <td id=\"T_1e1b3_row3_col6\" class=\"data row3 col6\" >320.000000</td>\n",
       "                        <td id=\"T_1e1b3_row3_col7\" class=\"data row3 col7\" >113.000000</td>\n",
       "            </tr>\n",
       "            <tr>\n",
       "                        <th id=\"T_1e1b3_level0_row4\" class=\"row_heading level0 row4\" >Terpenoids</th>\n",
       "                        <td id=\"T_1e1b3_row4_col0\" class=\"data row4 col0\" >35</td>\n",
       "                        <td id=\"T_1e1b3_row4_col1\" class=\"data row4 col1\" >5</td>\n",
       "                        <td id=\"T_1e1b3_row4_col2\" class=\"data row4 col2\" >0.000000</td>\n",
       "                        <td id=\"T_1e1b3_row4_col3\" class=\"data row4 col3\" >4.000000</td>\n",
       "                        <td id=\"T_1e1b3_row4_col4\" class=\"data row4 col4\" >136.000000</td>\n",
       "                        <td id=\"T_1e1b3_row4_col5\" class=\"data row4 col5\" >2</td>\n",
       "                        <td id=\"T_1e1b3_row4_col6\" class=\"data row4 col6\" >0.000000</td>\n",
       "                        <td id=\"T_1e1b3_row4_col7\" class=\"data row4 col7\" >0.000000</td>\n",
       "            </tr>\n",
       "            <tr>\n",
       "                        <th id=\"T_1e1b3_level0_row5\" class=\"row_heading level0 row5\" >Fatty acids</th>\n",
       "                        <td id=\"T_1e1b3_row5_col0\" class=\"data row5 col0\" >14</td>\n",
       "                        <td id=\"T_1e1b3_row5_col1\" class=\"data row5 col1\" >19</td>\n",
       "                        <td id=\"T_1e1b3_row5_col2\" class=\"data row5 col2\" >0.000000</td>\n",
       "                        <td id=\"T_1e1b3_row5_col3\" class=\"data row5 col3\" >0.000000</td>\n",
       "                        <td id=\"T_1e1b3_row5_col4\" class=\"data row5 col4\" >0.000000</td>\n",
       "                        <td id=\"T_1e1b3_row5_col5\" class=\"data row5 col5\" >12</td>\n",
       "                        <td id=\"T_1e1b3_row5_col6\" class=\"data row5 col6\" >2.000000</td>\n",
       "                        <td id=\"T_1e1b3_row5_col7\" class=\"data row5 col7\" >0.000000</td>\n",
       "            </tr>\n",
       "            <tr>\n",
       "                        <th id=\"T_1e1b3_level0_row6\" class=\"row_heading level0 row6\" >Carbohydrates</th>\n",
       "                        <td id=\"T_1e1b3_row6_col0\" class=\"data row6 col0\" >9</td>\n",
       "                        <td id=\"T_1e1b3_row6_col1\" class=\"data row6 col1\" >46</td>\n",
       "                        <td id=\"T_1e1b3_row6_col2\" class=\"data row6 col2\" >0.000000</td>\n",
       "                        <td id=\"T_1e1b3_row6_col3\" class=\"data row6 col3\" >60.000000</td>\n",
       "                        <td id=\"T_1e1b3_row6_col4\" class=\"data row6 col4\" >1.000000</td>\n",
       "                        <td id=\"T_1e1b3_row6_col5\" class=\"data row6 col5\" >1</td>\n",
       "                        <td id=\"T_1e1b3_row6_col6\" class=\"data row6 col6\" >8.000000</td>\n",
       "                        <td id=\"T_1e1b3_row6_col7\" class=\"data row6 col7\" >0.000000</td>\n",
       "            </tr>\n",
       "    </tbody></table>"
      ],
      "text/plain": [
       "<pandas.io.formats.style.Styler at 0x7fef12da2278>"
      ]
     },
     "execution_count": 60,
     "metadata": {},
     "output_type": "execute_result"
    }
   ],
   "source": [
    "s = df_mibig_cls_npc_pathway.style.bar(color=['#5fba7d'], axis=0, align='zero')\n",
    "# s.style.bar(color=['#5fba7d'], axis=1, align='zero')\n",
    "s"
   ]
  },
  {
   "cell_type": "markdown",
   "id": "affiliated-farming",
   "metadata": {},
   "source": [
    "## Visualisation"
   ]
  },
  {
   "cell_type": "code",
   "execution_count": 61,
   "id": "baking-crash",
   "metadata": {},
   "outputs": [
    {
     "data": {
      "text/plain": [
       "(OrderedDict([('Polyketide', 0),\n",
       "              ('Other', 1),\n",
       "              ('Alkaloid', 2),\n",
       "              ('Saccharide', 3),\n",
       "              ('Terpene', 4),\n",
       "              ('PKS-NRP-hybrid', 5),\n",
       "              ('NRP', 6),\n",
       "              ('RiPP', 7),\n",
       "              ('Polyketides', 8),\n",
       "              ('Shikimates and Phenylpropanoids', 9),\n",
       "              ('Alkaloids', 10),\n",
       "              ('Amino acids and Peptides', 11),\n",
       "              ('Terpenoids', 12),\n",
       "              ('Fatty acids', 13),\n",
       "              ('Carbohydrates', 14)]),\n",
       " ['Polyketide',\n",
       "  'Other',\n",
       "  'Alkaloid',\n",
       "  'Saccharide',\n",
       "  'Terpene',\n",
       "  'PKS-NRP-hybrid',\n",
       "  'NRP',\n",
       "  'RiPP',\n",
       "  'Polyketides',\n",
       "  'Shikimates and Phenylpropanoids',\n",
       "  'Alkaloids',\n",
       "  'Amino acids and Peptides',\n",
       "  'Terpenoids',\n",
       "  'Fatty acids',\n",
       "  'Carbohydrates'])"
      ]
     },
     "execution_count": 61,
     "metadata": {},
     "output_type": "execute_result"
    }
   ],
   "source": [
    "label_dict = OrderedDict()\n",
    "label_dict.update({key:i for i, key in enumerate(mibig_cls_npc_pathway.keys())})\n",
    "cur = len(label_dict)\n",
    "for vals in mibig_cls_npc_pathway.values():\n",
    "    for val in vals.keys():\n",
    "        if val not in label_dict:\n",
    "            label_dict[val] = cur\n",
    "            cur += 1\n",
    "label_vals = list(label_dict.keys())\n",
    "label_dict, label_vals"
   ]
  },
  {
   "cell_type": "code",
   "execution_count": 62,
   "id": "chronic-worth",
   "metadata": {},
   "outputs": [],
   "source": [
    "source_vals = []\n",
    "target_vals = []\n",
    "value_vals = []\n",
    "\n",
    "for bgc_c, vals in mibig_cls_npc_pathway.items():\n",
    "    for chem_c, count in vals.items():\n",
    "        source_vals.append(label_dict[bgc_c])\n",
    "        target_vals.append(label_dict[chem_c])\n",
    "        value_vals.append(count)"
   ]
  },
  {
   "cell_type": "code",
   "execution_count": 64,
   "id": "reserved-maryland",
   "metadata": {},
   "outputs": [
    {
     "data": {
      "application/vnd.plotly.v1+json": {
       "config": {
        "plotlyServerURL": "https://plot.ly"
       },
       "data": [
        {
         "link": {
          "source": [
           0,
           0,
           0,
           0,
           0,
           0,
           0,
           1,
           1,
           1,
           1,
           1,
           1,
           1,
           2,
           2,
           2,
           3,
           3,
           3,
           3,
           3,
           4,
           4,
           4,
           4,
           4,
           4,
           5,
           5,
           5,
           5,
           5,
           5,
           5,
           6,
           6,
           6,
           6,
           6,
           6,
           7,
           7,
           7
          ],
          "target": [
           8,
           9,
           10,
           11,
           12,
           13,
           14,
           8,
           14,
           11,
           10,
           9,
           13,
           12,
           10,
           11,
           8,
           14,
           8,
           11,
           12,
           9,
           8,
           12,
           14,
           11,
           10,
           9,
           8,
           10,
           11,
           9,
           13,
           12,
           14,
           11,
           14,
           10,
           8,
           9,
           13,
           11,
           8,
           10
          ],
          "value": [
           548,
           20,
           72,
           24,
           35,
           14,
           9,
           35,
           46,
           78,
           96,
           21,
           19,
           5,
           97,
           12,
           1,
           60,
           64,
           9,
           4,
           3,
           19,
           136,
           1,
           2,
           49,
           1,
           177,
           58,
           187,
           6,
           12,
           2,
           1,
           320,
           8,
           99,
           115,
           9,
           2,
           113,
           4,
           2
          ]
         },
         "node": {
          "label": [
           "Polyketide",
           "Other",
           "Alkaloid",
           "Saccharide",
           "Terpene",
           "PKS-NRP-hybrid",
           "NRP",
           "RiPP",
           "Polyketides",
           "Shikimates and Phenylpropanoids",
           "Alkaloids",
           "Amino acids and Peptides",
           "Terpenoids",
           "Fatty acids",
           "Carbohydrates"
          ],
          "line": {
           "color": "black",
           "width": 0.5
          },
          "pad": 15,
          "thickness": 20
         },
         "type": "sankey"
        }
       ],
       "layout": {
        "font": {
         "size": 10
        },
        "template": {
         "data": {
          "bar": [
           {
            "error_x": {
             "color": "#2a3f5f"
            },
            "error_y": {
             "color": "#2a3f5f"
            },
            "marker": {
             "line": {
              "color": "#E5ECF6",
              "width": 0.5
             }
            },
            "type": "bar"
           }
          ],
          "barpolar": [
           {
            "marker": {
             "line": {
              "color": "#E5ECF6",
              "width": 0.5
             }
            },
            "type": "barpolar"
           }
          ],
          "carpet": [
           {
            "aaxis": {
             "endlinecolor": "#2a3f5f",
             "gridcolor": "white",
             "linecolor": "white",
             "minorgridcolor": "white",
             "startlinecolor": "#2a3f5f"
            },
            "baxis": {
             "endlinecolor": "#2a3f5f",
             "gridcolor": "white",
             "linecolor": "white",
             "minorgridcolor": "white",
             "startlinecolor": "#2a3f5f"
            },
            "type": "carpet"
           }
          ],
          "choropleth": [
           {
            "colorbar": {
             "outlinewidth": 0,
             "ticks": ""
            },
            "type": "choropleth"
           }
          ],
          "contour": [
           {
            "colorbar": {
             "outlinewidth": 0,
             "ticks": ""
            },
            "colorscale": [
             [
              0,
              "#0d0887"
             ],
             [
              0.1111111111111111,
              "#46039f"
             ],
             [
              0.2222222222222222,
              "#7201a8"
             ],
             [
              0.3333333333333333,
              "#9c179e"
             ],
             [
              0.4444444444444444,
              "#bd3786"
             ],
             [
              0.5555555555555556,
              "#d8576b"
             ],
             [
              0.6666666666666666,
              "#ed7953"
             ],
             [
              0.7777777777777778,
              "#fb9f3a"
             ],
             [
              0.8888888888888888,
              "#fdca26"
             ],
             [
              1,
              "#f0f921"
             ]
            ],
            "type": "contour"
           }
          ],
          "contourcarpet": [
           {
            "colorbar": {
             "outlinewidth": 0,
             "ticks": ""
            },
            "type": "contourcarpet"
           }
          ],
          "heatmap": [
           {
            "colorbar": {
             "outlinewidth": 0,
             "ticks": ""
            },
            "colorscale": [
             [
              0,
              "#0d0887"
             ],
             [
              0.1111111111111111,
              "#46039f"
             ],
             [
              0.2222222222222222,
              "#7201a8"
             ],
             [
              0.3333333333333333,
              "#9c179e"
             ],
             [
              0.4444444444444444,
              "#bd3786"
             ],
             [
              0.5555555555555556,
              "#d8576b"
             ],
             [
              0.6666666666666666,
              "#ed7953"
             ],
             [
              0.7777777777777778,
              "#fb9f3a"
             ],
             [
              0.8888888888888888,
              "#fdca26"
             ],
             [
              1,
              "#f0f921"
             ]
            ],
            "type": "heatmap"
           }
          ],
          "heatmapgl": [
           {
            "colorbar": {
             "outlinewidth": 0,
             "ticks": ""
            },
            "colorscale": [
             [
              0,
              "#0d0887"
             ],
             [
              0.1111111111111111,
              "#46039f"
             ],
             [
              0.2222222222222222,
              "#7201a8"
             ],
             [
              0.3333333333333333,
              "#9c179e"
             ],
             [
              0.4444444444444444,
              "#bd3786"
             ],
             [
              0.5555555555555556,
              "#d8576b"
             ],
             [
              0.6666666666666666,
              "#ed7953"
             ],
             [
              0.7777777777777778,
              "#fb9f3a"
             ],
             [
              0.8888888888888888,
              "#fdca26"
             ],
             [
              1,
              "#f0f921"
             ]
            ],
            "type": "heatmapgl"
           }
          ],
          "histogram": [
           {
            "marker": {
             "colorbar": {
              "outlinewidth": 0,
              "ticks": ""
             }
            },
            "type": "histogram"
           }
          ],
          "histogram2d": [
           {
            "colorbar": {
             "outlinewidth": 0,
             "ticks": ""
            },
            "colorscale": [
             [
              0,
              "#0d0887"
             ],
             [
              0.1111111111111111,
              "#46039f"
             ],
             [
              0.2222222222222222,
              "#7201a8"
             ],
             [
              0.3333333333333333,
              "#9c179e"
             ],
             [
              0.4444444444444444,
              "#bd3786"
             ],
             [
              0.5555555555555556,
              "#d8576b"
             ],
             [
              0.6666666666666666,
              "#ed7953"
             ],
             [
              0.7777777777777778,
              "#fb9f3a"
             ],
             [
              0.8888888888888888,
              "#fdca26"
             ],
             [
              1,
              "#f0f921"
             ]
            ],
            "type": "histogram2d"
           }
          ],
          "histogram2dcontour": [
           {
            "colorbar": {
             "outlinewidth": 0,
             "ticks": ""
            },
            "colorscale": [
             [
              0,
              "#0d0887"
             ],
             [
              0.1111111111111111,
              "#46039f"
             ],
             [
              0.2222222222222222,
              "#7201a8"
             ],
             [
              0.3333333333333333,
              "#9c179e"
             ],
             [
              0.4444444444444444,
              "#bd3786"
             ],
             [
              0.5555555555555556,
              "#d8576b"
             ],
             [
              0.6666666666666666,
              "#ed7953"
             ],
             [
              0.7777777777777778,
              "#fb9f3a"
             ],
             [
              0.8888888888888888,
              "#fdca26"
             ],
             [
              1,
              "#f0f921"
             ]
            ],
            "type": "histogram2dcontour"
           }
          ],
          "mesh3d": [
           {
            "colorbar": {
             "outlinewidth": 0,
             "ticks": ""
            },
            "type": "mesh3d"
           }
          ],
          "parcoords": [
           {
            "line": {
             "colorbar": {
              "outlinewidth": 0,
              "ticks": ""
             }
            },
            "type": "parcoords"
           }
          ],
          "pie": [
           {
            "automargin": true,
            "type": "pie"
           }
          ],
          "scatter": [
           {
            "marker": {
             "colorbar": {
              "outlinewidth": 0,
              "ticks": ""
             }
            },
            "type": "scatter"
           }
          ],
          "scatter3d": [
           {
            "line": {
             "colorbar": {
              "outlinewidth": 0,
              "ticks": ""
             }
            },
            "marker": {
             "colorbar": {
              "outlinewidth": 0,
              "ticks": ""
             }
            },
            "type": "scatter3d"
           }
          ],
          "scattercarpet": [
           {
            "marker": {
             "colorbar": {
              "outlinewidth": 0,
              "ticks": ""
             }
            },
            "type": "scattercarpet"
           }
          ],
          "scattergeo": [
           {
            "marker": {
             "colorbar": {
              "outlinewidth": 0,
              "ticks": ""
             }
            },
            "type": "scattergeo"
           }
          ],
          "scattergl": [
           {
            "marker": {
             "colorbar": {
              "outlinewidth": 0,
              "ticks": ""
             }
            },
            "type": "scattergl"
           }
          ],
          "scattermapbox": [
           {
            "marker": {
             "colorbar": {
              "outlinewidth": 0,
              "ticks": ""
             }
            },
            "type": "scattermapbox"
           }
          ],
          "scatterpolar": [
           {
            "marker": {
             "colorbar": {
              "outlinewidth": 0,
              "ticks": ""
             }
            },
            "type": "scatterpolar"
           }
          ],
          "scatterpolargl": [
           {
            "marker": {
             "colorbar": {
              "outlinewidth": 0,
              "ticks": ""
             }
            },
            "type": "scatterpolargl"
           }
          ],
          "scatterternary": [
           {
            "marker": {
             "colorbar": {
              "outlinewidth": 0,
              "ticks": ""
             }
            },
            "type": "scatterternary"
           }
          ],
          "surface": [
           {
            "colorbar": {
             "outlinewidth": 0,
             "ticks": ""
            },
            "colorscale": [
             [
              0,
              "#0d0887"
             ],
             [
              0.1111111111111111,
              "#46039f"
             ],
             [
              0.2222222222222222,
              "#7201a8"
             ],
             [
              0.3333333333333333,
              "#9c179e"
             ],
             [
              0.4444444444444444,
              "#bd3786"
             ],
             [
              0.5555555555555556,
              "#d8576b"
             ],
             [
              0.6666666666666666,
              "#ed7953"
             ],
             [
              0.7777777777777778,
              "#fb9f3a"
             ],
             [
              0.8888888888888888,
              "#fdca26"
             ],
             [
              1,
              "#f0f921"
             ]
            ],
            "type": "surface"
           }
          ],
          "table": [
           {
            "cells": {
             "fill": {
              "color": "#EBF0F8"
             },
             "line": {
              "color": "white"
             }
            },
            "header": {
             "fill": {
              "color": "#C8D4E3"
             },
             "line": {
              "color": "white"
             }
            },
            "type": "table"
           }
          ]
         },
         "layout": {
          "annotationdefaults": {
           "arrowcolor": "#2a3f5f",
           "arrowhead": 0,
           "arrowwidth": 1
          },
          "autotypenumbers": "strict",
          "coloraxis": {
           "colorbar": {
            "outlinewidth": 0,
            "ticks": ""
           }
          },
          "colorscale": {
           "diverging": [
            [
             0,
             "#8e0152"
            ],
            [
             0.1,
             "#c51b7d"
            ],
            [
             0.2,
             "#de77ae"
            ],
            [
             0.3,
             "#f1b6da"
            ],
            [
             0.4,
             "#fde0ef"
            ],
            [
             0.5,
             "#f7f7f7"
            ],
            [
             0.6,
             "#e6f5d0"
            ],
            [
             0.7,
             "#b8e186"
            ],
            [
             0.8,
             "#7fbc41"
            ],
            [
             0.9,
             "#4d9221"
            ],
            [
             1,
             "#276419"
            ]
           ],
           "sequential": [
            [
             0,
             "#0d0887"
            ],
            [
             0.1111111111111111,
             "#46039f"
            ],
            [
             0.2222222222222222,
             "#7201a8"
            ],
            [
             0.3333333333333333,
             "#9c179e"
            ],
            [
             0.4444444444444444,
             "#bd3786"
            ],
            [
             0.5555555555555556,
             "#d8576b"
            ],
            [
             0.6666666666666666,
             "#ed7953"
            ],
            [
             0.7777777777777778,
             "#fb9f3a"
            ],
            [
             0.8888888888888888,
             "#fdca26"
            ],
            [
             1,
             "#f0f921"
            ]
           ],
           "sequentialminus": [
            [
             0,
             "#0d0887"
            ],
            [
             0.1111111111111111,
             "#46039f"
            ],
            [
             0.2222222222222222,
             "#7201a8"
            ],
            [
             0.3333333333333333,
             "#9c179e"
            ],
            [
             0.4444444444444444,
             "#bd3786"
            ],
            [
             0.5555555555555556,
             "#d8576b"
            ],
            [
             0.6666666666666666,
             "#ed7953"
            ],
            [
             0.7777777777777778,
             "#fb9f3a"
            ],
            [
             0.8888888888888888,
             "#fdca26"
            ],
            [
             1,
             "#f0f921"
            ]
           ]
          },
          "colorway": [
           "#636efa",
           "#EF553B",
           "#00cc96",
           "#ab63fa",
           "#FFA15A",
           "#19d3f3",
           "#FF6692",
           "#B6E880",
           "#FF97FF",
           "#FECB52"
          ],
          "font": {
           "color": "#2a3f5f"
          },
          "geo": {
           "bgcolor": "white",
           "lakecolor": "white",
           "landcolor": "#E5ECF6",
           "showlakes": true,
           "showland": true,
           "subunitcolor": "white"
          },
          "hoverlabel": {
           "align": "left"
          },
          "hovermode": "closest",
          "mapbox": {
           "style": "light"
          },
          "paper_bgcolor": "white",
          "plot_bgcolor": "#E5ECF6",
          "polar": {
           "angularaxis": {
            "gridcolor": "white",
            "linecolor": "white",
            "ticks": ""
           },
           "bgcolor": "#E5ECF6",
           "radialaxis": {
            "gridcolor": "white",
            "linecolor": "white",
            "ticks": ""
           }
          },
          "scene": {
           "xaxis": {
            "backgroundcolor": "#E5ECF6",
            "gridcolor": "white",
            "gridwidth": 2,
            "linecolor": "white",
            "showbackground": true,
            "ticks": "",
            "zerolinecolor": "white"
           },
           "yaxis": {
            "backgroundcolor": "#E5ECF6",
            "gridcolor": "white",
            "gridwidth": 2,
            "linecolor": "white",
            "showbackground": true,
            "ticks": "",
            "zerolinecolor": "white"
           },
           "zaxis": {
            "backgroundcolor": "#E5ECF6",
            "gridcolor": "white",
            "gridwidth": 2,
            "linecolor": "white",
            "showbackground": true,
            "ticks": "",
            "zerolinecolor": "white"
           }
          },
          "shapedefaults": {
           "line": {
            "color": "#2a3f5f"
           }
          },
          "ternary": {
           "aaxis": {
            "gridcolor": "white",
            "linecolor": "white",
            "ticks": ""
           },
           "baxis": {
            "gridcolor": "white",
            "linecolor": "white",
            "ticks": ""
           },
           "bgcolor": "#E5ECF6",
           "caxis": {
            "gridcolor": "white",
            "linecolor": "white",
            "ticks": ""
           }
          },
          "title": {
           "x": 0.05
          },
          "xaxis": {
           "automargin": true,
           "gridcolor": "white",
           "linecolor": "white",
           "ticks": "",
           "title": {
            "standoff": 15
           },
           "zerolinecolor": "white",
           "zerolinewidth": 2
          },
          "yaxis": {
           "automargin": true,
           "gridcolor": "white",
           "linecolor": "white",
           "ticks": "",
           "title": {
            "standoff": 15
           },
           "zerolinecolor": "white",
           "zerolinewidth": 2
          }
         }
        },
        "title": {
         "text": "MiBIG BGC classes vs NPClassifier pathways"
        }
       }
      },
      "text/html": [
       "<div>                            <div id=\"858aa7e0-a029-4264-a61c-c71aa3b7e2be\" class=\"plotly-graph-div\" style=\"height:525px; width:100%;\"></div>            <script type=\"text/javascript\">                require([\"plotly\"], function(Plotly) {                    window.PLOTLYENV=window.PLOTLYENV || {};                                    if (document.getElementById(\"858aa7e0-a029-4264-a61c-c71aa3b7e2be\")) {                    Plotly.newPlot(                        \"858aa7e0-a029-4264-a61c-c71aa3b7e2be\",                        [{\"link\": {\"source\": [0, 0, 0, 0, 0, 0, 0, 1, 1, 1, 1, 1, 1, 1, 2, 2, 2, 3, 3, 3, 3, 3, 4, 4, 4, 4, 4, 4, 5, 5, 5, 5, 5, 5, 5, 6, 6, 6, 6, 6, 6, 7, 7, 7], \"target\": [8, 9, 10, 11, 12, 13, 14, 8, 14, 11, 10, 9, 13, 12, 10, 11, 8, 14, 8, 11, 12, 9, 8, 12, 14, 11, 10, 9, 8, 10, 11, 9, 13, 12, 14, 11, 14, 10, 8, 9, 13, 11, 8, 10], \"value\": [548, 20, 72, 24, 35, 14, 9, 35, 46, 78, 96, 21, 19, 5, 97, 12, 1, 60, 64, 9, 4, 3, 19, 136, 1, 2, 49, 1, 177, 58, 187, 6, 12, 2, 1, 320, 8, 99, 115, 9, 2, 113, 4, 2]}, \"node\": {\"label\": [\"Polyketide\", \"Other\", \"Alkaloid\", \"Saccharide\", \"Terpene\", \"PKS-NRP-hybrid\", \"NRP\", \"RiPP\", \"Polyketides\", \"Shikimates and Phenylpropanoids\", \"Alkaloids\", \"Amino acids and Peptides\", \"Terpenoids\", \"Fatty acids\", \"Carbohydrates\"], \"line\": {\"color\": \"black\", \"width\": 0.5}, \"pad\": 15, \"thickness\": 20}, \"type\": \"sankey\"}],                        {\"font\": {\"size\": 10}, \"template\": {\"data\": {\"bar\": [{\"error_x\": {\"color\": \"#2a3f5f\"}, \"error_y\": {\"color\": \"#2a3f5f\"}, \"marker\": {\"line\": {\"color\": \"#E5ECF6\", \"width\": 0.5}}, \"type\": \"bar\"}], \"barpolar\": [{\"marker\": {\"line\": {\"color\": \"#E5ECF6\", \"width\": 0.5}}, \"type\": \"barpolar\"}], \"carpet\": [{\"aaxis\": {\"endlinecolor\": \"#2a3f5f\", \"gridcolor\": \"white\", \"linecolor\": \"white\", \"minorgridcolor\": \"white\", \"startlinecolor\": \"#2a3f5f\"}, \"baxis\": {\"endlinecolor\": \"#2a3f5f\", \"gridcolor\": \"white\", \"linecolor\": \"white\", \"minorgridcolor\": \"white\", \"startlinecolor\": \"#2a3f5f\"}, \"type\": \"carpet\"}], \"choropleth\": [{\"colorbar\": {\"outlinewidth\": 0, \"ticks\": \"\"}, \"type\": \"choropleth\"}], \"contour\": [{\"colorbar\": {\"outlinewidth\": 0, \"ticks\": \"\"}, \"colorscale\": [[0.0, \"#0d0887\"], [0.1111111111111111, \"#46039f\"], [0.2222222222222222, \"#7201a8\"], [0.3333333333333333, \"#9c179e\"], [0.4444444444444444, \"#bd3786\"], [0.5555555555555556, \"#d8576b\"], [0.6666666666666666, \"#ed7953\"], [0.7777777777777778, \"#fb9f3a\"], [0.8888888888888888, \"#fdca26\"], [1.0, \"#f0f921\"]], \"type\": \"contour\"}], \"contourcarpet\": [{\"colorbar\": {\"outlinewidth\": 0, \"ticks\": \"\"}, \"type\": \"contourcarpet\"}], \"heatmap\": [{\"colorbar\": {\"outlinewidth\": 0, \"ticks\": \"\"}, \"colorscale\": [[0.0, \"#0d0887\"], [0.1111111111111111, \"#46039f\"], [0.2222222222222222, \"#7201a8\"], [0.3333333333333333, \"#9c179e\"], [0.4444444444444444, \"#bd3786\"], [0.5555555555555556, \"#d8576b\"], [0.6666666666666666, \"#ed7953\"], [0.7777777777777778, \"#fb9f3a\"], [0.8888888888888888, \"#fdca26\"], [1.0, \"#f0f921\"]], \"type\": \"heatmap\"}], \"heatmapgl\": [{\"colorbar\": {\"outlinewidth\": 0, \"ticks\": \"\"}, \"colorscale\": [[0.0, \"#0d0887\"], [0.1111111111111111, \"#46039f\"], [0.2222222222222222, \"#7201a8\"], [0.3333333333333333, \"#9c179e\"], [0.4444444444444444, \"#bd3786\"], [0.5555555555555556, \"#d8576b\"], [0.6666666666666666, \"#ed7953\"], [0.7777777777777778, \"#fb9f3a\"], [0.8888888888888888, \"#fdca26\"], [1.0, \"#f0f921\"]], \"type\": \"heatmapgl\"}], \"histogram\": [{\"marker\": {\"colorbar\": {\"outlinewidth\": 0, \"ticks\": \"\"}}, \"type\": \"histogram\"}], \"histogram2d\": [{\"colorbar\": {\"outlinewidth\": 0, \"ticks\": \"\"}, \"colorscale\": [[0.0, \"#0d0887\"], [0.1111111111111111, \"#46039f\"], [0.2222222222222222, \"#7201a8\"], [0.3333333333333333, \"#9c179e\"], [0.4444444444444444, \"#bd3786\"], [0.5555555555555556, \"#d8576b\"], [0.6666666666666666, \"#ed7953\"], [0.7777777777777778, \"#fb9f3a\"], [0.8888888888888888, \"#fdca26\"], [1.0, \"#f0f921\"]], \"type\": \"histogram2d\"}], \"histogram2dcontour\": [{\"colorbar\": {\"outlinewidth\": 0, \"ticks\": \"\"}, \"colorscale\": [[0.0, \"#0d0887\"], [0.1111111111111111, \"#46039f\"], [0.2222222222222222, \"#7201a8\"], [0.3333333333333333, \"#9c179e\"], [0.4444444444444444, \"#bd3786\"], [0.5555555555555556, \"#d8576b\"], [0.6666666666666666, \"#ed7953\"], [0.7777777777777778, \"#fb9f3a\"], [0.8888888888888888, \"#fdca26\"], [1.0, \"#f0f921\"]], \"type\": \"histogram2dcontour\"}], \"mesh3d\": [{\"colorbar\": {\"outlinewidth\": 0, \"ticks\": \"\"}, \"type\": \"mesh3d\"}], \"parcoords\": [{\"line\": {\"colorbar\": {\"outlinewidth\": 0, \"ticks\": \"\"}}, \"type\": \"parcoords\"}], \"pie\": [{\"automargin\": true, \"type\": \"pie\"}], \"scatter\": [{\"marker\": {\"colorbar\": {\"outlinewidth\": 0, \"ticks\": \"\"}}, \"type\": \"scatter\"}], \"scatter3d\": [{\"line\": {\"colorbar\": {\"outlinewidth\": 0, \"ticks\": \"\"}}, \"marker\": {\"colorbar\": {\"outlinewidth\": 0, \"ticks\": \"\"}}, \"type\": \"scatter3d\"}], \"scattercarpet\": [{\"marker\": {\"colorbar\": {\"outlinewidth\": 0, \"ticks\": \"\"}}, \"type\": \"scattercarpet\"}], \"scattergeo\": [{\"marker\": {\"colorbar\": {\"outlinewidth\": 0, \"ticks\": \"\"}}, \"type\": \"scattergeo\"}], \"scattergl\": [{\"marker\": {\"colorbar\": {\"outlinewidth\": 0, \"ticks\": \"\"}}, \"type\": \"scattergl\"}], \"scattermapbox\": [{\"marker\": {\"colorbar\": {\"outlinewidth\": 0, \"ticks\": \"\"}}, \"type\": \"scattermapbox\"}], \"scatterpolar\": [{\"marker\": {\"colorbar\": {\"outlinewidth\": 0, \"ticks\": \"\"}}, \"type\": \"scatterpolar\"}], \"scatterpolargl\": [{\"marker\": {\"colorbar\": {\"outlinewidth\": 0, \"ticks\": \"\"}}, \"type\": \"scatterpolargl\"}], \"scatterternary\": [{\"marker\": {\"colorbar\": {\"outlinewidth\": 0, \"ticks\": \"\"}}, \"type\": \"scatterternary\"}], \"surface\": [{\"colorbar\": {\"outlinewidth\": 0, \"ticks\": \"\"}, \"colorscale\": [[0.0, \"#0d0887\"], [0.1111111111111111, \"#46039f\"], [0.2222222222222222, \"#7201a8\"], [0.3333333333333333, \"#9c179e\"], [0.4444444444444444, \"#bd3786\"], [0.5555555555555556, \"#d8576b\"], [0.6666666666666666, \"#ed7953\"], [0.7777777777777778, \"#fb9f3a\"], [0.8888888888888888, \"#fdca26\"], [1.0, \"#f0f921\"]], \"type\": \"surface\"}], \"table\": [{\"cells\": {\"fill\": {\"color\": \"#EBF0F8\"}, \"line\": {\"color\": \"white\"}}, \"header\": {\"fill\": {\"color\": \"#C8D4E3\"}, \"line\": {\"color\": \"white\"}}, \"type\": \"table\"}]}, \"layout\": {\"annotationdefaults\": {\"arrowcolor\": \"#2a3f5f\", \"arrowhead\": 0, \"arrowwidth\": 1}, \"autotypenumbers\": \"strict\", \"coloraxis\": {\"colorbar\": {\"outlinewidth\": 0, \"ticks\": \"\"}}, \"colorscale\": {\"diverging\": [[0, \"#8e0152\"], [0.1, \"#c51b7d\"], [0.2, \"#de77ae\"], [0.3, \"#f1b6da\"], [0.4, \"#fde0ef\"], [0.5, \"#f7f7f7\"], [0.6, \"#e6f5d0\"], [0.7, \"#b8e186\"], [0.8, \"#7fbc41\"], [0.9, \"#4d9221\"], [1, \"#276419\"]], \"sequential\": [[0.0, \"#0d0887\"], [0.1111111111111111, \"#46039f\"], [0.2222222222222222, \"#7201a8\"], [0.3333333333333333, \"#9c179e\"], [0.4444444444444444, \"#bd3786\"], [0.5555555555555556, \"#d8576b\"], [0.6666666666666666, \"#ed7953\"], [0.7777777777777778, \"#fb9f3a\"], [0.8888888888888888, \"#fdca26\"], [1.0, \"#f0f921\"]], \"sequentialminus\": [[0.0, \"#0d0887\"], [0.1111111111111111, \"#46039f\"], [0.2222222222222222, \"#7201a8\"], [0.3333333333333333, \"#9c179e\"], [0.4444444444444444, \"#bd3786\"], [0.5555555555555556, \"#d8576b\"], [0.6666666666666666, \"#ed7953\"], [0.7777777777777778, \"#fb9f3a\"], [0.8888888888888888, \"#fdca26\"], [1.0, \"#f0f921\"]]}, \"colorway\": [\"#636efa\", \"#EF553B\", \"#00cc96\", \"#ab63fa\", \"#FFA15A\", \"#19d3f3\", \"#FF6692\", \"#B6E880\", \"#FF97FF\", \"#FECB52\"], \"font\": {\"color\": \"#2a3f5f\"}, \"geo\": {\"bgcolor\": \"white\", \"lakecolor\": \"white\", \"landcolor\": \"#E5ECF6\", \"showlakes\": true, \"showland\": true, \"subunitcolor\": \"white\"}, \"hoverlabel\": {\"align\": \"left\"}, \"hovermode\": \"closest\", \"mapbox\": {\"style\": \"light\"}, \"paper_bgcolor\": \"white\", \"plot_bgcolor\": \"#E5ECF6\", \"polar\": {\"angularaxis\": {\"gridcolor\": \"white\", \"linecolor\": \"white\", \"ticks\": \"\"}, \"bgcolor\": \"#E5ECF6\", \"radialaxis\": {\"gridcolor\": \"white\", \"linecolor\": \"white\", \"ticks\": \"\"}}, \"scene\": {\"xaxis\": {\"backgroundcolor\": \"#E5ECF6\", \"gridcolor\": \"white\", \"gridwidth\": 2, \"linecolor\": \"white\", \"showbackground\": true, \"ticks\": \"\", \"zerolinecolor\": \"white\"}, \"yaxis\": {\"backgroundcolor\": \"#E5ECF6\", \"gridcolor\": \"white\", \"gridwidth\": 2, \"linecolor\": \"white\", \"showbackground\": true, \"ticks\": \"\", \"zerolinecolor\": \"white\"}, \"zaxis\": {\"backgroundcolor\": \"#E5ECF6\", \"gridcolor\": \"white\", \"gridwidth\": 2, \"linecolor\": \"white\", \"showbackground\": true, \"ticks\": \"\", \"zerolinecolor\": \"white\"}}, \"shapedefaults\": {\"line\": {\"color\": \"#2a3f5f\"}}, \"ternary\": {\"aaxis\": {\"gridcolor\": \"white\", \"linecolor\": \"white\", \"ticks\": \"\"}, \"baxis\": {\"gridcolor\": \"white\", \"linecolor\": \"white\", \"ticks\": \"\"}, \"bgcolor\": \"#E5ECF6\", \"caxis\": {\"gridcolor\": \"white\", \"linecolor\": \"white\", \"ticks\": \"\"}}, \"title\": {\"x\": 0.05}, \"xaxis\": {\"automargin\": true, \"gridcolor\": \"white\", \"linecolor\": \"white\", \"ticks\": \"\", \"title\": {\"standoff\": 15}, \"zerolinecolor\": \"white\", \"zerolinewidth\": 2}, \"yaxis\": {\"automargin\": true, \"gridcolor\": \"white\", \"linecolor\": \"white\", \"ticks\": \"\", \"title\": {\"standoff\": 15}, \"zerolinecolor\": \"white\", \"zerolinewidth\": 2}}}, \"title\": {\"text\": \"MiBIG BGC classes vs NPClassifier pathways\"}},                        {\"responsive\": true}                    ).then(function(){\n",
       "                            \n",
       "var gd = document.getElementById('858aa7e0-a029-4264-a61c-c71aa3b7e2be');\n",
       "var x = new MutationObserver(function (mutations, observer) {{\n",
       "        var display = window.getComputedStyle(gd).display;\n",
       "        if (!display || display === 'none') {{\n",
       "            console.log([gd, 'removed!']);\n",
       "            Plotly.purge(gd);\n",
       "            observer.disconnect();\n",
       "        }}\n",
       "}});\n",
       "\n",
       "// Listen for the removal of the full notebook cells\n",
       "var notebookContainer = gd.closest('#notebook-container');\n",
       "if (notebookContainer) {{\n",
       "    x.observe(notebookContainer, {childList: true});\n",
       "}}\n",
       "\n",
       "// Listen for the clearing of the current output cell\n",
       "var outputEl = gd.closest('.output');\n",
       "if (outputEl) {{\n",
       "    x.observe(outputEl, {childList: true});\n",
       "}}\n",
       "\n",
       "                        })                };                });            </script>        </div>"
      ]
     },
     "metadata": {},
     "output_type": "display_data"
    }
   ],
   "source": [
    "import plotly.graph_objects as go\n",
    "\n",
    "fig = go.Figure(data=[go.Sankey(\n",
    "    node = dict(\n",
    "      pad = 15,\n",
    "      thickness = 20,\n",
    "      line = dict(color = \"black\", width = 0.5),\n",
    "      label = label_vals\n",
    "    ),\n",
    "    link = dict(\n",
    "      source = source_vals, # indices correspond to labels, eg A1, A2, A1, B1, ...\n",
    "      target = target_vals,\n",
    "      value = value_vals\n",
    "  ))])\n",
    "\n",
    "fig_title = \"MiBIG BGC classes vs NPClassifier pathways\"\n",
    "fig.update_layout(title_text=fig_title, font_size=10)\n",
    "fig.show()\n",
    "fig.write_html(os.path.join(out_base, '_'.join(fig_title.split(' '))) + \".html\")"
   ]
  },
  {
   "cell_type": "markdown",
   "id": "numeric-platinum",
   "metadata": {},
   "source": [
    "## Plotting function"
   ]
  },
  {
   "cell_type": "code",
   "execution_count": 65,
   "id": "vanilla-surgeon",
   "metadata": {},
   "outputs": [],
   "source": [
    "from typing import Dict\n",
    "\n",
    "def make_class_sankey_plot(class_dict: Dict[str, Dict[str, int]],\n",
    "                           plot_title: str = \"MiBIG BGC classes vs NPClassifier pathways\") -> go.Figure:\n",
    "    label_dict = OrderedDict()\n",
    "    label_dict.update({key:i for i, key in enumerate(class_dict.keys())})\n",
    "    cur = len(label_dict)\n",
    "    for vals in class_dict.values():\n",
    "        for val in vals.keys():\n",
    "            if val not in label_dict:\n",
    "                label_dict[val] = cur\n",
    "                cur += 1\n",
    "    label_vals = list(label_dict.keys())\n",
    "\n",
    "    source_vals = []\n",
    "    target_vals = []\n",
    "    value_vals = []\n",
    "\n",
    "    for bgc_c, vals in class_dict.items():\n",
    "        for chem_c, count in vals.items():\n",
    "            source_vals.append(label_dict[bgc_c])\n",
    "            target_vals.append(label_dict[chem_c])\n",
    "            value_vals.append(count)\n",
    "\n",
    "    fig = go.Figure(data=[go.Sankey(\n",
    "        node = dict(\n",
    "          pad = 15,\n",
    "          thickness = 20,\n",
    "          line = dict(color = \"black\", width = 0.5),\n",
    "          label = label_vals\n",
    "        ),\n",
    "        link = dict(\n",
    "          source = source_vals, # indices correspond to labels, eg A1, A2, A1, B1, ...\n",
    "          target = target_vals,\n",
    "          value = value_vals\n",
    "      ))])\n",
    "\n",
    "    fig.update_layout(title_text=plot_title, font_size=10)\n",
    "    return fig"
   ]
  },
  {
   "cell_type": "code",
   "execution_count": 66,
   "id": "regulation-worship",
   "metadata": {},
   "outputs": [
    {
     "name": "stdout",
     "output_type": "stream",
     "text": [
      "dict_keys(['mibig_class', 'class:subclass', 'AS_classes'])\n"
     ]
    },
    {
     "data": {
      "text/plain": [
       "dict_keys(['kingdom', 'superclass', 'class', 'direct_parent', 'class_results', 'superclass_results', 'pathway_results', 'isglycoside', 'subclass'])"
      ]
     },
     "execution_count": 66,
     "metadata": {},
     "output_type": "execute_result"
    }
   ],
   "source": [
    "print(result.keys())\n",
    "result[list(result.keys())[0]].keys()"
   ]
  },
  {
   "cell_type": "code",
   "execution_count": 67,
   "id": "diagnostic-switch",
   "metadata": {},
   "outputs": [
    {
     "data": {
      "text/plain": [
       "defaultdict(<function __main__.rec_dd()>,\n",
       "            {'Polyketide': defaultdict(<function __main__.rec_dd()>,\n",
       "                         {'0': 502, '1': 178}),\n",
       "             'Other': defaultdict(<function __main__.rec_dd()>,\n",
       "                         {'1': 48, '0': 246}),\n",
       "             'Alkaloid': defaultdict(<function __main__.rec_dd()>,\n",
       "                         {'0': 99, '1': 2}),\n",
       "             'Saccharide': defaultdict(<function __main__.rec_dd()>,\n",
       "                         {'1': 122, '0': 19}),\n",
       "             'Terpene': defaultdict(<function __main__.rec_dd()>,\n",
       "                         {'0': 157, '1': 21}),\n",
       "             'PKS-NRP-hybrid': defaultdict(<function __main__.rec_dd()>,\n",
       "                         {'0': 298, '1': 31}),\n",
       "             'NRP': defaultdict(<function __main__.rec_dd()>,\n",
       "                         {'0': 387, '1': 34}),\n",
       "             'RiPP': defaultdict(<function __main__.rec_dd()>,\n",
       "                         {'0': 113, '1': 2})})"
      ]
     },
     "execution_count": 67,
     "metadata": {},
     "output_type": "execute_result"
    }
   ],
   "source": [
    "classes_result_dict = result['mibig_class']['isglycoside']\n",
    "classes_result_dict"
   ]
  },
  {
   "cell_type": "code",
   "execution_count": 78,
   "id": "anonymous-ghost",
   "metadata": {},
   "outputs": [
    {
     "data": {
      "application/vnd.plotly.v1+json": {
       "config": {
        "plotlyServerURL": "https://plot.ly"
       },
       "data": [
        {
         "link": {
          "source": [
           0,
           0,
           0,
           0,
           0,
           0,
           0,
           0,
           0,
           0,
           0,
           0,
           0,
           1,
           1,
           1,
           1,
           1,
           1,
           1,
           1,
           1,
           1,
           1,
           1,
           2,
           2,
           2,
           2,
           2,
           2,
           3,
           3,
           3,
           3,
           3,
           3,
           4,
           4,
           4,
           4,
           4,
           4,
           4,
           4,
           4,
           5,
           5,
           5,
           5,
           5,
           5,
           5,
           5,
           5,
           6,
           6,
           6,
           6,
           6,
           6,
           6,
           6,
           6,
           7,
           7,
           7,
           7
          ],
          "target": [
           8,
           9,
           10,
           11,
           12,
           13,
           14,
           15,
           16,
           17,
           18,
           19,
           20,
           12,
           10,
           8,
           11,
           14,
           9,
           21,
           18,
           16,
           17,
           22,
           20,
           13,
           11,
           10,
           8,
           9,
           14,
           12,
           11,
           14,
           8,
           10,
           9,
           8,
           9,
           14,
           10,
           12,
           13,
           19,
           11,
           17,
           11,
           8,
           9,
           14,
           10,
           13,
           15,
           12,
           18,
           10,
           12,
           8,
           9,
           23,
           14,
           13,
           11,
           18,
           10,
           11,
           23,
           15
          ],
          "value": [
           110,
           83,
           31,
           159,
           85,
           2,
           109,
           1,
           3,
           1,
           1,
           5,
           1,
           20,
           78,
           91,
           16,
           15,
           18,
           12,
           1,
           2,
           4,
           1,
           1,
           11,
           10,
           5,
           58,
           2,
           2,
           78,
           17,
           10,
           6,
           8,
           3,
           45,
           93,
           10,
           5,
           10,
           3,
           3,
           1,
           1,
           45,
           67,
           23,
           8,
           119,
           3,
           2,
           18,
           2,
           281,
           7,
           55,
           3,
           6,
           14,
           1,
           3,
           2,
           58,
           6,
           26,
           1
          ]
         },
         "node": {
          "label": [
           "Polyketide",
           "Other",
           "Alkaloid",
           "Saccharide",
           "Terpene",
           "PKS-NRP-hybrid",
           "NRP",
           "RiPP",
           "Organoheterocyclic compounds",
           "Lipids and lipid-like molecules",
           "Organic acids and derivatives",
           "Phenylpropanoids and polyketides",
           "Organic oxygen compounds",
           "Alkaloids and derivatives",
           "Benzenoids",
           "Organosulfur compounds",
           "Organic 1,3-dipolar compounds",
           "Hydrocarbon derivatives",
           "Organic nitrogen compounds",
           "Hydrocarbons",
           "Lignans, neolignans and related compounds",
           "Nucleosides, nucleotides, and analogues",
           "Organohalogen compounds",
           "Organic Polymers"
          ],
          "line": {
           "color": "black",
           "width": 0.5
          },
          "pad": 15,
          "thickness": 20
         },
         "type": "sankey"
        }
       ],
       "layout": {
        "font": {
         "size": 10
        },
        "template": {
         "data": {
          "bar": [
           {
            "error_x": {
             "color": "#2a3f5f"
            },
            "error_y": {
             "color": "#2a3f5f"
            },
            "marker": {
             "line": {
              "color": "#E5ECF6",
              "width": 0.5
             }
            },
            "type": "bar"
           }
          ],
          "barpolar": [
           {
            "marker": {
             "line": {
              "color": "#E5ECF6",
              "width": 0.5
             }
            },
            "type": "barpolar"
           }
          ],
          "carpet": [
           {
            "aaxis": {
             "endlinecolor": "#2a3f5f",
             "gridcolor": "white",
             "linecolor": "white",
             "minorgridcolor": "white",
             "startlinecolor": "#2a3f5f"
            },
            "baxis": {
             "endlinecolor": "#2a3f5f",
             "gridcolor": "white",
             "linecolor": "white",
             "minorgridcolor": "white",
             "startlinecolor": "#2a3f5f"
            },
            "type": "carpet"
           }
          ],
          "choropleth": [
           {
            "colorbar": {
             "outlinewidth": 0,
             "ticks": ""
            },
            "type": "choropleth"
           }
          ],
          "contour": [
           {
            "colorbar": {
             "outlinewidth": 0,
             "ticks": ""
            },
            "colorscale": [
             [
              0,
              "#0d0887"
             ],
             [
              0.1111111111111111,
              "#46039f"
             ],
             [
              0.2222222222222222,
              "#7201a8"
             ],
             [
              0.3333333333333333,
              "#9c179e"
             ],
             [
              0.4444444444444444,
              "#bd3786"
             ],
             [
              0.5555555555555556,
              "#d8576b"
             ],
             [
              0.6666666666666666,
              "#ed7953"
             ],
             [
              0.7777777777777778,
              "#fb9f3a"
             ],
             [
              0.8888888888888888,
              "#fdca26"
             ],
             [
              1,
              "#f0f921"
             ]
            ],
            "type": "contour"
           }
          ],
          "contourcarpet": [
           {
            "colorbar": {
             "outlinewidth": 0,
             "ticks": ""
            },
            "type": "contourcarpet"
           }
          ],
          "heatmap": [
           {
            "colorbar": {
             "outlinewidth": 0,
             "ticks": ""
            },
            "colorscale": [
             [
              0,
              "#0d0887"
             ],
             [
              0.1111111111111111,
              "#46039f"
             ],
             [
              0.2222222222222222,
              "#7201a8"
             ],
             [
              0.3333333333333333,
              "#9c179e"
             ],
             [
              0.4444444444444444,
              "#bd3786"
             ],
             [
              0.5555555555555556,
              "#d8576b"
             ],
             [
              0.6666666666666666,
              "#ed7953"
             ],
             [
              0.7777777777777778,
              "#fb9f3a"
             ],
             [
              0.8888888888888888,
              "#fdca26"
             ],
             [
              1,
              "#f0f921"
             ]
            ],
            "type": "heatmap"
           }
          ],
          "heatmapgl": [
           {
            "colorbar": {
             "outlinewidth": 0,
             "ticks": ""
            },
            "colorscale": [
             [
              0,
              "#0d0887"
             ],
             [
              0.1111111111111111,
              "#46039f"
             ],
             [
              0.2222222222222222,
              "#7201a8"
             ],
             [
              0.3333333333333333,
              "#9c179e"
             ],
             [
              0.4444444444444444,
              "#bd3786"
             ],
             [
              0.5555555555555556,
              "#d8576b"
             ],
             [
              0.6666666666666666,
              "#ed7953"
             ],
             [
              0.7777777777777778,
              "#fb9f3a"
             ],
             [
              0.8888888888888888,
              "#fdca26"
             ],
             [
              1,
              "#f0f921"
             ]
            ],
            "type": "heatmapgl"
           }
          ],
          "histogram": [
           {
            "marker": {
             "colorbar": {
              "outlinewidth": 0,
              "ticks": ""
             }
            },
            "type": "histogram"
           }
          ],
          "histogram2d": [
           {
            "colorbar": {
             "outlinewidth": 0,
             "ticks": ""
            },
            "colorscale": [
             [
              0,
              "#0d0887"
             ],
             [
              0.1111111111111111,
              "#46039f"
             ],
             [
              0.2222222222222222,
              "#7201a8"
             ],
             [
              0.3333333333333333,
              "#9c179e"
             ],
             [
              0.4444444444444444,
              "#bd3786"
             ],
             [
              0.5555555555555556,
              "#d8576b"
             ],
             [
              0.6666666666666666,
              "#ed7953"
             ],
             [
              0.7777777777777778,
              "#fb9f3a"
             ],
             [
              0.8888888888888888,
              "#fdca26"
             ],
             [
              1,
              "#f0f921"
             ]
            ],
            "type": "histogram2d"
           }
          ],
          "histogram2dcontour": [
           {
            "colorbar": {
             "outlinewidth": 0,
             "ticks": ""
            },
            "colorscale": [
             [
              0,
              "#0d0887"
             ],
             [
              0.1111111111111111,
              "#46039f"
             ],
             [
              0.2222222222222222,
              "#7201a8"
             ],
             [
              0.3333333333333333,
              "#9c179e"
             ],
             [
              0.4444444444444444,
              "#bd3786"
             ],
             [
              0.5555555555555556,
              "#d8576b"
             ],
             [
              0.6666666666666666,
              "#ed7953"
             ],
             [
              0.7777777777777778,
              "#fb9f3a"
             ],
             [
              0.8888888888888888,
              "#fdca26"
             ],
             [
              1,
              "#f0f921"
             ]
            ],
            "type": "histogram2dcontour"
           }
          ],
          "mesh3d": [
           {
            "colorbar": {
             "outlinewidth": 0,
             "ticks": ""
            },
            "type": "mesh3d"
           }
          ],
          "parcoords": [
           {
            "line": {
             "colorbar": {
              "outlinewidth": 0,
              "ticks": ""
             }
            },
            "type": "parcoords"
           }
          ],
          "pie": [
           {
            "automargin": true,
            "type": "pie"
           }
          ],
          "scatter": [
           {
            "marker": {
             "colorbar": {
              "outlinewidth": 0,
              "ticks": ""
             }
            },
            "type": "scatter"
           }
          ],
          "scatter3d": [
           {
            "line": {
             "colorbar": {
              "outlinewidth": 0,
              "ticks": ""
             }
            },
            "marker": {
             "colorbar": {
              "outlinewidth": 0,
              "ticks": ""
             }
            },
            "type": "scatter3d"
           }
          ],
          "scattercarpet": [
           {
            "marker": {
             "colorbar": {
              "outlinewidth": 0,
              "ticks": ""
             }
            },
            "type": "scattercarpet"
           }
          ],
          "scattergeo": [
           {
            "marker": {
             "colorbar": {
              "outlinewidth": 0,
              "ticks": ""
             }
            },
            "type": "scattergeo"
           }
          ],
          "scattergl": [
           {
            "marker": {
             "colorbar": {
              "outlinewidth": 0,
              "ticks": ""
             }
            },
            "type": "scattergl"
           }
          ],
          "scattermapbox": [
           {
            "marker": {
             "colorbar": {
              "outlinewidth": 0,
              "ticks": ""
             }
            },
            "type": "scattermapbox"
           }
          ],
          "scatterpolar": [
           {
            "marker": {
             "colorbar": {
              "outlinewidth": 0,
              "ticks": ""
             }
            },
            "type": "scatterpolar"
           }
          ],
          "scatterpolargl": [
           {
            "marker": {
             "colorbar": {
              "outlinewidth": 0,
              "ticks": ""
             }
            },
            "type": "scatterpolargl"
           }
          ],
          "scatterternary": [
           {
            "marker": {
             "colorbar": {
              "outlinewidth": 0,
              "ticks": ""
             }
            },
            "type": "scatterternary"
           }
          ],
          "surface": [
           {
            "colorbar": {
             "outlinewidth": 0,
             "ticks": ""
            },
            "colorscale": [
             [
              0,
              "#0d0887"
             ],
             [
              0.1111111111111111,
              "#46039f"
             ],
             [
              0.2222222222222222,
              "#7201a8"
             ],
             [
              0.3333333333333333,
              "#9c179e"
             ],
             [
              0.4444444444444444,
              "#bd3786"
             ],
             [
              0.5555555555555556,
              "#d8576b"
             ],
             [
              0.6666666666666666,
              "#ed7953"
             ],
             [
              0.7777777777777778,
              "#fb9f3a"
             ],
             [
              0.8888888888888888,
              "#fdca26"
             ],
             [
              1,
              "#f0f921"
             ]
            ],
            "type": "surface"
           }
          ],
          "table": [
           {
            "cells": {
             "fill": {
              "color": "#EBF0F8"
             },
             "line": {
              "color": "white"
             }
            },
            "header": {
             "fill": {
              "color": "#C8D4E3"
             },
             "line": {
              "color": "white"
             }
            },
            "type": "table"
           }
          ]
         },
         "layout": {
          "annotationdefaults": {
           "arrowcolor": "#2a3f5f",
           "arrowhead": 0,
           "arrowwidth": 1
          },
          "autotypenumbers": "strict",
          "coloraxis": {
           "colorbar": {
            "outlinewidth": 0,
            "ticks": ""
           }
          },
          "colorscale": {
           "diverging": [
            [
             0,
             "#8e0152"
            ],
            [
             0.1,
             "#c51b7d"
            ],
            [
             0.2,
             "#de77ae"
            ],
            [
             0.3,
             "#f1b6da"
            ],
            [
             0.4,
             "#fde0ef"
            ],
            [
             0.5,
             "#f7f7f7"
            ],
            [
             0.6,
             "#e6f5d0"
            ],
            [
             0.7,
             "#b8e186"
            ],
            [
             0.8,
             "#7fbc41"
            ],
            [
             0.9,
             "#4d9221"
            ],
            [
             1,
             "#276419"
            ]
           ],
           "sequential": [
            [
             0,
             "#0d0887"
            ],
            [
             0.1111111111111111,
             "#46039f"
            ],
            [
             0.2222222222222222,
             "#7201a8"
            ],
            [
             0.3333333333333333,
             "#9c179e"
            ],
            [
             0.4444444444444444,
             "#bd3786"
            ],
            [
             0.5555555555555556,
             "#d8576b"
            ],
            [
             0.6666666666666666,
             "#ed7953"
            ],
            [
             0.7777777777777778,
             "#fb9f3a"
            ],
            [
             0.8888888888888888,
             "#fdca26"
            ],
            [
             1,
             "#f0f921"
            ]
           ],
           "sequentialminus": [
            [
             0,
             "#0d0887"
            ],
            [
             0.1111111111111111,
             "#46039f"
            ],
            [
             0.2222222222222222,
             "#7201a8"
            ],
            [
             0.3333333333333333,
             "#9c179e"
            ],
            [
             0.4444444444444444,
             "#bd3786"
            ],
            [
             0.5555555555555556,
             "#d8576b"
            ],
            [
             0.6666666666666666,
             "#ed7953"
            ],
            [
             0.7777777777777778,
             "#fb9f3a"
            ],
            [
             0.8888888888888888,
             "#fdca26"
            ],
            [
             1,
             "#f0f921"
            ]
           ]
          },
          "colorway": [
           "#636efa",
           "#EF553B",
           "#00cc96",
           "#ab63fa",
           "#FFA15A",
           "#19d3f3",
           "#FF6692",
           "#B6E880",
           "#FF97FF",
           "#FECB52"
          ],
          "font": {
           "color": "#2a3f5f"
          },
          "geo": {
           "bgcolor": "white",
           "lakecolor": "white",
           "landcolor": "#E5ECF6",
           "showlakes": true,
           "showland": true,
           "subunitcolor": "white"
          },
          "hoverlabel": {
           "align": "left"
          },
          "hovermode": "closest",
          "mapbox": {
           "style": "light"
          },
          "paper_bgcolor": "white",
          "plot_bgcolor": "#E5ECF6",
          "polar": {
           "angularaxis": {
            "gridcolor": "white",
            "linecolor": "white",
            "ticks": ""
           },
           "bgcolor": "#E5ECF6",
           "radialaxis": {
            "gridcolor": "white",
            "linecolor": "white",
            "ticks": ""
           }
          },
          "scene": {
           "xaxis": {
            "backgroundcolor": "#E5ECF6",
            "gridcolor": "white",
            "gridwidth": 2,
            "linecolor": "white",
            "showbackground": true,
            "ticks": "",
            "zerolinecolor": "white"
           },
           "yaxis": {
            "backgroundcolor": "#E5ECF6",
            "gridcolor": "white",
            "gridwidth": 2,
            "linecolor": "white",
            "showbackground": true,
            "ticks": "",
            "zerolinecolor": "white"
           },
           "zaxis": {
            "backgroundcolor": "#E5ECF6",
            "gridcolor": "white",
            "gridwidth": 2,
            "linecolor": "white",
            "showbackground": true,
            "ticks": "",
            "zerolinecolor": "white"
           }
          },
          "shapedefaults": {
           "line": {
            "color": "#2a3f5f"
           }
          },
          "ternary": {
           "aaxis": {
            "gridcolor": "white",
            "linecolor": "white",
            "ticks": ""
           },
           "baxis": {
            "gridcolor": "white",
            "linecolor": "white",
            "ticks": ""
           },
           "bgcolor": "#E5ECF6",
           "caxis": {
            "gridcolor": "white",
            "linecolor": "white",
            "ticks": ""
           }
          },
          "title": {
           "x": 0.05
          },
          "xaxis": {
           "automargin": true,
           "gridcolor": "white",
           "linecolor": "white",
           "ticks": "",
           "title": {
            "standoff": 15
           },
           "zerolinecolor": "white",
           "zerolinewidth": 2
          },
          "yaxis": {
           "automargin": true,
           "gridcolor": "white",
           "linecolor": "white",
           "ticks": "",
           "title": {
            "standoff": 15
           },
           "zerolinecolor": "white",
           "zerolinewidth": 2
          }
         }
        },
        "title": {
         "text": "MiBIG BGC classes vs ClassyFire superclass"
        }
       }
      },
      "text/html": [
       "<div>                            <div id=\"13950341-1bcf-4038-9d0b-be4bdb9087ea\" class=\"plotly-graph-div\" style=\"height:525px; width:100%;\"></div>            <script type=\"text/javascript\">                require([\"plotly\"], function(Plotly) {                    window.PLOTLYENV=window.PLOTLYENV || {};                                    if (document.getElementById(\"13950341-1bcf-4038-9d0b-be4bdb9087ea\")) {                    Plotly.newPlot(                        \"13950341-1bcf-4038-9d0b-be4bdb9087ea\",                        [{\"link\": {\"source\": [0, 0, 0, 0, 0, 0, 0, 0, 0, 0, 0, 0, 0, 1, 1, 1, 1, 1, 1, 1, 1, 1, 1, 1, 1, 2, 2, 2, 2, 2, 2, 3, 3, 3, 3, 3, 3, 4, 4, 4, 4, 4, 4, 4, 4, 4, 5, 5, 5, 5, 5, 5, 5, 5, 5, 6, 6, 6, 6, 6, 6, 6, 6, 6, 7, 7, 7, 7], \"target\": [8, 9, 10, 11, 12, 13, 14, 15, 16, 17, 18, 19, 20, 12, 10, 8, 11, 14, 9, 21, 18, 16, 17, 22, 20, 13, 11, 10, 8, 9, 14, 12, 11, 14, 8, 10, 9, 8, 9, 14, 10, 12, 13, 19, 11, 17, 11, 8, 9, 14, 10, 13, 15, 12, 18, 10, 12, 8, 9, 23, 14, 13, 11, 18, 10, 11, 23, 15], \"value\": [110, 83, 31, 159, 85, 2, 109, 1, 3, 1, 1, 5, 1, 20, 78, 91, 16, 15, 18, 12, 1, 2, 4, 1, 1, 11, 10, 5, 58, 2, 2, 78, 17, 10, 6, 8, 3, 45, 93, 10, 5, 10, 3, 3, 1, 1, 45, 67, 23, 8, 119, 3, 2, 18, 2, 281, 7, 55, 3, 6, 14, 1, 3, 2, 58, 6, 26, 1]}, \"node\": {\"label\": [\"Polyketide\", \"Other\", \"Alkaloid\", \"Saccharide\", \"Terpene\", \"PKS-NRP-hybrid\", \"NRP\", \"RiPP\", \"Organoheterocyclic compounds\", \"Lipids and lipid-like molecules\", \"Organic acids and derivatives\", \"Phenylpropanoids and polyketides\", \"Organic oxygen compounds\", \"Alkaloids and derivatives\", \"Benzenoids\", \"Organosulfur compounds\", \"Organic 1,3-dipolar compounds\", \"Hydrocarbon derivatives\", \"Organic nitrogen compounds\", \"Hydrocarbons\", \"Lignans, neolignans and related compounds\", \"Nucleosides, nucleotides, and analogues\", \"Organohalogen compounds\", \"Organic Polymers\"], \"line\": {\"color\": \"black\", \"width\": 0.5}, \"pad\": 15, \"thickness\": 20}, \"type\": \"sankey\"}],                        {\"font\": {\"size\": 10}, \"template\": {\"data\": {\"bar\": [{\"error_x\": {\"color\": \"#2a3f5f\"}, \"error_y\": {\"color\": \"#2a3f5f\"}, \"marker\": {\"line\": {\"color\": \"#E5ECF6\", \"width\": 0.5}}, \"type\": \"bar\"}], \"barpolar\": [{\"marker\": {\"line\": {\"color\": \"#E5ECF6\", \"width\": 0.5}}, \"type\": \"barpolar\"}], \"carpet\": [{\"aaxis\": {\"endlinecolor\": \"#2a3f5f\", \"gridcolor\": \"white\", \"linecolor\": \"white\", \"minorgridcolor\": \"white\", \"startlinecolor\": \"#2a3f5f\"}, \"baxis\": {\"endlinecolor\": \"#2a3f5f\", \"gridcolor\": \"white\", \"linecolor\": \"white\", \"minorgridcolor\": \"white\", \"startlinecolor\": \"#2a3f5f\"}, \"type\": \"carpet\"}], \"choropleth\": [{\"colorbar\": {\"outlinewidth\": 0, \"ticks\": \"\"}, \"type\": \"choropleth\"}], \"contour\": [{\"colorbar\": {\"outlinewidth\": 0, \"ticks\": \"\"}, \"colorscale\": [[0.0, \"#0d0887\"], [0.1111111111111111, \"#46039f\"], [0.2222222222222222, \"#7201a8\"], [0.3333333333333333, \"#9c179e\"], [0.4444444444444444, \"#bd3786\"], [0.5555555555555556, \"#d8576b\"], [0.6666666666666666, \"#ed7953\"], [0.7777777777777778, \"#fb9f3a\"], [0.8888888888888888, \"#fdca26\"], [1.0, \"#f0f921\"]], \"type\": \"contour\"}], \"contourcarpet\": [{\"colorbar\": {\"outlinewidth\": 0, \"ticks\": \"\"}, \"type\": \"contourcarpet\"}], \"heatmap\": [{\"colorbar\": {\"outlinewidth\": 0, \"ticks\": \"\"}, \"colorscale\": [[0.0, \"#0d0887\"], [0.1111111111111111, \"#46039f\"], [0.2222222222222222, \"#7201a8\"], [0.3333333333333333, \"#9c179e\"], [0.4444444444444444, \"#bd3786\"], [0.5555555555555556, \"#d8576b\"], [0.6666666666666666, \"#ed7953\"], [0.7777777777777778, \"#fb9f3a\"], [0.8888888888888888, \"#fdca26\"], [1.0, \"#f0f921\"]], \"type\": \"heatmap\"}], \"heatmapgl\": [{\"colorbar\": {\"outlinewidth\": 0, \"ticks\": \"\"}, \"colorscale\": [[0.0, \"#0d0887\"], [0.1111111111111111, \"#46039f\"], [0.2222222222222222, \"#7201a8\"], [0.3333333333333333, \"#9c179e\"], [0.4444444444444444, \"#bd3786\"], [0.5555555555555556, \"#d8576b\"], [0.6666666666666666, \"#ed7953\"], [0.7777777777777778, \"#fb9f3a\"], [0.8888888888888888, \"#fdca26\"], [1.0, \"#f0f921\"]], \"type\": \"heatmapgl\"}], \"histogram\": [{\"marker\": {\"colorbar\": {\"outlinewidth\": 0, \"ticks\": \"\"}}, \"type\": \"histogram\"}], \"histogram2d\": [{\"colorbar\": {\"outlinewidth\": 0, \"ticks\": \"\"}, \"colorscale\": [[0.0, \"#0d0887\"], [0.1111111111111111, \"#46039f\"], [0.2222222222222222, \"#7201a8\"], [0.3333333333333333, \"#9c179e\"], [0.4444444444444444, \"#bd3786\"], [0.5555555555555556, \"#d8576b\"], [0.6666666666666666, \"#ed7953\"], [0.7777777777777778, \"#fb9f3a\"], [0.8888888888888888, \"#fdca26\"], [1.0, \"#f0f921\"]], \"type\": \"histogram2d\"}], \"histogram2dcontour\": [{\"colorbar\": {\"outlinewidth\": 0, \"ticks\": \"\"}, \"colorscale\": [[0.0, \"#0d0887\"], [0.1111111111111111, \"#46039f\"], [0.2222222222222222, \"#7201a8\"], [0.3333333333333333, \"#9c179e\"], [0.4444444444444444, \"#bd3786\"], [0.5555555555555556, \"#d8576b\"], [0.6666666666666666, \"#ed7953\"], [0.7777777777777778, \"#fb9f3a\"], [0.8888888888888888, \"#fdca26\"], [1.0, \"#f0f921\"]], \"type\": \"histogram2dcontour\"}], \"mesh3d\": [{\"colorbar\": {\"outlinewidth\": 0, \"ticks\": \"\"}, \"type\": \"mesh3d\"}], \"parcoords\": [{\"line\": {\"colorbar\": {\"outlinewidth\": 0, \"ticks\": \"\"}}, \"type\": \"parcoords\"}], \"pie\": [{\"automargin\": true, \"type\": \"pie\"}], \"scatter\": [{\"marker\": {\"colorbar\": {\"outlinewidth\": 0, \"ticks\": \"\"}}, \"type\": \"scatter\"}], \"scatter3d\": [{\"line\": {\"colorbar\": {\"outlinewidth\": 0, \"ticks\": \"\"}}, \"marker\": {\"colorbar\": {\"outlinewidth\": 0, \"ticks\": \"\"}}, \"type\": \"scatter3d\"}], \"scattercarpet\": [{\"marker\": {\"colorbar\": {\"outlinewidth\": 0, \"ticks\": \"\"}}, \"type\": \"scattercarpet\"}], \"scattergeo\": [{\"marker\": {\"colorbar\": {\"outlinewidth\": 0, \"ticks\": \"\"}}, \"type\": \"scattergeo\"}], \"scattergl\": [{\"marker\": {\"colorbar\": {\"outlinewidth\": 0, \"ticks\": \"\"}}, \"type\": \"scattergl\"}], \"scattermapbox\": [{\"marker\": {\"colorbar\": {\"outlinewidth\": 0, \"ticks\": \"\"}}, \"type\": \"scattermapbox\"}], \"scatterpolar\": [{\"marker\": {\"colorbar\": {\"outlinewidth\": 0, \"ticks\": \"\"}}, \"type\": \"scatterpolar\"}], \"scatterpolargl\": [{\"marker\": {\"colorbar\": {\"outlinewidth\": 0, \"ticks\": \"\"}}, \"type\": \"scatterpolargl\"}], \"scatterternary\": [{\"marker\": {\"colorbar\": {\"outlinewidth\": 0, \"ticks\": \"\"}}, \"type\": \"scatterternary\"}], \"surface\": [{\"colorbar\": {\"outlinewidth\": 0, \"ticks\": \"\"}, \"colorscale\": [[0.0, \"#0d0887\"], [0.1111111111111111, \"#46039f\"], [0.2222222222222222, \"#7201a8\"], [0.3333333333333333, \"#9c179e\"], [0.4444444444444444, \"#bd3786\"], [0.5555555555555556, \"#d8576b\"], [0.6666666666666666, \"#ed7953\"], [0.7777777777777778, \"#fb9f3a\"], [0.8888888888888888, \"#fdca26\"], [1.0, \"#f0f921\"]], \"type\": \"surface\"}], \"table\": [{\"cells\": {\"fill\": {\"color\": \"#EBF0F8\"}, \"line\": {\"color\": \"white\"}}, \"header\": {\"fill\": {\"color\": \"#C8D4E3\"}, \"line\": {\"color\": \"white\"}}, \"type\": \"table\"}]}, \"layout\": {\"annotationdefaults\": {\"arrowcolor\": \"#2a3f5f\", \"arrowhead\": 0, \"arrowwidth\": 1}, \"autotypenumbers\": \"strict\", \"coloraxis\": {\"colorbar\": {\"outlinewidth\": 0, \"ticks\": \"\"}}, \"colorscale\": {\"diverging\": [[0, \"#8e0152\"], [0.1, \"#c51b7d\"], [0.2, \"#de77ae\"], [0.3, \"#f1b6da\"], [0.4, \"#fde0ef\"], [0.5, \"#f7f7f7\"], [0.6, \"#e6f5d0\"], [0.7, \"#b8e186\"], [0.8, \"#7fbc41\"], [0.9, \"#4d9221\"], [1, \"#276419\"]], \"sequential\": [[0.0, \"#0d0887\"], [0.1111111111111111, \"#46039f\"], [0.2222222222222222, \"#7201a8\"], [0.3333333333333333, \"#9c179e\"], [0.4444444444444444, \"#bd3786\"], [0.5555555555555556, \"#d8576b\"], [0.6666666666666666, \"#ed7953\"], [0.7777777777777778, \"#fb9f3a\"], [0.8888888888888888, \"#fdca26\"], [1.0, \"#f0f921\"]], \"sequentialminus\": [[0.0, \"#0d0887\"], [0.1111111111111111, \"#46039f\"], [0.2222222222222222, \"#7201a8\"], [0.3333333333333333, \"#9c179e\"], [0.4444444444444444, \"#bd3786\"], [0.5555555555555556, \"#d8576b\"], [0.6666666666666666, \"#ed7953\"], [0.7777777777777778, \"#fb9f3a\"], [0.8888888888888888, \"#fdca26\"], [1.0, \"#f0f921\"]]}, \"colorway\": [\"#636efa\", \"#EF553B\", \"#00cc96\", \"#ab63fa\", \"#FFA15A\", \"#19d3f3\", \"#FF6692\", \"#B6E880\", \"#FF97FF\", \"#FECB52\"], \"font\": {\"color\": \"#2a3f5f\"}, \"geo\": {\"bgcolor\": \"white\", \"lakecolor\": \"white\", \"landcolor\": \"#E5ECF6\", \"showlakes\": true, \"showland\": true, \"subunitcolor\": \"white\"}, \"hoverlabel\": {\"align\": \"left\"}, \"hovermode\": \"closest\", \"mapbox\": {\"style\": \"light\"}, \"paper_bgcolor\": \"white\", \"plot_bgcolor\": \"#E5ECF6\", \"polar\": {\"angularaxis\": {\"gridcolor\": \"white\", \"linecolor\": \"white\", \"ticks\": \"\"}, \"bgcolor\": \"#E5ECF6\", \"radialaxis\": {\"gridcolor\": \"white\", \"linecolor\": \"white\", \"ticks\": \"\"}}, \"scene\": {\"xaxis\": {\"backgroundcolor\": \"#E5ECF6\", \"gridcolor\": \"white\", \"gridwidth\": 2, \"linecolor\": \"white\", \"showbackground\": true, \"ticks\": \"\", \"zerolinecolor\": \"white\"}, \"yaxis\": {\"backgroundcolor\": \"#E5ECF6\", \"gridcolor\": \"white\", \"gridwidth\": 2, \"linecolor\": \"white\", \"showbackground\": true, \"ticks\": \"\", \"zerolinecolor\": \"white\"}, \"zaxis\": {\"backgroundcolor\": \"#E5ECF6\", \"gridcolor\": \"white\", \"gridwidth\": 2, \"linecolor\": \"white\", \"showbackground\": true, \"ticks\": \"\", \"zerolinecolor\": \"white\"}}, \"shapedefaults\": {\"line\": {\"color\": \"#2a3f5f\"}}, \"ternary\": {\"aaxis\": {\"gridcolor\": \"white\", \"linecolor\": \"white\", \"ticks\": \"\"}, \"baxis\": {\"gridcolor\": \"white\", \"linecolor\": \"white\", \"ticks\": \"\"}, \"bgcolor\": \"#E5ECF6\", \"caxis\": {\"gridcolor\": \"white\", \"linecolor\": \"white\", \"ticks\": \"\"}}, \"title\": {\"x\": 0.05}, \"xaxis\": {\"automargin\": true, \"gridcolor\": \"white\", \"linecolor\": \"white\", \"ticks\": \"\", \"title\": {\"standoff\": 15}, \"zerolinecolor\": \"white\", \"zerolinewidth\": 2}, \"yaxis\": {\"automargin\": true, \"gridcolor\": \"white\", \"linecolor\": \"white\", \"ticks\": \"\", \"title\": {\"standoff\": 15}, \"zerolinecolor\": \"white\", \"zerolinewidth\": 2}}}, \"title\": {\"text\": \"MiBIG BGC classes vs ClassyFire superclass\"}},                        {\"responsive\": true}                    ).then(function(){\n",
       "                            \n",
       "var gd = document.getElementById('13950341-1bcf-4038-9d0b-be4bdb9087ea');\n",
       "var x = new MutationObserver(function (mutations, observer) {{\n",
       "        var display = window.getComputedStyle(gd).display;\n",
       "        if (!display || display === 'none') {{\n",
       "            console.log([gd, 'removed!']);\n",
       "            Plotly.purge(gd);\n",
       "            observer.disconnect();\n",
       "        }}\n",
       "}});\n",
       "\n",
       "// Listen for the removal of the full notebook cells\n",
       "var notebookContainer = gd.closest('#notebook-container');\n",
       "if (notebookContainer) {{\n",
       "    x.observe(notebookContainer, {childList: true});\n",
       "}}\n",
       "\n",
       "// Listen for the clearing of the current output cell\n",
       "var outputEl = gd.closest('.output');\n",
       "if (outputEl) {{\n",
       "    x.observe(outputEl, {childList: true});\n",
       "}}\n",
       "\n",
       "                        })                };                });            </script>        </div>"
      ]
     },
     "metadata": {},
     "output_type": "display_data"
    }
   ],
   "source": [
    "classes_result_dict = result['mibig_class']['superclass']\n",
    "result_fig_title = \"MiBIG BGC classes vs ClassyFire superclass\"\n",
    "result_fig = make_class_sankey_plot(classes_result_dict, result_fig_title)\n",
    "result_fig.write_html(os.path.join(out_base, '_'.join(result_fig_title.split(' '))) + \".html\")\n",
    "result_fig"
   ]
  },
  {
   "cell_type": "code",
   "execution_count": 69,
   "id": "suburban-forest",
   "metadata": {},
   "outputs": [],
   "source": [
    "# need to do some naming cleanup to make this plot visible\n",
    "fig_result = make_class_sankey_plot(result['AS_classes']['pathway_results'], \"antiSMASH BGC classes vs NPClassifier pathways\")"
   ]
  },
  {
   "cell_type": "code",
   "execution_count": 70,
   "id": "collected-compression",
   "metadata": {},
   "outputs": [
    {
     "data": {
      "text/plain": [
       "defaultdict(<function __main__.rec_dd()>,\n",
       "            {'T1PKS': defaultdict(<function __main__.rec_dd()>,\n",
       "                         {'Polyketides': 240,\n",
       "                          'Shikimates and Phenylpropanoids': 13,\n",
       "                          'Alkaloids': 38,\n",
       "                          'Amino acids and Peptides': 20,\n",
       "                          'Terpenoids': 20,\n",
       "                          'Fatty acids': 6,\n",
       "                          'Carbohydrates': 2}),\n",
       "             'PKS-NRP-hybrid': defaultdict(<function __main__.rec_dd()>,\n",
       "                         {'Polyketides': 297,\n",
       "                          'Carbohydrates': 10,\n",
       "                          'Alkaloids': 72,\n",
       "                          'Amino acids and Peptides': 209,\n",
       "                          'Fatty acids': 16,\n",
       "                          'Shikimates and Phenylpropanoids': 7,\n",
       "                          'Terpenoids': 12}),\n",
       "             'oligosaccharide': defaultdict(<function __main__.rec_dd()>,\n",
       "                         {'Carbohydrates': 2,\n",
       "                          'Polyketides': 38,\n",
       "                          'Amino acids and Peptides': 1}),\n",
       "             'butyrolactone': defaultdict(<function __main__.rec_dd()>,\n",
       "                         {'Alkaloids': 2,\n",
       "                          'Carbohydrates': 1,\n",
       "                          'Polyketides': 18,\n",
       "                          'Amino acids and Peptides': 2,\n",
       "                          'Fatty acids': 2,\n",
       "                          'Terpenoids': 7,\n",
       "                          'Shikimates and Phenylpropanoids': 2}),\n",
       "             'PKS-like': defaultdict(<function __main__.rec_dd()>,\n",
       "                         {'Polyketides': 4,\n",
       "                          'Terpenoids': 1,\n",
       "                          'Shikimates and Phenylpropanoids': 2,\n",
       "                          'Amino acids and Peptides': 1,\n",
       "                          'Alkaloids': 1,\n",
       "                          'Carbohydrates': 2}),\n",
       "             'arylpolyene': defaultdict(<function __main__.rec_dd()>,\n",
       "                         {'Alkaloids': 2,\n",
       "                          'Amino acids and Peptides': 4,\n",
       "                          'Polyketides': 5,\n",
       "                          'Carbohydrates': 3}),\n",
       "             'other': defaultdict(<function __main__.rec_dd()>,\n",
       "                         {'Alkaloids': 44,\n",
       "                          'Amino acids and Peptides': 17,\n",
       "                          'Polyketides': 26,\n",
       "                          'Carbohydrates': 7,\n",
       "                          'Terpenoids': 9,\n",
       "                          'Shikimates and Phenylpropanoids': 3,\n",
       "                          'Fatty acids': 1}),\n",
       "             'transAT-PKS': defaultdict(<function __main__.rec_dd()>,\n",
       "                         {'Alkaloids': 10,\n",
       "                          'Polyketides': 10,\n",
       "                          'Shikimates and Phenylpropanoids': 2,\n",
       "                          'Terpenoids': 3,\n",
       "                          'Fatty acids': 2}),\n",
       "             'aminocoumarin': defaultdict(<function __main__.rec_dd()>,\n",
       "                         {'Alkaloids': 1,\n",
       "                          'Polyketides': 4,\n",
       "                          'Shikimates and Phenylpropanoids': 4,\n",
       "                          'Amino acids and Peptides': 1}),\n",
       "             'indole': defaultdict(<function __main__.rec_dd()>,\n",
       "                         {'Polyketides': 6,\n",
       "                          'Terpenoids': 17,\n",
       "                          'Alkaloids': 99,\n",
       "                          'Amino acids and Peptides': 18,\n",
       "                          'Carbohydrates': 1}),\n",
       "             'transAT-PKS-like': defaultdict(<function __main__.rec_dd()>,\n",
       "                         {'Polyketides': 1}),\n",
       "             'lanthipeptide': defaultdict(<function __main__.rec_dd()>,\n",
       "                         {'Alkaloids': 1,\n",
       "                          'Amino acids and Peptides': 23,\n",
       "                          'Polyketides': 2,\n",
       "                          'Carbohydrates': 1}),\n",
       "             'hserlactone': defaultdict(<function __main__.rec_dd()>,\n",
       "                         {'Polyketides': 1,\n",
       "                          'Shikimates and Phenylpropanoids': 1,\n",
       "                          'Alkaloids': 3,\n",
       "                          'Amino acids and Peptides': 1}),\n",
       "             'furan': defaultdict(<function __main__.rec_dd()>,\n",
       "                         {'Polyketides': 2, 'Terpenoids': 1}),\n",
       "             'T2PKS': defaultdict(<function __main__.rec_dd()>,\n",
       "                         {'Polyketides': 115,\n",
       "                          'Carbohydrates': 1,\n",
       "                          'Terpenoids': 1,\n",
       "                          'Alkaloids': 2,\n",
       "                          'Shikimates and Phenylpropanoids': 1}),\n",
       "             'ladderane': defaultdict(<function __main__.rec_dd()>,\n",
       "                         {'Polyketides': 21,\n",
       "                          'Carbohydrates': 1,\n",
       "                          'Amino acids and Peptides': 19,\n",
       "                          'Alkaloids': 2}),\n",
       "             'phenazine': defaultdict(<function __main__.rec_dd()>,\n",
       "                         {'Polyketides': 2, 'Alkaloids': 20}),\n",
       "             'T3PKS': defaultdict(<function __main__.rec_dd()>,\n",
       "                         {'Polyketides': 14,\n",
       "                          'Terpenoids': 3,\n",
       "                          'Alkaloids': 13,\n",
       "                          'Carbohydrates': 12,\n",
       "                          'Amino acids and Peptides': 1,\n",
       "                          'Shikimates and Phenylpropanoids': 1}),\n",
       "             'nucleoside': defaultdict(<function __main__.rec_dd()>,\n",
       "                         {'Carbohydrates': 23,\n",
       "                          'Amino acids and Peptides': 1,\n",
       "                          'Alkaloids': 1}),\n",
       "             'amglyccycl': defaultdict(<function __main__.rec_dd()>,\n",
       "                         {'Carbohydrates': 30, 'Polyketides': 2}),\n",
       "             'NRPS': defaultdict(<function __main__.rec_dd()>,\n",
       "                         {'Amino acids and Peptides': 302,\n",
       "                          'Carbohydrates': 7,\n",
       "                          'Alkaloids': 85,\n",
       "                          'Polyketides': 124,\n",
       "                          'Terpenoids': 1,\n",
       "                          'Fatty acids': 1}),\n",
       "             'blactam': defaultdict(<function __main__.rec_dd()>,\n",
       "                         {'Carbohydrates': 6, 'Amino acids and Peptides': 15}),\n",
       "             'siderophore': defaultdict(<function __main__.rec_dd()>,\n",
       "                         {'Alkaloids': 4,\n",
       "                          'Amino acids and Peptides': 12,\n",
       "                          'Fatty acids': 4}),\n",
       "             'betalactone': defaultdict(<function __main__.rec_dd()>,\n",
       "                         {'Amino acids and Peptides': 13, 'Polyketides': 1}),\n",
       "             'NRPS-like': defaultdict(<function __main__.rec_dd()>,\n",
       "                         {'Shikimates and Phenylpropanoids': 9,\n",
       "                          'Alkaloids': 10,\n",
       "                          'Polyketides': 3,\n",
       "                          'Amino acids and Peptides': 4,\n",
       "                          'Carbohydrates': 3,\n",
       "                          'Fatty acids': 4}),\n",
       "             'melanin': defaultdict(<function __main__.rec_dd()>,\n",
       "                         {'Alkaloids': 8,\n",
       "                          'Shikimates and Phenylpropanoids': 9,\n",
       "                          'Polyketides': 5}),\n",
       "             'bacteriocin': defaultdict(<function __main__.rec_dd()>,\n",
       "                         {'Amino acids and Peptides': 24, 'Alkaloids': 1}),\n",
       "             'bottromycin': defaultdict(<function __main__.rec_dd()>,\n",
       "                         {'Amino acids and Peptides': 4}),\n",
       "             'cyanobactin': defaultdict(<function __main__.rec_dd()>,\n",
       "                         {'Amino acids and Peptides': 16}),\n",
       "             'LAP': defaultdict(<function __main__.rec_dd()>,\n",
       "                         {'Amino acids and Peptides': 28, 'Alkaloids': 1}),\n",
       "             'thiopeptide': defaultdict(<function __main__.rec_dd()>,\n",
       "                         {'Amino acids and Peptides': 27, 'Alkaloids': 1}),\n",
       "             'lassopeptide': defaultdict(<function __main__.rec_dd()>,\n",
       "                         {'Amino acids and Peptides': 11, 'Polyketides': 1}),\n",
       "             'linaridin': defaultdict(<function __main__.rec_dd()>,\n",
       "                         {'Amino acids and Peptides': 2,\n",
       "                          'Polyketides': 1,\n",
       "                          'Alkaloids': 1,\n",
       "                          'Carbohydrates': 2}),\n",
       "             'microviridin': defaultdict(<function __main__.rec_dd()>,\n",
       "                         {'Amino acids and Peptides': 3, 'Polyketides': 1}),\n",
       "             'proteusin': defaultdict(<function __main__.rec_dd()>,\n",
       "                         {'Amino acids and Peptides': 2}),\n",
       "             'head_to_tail': defaultdict(<function __main__.rec_dd()>,\n",
       "                         {'Amino acids and Peptides': 1}),\n",
       "             'sactipeptide': defaultdict(<function __main__.rec_dd()>,\n",
       "                         {'Amino acids and Peptides': 1}),\n",
       "             'terpene': defaultdict(<function __main__.rec_dd()>,\n",
       "                         {'Amino acids and Peptides': 2,\n",
       "                          'Terpenoids': 98,\n",
       "                          'Carbohydrates': 1,\n",
       "                          'Polyketides': 10,\n",
       "                          'Alkaloids': 12}),\n",
       "             'TfuA-related': defaultdict(<function __main__.rec_dd()>,\n",
       "                         {'Amino acids and Peptides': 11}),\n",
       "             'fungal-RiPP': defaultdict(<function __main__.rec_dd()>,\n",
       "                         {'Amino acids and Peptides': 1}),\n",
       "             'resorcinol': defaultdict(<function __main__.rec_dd()>,\n",
       "                         {'Polyketides': 4}),\n",
       "             'CDPS': defaultdict(<function __main__.rec_dd()>,\n",
       "                         {'Alkaloids': 4, 'Amino acids and Peptides': 2}),\n",
       "             'ectoine': defaultdict(<function __main__.rec_dd()>,\n",
       "                         {'Amino acids and Peptides': 9,\n",
       "                          'Polyketides': 1,\n",
       "                          'Carbohydrates': 1}),\n",
       "             'hglE-KS': defaultdict(<function __main__.rec_dd()>,\n",
       "                         {'Fatty acids': 7,\n",
       "                          'Amino acids and Peptides': 3,\n",
       "                          'Polyketides': 2,\n",
       "                          'Alkaloids': 2}),\n",
       "             'PUFA': defaultdict(<function __main__.rec_dd()>,\n",
       "                         {'Fatty acids': 7,\n",
       "                          'Amino acids and Peptides': 2,\n",
       "                          'Alkaloids': 1}),\n",
       "             'PBDE': defaultdict(<function __main__.rec_dd()>,\n",
       "                         {'Shikimates and Phenylpropanoids': 2}),\n",
       "             'phosphonate': defaultdict(<function __main__.rec_dd()>,\n",
       "                         {'Alkaloids': 1,\n",
       "                          'Amino acids and Peptides': 2,\n",
       "                          'Terpenoids': 2}),\n",
       "             'fused': defaultdict(<function __main__.rec_dd()>,\n",
       "                         {'Amino acids and Peptides': 3}),\n",
       "             'RaS-RiPP': defaultdict(<function __main__.rec_dd()>,\n",
       "                         {'Amino acids and Peptides': 1}),\n",
       "             'PpyS-KS': defaultdict(<function __main__.rec_dd()>,\n",
       "                         {'Polyketides': 2}),\n",
       "             'tropodithietic-acid': defaultdict(<function __main__.rec_dd()>,\n",
       "                         {'Shikimates and Phenylpropanoids': 1}),\n",
       "             'phosphoglycolipid': defaultdict(<function __main__.rec_dd()>,\n",
       "                         {'Amino acids and Peptides': 1})})"
      ]
     },
     "execution_count": 70,
     "metadata": {},
     "output_type": "execute_result"
    }
   ],
   "source": [
    "result['AS_classes']['pathway_results']"
   ]
  },
  {
   "cell_type": "code",
   "execution_count": 71,
   "id": "electoral-justice",
   "metadata": {
    "scrolled": true
   },
   "outputs": [
    {
     "data": {
      "text/plain": [
       "{'T1PKS': defaultdict(<function __main__.rec_dd()>,\n",
       "             {'Polyketides': 240,\n",
       "              'Shikimates and Phenylpropanoids': 13,\n",
       "              'Alkaloids': 38,\n",
       "              'Amino acids and Peptides': 20,\n",
       "              'Terpenoids': 20,\n",
       "              'Fatty acids': 6,\n",
       "              'Carbohydrates': 2}),\n",
       " 'PKS-NRP-hybrid': defaultdict(<function __main__.rec_dd()>,\n",
       "             {'Polyketides': 297,\n",
       "              'Carbohydrates': 10,\n",
       "              'Alkaloids': 72,\n",
       "              'Amino acids and Peptides': 209,\n",
       "              'Fatty acids': 16,\n",
       "              'Shikimates and Phenylpropanoids': 7,\n",
       "              'Terpenoids': 12}),\n",
       " 'PKS-like': defaultdict(<function __main__.rec_dd()>,\n",
       "             {'Polyketides': 4,\n",
       "              'Terpenoids': 1,\n",
       "              'Shikimates and Phenylpropanoids': 2,\n",
       "              'Amino acids and Peptides': 1,\n",
       "              'Alkaloids': 1,\n",
       "              'Carbohydrates': 2}),\n",
       " 'transAT-PKS': defaultdict(<function __main__.rec_dd()>,\n",
       "             {'Alkaloids': 10,\n",
       "              'Polyketides': 10,\n",
       "              'Shikimates and Phenylpropanoids': 2,\n",
       "              'Terpenoids': 3,\n",
       "              'Fatty acids': 2}),\n",
       " 'transAT-PKS-like': defaultdict(<function __main__.rec_dd()>,\n",
       "             {'Polyketides': 1}),\n",
       " 'T2PKS': defaultdict(<function __main__.rec_dd()>,\n",
       "             {'Polyketides': 115,\n",
       "              'Carbohydrates': 1,\n",
       "              'Terpenoids': 1,\n",
       "              'Alkaloids': 2,\n",
       "              'Shikimates and Phenylpropanoids': 1}),\n",
       " 'T3PKS': defaultdict(<function __main__.rec_dd()>,\n",
       "             {'Polyketides': 14,\n",
       "              'Terpenoids': 3,\n",
       "              'Alkaloids': 13,\n",
       "              'Carbohydrates': 12,\n",
       "              'Amino acids and Peptides': 1,\n",
       "              'Shikimates and Phenylpropanoids': 1}),\n",
       " 'NRPS': defaultdict(<function __main__.rec_dd()>,\n",
       "             {'Amino acids and Peptides': 302,\n",
       "              'Carbohydrates': 7,\n",
       "              'Alkaloids': 85,\n",
       "              'Polyketides': 124,\n",
       "              'Terpenoids': 1,\n",
       "              'Fatty acids': 1}),\n",
       " 'NRPS-like': defaultdict(<function __main__.rec_dd()>,\n",
       "             {'Shikimates and Phenylpropanoids': 9,\n",
       "              'Alkaloids': 10,\n",
       "              'Polyketides': 3,\n",
       "              'Amino acids and Peptides': 4,\n",
       "              'Carbohydrates': 3,\n",
       "              'Fatty acids': 4})}"
      ]
     },
     "execution_count": 71,
     "metadata": {},
     "output_type": "execute_result"
    }
   ],
   "source": [
    "from copy import deepcopy\n",
    "as_npc_pathway = deepcopy(result['AS_classes']['pathway_results'])\n",
    "as_npc_pathway_sub = {key:val for key, val in as_npc_pathway.items()\\\n",
    "                      if any([test in key.lower() for test in ['nrp', 'pks', 'polyketide']])}\n",
    "as_npc_pathway_sub"
   ]
  },
  {
   "cell_type": "code",
   "execution_count": 76,
   "id": "false-archive",
   "metadata": {},
   "outputs": [
    {
     "data": {
      "application/vnd.plotly.v1+json": {
       "config": {
        "plotlyServerURL": "https://plot.ly"
       },
       "data": [
        {
         "link": {
          "source": [
           0,
           0,
           0,
           0,
           0,
           0,
           0,
           1,
           1,
           1,
           1,
           1,
           1,
           1,
           2,
           2,
           2,
           2,
           2,
           2,
           3,
           3,
           3,
           3,
           3,
           4,
           5,
           5,
           5,
           5,
           5,
           6,
           6,
           6,
           6,
           6,
           6,
           7,
           7,
           7,
           7,
           7,
           7,
           8,
           8,
           8,
           8,
           8,
           8
          ],
          "target": [
           9,
           10,
           11,
           12,
           13,
           14,
           15,
           9,
           15,
           11,
           12,
           14,
           10,
           13,
           9,
           13,
           10,
           12,
           11,
           15,
           11,
           9,
           10,
           13,
           14,
           9,
           9,
           15,
           13,
           11,
           10,
           9,
           13,
           11,
           15,
           12,
           10,
           12,
           15,
           11,
           9,
           13,
           14,
           10,
           11,
           9,
           12,
           15,
           14
          ],
          "value": [
           240,
           13,
           38,
           20,
           20,
           6,
           2,
           297,
           10,
           72,
           209,
           16,
           7,
           12,
           4,
           1,
           2,
           1,
           1,
           2,
           10,
           10,
           2,
           3,
           2,
           1,
           115,
           1,
           1,
           2,
           1,
           14,
           3,
           13,
           12,
           1,
           1,
           302,
           7,
           85,
           124,
           1,
           1,
           9,
           10,
           3,
           4,
           3,
           4
          ]
         },
         "node": {
          "label": [
           "T1PKS",
           "PKS-NRP-hybrid",
           "PKS-like",
           "transAT-PKS",
           "transAT-PKS-like",
           "T2PKS",
           "T3PKS",
           "NRPS",
           "NRPS-like",
           "Polyketides",
           "Shikimates and Phenylpropanoids",
           "Alkaloids",
           "Amino acids and Peptides",
           "Terpenoids",
           "Fatty acids",
           "Carbohydrates"
          ],
          "line": {
           "color": "black",
           "width": 0.5
          },
          "pad": 15,
          "thickness": 20
         },
         "type": "sankey"
        }
       ],
       "layout": {
        "font": {
         "size": 10
        },
        "template": {
         "data": {
          "bar": [
           {
            "error_x": {
             "color": "#2a3f5f"
            },
            "error_y": {
             "color": "#2a3f5f"
            },
            "marker": {
             "line": {
              "color": "#E5ECF6",
              "width": 0.5
             }
            },
            "type": "bar"
           }
          ],
          "barpolar": [
           {
            "marker": {
             "line": {
              "color": "#E5ECF6",
              "width": 0.5
             }
            },
            "type": "barpolar"
           }
          ],
          "carpet": [
           {
            "aaxis": {
             "endlinecolor": "#2a3f5f",
             "gridcolor": "white",
             "linecolor": "white",
             "minorgridcolor": "white",
             "startlinecolor": "#2a3f5f"
            },
            "baxis": {
             "endlinecolor": "#2a3f5f",
             "gridcolor": "white",
             "linecolor": "white",
             "minorgridcolor": "white",
             "startlinecolor": "#2a3f5f"
            },
            "type": "carpet"
           }
          ],
          "choropleth": [
           {
            "colorbar": {
             "outlinewidth": 0,
             "ticks": ""
            },
            "type": "choropleth"
           }
          ],
          "contour": [
           {
            "colorbar": {
             "outlinewidth": 0,
             "ticks": ""
            },
            "colorscale": [
             [
              0,
              "#0d0887"
             ],
             [
              0.1111111111111111,
              "#46039f"
             ],
             [
              0.2222222222222222,
              "#7201a8"
             ],
             [
              0.3333333333333333,
              "#9c179e"
             ],
             [
              0.4444444444444444,
              "#bd3786"
             ],
             [
              0.5555555555555556,
              "#d8576b"
             ],
             [
              0.6666666666666666,
              "#ed7953"
             ],
             [
              0.7777777777777778,
              "#fb9f3a"
             ],
             [
              0.8888888888888888,
              "#fdca26"
             ],
             [
              1,
              "#f0f921"
             ]
            ],
            "type": "contour"
           }
          ],
          "contourcarpet": [
           {
            "colorbar": {
             "outlinewidth": 0,
             "ticks": ""
            },
            "type": "contourcarpet"
           }
          ],
          "heatmap": [
           {
            "colorbar": {
             "outlinewidth": 0,
             "ticks": ""
            },
            "colorscale": [
             [
              0,
              "#0d0887"
             ],
             [
              0.1111111111111111,
              "#46039f"
             ],
             [
              0.2222222222222222,
              "#7201a8"
             ],
             [
              0.3333333333333333,
              "#9c179e"
             ],
             [
              0.4444444444444444,
              "#bd3786"
             ],
             [
              0.5555555555555556,
              "#d8576b"
             ],
             [
              0.6666666666666666,
              "#ed7953"
             ],
             [
              0.7777777777777778,
              "#fb9f3a"
             ],
             [
              0.8888888888888888,
              "#fdca26"
             ],
             [
              1,
              "#f0f921"
             ]
            ],
            "type": "heatmap"
           }
          ],
          "heatmapgl": [
           {
            "colorbar": {
             "outlinewidth": 0,
             "ticks": ""
            },
            "colorscale": [
             [
              0,
              "#0d0887"
             ],
             [
              0.1111111111111111,
              "#46039f"
             ],
             [
              0.2222222222222222,
              "#7201a8"
             ],
             [
              0.3333333333333333,
              "#9c179e"
             ],
             [
              0.4444444444444444,
              "#bd3786"
             ],
             [
              0.5555555555555556,
              "#d8576b"
             ],
             [
              0.6666666666666666,
              "#ed7953"
             ],
             [
              0.7777777777777778,
              "#fb9f3a"
             ],
             [
              0.8888888888888888,
              "#fdca26"
             ],
             [
              1,
              "#f0f921"
             ]
            ],
            "type": "heatmapgl"
           }
          ],
          "histogram": [
           {
            "marker": {
             "colorbar": {
              "outlinewidth": 0,
              "ticks": ""
             }
            },
            "type": "histogram"
           }
          ],
          "histogram2d": [
           {
            "colorbar": {
             "outlinewidth": 0,
             "ticks": ""
            },
            "colorscale": [
             [
              0,
              "#0d0887"
             ],
             [
              0.1111111111111111,
              "#46039f"
             ],
             [
              0.2222222222222222,
              "#7201a8"
             ],
             [
              0.3333333333333333,
              "#9c179e"
             ],
             [
              0.4444444444444444,
              "#bd3786"
             ],
             [
              0.5555555555555556,
              "#d8576b"
             ],
             [
              0.6666666666666666,
              "#ed7953"
             ],
             [
              0.7777777777777778,
              "#fb9f3a"
             ],
             [
              0.8888888888888888,
              "#fdca26"
             ],
             [
              1,
              "#f0f921"
             ]
            ],
            "type": "histogram2d"
           }
          ],
          "histogram2dcontour": [
           {
            "colorbar": {
             "outlinewidth": 0,
             "ticks": ""
            },
            "colorscale": [
             [
              0,
              "#0d0887"
             ],
             [
              0.1111111111111111,
              "#46039f"
             ],
             [
              0.2222222222222222,
              "#7201a8"
             ],
             [
              0.3333333333333333,
              "#9c179e"
             ],
             [
              0.4444444444444444,
              "#bd3786"
             ],
             [
              0.5555555555555556,
              "#d8576b"
             ],
             [
              0.6666666666666666,
              "#ed7953"
             ],
             [
              0.7777777777777778,
              "#fb9f3a"
             ],
             [
              0.8888888888888888,
              "#fdca26"
             ],
             [
              1,
              "#f0f921"
             ]
            ],
            "type": "histogram2dcontour"
           }
          ],
          "mesh3d": [
           {
            "colorbar": {
             "outlinewidth": 0,
             "ticks": ""
            },
            "type": "mesh3d"
           }
          ],
          "parcoords": [
           {
            "line": {
             "colorbar": {
              "outlinewidth": 0,
              "ticks": ""
             }
            },
            "type": "parcoords"
           }
          ],
          "pie": [
           {
            "automargin": true,
            "type": "pie"
           }
          ],
          "scatter": [
           {
            "marker": {
             "colorbar": {
              "outlinewidth": 0,
              "ticks": ""
             }
            },
            "type": "scatter"
           }
          ],
          "scatter3d": [
           {
            "line": {
             "colorbar": {
              "outlinewidth": 0,
              "ticks": ""
             }
            },
            "marker": {
             "colorbar": {
              "outlinewidth": 0,
              "ticks": ""
             }
            },
            "type": "scatter3d"
           }
          ],
          "scattercarpet": [
           {
            "marker": {
             "colorbar": {
              "outlinewidth": 0,
              "ticks": ""
             }
            },
            "type": "scattercarpet"
           }
          ],
          "scattergeo": [
           {
            "marker": {
             "colorbar": {
              "outlinewidth": 0,
              "ticks": ""
             }
            },
            "type": "scattergeo"
           }
          ],
          "scattergl": [
           {
            "marker": {
             "colorbar": {
              "outlinewidth": 0,
              "ticks": ""
             }
            },
            "type": "scattergl"
           }
          ],
          "scattermapbox": [
           {
            "marker": {
             "colorbar": {
              "outlinewidth": 0,
              "ticks": ""
             }
            },
            "type": "scattermapbox"
           }
          ],
          "scatterpolar": [
           {
            "marker": {
             "colorbar": {
              "outlinewidth": 0,
              "ticks": ""
             }
            },
            "type": "scatterpolar"
           }
          ],
          "scatterpolargl": [
           {
            "marker": {
             "colorbar": {
              "outlinewidth": 0,
              "ticks": ""
             }
            },
            "type": "scatterpolargl"
           }
          ],
          "scatterternary": [
           {
            "marker": {
             "colorbar": {
              "outlinewidth": 0,
              "ticks": ""
             }
            },
            "type": "scatterternary"
           }
          ],
          "surface": [
           {
            "colorbar": {
             "outlinewidth": 0,
             "ticks": ""
            },
            "colorscale": [
             [
              0,
              "#0d0887"
             ],
             [
              0.1111111111111111,
              "#46039f"
             ],
             [
              0.2222222222222222,
              "#7201a8"
             ],
             [
              0.3333333333333333,
              "#9c179e"
             ],
             [
              0.4444444444444444,
              "#bd3786"
             ],
             [
              0.5555555555555556,
              "#d8576b"
             ],
             [
              0.6666666666666666,
              "#ed7953"
             ],
             [
              0.7777777777777778,
              "#fb9f3a"
             ],
             [
              0.8888888888888888,
              "#fdca26"
             ],
             [
              1,
              "#f0f921"
             ]
            ],
            "type": "surface"
           }
          ],
          "table": [
           {
            "cells": {
             "fill": {
              "color": "#EBF0F8"
             },
             "line": {
              "color": "white"
             }
            },
            "header": {
             "fill": {
              "color": "#C8D4E3"
             },
             "line": {
              "color": "white"
             }
            },
            "type": "table"
           }
          ]
         },
         "layout": {
          "annotationdefaults": {
           "arrowcolor": "#2a3f5f",
           "arrowhead": 0,
           "arrowwidth": 1
          },
          "autotypenumbers": "strict",
          "coloraxis": {
           "colorbar": {
            "outlinewidth": 0,
            "ticks": ""
           }
          },
          "colorscale": {
           "diverging": [
            [
             0,
             "#8e0152"
            ],
            [
             0.1,
             "#c51b7d"
            ],
            [
             0.2,
             "#de77ae"
            ],
            [
             0.3,
             "#f1b6da"
            ],
            [
             0.4,
             "#fde0ef"
            ],
            [
             0.5,
             "#f7f7f7"
            ],
            [
             0.6,
             "#e6f5d0"
            ],
            [
             0.7,
             "#b8e186"
            ],
            [
             0.8,
             "#7fbc41"
            ],
            [
             0.9,
             "#4d9221"
            ],
            [
             1,
             "#276419"
            ]
           ],
           "sequential": [
            [
             0,
             "#0d0887"
            ],
            [
             0.1111111111111111,
             "#46039f"
            ],
            [
             0.2222222222222222,
             "#7201a8"
            ],
            [
             0.3333333333333333,
             "#9c179e"
            ],
            [
             0.4444444444444444,
             "#bd3786"
            ],
            [
             0.5555555555555556,
             "#d8576b"
            ],
            [
             0.6666666666666666,
             "#ed7953"
            ],
            [
             0.7777777777777778,
             "#fb9f3a"
            ],
            [
             0.8888888888888888,
             "#fdca26"
            ],
            [
             1,
             "#f0f921"
            ]
           ],
           "sequentialminus": [
            [
             0,
             "#0d0887"
            ],
            [
             0.1111111111111111,
             "#46039f"
            ],
            [
             0.2222222222222222,
             "#7201a8"
            ],
            [
             0.3333333333333333,
             "#9c179e"
            ],
            [
             0.4444444444444444,
             "#bd3786"
            ],
            [
             0.5555555555555556,
             "#d8576b"
            ],
            [
             0.6666666666666666,
             "#ed7953"
            ],
            [
             0.7777777777777778,
             "#fb9f3a"
            ],
            [
             0.8888888888888888,
             "#fdca26"
            ],
            [
             1,
             "#f0f921"
            ]
           ]
          },
          "colorway": [
           "#636efa",
           "#EF553B",
           "#00cc96",
           "#ab63fa",
           "#FFA15A",
           "#19d3f3",
           "#FF6692",
           "#B6E880",
           "#FF97FF",
           "#FECB52"
          ],
          "font": {
           "color": "#2a3f5f"
          },
          "geo": {
           "bgcolor": "white",
           "lakecolor": "white",
           "landcolor": "#E5ECF6",
           "showlakes": true,
           "showland": true,
           "subunitcolor": "white"
          },
          "hoverlabel": {
           "align": "left"
          },
          "hovermode": "closest",
          "mapbox": {
           "style": "light"
          },
          "paper_bgcolor": "white",
          "plot_bgcolor": "#E5ECF6",
          "polar": {
           "angularaxis": {
            "gridcolor": "white",
            "linecolor": "white",
            "ticks": ""
           },
           "bgcolor": "#E5ECF6",
           "radialaxis": {
            "gridcolor": "white",
            "linecolor": "white",
            "ticks": ""
           }
          },
          "scene": {
           "xaxis": {
            "backgroundcolor": "#E5ECF6",
            "gridcolor": "white",
            "gridwidth": 2,
            "linecolor": "white",
            "showbackground": true,
            "ticks": "",
            "zerolinecolor": "white"
           },
           "yaxis": {
            "backgroundcolor": "#E5ECF6",
            "gridcolor": "white",
            "gridwidth": 2,
            "linecolor": "white",
            "showbackground": true,
            "ticks": "",
            "zerolinecolor": "white"
           },
           "zaxis": {
            "backgroundcolor": "#E5ECF6",
            "gridcolor": "white",
            "gridwidth": 2,
            "linecolor": "white",
            "showbackground": true,
            "ticks": "",
            "zerolinecolor": "white"
           }
          },
          "shapedefaults": {
           "line": {
            "color": "#2a3f5f"
           }
          },
          "ternary": {
           "aaxis": {
            "gridcolor": "white",
            "linecolor": "white",
            "ticks": ""
           },
           "baxis": {
            "gridcolor": "white",
            "linecolor": "white",
            "ticks": ""
           },
           "bgcolor": "#E5ECF6",
           "caxis": {
            "gridcolor": "white",
            "linecolor": "white",
            "ticks": ""
           }
          },
          "title": {
           "x": 0.05
          },
          "xaxis": {
           "automargin": true,
           "gridcolor": "white",
           "linecolor": "white",
           "ticks": "",
           "title": {
            "standoff": 15
           },
           "zerolinecolor": "white",
           "zerolinewidth": 2
          },
          "yaxis": {
           "automargin": true,
           "gridcolor": "white",
           "linecolor": "white",
           "ticks": "",
           "title": {
            "standoff": 15
           },
           "zerolinecolor": "white",
           "zerolinewidth": 2
          }
         }
        },
        "title": {
         "text": "antiSMASH PKS-NRPS classes vs NPClassifier pathways"
        }
       }
      },
      "text/html": [
       "<div>                            <div id=\"79663b34-52f9-4bf4-b9c2-d29b85c1a938\" class=\"plotly-graph-div\" style=\"height:525px; width:100%;\"></div>            <script type=\"text/javascript\">                require([\"plotly\"], function(Plotly) {                    window.PLOTLYENV=window.PLOTLYENV || {};                                    if (document.getElementById(\"79663b34-52f9-4bf4-b9c2-d29b85c1a938\")) {                    Plotly.newPlot(                        \"79663b34-52f9-4bf4-b9c2-d29b85c1a938\",                        [{\"link\": {\"source\": [0, 0, 0, 0, 0, 0, 0, 1, 1, 1, 1, 1, 1, 1, 2, 2, 2, 2, 2, 2, 3, 3, 3, 3, 3, 4, 5, 5, 5, 5, 5, 6, 6, 6, 6, 6, 6, 7, 7, 7, 7, 7, 7, 8, 8, 8, 8, 8, 8], \"target\": [9, 10, 11, 12, 13, 14, 15, 9, 15, 11, 12, 14, 10, 13, 9, 13, 10, 12, 11, 15, 11, 9, 10, 13, 14, 9, 9, 15, 13, 11, 10, 9, 13, 11, 15, 12, 10, 12, 15, 11, 9, 13, 14, 10, 11, 9, 12, 15, 14], \"value\": [240, 13, 38, 20, 20, 6, 2, 297, 10, 72, 209, 16, 7, 12, 4, 1, 2, 1, 1, 2, 10, 10, 2, 3, 2, 1, 115, 1, 1, 2, 1, 14, 3, 13, 12, 1, 1, 302, 7, 85, 124, 1, 1, 9, 10, 3, 4, 3, 4]}, \"node\": {\"label\": [\"T1PKS\", \"PKS-NRP-hybrid\", \"PKS-like\", \"transAT-PKS\", \"transAT-PKS-like\", \"T2PKS\", \"T3PKS\", \"NRPS\", \"NRPS-like\", \"Polyketides\", \"Shikimates and Phenylpropanoids\", \"Alkaloids\", \"Amino acids and Peptides\", \"Terpenoids\", \"Fatty acids\", \"Carbohydrates\"], \"line\": {\"color\": \"black\", \"width\": 0.5}, \"pad\": 15, \"thickness\": 20}, \"type\": \"sankey\"}],                        {\"font\": {\"size\": 10}, \"template\": {\"data\": {\"bar\": [{\"error_x\": {\"color\": \"#2a3f5f\"}, \"error_y\": {\"color\": \"#2a3f5f\"}, \"marker\": {\"line\": {\"color\": \"#E5ECF6\", \"width\": 0.5}}, \"type\": \"bar\"}], \"barpolar\": [{\"marker\": {\"line\": {\"color\": \"#E5ECF6\", \"width\": 0.5}}, \"type\": \"barpolar\"}], \"carpet\": [{\"aaxis\": {\"endlinecolor\": \"#2a3f5f\", \"gridcolor\": \"white\", \"linecolor\": \"white\", \"minorgridcolor\": \"white\", \"startlinecolor\": \"#2a3f5f\"}, \"baxis\": {\"endlinecolor\": \"#2a3f5f\", \"gridcolor\": \"white\", \"linecolor\": \"white\", \"minorgridcolor\": \"white\", \"startlinecolor\": \"#2a3f5f\"}, \"type\": \"carpet\"}], \"choropleth\": [{\"colorbar\": {\"outlinewidth\": 0, \"ticks\": \"\"}, \"type\": \"choropleth\"}], \"contour\": [{\"colorbar\": {\"outlinewidth\": 0, \"ticks\": \"\"}, \"colorscale\": [[0.0, \"#0d0887\"], [0.1111111111111111, \"#46039f\"], [0.2222222222222222, \"#7201a8\"], [0.3333333333333333, \"#9c179e\"], [0.4444444444444444, \"#bd3786\"], [0.5555555555555556, \"#d8576b\"], [0.6666666666666666, \"#ed7953\"], [0.7777777777777778, \"#fb9f3a\"], [0.8888888888888888, \"#fdca26\"], [1.0, \"#f0f921\"]], \"type\": \"contour\"}], \"contourcarpet\": [{\"colorbar\": {\"outlinewidth\": 0, \"ticks\": \"\"}, \"type\": \"contourcarpet\"}], \"heatmap\": [{\"colorbar\": {\"outlinewidth\": 0, \"ticks\": \"\"}, \"colorscale\": [[0.0, \"#0d0887\"], [0.1111111111111111, \"#46039f\"], [0.2222222222222222, \"#7201a8\"], [0.3333333333333333, \"#9c179e\"], [0.4444444444444444, \"#bd3786\"], [0.5555555555555556, \"#d8576b\"], [0.6666666666666666, \"#ed7953\"], [0.7777777777777778, \"#fb9f3a\"], [0.8888888888888888, \"#fdca26\"], [1.0, \"#f0f921\"]], \"type\": \"heatmap\"}], \"heatmapgl\": [{\"colorbar\": {\"outlinewidth\": 0, \"ticks\": \"\"}, \"colorscale\": [[0.0, \"#0d0887\"], [0.1111111111111111, \"#46039f\"], [0.2222222222222222, \"#7201a8\"], [0.3333333333333333, \"#9c179e\"], [0.4444444444444444, \"#bd3786\"], [0.5555555555555556, \"#d8576b\"], [0.6666666666666666, \"#ed7953\"], [0.7777777777777778, \"#fb9f3a\"], [0.8888888888888888, \"#fdca26\"], [1.0, \"#f0f921\"]], \"type\": \"heatmapgl\"}], \"histogram\": [{\"marker\": {\"colorbar\": {\"outlinewidth\": 0, \"ticks\": \"\"}}, \"type\": \"histogram\"}], \"histogram2d\": [{\"colorbar\": {\"outlinewidth\": 0, \"ticks\": \"\"}, \"colorscale\": [[0.0, \"#0d0887\"], [0.1111111111111111, \"#46039f\"], [0.2222222222222222, \"#7201a8\"], [0.3333333333333333, \"#9c179e\"], [0.4444444444444444, \"#bd3786\"], [0.5555555555555556, \"#d8576b\"], [0.6666666666666666, \"#ed7953\"], [0.7777777777777778, \"#fb9f3a\"], [0.8888888888888888, \"#fdca26\"], [1.0, \"#f0f921\"]], \"type\": \"histogram2d\"}], \"histogram2dcontour\": [{\"colorbar\": {\"outlinewidth\": 0, \"ticks\": \"\"}, \"colorscale\": [[0.0, \"#0d0887\"], [0.1111111111111111, \"#46039f\"], [0.2222222222222222, \"#7201a8\"], [0.3333333333333333, \"#9c179e\"], [0.4444444444444444, \"#bd3786\"], [0.5555555555555556, \"#d8576b\"], [0.6666666666666666, \"#ed7953\"], [0.7777777777777778, \"#fb9f3a\"], [0.8888888888888888, \"#fdca26\"], [1.0, \"#f0f921\"]], \"type\": \"histogram2dcontour\"}], \"mesh3d\": [{\"colorbar\": {\"outlinewidth\": 0, \"ticks\": \"\"}, \"type\": \"mesh3d\"}], \"parcoords\": [{\"line\": {\"colorbar\": {\"outlinewidth\": 0, \"ticks\": \"\"}}, \"type\": \"parcoords\"}], \"pie\": [{\"automargin\": true, \"type\": \"pie\"}], \"scatter\": [{\"marker\": {\"colorbar\": {\"outlinewidth\": 0, \"ticks\": \"\"}}, \"type\": \"scatter\"}], \"scatter3d\": [{\"line\": {\"colorbar\": {\"outlinewidth\": 0, \"ticks\": \"\"}}, \"marker\": {\"colorbar\": {\"outlinewidth\": 0, \"ticks\": \"\"}}, \"type\": \"scatter3d\"}], \"scattercarpet\": [{\"marker\": {\"colorbar\": {\"outlinewidth\": 0, \"ticks\": \"\"}}, \"type\": \"scattercarpet\"}], \"scattergeo\": [{\"marker\": {\"colorbar\": {\"outlinewidth\": 0, \"ticks\": \"\"}}, \"type\": \"scattergeo\"}], \"scattergl\": [{\"marker\": {\"colorbar\": {\"outlinewidth\": 0, \"ticks\": \"\"}}, \"type\": \"scattergl\"}], \"scattermapbox\": [{\"marker\": {\"colorbar\": {\"outlinewidth\": 0, \"ticks\": \"\"}}, \"type\": \"scattermapbox\"}], \"scatterpolar\": [{\"marker\": {\"colorbar\": {\"outlinewidth\": 0, \"ticks\": \"\"}}, \"type\": \"scatterpolar\"}], \"scatterpolargl\": [{\"marker\": {\"colorbar\": {\"outlinewidth\": 0, \"ticks\": \"\"}}, \"type\": \"scatterpolargl\"}], \"scatterternary\": [{\"marker\": {\"colorbar\": {\"outlinewidth\": 0, \"ticks\": \"\"}}, \"type\": \"scatterternary\"}], \"surface\": [{\"colorbar\": {\"outlinewidth\": 0, \"ticks\": \"\"}, \"colorscale\": [[0.0, \"#0d0887\"], [0.1111111111111111, \"#46039f\"], [0.2222222222222222, \"#7201a8\"], [0.3333333333333333, \"#9c179e\"], [0.4444444444444444, \"#bd3786\"], [0.5555555555555556, \"#d8576b\"], [0.6666666666666666, \"#ed7953\"], [0.7777777777777778, \"#fb9f3a\"], [0.8888888888888888, \"#fdca26\"], [1.0, \"#f0f921\"]], \"type\": \"surface\"}], \"table\": [{\"cells\": {\"fill\": {\"color\": \"#EBF0F8\"}, \"line\": {\"color\": \"white\"}}, \"header\": {\"fill\": {\"color\": \"#C8D4E3\"}, \"line\": {\"color\": \"white\"}}, \"type\": \"table\"}]}, \"layout\": {\"annotationdefaults\": {\"arrowcolor\": \"#2a3f5f\", \"arrowhead\": 0, \"arrowwidth\": 1}, \"autotypenumbers\": \"strict\", \"coloraxis\": {\"colorbar\": {\"outlinewidth\": 0, \"ticks\": \"\"}}, \"colorscale\": {\"diverging\": [[0, \"#8e0152\"], [0.1, \"#c51b7d\"], [0.2, \"#de77ae\"], [0.3, \"#f1b6da\"], [0.4, \"#fde0ef\"], [0.5, \"#f7f7f7\"], [0.6, \"#e6f5d0\"], [0.7, \"#b8e186\"], [0.8, \"#7fbc41\"], [0.9, \"#4d9221\"], [1, \"#276419\"]], \"sequential\": [[0.0, \"#0d0887\"], [0.1111111111111111, \"#46039f\"], [0.2222222222222222, \"#7201a8\"], [0.3333333333333333, \"#9c179e\"], [0.4444444444444444, \"#bd3786\"], [0.5555555555555556, \"#d8576b\"], [0.6666666666666666, \"#ed7953\"], [0.7777777777777778, \"#fb9f3a\"], [0.8888888888888888, \"#fdca26\"], [1.0, \"#f0f921\"]], \"sequentialminus\": [[0.0, \"#0d0887\"], [0.1111111111111111, \"#46039f\"], [0.2222222222222222, \"#7201a8\"], [0.3333333333333333, \"#9c179e\"], [0.4444444444444444, \"#bd3786\"], [0.5555555555555556, \"#d8576b\"], [0.6666666666666666, \"#ed7953\"], [0.7777777777777778, \"#fb9f3a\"], [0.8888888888888888, \"#fdca26\"], [1.0, \"#f0f921\"]]}, \"colorway\": [\"#636efa\", \"#EF553B\", \"#00cc96\", \"#ab63fa\", \"#FFA15A\", \"#19d3f3\", \"#FF6692\", \"#B6E880\", \"#FF97FF\", \"#FECB52\"], \"font\": {\"color\": \"#2a3f5f\"}, \"geo\": {\"bgcolor\": \"white\", \"lakecolor\": \"white\", \"landcolor\": \"#E5ECF6\", \"showlakes\": true, \"showland\": true, \"subunitcolor\": \"white\"}, \"hoverlabel\": {\"align\": \"left\"}, \"hovermode\": \"closest\", \"mapbox\": {\"style\": \"light\"}, \"paper_bgcolor\": \"white\", \"plot_bgcolor\": \"#E5ECF6\", \"polar\": {\"angularaxis\": {\"gridcolor\": \"white\", \"linecolor\": \"white\", \"ticks\": \"\"}, \"bgcolor\": \"#E5ECF6\", \"radialaxis\": {\"gridcolor\": \"white\", \"linecolor\": \"white\", \"ticks\": \"\"}}, \"scene\": {\"xaxis\": {\"backgroundcolor\": \"#E5ECF6\", \"gridcolor\": \"white\", \"gridwidth\": 2, \"linecolor\": \"white\", \"showbackground\": true, \"ticks\": \"\", \"zerolinecolor\": \"white\"}, \"yaxis\": {\"backgroundcolor\": \"#E5ECF6\", \"gridcolor\": \"white\", \"gridwidth\": 2, \"linecolor\": \"white\", \"showbackground\": true, \"ticks\": \"\", \"zerolinecolor\": \"white\"}, \"zaxis\": {\"backgroundcolor\": \"#E5ECF6\", \"gridcolor\": \"white\", \"gridwidth\": 2, \"linecolor\": \"white\", \"showbackground\": true, \"ticks\": \"\", \"zerolinecolor\": \"white\"}}, \"shapedefaults\": {\"line\": {\"color\": \"#2a3f5f\"}}, \"ternary\": {\"aaxis\": {\"gridcolor\": \"white\", \"linecolor\": \"white\", \"ticks\": \"\"}, \"baxis\": {\"gridcolor\": \"white\", \"linecolor\": \"white\", \"ticks\": \"\"}, \"bgcolor\": \"#E5ECF6\", \"caxis\": {\"gridcolor\": \"white\", \"linecolor\": \"white\", \"ticks\": \"\"}}, \"title\": {\"x\": 0.05}, \"xaxis\": {\"automargin\": true, \"gridcolor\": \"white\", \"linecolor\": \"white\", \"ticks\": \"\", \"title\": {\"standoff\": 15}, \"zerolinecolor\": \"white\", \"zerolinewidth\": 2}, \"yaxis\": {\"automargin\": true, \"gridcolor\": \"white\", \"linecolor\": \"white\", \"ticks\": \"\", \"title\": {\"standoff\": 15}, \"zerolinecolor\": \"white\", \"zerolinewidth\": 2}}}, \"title\": {\"text\": \"antiSMASH PKS-NRPS classes vs NPClassifier pathways\"}},                        {\"responsive\": true}                    ).then(function(){\n",
       "                            \n",
       "var gd = document.getElementById('79663b34-52f9-4bf4-b9c2-d29b85c1a938');\n",
       "var x = new MutationObserver(function (mutations, observer) {{\n",
       "        var display = window.getComputedStyle(gd).display;\n",
       "        if (!display || display === 'none') {{\n",
       "            console.log([gd, 'removed!']);\n",
       "            Plotly.purge(gd);\n",
       "            observer.disconnect();\n",
       "        }}\n",
       "}});\n",
       "\n",
       "// Listen for the removal of the full notebook cells\n",
       "var notebookContainer = gd.closest('#notebook-container');\n",
       "if (notebookContainer) {{\n",
       "    x.observe(notebookContainer, {childList: true});\n",
       "}}\n",
       "\n",
       "// Listen for the clearing of the current output cell\n",
       "var outputEl = gd.closest('.output');\n",
       "if (outputEl) {{\n",
       "    x.observe(outputEl, {childList: true});\n",
       "}}\n",
       "\n",
       "                        })                };                });            </script>        </div>"
      ]
     },
     "metadata": {},
     "output_type": "display_data"
    }
   ],
   "source": [
    "as_npc_pathway_sub_title = \"antiSMASH PKS-NRPS classes vs NPClassifier pathways\"\n",
    "as_npc_pathway_sub_fig_result = make_class_sankey_plot(\n",
    "    as_npc_pathway_sub, as_npc_pathway_sub_title)\n",
    "as_npc_pathway_sub_fig_result.write_html(os.path.join(out_base, '_'.join(as_npc_pathway_sub_title.split(' '))) + \".html\")\n",
    "as_npc_pathway_sub_fig_result"
   ]
  }
 ],
 "metadata": {
  "kernelspec": {
   "display_name": "Python 3",
   "language": "python",
   "name": "python3"
  },
  "language_info": {
   "codemirror_mode": {
    "name": "ipython",
    "version": 3
   },
   "file_extension": ".py",
   "mimetype": "text/x-python",
   "name": "python",
   "nbconvert_exporter": "python",
   "pygments_lexer": "ipython3",
   "version": "3.7.2"
  }
 },
 "nbformat": 4,
 "nbformat_minor": 5
}
