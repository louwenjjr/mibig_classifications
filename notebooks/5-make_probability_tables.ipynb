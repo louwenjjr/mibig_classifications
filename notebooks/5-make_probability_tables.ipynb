{
 "cells": [
  {
   "cell_type": "markdown",
   "id": "flexible-civilization",
   "metadata": {},
   "source": [
    "# Summary\n",
    "Read the class info file for MiBIG entries, and report probability tables."
   ]
  },
  {
   "cell_type": "code",
   "execution_count": 6,
   "id": "absolute-banana",
   "metadata": {},
   "outputs": [],
   "source": [
    "import os\n",
    "import urllib\n",
    "import glob\n",
    "import json\n",
    "import time"
   ]
  },
  {
   "cell_type": "code",
   "execution_count": 7,
   "id": "departmental-nickel",
   "metadata": {},
   "outputs": [
    {
     "name": "stdout",
     "output_type": "stream",
     "text": [
      "mibig_classes exists is True\n"
     ]
    }
   ],
   "source": [
    "mibig_folder = \"/mnt/scratch/louwe015/mibig_json_2.0/\"\n",
    "\n",
    "base_path = \"/mnt/scratch/louwe015/NPLinker/classifying/mibig_classifications/\"\n",
    "out_base = os.path.split(base_path[:-1])[0]\n",
    "mibig_classes = os.path.join(out_base, \"All_MIBiG_compounds_with_AS_BGC_CF_NPC_classes.txt\")\n",
    "print(\"mibig_classes exists is\", os.path.isfile(mibig_classes))"
   ]
  },
  {
   "cell_type": "markdown",
   "id": "designing-peace",
   "metadata": {},
   "source": [
    "## Reading file\n",
    "Making dict of {chem_id: [[bgc_classes], [chem_classes]]}, where bgc_classes is [class, subclass, AS_class], and chem_classes is the CF/NPC classes in order of input file"
   ]
  },
  {
   "cell_type": "code",
   "execution_count": 29,
   "id": "general-closer",
   "metadata": {},
   "outputs": [
    {
     "name": "stdout",
     "output_type": "stream",
     "text": [
      "compound_name\tclass:subclass\tAS_classes\tsmiles\tinchi_key\tkingdom\tsuperclass\tclass\tsubclass\tdirect_parent\tclass_results\tsuperclass_results\tpathway_results\tisglycoside\n",
      "\n",
      "[[['Other'], [], ['phosphonate']], [[''], [''], [''], [''], [''], [''], [''], [''], ['0']]]\n",
      "[[['Polyketide'], [], ['T1PKS', 'NRPS-like']], [['Organic compounds'], ['Phenylpropanoids and polyketides'], ['Macrolactams'], [''], ['Macrolactams'], ['Ansa macrolides'], ['Macrolides'], ['Polyketides'], ['0']]]\n"
     ]
    },
    {
     "data": {
      "text/plain": [
       "[[['Polyketide'], ['Polyketide:Other'], ['T1PKS']],\n",
       " [['Organic compounds'],\n",
       "  ['Organoheterocyclic compounds'],\n",
       "  ['Oxanes'],\n",
       "  [''],\n",
       "  ['Oxanes'],\n",
       "  ['Spirotetronate macrolides'],\n",
       "  ['Macrolides'],\n",
       "  ['Polyketides'],\n",
       "  ['0']]]"
      ]
     },
     "execution_count": 29,
     "metadata": {},
     "output_type": "execute_result"
    }
   ],
   "source": [
    "classes_dict = {}\n",
    "with open(mibig_classes) as inf:\n",
    "    header = inf.readline()\n",
    "    print(header)\n",
    "    for line in inf:\n",
    "        elems = line.strip().split(\"\\t\")\n",
    "        chem_id = elems.pop(0)\n",
    "        class_base = elems.pop(0).split(',')\n",
    "        classes = [cls.partition(':')[0] for cls in class_base]\n",
    "        sub_classes = [cls for cls in class_base if cls.split(\":\")[1]]\n",
    "        as_classes = elems.pop(0).split(',')\n",
    "\n",
    "        bgc_classes = [classes, sub_classes, as_classes]        \n",
    "        chem_classes = [chem_cls.split('; ') for chem_cls in elems[2:]]\n",
    "        classes_dict[chem_id] = [bgc_classes, chem_classes]\n",
    "\n",
    "print(classes_dict[chem_id])  # example\n",
    "print(classes_dict['BGC0000020_maytansine'])\n",
    "classes_dict['BGC0000001_abyssomicin C']"
   ]
  },
  {
   "cell_type": "code",
   "execution_count": 30,
   "id": "bigger-afternoon",
   "metadata": {},
   "outputs": [
    {
     "name": "stdout",
     "output_type": "stream",
     "text": [
      "[['BGC_class', 'class:subclass', 'AS_classes'], ['kingdom', 'superclass', 'class', 'subclass', 'direct_parent', 'class_results', 'superclass_results', 'pathway_results', 'isglycoside']]\n"
     ]
    }
   ],
   "source": [
    "# creating legend from the header\n",
    "s_h = header.strip().split('\\t')\n",
    "legend = [['BGC_class']+s_h[1:3], s_h[5:]]\n",
    "print(legend)"
   ]
  },
  {
   "cell_type": "markdown",
   "id": "right-episode",
   "metadata": {},
   "source": [
    "## Do comparisons between bgc and chem classes"
   ]
  }
 ],
 "metadata": {
  "kernelspec": {
   "display_name": "Python 3",
   "language": "python",
   "name": "python3"
  },
  "language_info": {
   "codemirror_mode": {
    "name": "ipython",
    "version": 3
   },
   "file_extension": ".py",
   "mimetype": "text/x-python",
   "name": "python",
   "nbconvert_exporter": "python",
   "pygments_lexer": "ipython3",
   "version": "3.7.2"
  }
 },
 "nbformat": 4,
 "nbformat_minor": 5
}
