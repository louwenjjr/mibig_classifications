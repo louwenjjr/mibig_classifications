{
 "cells": [
  {
   "cell_type": "markdown",
   "id": "perceived-pierce",
   "metadata": {},
   "source": [
    "# Summary\n",
    "In this notebook I gather BGC classes information from mibig jsons. This continues from notebook 2 where I gathered CF and NPC chemical class information."
   ]
  },
  {
   "cell_type": "code",
   "execution_count": 1,
   "id": "circular-indian",
   "metadata": {},
   "outputs": [],
   "source": [
    "import os\n",
    "import urllib\n",
    "import glob\n",
    "import json\n",
    "from rdkit import Chem"
   ]
  },
  {
   "cell_type": "code",
   "execution_count": 2,
   "id": "bridal-thermal",
   "metadata": {},
   "outputs": [
    {
     "name": "stdout",
     "output_type": "stream",
     "text": [
      "mibig_smiles_path exists is True\n"
     ]
    }
   ],
   "source": [
    "mibig_folder = \"/mnt/scratch/louwe015/mibig_json_2.0/\"\n",
    "\n",
    "base_path = \"/mnt/scratch/louwe015/NPLinker/classifying/mibig_classifications/\"\n",
    "mibig_smiles_path = os.path.join(base_path, \"files/All_MIBiG_compounds_with_SMILES_and_PMID_MAS.txt\")\n",
    "print(\"mibig_smiles_path exists is\", os.path.isfile(mibig_smiles_path))"
   ]
  },
  {
   "cell_type": "code",
   "execution_count": 3,
   "id": "integrated-longer",
   "metadata": {},
   "outputs": [
    {
     "name": "stdout",
     "output_type": "stream",
     "text": [
      "/mnt/scratch/louwe015/NPLinker/classifying/All_MIBiG_compounds_with_CF_NPC_classes.txt True\n"
     ]
    }
   ],
   "source": [
    "chem_classes_mibig = os.path.join(os.path.split(base_path[:-1])[0], \"All_MIBiG_compounds_with_CF_NPC_classes.txt\")\n",
    "print(chem_classes_mibig, os.path.isfile(chem_classes_mibig))"
   ]
  },
  {
   "cell_type": "markdown",
   "id": "developmental-dressing",
   "metadata": {},
   "source": [
    "## Which entries are needed from the jsons?\n",
    "Original list from Oscar:\n",
    "\n",
    "['compound_name','biosyn_class','biosyn_subclass',\\\n",
    "    'chem_synonyms','chem_target','molecular_formula','mol_mass',\\\n",
    "    'chem_struct','pubchem_id','chemspider_id','chebi_id','chembl_id',\\\n",
    "    'chem_act','other_chem_act','loci','publications','rdkit_smile_1',\\\n",
    "    'rdkit_smile_2','rdkit_smile_3','rdkit_smile_4','rdkit_inchi_key',\\\n",
    "    'rdkit_inchi_key1']"
   ]
  },
  {
   "cell_type": "code",
   "execution_count": 4,
   "id": "thirty-delta",
   "metadata": {},
   "outputs": [],
   "source": [
    "# as ids take BGC id + '_' + compound name, for now this is all we need\n",
    "wanted_names = ['biosyn_class','biosyn_subclass']"
   ]
  },
  {
   "cell_type": "code",
   "execution_count": 5,
   "id": "brilliant-gregory",
   "metadata": {},
   "outputs": [],
   "source": [
    "mibig_files = glob.glob(os.path.join(mibig_folder, \"*.json\"))"
   ]
  },
  {
   "cell_type": "code",
   "execution_count": 30,
   "id": "alert-columbus",
   "metadata": {},
   "outputs": [
    {
     "data": {
      "text/plain": [
       "'/mnt/scratch/louwe015/mibig_json_2.0/BGC0001001.json'"
      ]
     },
     "execution_count": 30,
     "metadata": {},
     "output_type": "execute_result"
    }
   ],
   "source": [
    "test = mibig_files[4]\n",
    "test"
   ]
  },
  {
   "cell_type": "code",
   "execution_count": 31,
   "id": "canadian-trick",
   "metadata": {},
   "outputs": [],
   "source": [
    "with open(test) as inf:\n",
    "    test_json = json.load(inf)"
   ]
  },
  {
   "cell_type": "code",
   "execution_count": 32,
   "id": "monetary-italic",
   "metadata": {},
   "outputs": [
    {
     "data": {
      "text/plain": [
       "{'biosyn_class': ['NRP', 'Polyketide'],\n",
       " 'compounds': [{'chem_struct': 'CO\\\\C(CCNC(=O)CC\\\\C=C\\\\C(C)CC\\\\C(CCCC#CBr)=C\\\\Cl)=C\\\\C(=O)N1C(C)C=CC1=O',\n",
       "   'compound': 'jamaicamide A',\n",
       "   'database_id': ['npatlas:13036'],\n",
       "   'mol_mass': 566.1546974120001,\n",
       "   'molecular_formula': 'C27H36BrClN2O4'},\n",
       "  {'chem_acts': ['Sodium channel blocking'],\n",
       "   'chem_struct': 'CO\\\\C(CCNC(=O)CC\\\\C=C\\\\C(C)CC\\\\C(CCCC#C)=C\\\\Cl)=C\\\\C(=O)N1C(C)C=CC1=O',\n",
       "   'chem_targets': [{'target': 'Sodium channel blocking'}],\n",
       "   'compound': 'jamaicamide B',\n",
       "   'database_id': ['npatlas:374', 'pubchem:49787032'],\n",
       "   'mol_mass': 488.244185344,\n",
       "   'molecular_formula': 'C27H37ClN2O4'},\n",
       "  {'chem_struct': 'CO\\\\C(CCNC(=O)CC\\\\C=C\\\\C(C)CC\\\\C(CCCC=C)=C\\\\Cl)=C\\\\C(=O)N1C(C)C=CC1=O',\n",
       "   'chem_targets': [{'target': 'Sodium channel blocking'}],\n",
       "   'compound': 'jamaicamide C',\n",
       "   'database_id': ['npatlas:1111', 'pubchem:49787033'],\n",
       "   'mol_mass': 490.259835408,\n",
       "   'molecular_formula': 'C27H39ClN2O4'}],\n",
       " 'genes': {'annotations': [{'id': 'AAS98794.1',\n",
       "    'name': 'No gene ID',\n",
       "    'product': 'sucrose synthase'},\n",
       "   {'id': 'AAS98795.1',\n",
       "    'name': 'No gene ID',\n",
       "    'product': 'hypothetical protein'},\n",
       "   {'id': 'AAS98796.1',\n",
       "    'name': 'No gene ID',\n",
       "    'product': 'putative transposase'},\n",
       "   {'id': 'AAS98797.1', 'name': 'No gene ID', 'product': 'transposase'},\n",
       "   {'functions': [{'category': 'Activation / processing',\n",
       "      'evidence': ['Activity assay']}],\n",
       "    'id': 'AAS98774.1',\n",
       "    'name': 'jamA',\n",
       "    'product': 'Acyl-ACP Synthetase'},\n",
       "   {'functions': [{'category': 'Precursor biosynthesis',\n",
       "      'evidence': ['Sequence-based prediction']}],\n",
       "    'id': 'AAS98775.1',\n",
       "    'name': 'jamB',\n",
       "    'product': 'Desaturase'},\n",
       "   {'functions': [{'category': 'Activation / processing',\n",
       "      'evidence': ['Activity assay']}],\n",
       "    'id': 'AAS98798.1',\n",
       "    'name': 'jamC',\n",
       "    'product': 'acyl carrier protein'},\n",
       "   {'functions': [{'category': 'Tailoring',\n",
       "      'evidence': ['Sequence-based prediction']}],\n",
       "    'id': 'AAS98776.1',\n",
       "    'name': 'jamD',\n",
       "    'product': 'Putative bromination enzyme',\n",
       "    'tailoring': ['Halogenation']},\n",
       "   {'functions': [{'category': 'Scaffold biosynthesis',\n",
       "      'evidence': ['Sequence-based prediction']}],\n",
       "    'id': 'AAS98777.1',\n",
       "    'name': 'jamE',\n",
       "    'product': 'polyketide synthetase'},\n",
       "   {'functions': [{'category': 'Activation / processing',\n",
       "      'evidence': ['Sequence-based prediction']}],\n",
       "    'id': 'AAS98799.1',\n",
       "    'name': 'jamF',\n",
       "    'product': 'acyl carrier protein'},\n",
       "   {'functions': [{'category': 'Tailoring',\n",
       "      'evidence': ['Sequence-based prediction']}],\n",
       "    'id': 'AAS98778.1',\n",
       "    'name': 'jamG',\n",
       "    'product': 'ketosynthase/decarboxylase',\n",
       "    'tailoring': ['Decarboxylation']},\n",
       "   {'functions': [{'category': 'Tailoring',\n",
       "      'evidence': ['Sequence-based prediction']}],\n",
       "    'id': 'AAS98779.1',\n",
       "    'name': 'jamH',\n",
       "    'product': 'hydroxymethyl glutaryl-ACP synthase like activity',\n",
       "    'tailoring': ['Unknown']},\n",
       "   {'functions': [{'category': 'Tailoring', 'evidence': ['Activity assay']}],\n",
       "    'id': 'AAS98780.1',\n",
       "    'name': 'jamI',\n",
       "    'product': 'enoyl hydratase family',\n",
       "    'tailoring': ['Dehydration']},\n",
       "   {'functions': [{'category': 'Scaffold biosynthesis',\n",
       "      'evidence': ['Activity assay']}],\n",
       "    'id': 'AAS98781.1',\n",
       "    'name': 'jamJ',\n",
       "    'product': 'polyketide synthase'},\n",
       "   {'functions': [{'category': 'Scaffold biosynthesis',\n",
       "      'evidence': ['Sequence-based prediction']}],\n",
       "    'id': 'AAS98782.1',\n",
       "    'name': 'jamK',\n",
       "    'product': 'polyketide synthase'},\n",
       "   {'functions': [{'category': 'Scaffold biosynthesis',\n",
       "      'evidence': ['Sequence-based prediction']}],\n",
       "    'id': 'AAS98783.1',\n",
       "    'name': 'jamL',\n",
       "    'product': 'polyketide synthase/nonribosomal peptide synthase hybrid'},\n",
       "   {'functions': [{'category': 'Scaffold biosynthesis',\n",
       "      'evidence': ['Sequence-based prediction']}],\n",
       "    'id': 'AAS98784.1',\n",
       "    'name': 'jamM',\n",
       "    'product': 'polyketide synthase'},\n",
       "   {'functions': [{'category': 'Scaffold biosynthesis',\n",
       "      'evidence': ['Sequence-based prediction']}],\n",
       "    'id': 'AAS98785.1',\n",
       "    'name': 'jamN',\n",
       "    'product': 'polyketide synthase'},\n",
       "   {'functions': [{'category': 'Scaffold biosynthesis',\n",
       "      'evidence': ['Activity assay']}],\n",
       "    'id': 'AAS98786.1',\n",
       "    'name': 'jamO',\n",
       "    'product': 'nonribosomal peptide synthetase'},\n",
       "   {'functions': [{'category': 'Scaffold biosynthesis',\n",
       "      'evidence': ['Sequence-based prediction']}],\n",
       "    'id': 'AAS98787.1',\n",
       "    'name': 'jamP',\n",
       "    'product': 'polyketide synthase/thioesterase'},\n",
       "   {'functions': [{'category': 'Tailoring',\n",
       "      'evidence': ['Sequence-based prediction']}],\n",
       "    'id': 'AAS98788.1',\n",
       "    'name': 'jamQ',\n",
       "    'product': 'cyclization enzyme',\n",
       "    'tailoring': ['Heterocyclization']},\n",
       "   {'id': 'AAS98789.1',\n",
       "    'name': 'No gene ID',\n",
       "    'product': 'hypothetical protein'},\n",
       "   {'id': 'AAS98790.1',\n",
       "    'name': 'No gene ID',\n",
       "    'product': 'putative transposase'},\n",
       "   {'id': 'AAS98792.1',\n",
       "    'name': 'No gene ID',\n",
       "    'product': 'hypothetical protein'},\n",
       "   {'id': 'AAS98791.1',\n",
       "    'name': 'No gene ID',\n",
       "    'product': 'choloylglycine hydrolase-like protein'},\n",
       "   {'id': 'AAS98793.1',\n",
       "    'name': 'No gene ID',\n",
       "    'product': 'hypothetical protein'}]},\n",
       " 'loci': {'accession': 'AY522504.1',\n",
       "  'completeness': 'complete',\n",
       "  'evidence': ['Sequence-based prediction']},\n",
       " 'mibig_accession': 'BGC0001001',\n",
       " 'minimal': False,\n",
       " 'ncbi_tax_id': '158786',\n",
       " 'nrp': {'cyclic': True},\n",
       " 'organism_name': 'Lyngbya majuscula',\n",
       " 'polyketide': {'cyclic': True,\n",
       "  'release_type': ['Macrolactamization'],\n",
       "  'subclasses': ['Other']},\n",
       " 'publications': ['pubmed:21393570',\n",
       "  'pubmed:19951434',\n",
       "  'pubmed:19494914',\n",
       "  'pubmed:16460000']}"
      ]
     },
     "execution_count": 32,
     "metadata": {},
     "output_type": "execute_result"
    }
   ],
   "source": [
    "test_json[\"cluster\"]"
   ]
  },
  {
   "cell_type": "markdown",
   "id": "polished-single",
   "metadata": {},
   "source": [
    "## Investigate subclasses\n",
    "It seems (also according to the json schema for mibig) that I need to look for all 'subclass' in biosyn_class, except for pks that have 'subclasses'"
   ]
  },
  {
   "cell_type": "code",
   "execution_count": 9,
   "id": "musical-footwear",
   "metadata": {},
   "outputs": [],
   "source": [
    "all_class_info = []\n",
    "for mibig_file in mibig_files:\n",
    "    with open(mibig_file) as inf:\n",
    "        mibig_js = json.load(inf)\n",
    "    class_list = mibig_js[\"cluster\"].get(\"biosyn_class\")\n",
    "    if class_list:\n",
    "        for elem in class_list:\n",
    "            low_elem = elem.lower()\n",
    "            class_dict = mibig_js[\"cluster\"].get(low_elem)\n",
    "            if class_dict:\n",
    "                all_class_info.append(class_dict)"
   ]
  },
  {
   "cell_type": "code",
   "execution_count": 42,
   "id": "patent-tragedy",
   "metadata": {},
   "outputs": [
    {
     "name": "stdout",
     "output_type": "stream",
     "text": [
      "759\n",
      "total number of subclasses received: 599\n"
     ]
    }
   ],
   "source": [
    "print(len(all_class_info))\n",
    "subcl_len = len([dct[\"subclass\"] for dct in all_class_info if \"subclass\" in dct])\n",
    "subcls_len = len([dct[\"subclasses\"] for dct in all_class_info if \"subclasses\" in dct])\n",
    "print(\"total number of subclasses received:\", subcl_len+subcls_len)"
   ]
  },
  {
   "cell_type": "code",
   "execution_count": 15,
   "id": "valued-image",
   "metadata": {},
   "outputs": [
    {
     "data": {
      "text/plain": [
       "[{'cyclic': True},\n",
       " {'cyclic': True,\n",
       "  'release_type': ['Macrolactamization'],\n",
       "  'subclasses': ['Other']},\n",
       " {'subclass': 'Lanthipeptide'},\n",
       " {'cyclic': False,\n",
       "  'nrps_genes': [{'gene_id': 'AHB38497.1',\n",
       "    'modules': [{'a_substr_spec': {'epimerized': False,\n",
       "       'evidence': ['Sequence-based prediction'],\n",
       "       'proteinogenic': ['Isoleucine']},\n",
       "      'active': False,\n",
       "      'c_dom_subtype': 'Starter',\n",
       "      'modification_domains': ['Methylation'],\n",
       "      'module_number': '1'},\n",
       "     {'a_substr_spec': {'epimerized': False,\n",
       "       'evidence': ['Sequence-based prediction'],\n",
       "       'proteinogenic': ['Isoleucine']},\n",
       "      'active': False,\n",
       "      'c_dom_subtype': 'LCL',\n",
       "      'module_number': '2'},\n",
       "     {'a_substr_spec': {'epimerized': False,\n",
       "       'evidence': ['Sequence-based prediction'],\n",
       "       'proteinogenic': ['Threonine']},\n",
       "      'active': False,\n",
       "      'c_dom_subtype': 'LCL',\n",
       "      'module_number': '3'},\n",
       "     {'a_substr_spec': {'epimerized': False, 'proteinogenic': ['Leucine']},\n",
       "      'active': False,\n",
       "      'c_dom_subtype': 'LCL',\n",
       "      'module_number': '4'}]}],\n",
       "  'thioesterases': [{'gene': 'AHB38498.1', 'thioesterase_type': 'Unknown'}]},\n",
       " {'cyclic': False,\n",
       "  'subclasses': ['Other'],\n",
       "  'synthases': [{'genes': ['AHB38498.1'],\n",
       "    'modules': [{'at_specificities': ['Malonyl-CoA'],\n",
       "      'domains': ['Ketosynthase', 'Acyltransferase', 'Thiolation (ACP/PCP)'],\n",
       "      'evidence': 'Sequence-based prediction',\n",
       "      'genes': ['AHB38498.1'],\n",
       "      'kr_stereochem': 'Unknown',\n",
       "      'module_number': '5',\n",
       "      'pks_mod_doms': ['Methylation']}],\n",
       "    'subclass': ['Modular type I']}]}]"
      ]
     },
     "execution_count": 15,
     "metadata": {},
     "output_type": "execute_result"
    }
   ],
   "source": [
    "all_class_info[:5]"
   ]
  },
  {
   "cell_type": "code",
   "execution_count": 16,
   "id": "static-candle",
   "metadata": {},
   "outputs": [
    {
     "data": {
      "text/plain": [
       "[['Other'],\n",
       " ['Other'],\n",
       " ['Tetracenomycin'],\n",
       " ['Other'],\n",
       " ['Other'],\n",
       " ['Other'],\n",
       " ['Other'],\n",
       " ['Polyene'],\n",
       " ['Polyene'],\n",
       " ['Other'],\n",
       " ['Other'],\n",
       " ['Other'],\n",
       " ['Other'],\n",
       " ['Other'],\n",
       " ['Angucycline'],\n",
       " ['Other'],\n",
       " ['Enediyine'],\n",
       " ['Macrolide'],\n",
       " ['Other'],\n",
       " ['Aryl polyene'],\n",
       " ['Polyene'],\n",
       " ['Angucycline'],\n",
       " ['Other'],\n",
       " ['Other'],\n",
       " ['Other'],\n",
       " ['Macrolide'],\n",
       " ['Enediyine'],\n",
       " ['Other'],\n",
       " ['Macrolide'],\n",
       " ['Other'],\n",
       " ['Macrolide'],\n",
       " ['Enediyine'],\n",
       " ['Polyene'],\n",
       " ['Other'],\n",
       " ['Other'],\n",
       " ['Other'],\n",
       " ['Other'],\n",
       " ['Other'],\n",
       " ['Other'],\n",
       " ['Other'],\n",
       " ['Other'],\n",
       " ['Other'],\n",
       " ['Other'],\n",
       " ['Other'],\n",
       " ['Polyphenol'],\n",
       " ['Polyene'],\n",
       " ['Polyene'],\n",
       " ['Ansamycin'],\n",
       " ['Polyene'],\n",
       " ['Macrolide'],\n",
       " ['Macrolide'],\n",
       " ['Chalcone'],\n",
       " ['Other'],\n",
       " ['Other'],\n",
       " ['Polyene'],\n",
       " ['Polyene'],\n",
       " ['Tetracycline'],\n",
       " ['Other'],\n",
       " ['Macrolide'],\n",
       " ['Macrolide'],\n",
       " ['Macrolide'],\n",
       " ['Ansamycin'],\n",
       " ['Aryl polyene'],\n",
       " ['Other'],\n",
       " ['Other'],\n",
       " ['Other'],\n",
       " ['Other'],\n",
       " ['Polyene'],\n",
       " ['Tetracycline'],\n",
       " ['Other'],\n",
       " ['Other'],\n",
       " ['Anthracycline'],\n",
       " ['Polyphenol'],\n",
       " ['Polyether'],\n",
       " ['Other'],\n",
       " ['Ansamycin'],\n",
       " ['Other'],\n",
       " ['Other'],\n",
       " ['Other'],\n",
       " ['Other'],\n",
       " ['Other'],\n",
       " ['Other'],\n",
       " ['Other'],\n",
       " ['Other'],\n",
       " ['Other'],\n",
       " ['Angucycline'],\n",
       " ['Angucycline'],\n",
       " ['Other'],\n",
       " ['Other'],\n",
       " ['Polyene'],\n",
       " ['Polyene'],\n",
       " ['Angucycline'],\n",
       " ['Polyphenol'],\n",
       " ['Polyene'],\n",
       " ['Macrolide'],\n",
       " ['Anthracycline'],\n",
       " ['Other'],\n",
       " ['Other'],\n",
       " ['Macrolide'],\n",
       " ['Macrolide'],\n",
       " ['Other'],\n",
       " ['Polyene'],\n",
       " ['Other'],\n",
       " ['Polyene'],\n",
       " ['Other'],\n",
       " ['Other'],\n",
       " ['Angucycline'],\n",
       " ['Other'],\n",
       " ['Other'],\n",
       " ['Other'],\n",
       " ['Other'],\n",
       " ['Other'],\n",
       " ['Other'],\n",
       " ['Other'],\n",
       " ['Other'],\n",
       " ['Polyene'],\n",
       " ['Polyene'],\n",
       " ['Other'],\n",
       " ['Angucycline'],\n",
       " ['Polyene'],\n",
       " ['Other'],\n",
       " ['Other'],\n",
       " ['Other'],\n",
       " ['Ansamycin'],\n",
       " ['Polyene'],\n",
       " ['Tetracycline'],\n",
       " ['Anthracycline'],\n",
       " ['Macrolide'],\n",
       " ['Other'],\n",
       " ['Other'],\n",
       " ['Other'],\n",
       " ['Polyene'],\n",
       " ['Other'],\n",
       " ['Other'],\n",
       " ['Other'],\n",
       " ['Angucycline'],\n",
       " ['Other'],\n",
       " ['Other'],\n",
       " ['Other'],\n",
       " ['Polyene'],\n",
       " ['Polyene'],\n",
       " ['Anthracycline'],\n",
       " ['Other'],\n",
       " ['Other'],\n",
       " ['Other'],\n",
       " ['Other'],\n",
       " ['Aryl polyene'],\n",
       " ['Polyether'],\n",
       " ['Polyphenol'],\n",
       " ['Other'],\n",
       " ['Benzoisochromanequinone'],\n",
       " ['Polyene'],\n",
       " ['Other'],\n",
       " ['Other'],\n",
       " ['Other'],\n",
       " ['Other'],\n",
       " ['Other'],\n",
       " ['Other'],\n",
       " ['Other'],\n",
       " ['Other'],\n",
       " ['Macrolide'],\n",
       " ['Other'],\n",
       " ['Anthracycline'],\n",
       " ['Other'],\n",
       " ['Other'],\n",
       " ['Other'],\n",
       " ['Macrolide'],\n",
       " ['Macrolide'],\n",
       " ['Other'],\n",
       " ['Other'],\n",
       " ['Ansamycin'],\n",
       " ['Other'],\n",
       " ['Other'],\n",
       " ['Enediyine'],\n",
       " ['Macrolide'],\n",
       " ['Other'],\n",
       " ['Other'],\n",
       " ['Anthracycline'],\n",
       " ['Enediyine'],\n",
       " ['Macrolide'],\n",
       " ['Polyene'],\n",
       " ['Other'],\n",
       " ['Polyene'],\n",
       " ['Other'],\n",
       " ['Macrolide'],\n",
       " ['Polyene'],\n",
       " ['Other'],\n",
       " ['Polyphenol'],\n",
       " ['Benzoisochromanequinone'],\n",
       " ['Macrolide'],\n",
       " ['Other'],\n",
       " ['Macrolide'],\n",
       " ['Other'],\n",
       " ['Angucycline'],\n",
       " ['Other'],\n",
       " ['Other'],\n",
       " ['Other'],\n",
       " ['Other'],\n",
       " ['Other'],\n",
       " ['Other'],\n",
       " ['Other'],\n",
       " ['Other'],\n",
       " ['Tetracycline'],\n",
       " ['Other'],\n",
       " ['Other'],\n",
       " ['Polyene'],\n",
       " ['Other'],\n",
       " ['Angucycline'],\n",
       " ['Other'],\n",
       " ['Macrolide'],\n",
       " ['Macrolide'],\n",
       " ['Aryl polyene'],\n",
       " ['Other'],\n",
       " ['Macrolide'],\n",
       " ['Macrolide'],\n",
       " ['Polyene'],\n",
       " ['Other'],\n",
       " ['Other'],\n",
       " ['Other'],\n",
       " ['Tetracycline'],\n",
       " ['Polyene'],\n",
       " ['Polyene'],\n",
       " ['Polyene'],\n",
       " ['Other'],\n",
       " ['Other'],\n",
       " ['Anthracycline'],\n",
       " ['Ansamycin'],\n",
       " ['Ansamycin'],\n",
       " ['Other'],\n",
       " ['Other'],\n",
       " ['Other'],\n",
       " ['Macrolide'],\n",
       " ['Other'],\n",
       " ['Other'],\n",
       " ['Other'],\n",
       " ['Macrolide']]"
      ]
     },
     "execution_count": 16,
     "metadata": {},
     "output_type": "execute_result"
    }
   ],
   "source": [
    "[class_info.get('subclasses') for class_info in all_class_info if 'subclasses' in class_info]"
   ]
  },
  {
   "cell_type": "markdown",
   "id": "worth-purple",
   "metadata": {},
   "source": [
    "## Getting info from jsons"
   ]
  },
  {
   "cell_type": "code",
   "execution_count": 36,
   "id": "cellular-flush",
   "metadata": {},
   "outputs": [],
   "source": [
    "# make a list of tuples with info for each line (so it can be sorted)\n",
    "class_results = []\n",
    "for bgc_json in mibig_files:\n",
    "    with open(bgc_json, 'r') as inf:\n",
    "        bgc_dict = json.load(inf)\n",
    "    mibig_acc = bgc_dict['cluster']['mibig_accession']\n",
    "    for compound in bgc_dict['cluster']['compounds']:\n",
    "        compound_name = compound.get('compound', '')\n",
    "        comp_id = f'{mibig_acc}_{compound_name}'\n",
    "        biosyn_classes = bgc_dict[\"cluster\"].get(\"biosyn_class\", [])  # list\n",
    "        \n",
    "        result_tuple = (comp_id, '', '')\n",
    "        classes = []\n",
    "        subclasses = []\n",
    "        for biosyn_class in biosyn_classes:\n",
    "            low_class = biosyn_class.lower()\n",
    "            class_dict = bgc_dict[\"cluster\"].get(low_class, {})\n",
    "            subclass = class_dict.get('subclass', '')\n",
    "            if not subclass:  # pks have 'subclasses'\n",
    "                subclass = class_dict.get('subclasses', [''])[0]\n",
    "            combined_class = f\"{biosyn_class}:{subclass}\"\n",
    "            classes.append(combined_class)\n",
    "        result_tuple = (comp_id, ','.join(classes))\n",
    "        class_results.append(result_tuple)"
   ]
  },
  {
   "cell_type": "code",
   "execution_count": 38,
   "id": "returning-situation",
   "metadata": {},
   "outputs": [
    {
     "name": "stdout",
     "output_type": "stream",
     "text": [
      "2689\n"
     ]
    },
    {
     "data": {
      "text/plain": [
       "[('BGC0000020_maytansine', 'Polyketide:'),\n",
       " ('BGC0000020_ansamitocin P-3', 'Polyketide:'),\n",
       " ('BGC0000284_phenolic lipids', 'Polyketide:'),\n",
       " ('BGC0001483_5-isoprenylindole-3-carboxylate β-D-glycosyl ester', 'Other:'),\n",
       " ('BGC0000650_carotenoid', 'Terpene:'),\n",
       " ('BGC0001001_jamaicamide A', 'NRP:,Polyketide:Other'),\n",
       " ('BGC0001001_jamaicamide B', 'NRP:,Polyketide:Other'),\n",
       " ('BGC0001001_jamaicamide C', 'NRP:,Polyketide:Other'),\n",
       " ('BGC0001536_brevicidine', 'NRP:'),\n",
       " ('BGC0000543_pep5', 'RiPP:Lanthipeptide')]"
      ]
     },
     "execution_count": 38,
     "metadata": {},
     "output_type": "execute_result"
    }
   ],
   "source": [
    "print(len(class_results))\n",
    "class_results[:10]"
   ]
  },
  {
   "cell_type": "markdown",
   "id": "growing-playlist",
   "metadata": {},
   "source": [
    "## Reading chemical classes info"
   ]
  },
  {
   "cell_type": "code",
   "execution_count": 47,
   "id": "dangerous-swing",
   "metadata": {},
   "outputs": [
    {
     "name": "stdout",
     "output_type": "stream",
     "text": [
      "compound_name\tsmiles\tinchi_key\tkingdom\tsuperclass\tclass\tsubclass\tdirect_parent\tclass_results\tsuperclass_results\tpathway_results\tisglycoside\n"
     ]
    },
    {
     "data": {
      "text/plain": [
       "[('BGC0000001_abyssomicin C',\n",
       "  ['CC1C[C@]23OC(=O)C4=C2OC1C(O)C3\\\\C=C/C(=O)[C@@H](C)C[C@@H](C)C4=O',\n",
       "   'FNEADFUPWHAVTA-UHFFFAOYSA-N',\n",
       "   'Organic compounds',\n",
       "   'Organoheterocyclic compounds',\n",
       "   'Oxanes',\n",
       "   '',\n",
       "   'Oxanes',\n",
       "   'Spirotetronate macrolides',\n",
       "   'Macrolides',\n",
       "   'Polyketides',\n",
       "   '0']),\n",
       " ('BGC0000001_atrop-abyssomicin C',\n",
       "  ['CC1CC23OC(=O)C4=C2OC1C(O)C3\\\\C=C/C(=O)C(C)CC(C)C4=O',\n",
       "   'FNEADFUPWHAVTA-UHFFFAOYSA-N',\n",
       "   'Organic compounds',\n",
       "   'Organoheterocyclic compounds',\n",
       "   'Oxanes',\n",
       "   '',\n",
       "   'Oxanes',\n",
       "   'Spirotetronate macrolides',\n",
       "   'Macrolides',\n",
       "   'Polyketides',\n",
       "   '0'])]"
      ]
     },
     "execution_count": 47,
     "metadata": {},
     "output_type": "execute_result"
    }
   ],
   "source": [
    "out_base = os.path.split(base_path[:-1])[0]\n",
    "chem_file = os.path.join(out_base, \"All_MIBiG_compounds_with_CF_NPC_classes.txt\")\n",
    "\n",
    "chem_dict = {}\n",
    "with open(chem_file) as inf:\n",
    "    header = inf.readline()\n",
    "    for line in inf:\n",
    "        line = line.strip().split('\\t')\n",
    "        chem_id = line.pop(0)\n",
    "        chem_dict[chem_id] = line\n",
    "print(header.strip())\n",
    "list(chem_dict.items())[:2]"
   ]
  },
  {
   "cell_type": "markdown",
   "id": "german-craps",
   "metadata": {},
   "source": [
    "## Combining infos and writing"
   ]
  },
  {
   "cell_type": "code",
   "execution_count": 48,
   "id": "serious-manufacturer",
   "metadata": {},
   "outputs": [
    {
     "name": "stdout",
     "output_type": "stream",
     "text": [
      "Amount of mismatches for combining class and chemical info: 577\n"
     ]
    }
   ],
   "source": [
    "errors = []\n",
    "for chem_id, classes in class_results:\n",
    "    if chem_id in chem_dict:\n",
    "        chem_dict[chem_id].append(classes)\n",
    "    else:\n",
    "        errors.append(chem_id)\n",
    "print('Amount of mismatches for combining class and chemical info:', len(errors))\n",
    "\n",
    "# The missing matches do not have a structure"
   ]
  },
  {
   "cell_type": "code",
   "execution_count": 49,
   "id": "periodic-staff",
   "metadata": {},
   "outputs": [
    {
     "name": "stdout",
     "output_type": "stream",
     "text": [
      "['compound_name', 'class:subclass', 'smiles', 'inchi_key', 'kingdom', 'superclass', 'class', 'subclass', 'direct_parent', 'class_results', 'superclass_results', 'pathway_results', 'isglycoside']\n"
     ]
    }
   ],
   "source": [
    "out_file = os.path.join(out_base, \"All_MIBiG_compounds_with_BGC_CF_NPC_classes.txt\")\n",
    "header_split = header.strip().split('\\t')\n",
    "new_header = header_split[:1] + [\"class:subclass\"] + header_split[1:]\n",
    "print(new_header)\n",
    "with open(out_file, 'w') as outf:\n",
    "    outf.write(\"{}\\n\".format('\\t'.join(new_header)))\n",
    "    for key, vals in chem_dict.items():\n",
    "        classes = vals.pop(-1)\n",
    "        outf.write(\"{}\\t{}\\t{}\\n\".format(key, classes, '\\t'.join(vals)))"
   ]
  }
 ],
 "metadata": {
  "kernelspec": {
   "display_name": "Python 3",
   "language": "python",
   "name": "python3"
  },
  "language_info": {
   "codemirror_mode": {
    "name": "ipython",
    "version": 3
   },
   "file_extension": ".py",
   "mimetype": "text/x-python",
   "name": "python",
   "nbconvert_exporter": "python",
   "pygments_lexer": "ipython3",
   "version": "3.7.2"
  }
 },
 "nbformat": 4,
 "nbformat_minor": 5
}
