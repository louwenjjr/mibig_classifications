{
 "cells": [
  {
   "cell_type": "markdown",
   "id": "perceived-pierce",
   "metadata": {},
   "source": [
    "# Summary\n",
    "In this notebook I gather BGC classes information from mibig jsons. This continues from notebook 2 where I gathered CF and NPC chemical class information."
   ]
  },
  {
   "cell_type": "code",
   "execution_count": 1,
   "id": "circular-indian",
   "metadata": {},
   "outputs": [],
   "source": [
    "import os\n",
    "import urllib\n",
    "import glob\n",
    "import json\n",
    "from rdkit import Chem"
   ]
  },
  {
   "cell_type": "code",
   "execution_count": 2,
   "id": "bridal-thermal",
   "metadata": {},
   "outputs": [
    {
     "name": "stdout",
     "output_type": "stream",
     "text": [
      "mibig_smiles_path exists is True\n"
     ]
    }
   ],
   "source": [
    "mibig_folder = \"/mnt/scratch/louwe015/mibig_json_2.0/\"\n",
    "\n",
    "base_path = \"/mnt/scratch/louwe015/NPLinker/classifying/mibig_classifications/\"\n",
    "mibig_smiles_path = os.path.join(base_path, \"files/All_MIBiG_compounds_with_SMILES_and_PMID_MAS.txt\")\n",
    "print(\"mibig_smiles_path exists is\", os.path.isfile(mibig_smiles_path))"
   ]
  },
  {
   "cell_type": "code",
   "execution_count": 6,
   "id": "integrated-longer",
   "metadata": {},
   "outputs": [
    {
     "name": "stdout",
     "output_type": "stream",
     "text": [
      "/mnt/scratch/louwe015/NPLinker/classifying/All_MIBiG_compounds_with_CF_NPC_classes.txt True\n"
     ]
    }
   ],
   "source": [
    "chem_classes_mibig = os.path.join(os.path.split(base_path[:-1])[0], \"All_MIBiG_compounds_with_CF_NPC_classes.txt\")\n",
    "print(chem_classes_mibig, os.path.isfile(chem_classes_mibig))"
   ]
  },
  {
   "cell_type": "markdown",
   "id": "developmental-dressing",
   "metadata": {},
   "source": [
    "## Which entries are needed from the jsons?\n",
    "Original list from Oscar:\n",
    "\n",
    "['compound_name','biosyn_class','biosyn_subclass',\\\n",
    "    'chem_synonyms','chem_target','molecular_formula','mol_mass',\\\n",
    "    'chem_struct','pubchem_id','chemspider_id','chebi_id','chembl_id',\\\n",
    "    'chem_act','other_chem_act','loci','publications','rdkit_smile_1',\\\n",
    "    'rdkit_smile_2','rdkit_smile_3','rdkit_smile_4','rdkit_inchi_key',\\\n",
    "    'rdkit_inchi_key1']"
   ]
  },
  {
   "cell_type": "code",
   "execution_count": 7,
   "id": "thirty-delta",
   "metadata": {},
   "outputs": [],
   "source": [
    "# as ids take BGC id + '_' + compound name\n",
    "wanted_names = ['compound_name','biosyn_class','biosyn_subclass',\\\n",
    "    'chem_synonyms','chem_target','molecular_formula','mol_mass',\\\n",
    "    'chem_struct','pubchem_id','chemspider_id','chebi_id','chembl_id',\\\n",
    "    'chem_act','other_chem_act','loci','publications']"
   ]
  },
  {
   "cell_type": "code",
   "execution_count": 8,
   "id": "brilliant-gregory",
   "metadata": {},
   "outputs": [],
   "source": [
    "mibig_files = glob.glob(os.path.join(mibig_folder, \"*.json\"))"
   ]
  },
  {
   "cell_type": "code",
   "execution_count": 25,
   "id": "alert-columbus",
   "metadata": {},
   "outputs": [
    {
     "data": {
      "text/plain": [
       "'/mnt/scratch/louwe015/mibig_json_2.0/BGC0001001.json'"
      ]
     },
     "execution_count": 25,
     "metadata": {},
     "output_type": "execute_result"
    }
   ],
   "source": [
    "test = mibig_files[4]\n",
    "test"
   ]
  },
  {
   "cell_type": "code",
   "execution_count": 26,
   "id": "canadian-trick",
   "metadata": {},
   "outputs": [],
   "source": [
    "with open(test) as inf:\n",
    "    test_json = json.load(inf)"
   ]
  },
  {
   "cell_type": "code",
   "execution_count": 32,
   "id": "monetary-italic",
   "metadata": {},
   "outputs": [
    {
     "data": {
      "text/plain": [
       "{'biosyn_class': ['NRP', 'Polyketide'],\n",
       " 'compounds': [{'chem_struct': 'CO\\\\C(CCNC(=O)CC\\\\C=C\\\\C(C)CC\\\\C(CCCC#CBr)=C\\\\Cl)=C\\\\C(=O)N1C(C)C=CC1=O',\n",
       "   'compound': 'jamaicamide A',\n",
       "   'database_id': ['npatlas:13036'],\n",
       "   'mol_mass': 566.1546974120001,\n",
       "   'molecular_formula': 'C27H36BrClN2O4'},\n",
       "  {'chem_acts': ['Sodium channel blocking'],\n",
       "   'chem_struct': 'CO\\\\C(CCNC(=O)CC\\\\C=C\\\\C(C)CC\\\\C(CCCC#C)=C\\\\Cl)=C\\\\C(=O)N1C(C)C=CC1=O',\n",
       "   'chem_targets': [{'target': 'Sodium channel blocking'}],\n",
       "   'compound': 'jamaicamide B',\n",
       "   'database_id': ['npatlas:374', 'pubchem:49787032'],\n",
       "   'mol_mass': 488.244185344,\n",
       "   'molecular_formula': 'C27H37ClN2O4'},\n",
       "  {'chem_struct': 'CO\\\\C(CCNC(=O)CC\\\\C=C\\\\C(C)CC\\\\C(CCCC=C)=C\\\\Cl)=C\\\\C(=O)N1C(C)C=CC1=O',\n",
       "   'chem_targets': [{'target': 'Sodium channel blocking'}],\n",
       "   'compound': 'jamaicamide C',\n",
       "   'database_id': ['npatlas:1111', 'pubchem:49787033'],\n",
       "   'mol_mass': 490.259835408,\n",
       "   'molecular_formula': 'C27H39ClN2O4'}],\n",
       " 'genes': {'annotations': [{'id': 'AAS98794.1',\n",
       "    'name': 'No gene ID',\n",
       "    'product': 'sucrose synthase'},\n",
       "   {'id': 'AAS98795.1',\n",
       "    'name': 'No gene ID',\n",
       "    'product': 'hypothetical protein'},\n",
       "   {'id': 'AAS98796.1',\n",
       "    'name': 'No gene ID',\n",
       "    'product': 'putative transposase'},\n",
       "   {'id': 'AAS98797.1', 'name': 'No gene ID', 'product': 'transposase'},\n",
       "   {'functions': [{'category': 'Activation / processing',\n",
       "      'evidence': ['Activity assay']}],\n",
       "    'id': 'AAS98774.1',\n",
       "    'name': 'jamA',\n",
       "    'product': 'Acyl-ACP Synthetase'},\n",
       "   {'functions': [{'category': 'Precursor biosynthesis',\n",
       "      'evidence': ['Sequence-based prediction']}],\n",
       "    'id': 'AAS98775.1',\n",
       "    'name': 'jamB',\n",
       "    'product': 'Desaturase'},\n",
       "   {'functions': [{'category': 'Activation / processing',\n",
       "      'evidence': ['Activity assay']}],\n",
       "    'id': 'AAS98798.1',\n",
       "    'name': 'jamC',\n",
       "    'product': 'acyl carrier protein'},\n",
       "   {'functions': [{'category': 'Tailoring',\n",
       "      'evidence': ['Sequence-based prediction']}],\n",
       "    'id': 'AAS98776.1',\n",
       "    'name': 'jamD',\n",
       "    'product': 'Putative bromination enzyme',\n",
       "    'tailoring': ['Halogenation']},\n",
       "   {'functions': [{'category': 'Scaffold biosynthesis',\n",
       "      'evidence': ['Sequence-based prediction']}],\n",
       "    'id': 'AAS98777.1',\n",
       "    'name': 'jamE',\n",
       "    'product': 'polyketide synthetase'},\n",
       "   {'functions': [{'category': 'Activation / processing',\n",
       "      'evidence': ['Sequence-based prediction']}],\n",
       "    'id': 'AAS98799.1',\n",
       "    'name': 'jamF',\n",
       "    'product': 'acyl carrier protein'},\n",
       "   {'functions': [{'category': 'Tailoring',\n",
       "      'evidence': ['Sequence-based prediction']}],\n",
       "    'id': 'AAS98778.1',\n",
       "    'name': 'jamG',\n",
       "    'product': 'ketosynthase/decarboxylase',\n",
       "    'tailoring': ['Decarboxylation']},\n",
       "   {'functions': [{'category': 'Tailoring',\n",
       "      'evidence': ['Sequence-based prediction']}],\n",
       "    'id': 'AAS98779.1',\n",
       "    'name': 'jamH',\n",
       "    'product': 'hydroxymethyl glutaryl-ACP synthase like activity',\n",
       "    'tailoring': ['Unknown']},\n",
       "   {'functions': [{'category': 'Tailoring', 'evidence': ['Activity assay']}],\n",
       "    'id': 'AAS98780.1',\n",
       "    'name': 'jamI',\n",
       "    'product': 'enoyl hydratase family',\n",
       "    'tailoring': ['Dehydration']},\n",
       "   {'functions': [{'category': 'Scaffold biosynthesis',\n",
       "      'evidence': ['Activity assay']}],\n",
       "    'id': 'AAS98781.1',\n",
       "    'name': 'jamJ',\n",
       "    'product': 'polyketide synthase'},\n",
       "   {'functions': [{'category': 'Scaffold biosynthesis',\n",
       "      'evidence': ['Sequence-based prediction']}],\n",
       "    'id': 'AAS98782.1',\n",
       "    'name': 'jamK',\n",
       "    'product': 'polyketide synthase'},\n",
       "   {'functions': [{'category': 'Scaffold biosynthesis',\n",
       "      'evidence': ['Sequence-based prediction']}],\n",
       "    'id': 'AAS98783.1',\n",
       "    'name': 'jamL',\n",
       "    'product': 'polyketide synthase/nonribosomal peptide synthase hybrid'},\n",
       "   {'functions': [{'category': 'Scaffold biosynthesis',\n",
       "      'evidence': ['Sequence-based prediction']}],\n",
       "    'id': 'AAS98784.1',\n",
       "    'name': 'jamM',\n",
       "    'product': 'polyketide synthase'},\n",
       "   {'functions': [{'category': 'Scaffold biosynthesis',\n",
       "      'evidence': ['Sequence-based prediction']}],\n",
       "    'id': 'AAS98785.1',\n",
       "    'name': 'jamN',\n",
       "    'product': 'polyketide synthase'},\n",
       "   {'functions': [{'category': 'Scaffold biosynthesis',\n",
       "      'evidence': ['Activity assay']}],\n",
       "    'id': 'AAS98786.1',\n",
       "    'name': 'jamO',\n",
       "    'product': 'nonribosomal peptide synthetase'},\n",
       "   {'functions': [{'category': 'Scaffold biosynthesis',\n",
       "      'evidence': ['Sequence-based prediction']}],\n",
       "    'id': 'AAS98787.1',\n",
       "    'name': 'jamP',\n",
       "    'product': 'polyketide synthase/thioesterase'},\n",
       "   {'functions': [{'category': 'Tailoring',\n",
       "      'evidence': ['Sequence-based prediction']}],\n",
       "    'id': 'AAS98788.1',\n",
       "    'name': 'jamQ',\n",
       "    'product': 'cyclization enzyme',\n",
       "    'tailoring': ['Heterocyclization']},\n",
       "   {'id': 'AAS98789.1',\n",
       "    'name': 'No gene ID',\n",
       "    'product': 'hypothetical protein'},\n",
       "   {'id': 'AAS98790.1',\n",
       "    'name': 'No gene ID',\n",
       "    'product': 'putative transposase'},\n",
       "   {'id': 'AAS98792.1',\n",
       "    'name': 'No gene ID',\n",
       "    'product': 'hypothetical protein'},\n",
       "   {'id': 'AAS98791.1',\n",
       "    'name': 'No gene ID',\n",
       "    'product': 'choloylglycine hydrolase-like protein'},\n",
       "   {'id': 'AAS98793.1',\n",
       "    'name': 'No gene ID',\n",
       "    'product': 'hypothetical protein'}]},\n",
       " 'loci': {'accession': 'AY522504.1',\n",
       "  'completeness': 'complete',\n",
       "  'evidence': ['Sequence-based prediction']},\n",
       " 'mibig_accession': 'BGC0001001',\n",
       " 'minimal': False,\n",
       " 'ncbi_tax_id': '158786',\n",
       " 'nrp': {'cyclic': True},\n",
       " 'organism_name': 'Lyngbya majuscula',\n",
       " 'polyketide': {'cyclic': True,\n",
       "  'release_type': ['Macrolactamization'],\n",
       "  'subclasses': ['Other']},\n",
       " 'publications': ['pubmed:21393570',\n",
       "  'pubmed:19951434',\n",
       "  'pubmed:19494914',\n",
       "  'pubmed:16460000']}"
      ]
     },
     "execution_count": 32,
     "metadata": {},
     "output_type": "execute_result"
    }
   ],
   "source": [
    "test_json[\"cluster\"]"
   ]
  },
  {
   "cell_type": "markdown",
   "id": "polished-single",
   "metadata": {},
   "source": [
    "## Investigate subclasses"
   ]
  },
  {
   "cell_type": "code",
   "execution_count": 44,
   "id": "musical-footwear",
   "metadata": {},
   "outputs": [],
   "source": [
    "all_class_info = []\n",
    "for mibig_file in mibig_files:\n",
    "    with open(mibig_file) as inf:\n",
    "        mibig_js = json.load(inf)\n",
    "    class_list = mibig_js[\"cluster\"].get(\"biosyn_class\")\n",
    "    if class_list:\n",
    "        for elem in class_list:\n",
    "            low_elem = elem.lower()\n",
    "            class_dict = mibig_js[\"cluster\"].get(low_elem)\n",
    "            if class_dict:\n",
    "                all_class_info.append(class_dict)"
   ]
  },
  {
   "cell_type": "code",
   "execution_count": 48,
   "id": "patent-tragedy",
   "metadata": {},
   "outputs": [
    {
     "name": "stdout",
     "output_type": "stream",
     "text": [
      "759\n",
      "363\n",
      "236\n"
     ]
    }
   ],
   "source": [
    "print(len(all_class_info))\n",
    "print(len([dct[\"subclass\"] for dct in all_class_info if \"subclass\" in dct]))\n",
    "print(len([dct[\"subclasses\"] for dct in all_class_info if \"subclasses\" in dct]))"
   ]
  }
 ],
 "metadata": {
  "kernelspec": {
   "display_name": "Python 3",
   "language": "python",
   "name": "python3"
  },
  "language_info": {
   "codemirror_mode": {
    "name": "ipython",
    "version": 3
   },
   "file_extension": ".py",
   "mimetype": "text/x-python",
   "name": "python",
   "nbconvert_exporter": "python",
   "pygments_lexer": "ipython3",
   "version": "3.7.2"
  }
 },
 "nbformat": 4,
 "nbformat_minor": 5
}
