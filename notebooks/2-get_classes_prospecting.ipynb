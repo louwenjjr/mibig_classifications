{
 "cells": [
  {
   "cell_type": "markdown",
   "id": "sealed-tours",
   "metadata": {},
   "source": [
    "# Summary\n",
    "In this notebook I am prospecting how to gather chemical and bgc classes from mibigs. This is inspired by ClassifyNPDB.\n",
    "\n",
    "I will try to use the gnps classyfire api and see how many chemical classifications that results in, so the need for pyclassyfire is obsolete."
   ]
  },
  {
   "cell_type": "code",
   "execution_count": 1,
   "id": "faced-correspondence",
   "metadata": {},
   "outputs": [],
   "source": [
    "import os\n",
    "import urllib\n",
    "import glob\n",
    "import json\n",
    "from typing import Dict, List\n",
    "from rdkit import Chem"
   ]
  },
  {
   "cell_type": "code",
   "execution_count": 2,
   "id": "recorded-temperature",
   "metadata": {},
   "outputs": [
    {
     "name": "stdout",
     "output_type": "stream",
     "text": [
      "mibig_smiles_path exists is True\n"
     ]
    }
   ],
   "source": [
    "mibig_folder = \"/mnt/scratch/louwe015/mibig_json_2.0/\"\n",
    "\n",
    "base_path = \"/mnt/scratch/louwe015/NPLinker/classifying/mibig_classifications/\"\n",
    "mibig_smiles_path = os.path.join(base_path, \"files/All_MIBiG_compounds_with_SMILES_and_PMID_MAS.txt\")\n",
    "print(\"mibig_smiles_path exists is\", os.path.isfile(mibig_smiles_path))"
   ]
  },
  {
   "cell_type": "markdown",
   "id": "incoming-validation",
   "metadata": {},
   "source": [
    "## Read in mibig smiles"
   ]
  },
  {
   "cell_type": "code",
   "execution_count": 16,
   "id": "scientific-tiger",
   "metadata": {},
   "outputs": [],
   "source": [
    "def load_mibig_smiles(in_file: str) -> Dict[str, str]:\n",
    "    \"\"\"Load mibig smiles from file (tsv) and return {BGCid_Compound: smiles}\n",
    "    \"\"\"\n",
    "    compound_dict = {}\n",
    "    lines = 0\n",
    "    with open(in_file, 'r') as inf:\n",
    "        inf.readline() #ignore header\n",
    "        for line in inf:\n",
    "            lines +=1 \n",
    "            line = line.split('\\t')\n",
    "            compound_id = line[0]+\"_\"+line[1]\n",
    "            structure = line[2]\n",
    "            if compound_id in compound_dict:\n",
    "                raise ValueError(\"Duplication in mibig smiles file, please check file\")\n",
    "            if len(structure) > 0:\n",
    "                compound_dict[compound_id] = structure\n",
    "    print(f\"Done. Read {lines} lines\")\n",
    "    return compound_dict"
   ]
  },
  {
   "cell_type": "code",
   "execution_count": 17,
   "id": "alternative-exhibition",
   "metadata": {},
   "outputs": [
    {
     "name": "stdout",
     "output_type": "stream",
     "text": [
      "Done. Read 2689 lines\n"
     ]
    }
   ],
   "source": [
    "comp_dict = load_mibig_smiles(mibig_smiles_path)"
   ]
  },
  {
   "cell_type": "code",
   "execution_count": 18,
   "id": "allied-supervisor",
   "metadata": {},
   "outputs": [
    {
     "data": {
      "text/plain": [
       "[('BGC0000001_abyssomicin C',\n",
       "  'CC1C[C@]23OC(=O)C4=C2OC1C(O)C3\\\\C=C/C(=O)[C@@H](C)C[C@@H](C)C4=O'),\n",
       " ('BGC0000001_atrop-abyssomicin C',\n",
       "  'CC1CC23OC(=O)C4=C2OC1C(O)C3\\\\C=C/C(=O)C(C)CC(C)C4=O'),\n",
       " ('BGC0000002_aculeximycin',\n",
       "  'CCCC(O[C@H]1C[C@](C)(N)[C@H](O)[C@H](C)O1)C(C)C(O)C(CC)\\\\C=C\\\\C(O)C(C)C1C\\\\C=C(C)\\\\C(O)C(C)C(CC(O)C(C)C(O)CC2CC(O)C(O)C(O)(CC(O[C@@H]3O[C@H](C)[C@@H](O)[C@H](O[C@H]4C[C@@H](N)[C@H](O)[C@@H](C)O4)[C@H]3O[C@@H]3O[C@H](C)[C@@H](O)[C@H](O)[C@H]3O)C(C)CCC(O)CC(O)C\\\\C=C(CC)\\\\C(=O)O1)O2)O[C@@H]1O[C@H](CO)[C@@H](O)[C@H](O)[C@@H]1O'),\n",
       " ('BGC0000003_AF-toxin',\n",
       "  'CCC(C)C(C(=O)OC(/C=C/C=C/C=C/C(=O)O)C1(CO1)C)OC(=O)C(C(C)(C)O)O'),\n",
       " ('BGC0000004_aflatoxin G1',\n",
       "  '[H][C@@]12OC=C[C@]1([H])C1=C(O2)C=C(OC)C2=C1OC(=O)C1=C2CCOC1=O')]"
      ]
     },
     "execution_count": 18,
     "metadata": {},
     "output_type": "execute_result"
    }
   ],
   "source": [
    "list(comp_dict.items())[:5]"
   ]
  },
  {
   "cell_type": "code",
   "execution_count": 19,
   "id": "underlying-finance",
   "metadata": {},
   "outputs": [
    {
     "data": {
      "text/plain": [
       "2112"
      ]
     },
     "execution_count": 19,
     "metadata": {},
     "output_type": "execute_result"
    }
   ],
   "source": [
    "len(comp_dict)"
   ]
  },
  {
   "cell_type": "markdown",
   "id": "still-arthritis",
   "metadata": {},
   "source": [
    "## Use GNPS api to get ClassyFire results from smiles\n",
    "- Try to get it from smiles\n",
    "- If result is empty; convert to inchikey through gnps as well\n",
    "- get CF result from inchikey\n",
    "\n",
    "\n",
    "### First try just using smiles"
   ]
  },
  {
   "cell_type": "code",
   "execution_count": 51,
   "id": "occasional-angel",
   "metadata": {},
   "outputs": [
    {
     "name": "stdout",
     "output_type": "stream",
     "text": [
      "Gathered 1766 results, missing 346 results\n"
     ]
    }
   ],
   "source": [
    "# just trying with smiles\n",
    "\n",
    "result_list = []\n",
    "for i, (np, smiles) in enumerate(comp_dict.items()):\n",
    "    url_base = \"https://gnps-structure.ucsd.edu/classyfire?smiles=\"\n",
    "    smiles = smiles.strip(' ')\n",
    "    safe_smiles = urllib.parse.quote(smiles)  # url encoding\n",
    "    url = url_base + safe_smiles\n",
    "    try:\n",
    "        with urllib.request.urlopen(url) as inf:\n",
    "            smiles_result = inf.read()\n",
    "    except urllib.error.HTTPError:\n",
    "        # apparently the smiles request failed\n",
    "        smiles_result = None\n",
    "        superclass = None  # remove later when directing to inchikey\n",
    "\n",
    "    if smiles_result is not None:\n",
    "        cf_json = json.loads(smiles_result)  # make a function that gathers result from json, no matter the source\n",
    "        superclass_dict = cf_json.get(\"superclass\", None)\n",
    "        superclass = None\n",
    "        if superclass_dict:\n",
    "            superclass = superclass_dict.get(\"name\", None)\n",
    "        \n",
    "    result_list.append(superclass)\n",
    "\n",
    "missing_res_num = len([elem for elem in result_list if elem is None])\n",
    "print(f\"Gathered {len(result_list)-missing_res_num} results, missing {missing_res_num} results\")"
   ]
  },
  {
   "cell_type": "markdown",
   "id": "cellular-declaration",
   "metadata": {},
   "source": [
    "### First lookup smiles, then try via lookup of inchikey\n",
    "apparently this doesn't work."
   ]
  },
  {
   "cell_type": "code",
   "execution_count": 64,
   "id": "foster-employee",
   "metadata": {},
   "outputs": [
    {
     "name": "stdout",
     "output_type": "stream",
     "text": [
      "Gathered 1766 results, missing 346 results\n"
     ]
    }
   ],
   "source": [
    "result_list = []\n",
    "for i, (np, smiles) in enumerate(comp_dict.items()):\n",
    "    superclass = None\n",
    "    \n",
    "    # lookup CF with smiles\n",
    "    url_base = \"https://gnps-structure.ucsd.edu/classyfire?smiles=\"\n",
    "    smiles = smiles.strip(' ')\n",
    "    safe_smiles = urllib.parse.quote(smiles)  # url encoding\n",
    "    url = url_base + safe_smiles\n",
    "    try:\n",
    "        with urllib.request.urlopen(url) as inf:\n",
    "            smiles_result = inf.read()\n",
    "    except urllib.error.HTTPError:\n",
    "        # apparently the smiles request failed\n",
    "        smiles_result = None\n",
    "    \n",
    "    # read CF result\n",
    "    if smiles_result is not None:\n",
    "        cf_json = json.loads(smiles_result)  # make a function that gathers result from json, no matter the source\n",
    "        superclass_dict = cf_json.get(\"superclass\", None)\n",
    "        if superclass_dict:\n",
    "            superclass = superclass_dict.get(\"name\", None)\n",
    "    \n",
    "    \n",
    "    if superclass is None:\n",
    "        # lookup inchikey from smiles\n",
    "        url_base = \"https://gnps-structure.ucsd.edu/inchikey?smiles=\"\n",
    "        url = url_base + safe_smiles\n",
    "        try:\n",
    "            with urllib.request.urlopen(url) as inf:\n",
    "                inchi_result = str(inf.read(), 'utf-8')\n",
    "#                 print(inchi_result)\n",
    "        except urllib.error.HTTPError:\n",
    "            # apparently the inchi request failed\n",
    "            inchi_result = None\n",
    "        \n",
    "        # do CF lookup with inchikey\n",
    "        if inchi_result is not None:\n",
    "            url = f\"https://gnps-classyfire.ucsd.edu/entities/{inchi_result}.json\"\n",
    "#             print(url)\n",
    "            try:\n",
    "                with urllib.request.urlopen(url) as inf:\n",
    "                    inchi_cf_result = inf.read()\n",
    "            except urllib.error.HTTPError:\n",
    "                # apparently the inchi request failed\n",
    "                inchi_cf_result = None\n",
    "            \n",
    "            # read CF result from inchikey lookup\n",
    "            if inchi_cf_result is not None:\n",
    "                cf_json = json.loads(inchi_cf_result)  # make a function that gathers result from json, no matter the source\n",
    "                superclass_dict = cf_json.get(\"superclass\", None)\n",
    "                if superclass_dict:\n",
    "                    superclass = superclass_dict.get(\"name\", None)\n",
    "\n",
    "    result_list.append(superclass)\n",
    "\n",
    "missing_res_num = len([elem for elem in result_list if elem is None])\n",
    "print(f\"Gathered {len(result_list)-missing_res_num} results, missing {missing_res_num} results\")"
   ]
  },
  {
   "cell_type": "markdown",
   "id": "further-ukraine",
   "metadata": {},
   "source": [
    "### Try also getting inchikey from rdkit"
   ]
  },
  {
   "cell_type": "code",
   "execution_count": 10,
   "id": "instant-rough",
   "metadata": {},
   "outputs": [
    {
     "name": "stderr",
     "output_type": "stream",
     "text": [
      "RDKit WARNING: [16:47:06] Conflicting single bond directions around double bond at index 26.\n",
      "RDKit WARNING: [16:47:06]   BondStereo set to STEREONONE and single bond directions set to NONE.\n",
      "RDKit ERROR: [16:50:52] Invalid InChI prefix in generating InChI Key\n"
     ]
    },
    {
     "name": "stdout",
     "output_type": "stream",
     "text": [
      "Gathered 1857 results, missing 255 results\n"
     ]
    }
   ],
   "source": [
    "from rdkit import Chem\n",
    "\n",
    "result_list = []\n",
    "for i, (np, smiles) in enumerate(comp_dict.items()):\n",
    "    superclass = None\n",
    "    \n",
    "    # lookup CF with smiles\n",
    "    url_base = \"https://gnps-structure.ucsd.edu/classyfire?smiles=\"\n",
    "    smiles = smiles.strip(' ')\n",
    "    safe_smiles = urllib.parse.quote(smiles)  # url encoding\n",
    "    url = url_base + safe_smiles\n",
    "    try:\n",
    "        with urllib.request.urlopen(url) as inf:\n",
    "            smiles_result = inf.read()\n",
    "    except urllib.error.HTTPError:\n",
    "        # apparently the smiles request failed\n",
    "        smiles_result = None\n",
    "    \n",
    "    # read CF result\n",
    "    if smiles_result is not None:\n",
    "        cf_json = json.loads(smiles_result)  # make a function that gathers result from json, no matter the source\n",
    "        superclass_dict = cf_json.get(\"superclass\", None)\n",
    "        if superclass_dict:\n",
    "            superclass = superclass_dict.get(\"name\", None)\n",
    "    \n",
    "    if superclass is None:\n",
    "        # do a second try with inchikey from rdkit\n",
    "        m = Chem.MolFromSmiles(smiles)\n",
    "        rdkit_smiles = Chem.MolToSmiles(m, kekuleSmiles=False,isomericSmiles=False)\n",
    "        m = Chem.MolFromSmiles(rdkit_smiles)\n",
    "        rdkit_inchi = Chem.inchi.MolToInchiKey(m)\n",
    "        url = f\"https://gnps-classyfire.ucsd.edu/entities/{rdkit_inchi}.json\"\n",
    "        try:\n",
    "            with urllib.request.urlopen(url) as inf:\n",
    "                rdkit_inchi_cf_result = inf.read()\n",
    "        except urllib.error.HTTPError:\n",
    "            # apparently the inchi request failed\n",
    "            rdkit_inchi_cf_result = None\n",
    "\n",
    "        # read CF result from inchikey lookup\n",
    "        if rdkit_inchi_cf_result is not None:\n",
    "            cf_json = json.loads(rdkit_inchi_cf_result)  # make a function that gathers result from json, no matter the source\n",
    "            superclass_dict = cf_json.get(\"superclass\", None)\n",
    "            if superclass_dict:\n",
    "                superclass = superclass_dict.get(\"name\", None)\n",
    "\n",
    "    result_list.append(superclass)\n",
    "\n",
    "missing_res_num = len([elem for elem in result_list if elem is None])\n",
    "print(f\"Gathered {len(result_list)-missing_res_num} results, missing {missing_res_num} results\")"
   ]
  },
  {
   "cell_type": "markdown",
   "id": "induced-sight",
   "metadata": {},
   "source": [
    "## Make some functions\n",
    "- do_url_request(url: str) -> [bytes, None]\n",
    "- get_json_cf_results(raw_json: bytes, wanted_info_list: List[str]) -> List[str]\n",
    "- get inchikey from rdkit\n",
    "- get_json_npc_results get NPClassifier info from gnps website\n",
    "- master func"
   ]
  },
  {
   "cell_type": "code",
   "execution_count": 6,
   "id": "competitive-seeking",
   "metadata": {},
   "outputs": [],
   "source": [
    "def do_url_request(url: str) -> [bytes, None]:\n",
    "    \"\"\"Do url request and return opened .read() object or None if HTTPError is raised\n",
    "    \n",
    "    Parameters\n",
    "    ----------\n",
    "    url:\n",
    "        Url to access\n",
    "    \"\"\"\n",
    "    try:\n",
    "        with urllib.request.urlopen(url) as inf:\n",
    "            result = inf.read()\n",
    "    except urllib.error.HTTPError:\n",
    "        # apparently the request failed\n",
    "        result = None\n",
    "    return result\n",
    "\n",
    "def get_json_cf_results(raw_json: bytes, wanted_keys_list_name: List[str] = [\"superclass\"]) -> List[str]:\n",
    "    \"\"\"Read bytes version of json str, extract the keys in wanted_keys_list_name in order\n",
    "    \n",
    "    Parameters\n",
    "    ----------\n",
    "    raw_json:\n",
    "        Json str as a bytes object containing ClassyFire information\n",
    "    wanted_keys_list_name:\n",
    "        Keys to extract from the json, they all have a 'name' value in the json\n",
    "    \"\"\"\n",
    "    wanted_info = []\n",
    "    cf_json = json.loads(raw_json)\n",
    "    for key in wanted_keys_list_name:\n",
    "        info_dict = cf_json.get(key, \"\")\n",
    "        info = \"\"\n",
    "        if info_dict:\n",
    "            info = info_dict.get('name', \"\")\n",
    "        wanted_info.append(info)\n",
    "    \n",
    "    return wanted_info\n",
    "\n",
    "def inchikey_from_smiles_rdkit(smiles: str) -> str:\n",
    "    \"\"\"Use rdkit to go from smiles to inchikey\n",
    "    \n",
    "    Parameters\n",
    "    ----------\n",
    "    smiles:\n",
    "        Smiles to be turned into inchikey\n",
    "    \"\"\"\n",
    "    m = Chem.MolFromSmiles(smiles)\n",
    "    smiles = Chem.MolToSmiles(m, kekuleSmiles=False,isomericSmiles=False)\n",
    "    m = Chem.MolFromSmiles(smiles)\n",
    "    inchikey = Chem.inchi.MolToInchiKey(m)\n",
    "    return inchikey\n",
    "\n",
    "def get_json_npc_results(raw_json: bytes) -> List[str]:\n",
    "    \"\"\"Read bytes version of json str, extract the keys in order\n",
    "    \n",
    "    Names of the keys extracted in order are:\n",
    "    class_results, superclass_results, pathway_results, isglycoside.\n",
    "    List elements are concatonated with '; '.\n",
    "\n",
    "    Parameters\n",
    "    ----------\n",
    "    raw_json:\n",
    "        Json str as a bytes object containing NPClassifier information\n",
    "    \"\"\"\n",
    "    wanted_info = []\n",
    "    cf_json = json.loads(raw_json)\n",
    "    wanted_keys_list = [\"class_results\", \"superclass_results\", \"pathway_results\"]\n",
    "    last_key = \"isglycoside\"  # this one returns a bool not a list like the others\n",
    "\n",
    "    for key in wanted_keys_list:\n",
    "        info_list = cf_json.get(key, \"\")\n",
    "        info = \"\"\n",
    "        if info_list:\n",
    "            info = \"; \".join(info_list)\n",
    "        wanted_info.append(info)\n",
    "\n",
    "    last_info_bool = cf_json.get(last_key, \"\")\n",
    "    last_info = \"0\"\n",
    "    if last_info_bool:\n",
    "        last_info = \"1\"\n",
    "    wanted_info.append(last_info)\n",
    "    \n",
    "    return wanted_info"
   ]
  },
  {
   "cell_type": "code",
   "execution_count": 7,
   "id": "clear-motivation",
   "metadata": {},
   "outputs": [],
   "source": [
    "wanted_columns_name = ['kingdom', 'superclass', 'class', 'subclass', 'direct_parent']\n",
    "# ['cf_intermediate_0','cf_intermediate_1',\\\n",
    "#     'cf_intermediate_2','cf_intermediate_3','cf_intermediate_4',\\\n",
    "#     'cf_intermediate_5','cf_molecular_framework','cf_alternative_parents',\\\n",
    "#     'cf_substituents', 'cf_description']\n",
    "\n",
    "npc_columns_name = [\"class_results\", \"superclass_results\", \"pathway_results\", \"isglycoside\"]"
   ]
  },
  {
   "cell_type": "code",
   "execution_count": 11,
   "id": "bizarre-poultry",
   "metadata": {},
   "outputs": [
    {
     "name": "stderr",
     "output_type": "stream",
     "text": [
      "RDKit WARNING: [10:48:49] Conflicting single bond directions around double bond at index 26.\n",
      "RDKit WARNING: [10:48:49]   BondStereo set to STEREONONE and single bond directions set to NONE.\n",
      "RDKit ERROR: [10:57:17] Invalid InChI prefix in generating InChI Key\n",
      "RDKit WARNING: [11:09:44] WARNING: not removing hydrogen atom without neighbors\n",
      "RDKit WARNING: [11:09:44] WARNING: not removing hydrogen atom without neighbors\n",
      "RDKit WARNING: [11:09:44] WARNING: not removing hydrogen atom without neighbors\n",
      "RDKit WARNING: [11:09:44] WARNING: not removing hydrogen atom without neighbors\n",
      "RDKit WARNING: [11:09:44] WARNING: not removing hydrogen atom without neighbors\n",
      "RDKit WARNING: [11:09:44] WARNING: not removing hydrogen atom without neighbors\n",
      "RDKit WARNING: [11:09:44] WARNING: not removing hydrogen atom without neighbors\n",
      "RDKit WARNING: [11:09:44] WARNING: not removing hydrogen atom without neighbors\n",
      "RDKit WARNING: [11:09:46] WARNING: not removing hydrogen atom without neighbors\n",
      "RDKit WARNING: [11:09:46] WARNING: not removing hydrogen atom without neighbors\n",
      "RDKit WARNING: [11:09:46] WARNING: not removing hydrogen atom without neighbors\n",
      "RDKit WARNING: [11:09:46] WARNING: not removing hydrogen atom without neighbors\n",
      "RDKit WARNING: [11:09:46] WARNING: not removing hydrogen atom without neighbors\n",
      "RDKit WARNING: [11:09:46] WARNING: not removing hydrogen atom without neighbors\n",
      "RDKit WARNING: [11:09:46] WARNING: not removing hydrogen atom without neighbors\n",
      "RDKit WARNING: [11:09:46] WARNING: not removing hydrogen atom without neighbors\n"
     ]
    },
    {
     "name": "stdout",
     "output_type": "stream",
     "text": [
      "Retrieved 1859 ClassyFire classes, missing 253\n",
      "Retrieved 1910 NPClassifier superclasses, missing 202\n"
     ]
    }
   ],
   "source": [
    "classes_dict = {}\n",
    "missed_cfs = 0\n",
    "missed_npcs = 0\n",
    "for i, (np, smiles) in enumerate(comp_dict.items()):\n",
    "    result = None\n",
    "    npc_result = None\n",
    "    smiles = smiles.strip(' ')\n",
    "    rdkit_inchi = inchikey_from_smiles_rdkit(smiles)\n",
    "\n",
    "    # lookup CF with smiles\n",
    "    url_base = \"https://gnps-structure.ucsd.edu/classyfire?smiles=\"\n",
    "    safe_smiles = urllib.parse.quote(smiles)  # url encoding\n",
    "    url_smiles = url_base + safe_smiles\n",
    "    smiles_result = do_url_request(url_smiles)\n",
    "    \n",
    "    # read CF result\n",
    "    if smiles_result is not None:\n",
    "        result = get_json_cf_results(smiles_result, wanted_columns_name)\n",
    "    \n",
    "    if not result:\n",
    "        # do a second try with inchikey from rdkit\n",
    "        url_inchi = f\"https://gnps-classyfire.ucsd.edu/entities/{rdkit_inchi}.json\"\n",
    "        rdkit_inchi_result = do_url_request(url_inchi)\n",
    "\n",
    "        # read CF result from inchikey lookup\n",
    "        if rdkit_inchi_result is not None:\n",
    "            result = get_json_cf_results(rdkit_inchi_result, wanted_columns_name)\n",
    "\n",
    "    if not result:\n",
    "        missed_cfs += 1\n",
    "        result = ['' for _ in range(len(wanted_columns_name))]\n",
    "    \n",
    "    # lookup NPClassifier with smiles\n",
    "    url_base_npc = \"https://npclassifier.ucsd.edu/classify?smiles=\"\n",
    "    url_smiles_npc = url_base_npc + safe_smiles\n",
    "    smiles_result_npc = do_url_request(url_smiles_npc)\n",
    "    \n",
    "    # read NPC result\n",
    "    if smiles_result_npc is not None:\n",
    "        npc_result = get_json_npc_results(smiles_result_npc)\n",
    "    \n",
    "    if not npc_result:\n",
    "        npc_result = ['' for _ in range(len(npc_columns_name))]\n",
    "    if not npc_result[1]:  # superclass, im assuming this one occurs the most if others are possibly missing\n",
    "        missed_npcs += 1\n",
    "    \n",
    "    # combine results\n",
    "    combined_result = [smiles, rdkit_inchi] + result + npc_result\n",
    "    classes_dict[np] = combined_result\n",
    "    \n",
    "    assert len(combined_result) == 2+len(wanted_columns_name)+len(npc_columns_name)\n",
    "\n",
    "print(f\"Retrieved {len(classes_dict)-missed_cfs} ClassyFire classes, missing {missed_cfs}\")\n",
    "print(f\"Retrieved {len(classes_dict)-missed_npcs} NPClassifier superclasses, missing {missed_npcs}\")"
   ]
  },
  {
   "cell_type": "code",
   "execution_count": 12,
   "id": "checked-biodiversity",
   "metadata": {},
   "outputs": [
    {
     "data": {
      "text/plain": [
       "['CC1C[C@]23OC(=O)C4=C2OC1C(O)C3\\\\C=C/C(=O)[C@@H](C)C[C@@H](C)C4=O',\n",
       " 'FNEADFUPWHAVTA-UHFFFAOYSA-N',\n",
       " 'Organic compounds',\n",
       " 'Organoheterocyclic compounds',\n",
       " 'Oxanes',\n",
       " '',\n",
       " 'Oxanes',\n",
       " 'Spirotetronate macrolides',\n",
       " 'Macrolides',\n",
       " 'Polyketides',\n",
       " '0']"
      ]
     },
     "execution_count": 12,
     "metadata": {},
     "output_type": "execute_result"
    }
   ],
   "source": [
    "classes_dict['BGC0000001_abyssomicin C']"
   ]
  },
  {
   "cell_type": "code",
   "execution_count": 13,
   "id": "rental-thumbnail",
   "metadata": {},
   "outputs": [
    {
     "name": "stdout",
     "output_type": "stream",
     "text": [
      "['compound_name', 'smiles', 'inchi_key', 'kingdom', 'superclass', 'class', 'subclass', 'direct_parent', 'class_results', 'superclass_results', 'pathway_results', 'isglycoside']\n"
     ]
    }
   ],
   "source": [
    "header = ['compound_name', \"smiles\", \"inchi_key\"] + wanted_columns_name + npc_columns_name\n",
    "print(header)"
   ]
  },
  {
   "cell_type": "code",
   "execution_count": 14,
   "id": "healthy-rebound",
   "metadata": {},
   "outputs": [
    {
     "name": "stdout",
     "output_type": "stream",
     "text": [
      "/mnt/scratch/louwe015/NPLinker/classifying/All_MIBiG_compounds_with_CF_NPC_classes.txt\n"
     ]
    }
   ],
   "source": [
    "out_base = os.path.split(base_path[:-1])[0]\n",
    "out_file = os.path.join(out_base, \"All_MIBiG_compounds_with_CF_NPC_classes.txt\")\n",
    "print(out_file)\n",
    "with open(out_file, 'w') as outf:\n",
    "    outf.write(\"{}\\n\".format('\\t'.join(header)))\n",
    "    for name, vals in classes_dict.items():\n",
    "        outf.write(\"{}\\t{}\\n\".format(name, '\\t'.join(vals)))"
   ]
  }
 ],
 "metadata": {
  "kernelspec": {
   "display_name": "Python 3",
   "language": "python",
   "name": "python3"
  },
  "language_info": {
   "codemirror_mode": {
    "name": "ipython",
    "version": 3
   },
   "file_extension": ".py",
   "mimetype": "text/x-python",
   "name": "python",
   "nbconvert_exporter": "python",
   "pygments_lexer": "ipython3",
   "version": "3.7.2"
  }
 },
 "nbformat": 4,
 "nbformat_minor": 5
}
