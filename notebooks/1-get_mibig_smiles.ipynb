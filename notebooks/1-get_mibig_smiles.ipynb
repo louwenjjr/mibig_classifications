{
 "cells": [
  {
   "cell_type": "markdown",
   "id": "facial-miami",
   "metadata": {},
   "source": [
    "# Summary\n",
    "This notebook extracts smiles from a directory of mibig jsons.\n",
    "\n",
    "I used my spec_analysis environment for this. (see https://github.com/louwenjjr/ms2_mass_differences)"
   ]
  },
  {
   "cell_type": "code",
   "execution_count": 1,
   "id": "necessary-chest",
   "metadata": {},
   "outputs": [],
   "source": [
    "import glob\n",
    "import os\n",
    "import json\n",
    "\n",
    "\n",
    "mibig_folder = \"/mnt/scratch/louwe015/mibig_json_2.0/\""
   ]
  },
  {
   "cell_type": "code",
   "execution_count": 2,
   "id": "regulated-dallas",
   "metadata": {},
   "outputs": [],
   "source": [
    "mibig_files = glob.glob(os.path.join(mibig_folder, \"*.json\"))"
   ]
  },
  {
   "cell_type": "code",
   "execution_count": 3,
   "id": "detailed-chile",
   "metadata": {},
   "outputs": [
    {
     "data": {
      "text/plain": [
       "('/mnt/scratch/louwe015/mibig_json_2.0/BGC0000020.json', True)"
      ]
     },
     "execution_count": 3,
     "metadata": {},
     "output_type": "execute_result"
    }
   ],
   "source": [
    "bgc_json = mibig_files[0]\n",
    "bgc_json, os.path.isfile(bgc_json)"
   ]
  },
  {
   "cell_type": "code",
   "execution_count": 4,
   "id": "competent-january",
   "metadata": {},
   "outputs": [
    {
     "data": {
      "text/plain": [
       "{'changelog': [{'comments': ['Submitted'],\n",
       "   'contributors': ['AAAAAAAAAAAAAAAAAAAAAAAA'],\n",
       "   'version': '1.0'},\n",
       "  {'comments': ['Migrated from v1.4',\n",
       "    'Updated compound(s) information (NPAtlas curation)'],\n",
       "   'contributors': ['AAAAAAAAAAAAAAAAAAAAAAAA'],\n",
       "   'version': '2.0'}],\n",
       " 'cluster': {'biosyn_class': ['Polyketide'],\n",
       "  'compounds': [{'chem_struct': 'C[C@@H]1[C@@H]2C[C@]([C@@H](/C=C/C=C(/CC3=CC(=C(C(=C3)OC)Cl)N(C(=O)C[C@@H]([C@]4([C@H]1O4)C)OC(=O)[C@H](C)N(C)C(=O)C)C)\\\\C)OC)(NC(=O)O2)O',\n",
       "    'compound': 'maytansine',\n",
       "    'database_id': ['pubchem:5281828'],\n",
       "    'mol_mass': 691.2871723520001,\n",
       "    'molecular_formula': 'C34H46ClN3O10'},\n",
       "   {'chem_struct': 'C[C@@H]1[C@@H]2C[C@]([C@@H](/C=C/C=C(/CC3=CC(=C(C(=C3)OC)Cl)N(C(=O)C[C@@H]([C@]4([C@H]1O4)C)OC(=O)C(C)C)C)\\\\C)OC)(NC(=O)O2)O',\n",
       "    'compound': 'ansamitocin P-3',\n",
       "    'mol_mass': 634.2657086359999,\n",
       "    'molecular_formula': 'C32H43ClN2O9'}],\n",
       "  'loci': {'accession': 'AF453501.1', 'completeness': 'Unknown'},\n",
       "  'mibig_accession': 'BGC0000020',\n",
       "  'minimal': True,\n",
       "  'ncbi_tax_id': '42198',\n",
       "  'organism_name': 'Actinosynnema pretiosum subsp. auranticum',\n",
       "  'publications': ['pubmed:12060743']}}"
      ]
     },
     "execution_count": 4,
     "metadata": {},
     "output_type": "execute_result"
    }
   ],
   "source": [
    "with open(bgc_json, 'r') as inf:\n",
    "    bgc_dict = json.load(inf)\n",
    "bgc_dict"
   ]
  },
  {
   "cell_type": "code",
   "execution_count": 5,
   "id": "afraid-enemy",
   "metadata": {},
   "outputs": [
    {
     "name": "stdout",
     "output_type": "stream",
     "text": [
      "BGC0000020 maytansine C[C@@H]1[C@@H]2C[C@]([C@@H](/C=C/C=C(/CC3=CC(=C(C(=C3)OC)Cl)N(C(=O)C[C@@H]([C@]4([C@H]1O4)C)OC(=O)[C@H](C)N(C)C(=O)C)C)\\C)OC)(NC(=O)O2)O 12060743\n",
      "BGC0000020 ansamitocin P-3 C[C@@H]1[C@@H]2C[C@]([C@@H](/C=C/C=C(/CC3=CC(=C(C(=C3)OC)Cl)N(C(=O)C[C@@H]([C@]4([C@H]1O4)C)OC(=O)C(C)C)C)\\C)OC)(NC(=O)O2)O 12060743\n"
     ]
    }
   ],
   "source": [
    "# gather: mibig accession, compound name, SMILES, PMID/DOI (comma seperated)\n",
    "mibig_acc = bgc_dict['cluster']['mibig_accession']\n",
    "publications = ','.join(pub.rpartition(\":\")[-1] for pub in bgc_dict['cluster']['publications'])\n",
    "for compound in bgc_dict['cluster']['compounds']:\n",
    "    compound_name = compound['compound']\n",
    "    smiles = compound['chem_struct']\n",
    "    print(mibig_acc, compound_name, smiles, publications)"
   ]
  },
  {
   "cell_type": "code",
   "execution_count": 6,
   "id": "severe-hygiene",
   "metadata": {},
   "outputs": [],
   "source": [
    "# make a list of tuples with info for each line (so it can be sorted)\n",
    "info_list = []\n",
    "for bgc_json in mibig_files:\n",
    "    with open(bgc_json, 'r') as inf:\n",
    "        bgc_dict = json.load(inf)\n",
    "    mibig_acc = bgc_dict['cluster']['mibig_accession']\n",
    "    publications = ','.join(pub.rpartition(\":\")[-1] for pub in bgc_dict['cluster']['publications'])\n",
    "    for compound in bgc_dict['cluster']['compounds']:\n",
    "        compound_name = compound.get('compound', '')\n",
    "        smiles = compound.get('chem_struct', '')\n",
    "        info_list.append((mibig_acc, compound_name, smiles, publications))"
   ]
  },
  {
   "cell_type": "code",
   "execution_count": 7,
   "id": "processed-academy",
   "metadata": {},
   "outputs": [
    {
     "name": "stdout",
     "output_type": "stream",
     "text": [
      "('BGC0000522', 'lacticin Z', 'CC[C@H](C)[C@H](NC(=O)CNC(=O)[C@H](CC(C)C)NC(=O)[C@@H](NC(=O)[C@H](CCC(N)=O)NC(=O)[C@H](CCCCN)NC(=O)[C@@H](NC(=O)[C@H](CCCCN)NC(=O)[C@H](CCC(O)=O)NC(=O)[C@@H](NC(=O)[C@@H](NC(=O)[C@H](CC1=CNC2=C1C=CC=C2)NC(=O)[C@H](CC(O)=O)NC(=O)[C@@H](NC(=O)[C@H](C)NC(=O)[C@H](CCC(N)=O)NC(=O)CNC(=O)[C@H](C)NC(=O)[C@H](CC(N)=O)NC(=O)[C@@H](NC(=O)[C@H](CC1=CNC2=C1C=CC=C2)NC(=O)[C@H](CC(O)=O)NC(=O)[C@H](CC(C)C)NC(=O)[C@@H](NC(=O)[C@H](CCCCN)NC(=O)CNC(=O)[C@H](CCCCN)NC(=O)[C@H](CC(N)=O)NC(=O)[C@H](C)NC(=O)[C@H](CC1=CNC2=C1C=CC=C2)NC(=O)[C@H](C)NC(=O)[C@H](CC1=CNC2=C1C=CC=C2)NC(=O)[C@H](CCC(N)=O)NC(=O)[C@@H](NC(=O)[C@H](C)NC(=O)[C@H](CCCCN)NC(=O)[C@H](CO)NC(=O)CNC(=O)[C@H](CC1=CC=C(O)C=C1)NC(=O)[C@H](CCCCN)NC(=O)[C@H](C)NC(=O)[C@H](CC(C)C)NC(=O)[C@@H](NC(=O)[C@H](CCC(N)=O)NC(=O)[C@@H](NC(=O)[C@@H](NC(=O)[C@H](CCCCN)NC(=O)[C@H](CC(C)C)NC(=O)[C@H](CC1=CC=CC=C1)NC(=O)CNC(=O)[C@H](C)NC(=O)[C@@H](N)CCSC)C(C)C)C(C)C)[C@@H](C)CC)C(C)C)[C@@H](C)CC)[C@@H](C)CC)[C@@H](C)CC)C(C)C)C(C)C)[C@@H](C)CC)[C@@H](C)CC)C(=O)N[C@@H](CCCCN)C(O)=O', '23103973')\n",
      "2689\n"
     ]
    }
   ],
   "source": [
    "print(info_list[-1])\n",
    "print(len(info_list))"
   ]
  },
  {
   "cell_type": "code",
   "execution_count": 8,
   "id": "qualified-porcelain",
   "metadata": {},
   "outputs": [
    {
     "data": {
      "text/plain": [
       "(('BGC0000001',\n",
       "  'abyssomicin C',\n",
       "  'CC1C[C@]23OC(=O)C4=C2OC1C(O)C3\\\\C=C/C(=O)[C@@H](C)C[C@@H](C)C4=O',\n",
       "  '21656887'),\n",
       " ('BGC0002036', 'dehydrofosmidomycin', '', '10.1038/s41589-019-0343-'))"
      ]
     },
     "execution_count": 8,
     "metadata": {},
     "output_type": "execute_result"
    }
   ],
   "source": [
    "# sort\n",
    "info_list.sort()\n",
    "info_list[0], info_list[-1]"
   ]
  },
  {
   "cell_type": "code",
   "execution_count": 9,
   "id": "nasty-floor",
   "metadata": {},
   "outputs": [
    {
     "data": {
      "text/plain": [
       "2689"
      ]
     },
     "execution_count": 9,
     "metadata": {},
     "output_type": "execute_result"
    }
   ],
   "source": [
    "len(info_list)"
   ]
  },
  {
   "cell_type": "code",
   "execution_count": 11,
   "id": "protected-eating",
   "metadata": {},
   "outputs": [
    {
     "data": {
      "text/plain": [
       "'MIBiG accession\\tcompound name\\tSMILES\\tPMID / DOI\\tColumn1\\tColumn2\\tColumn3\\n'"
      ]
     },
     "execution_count": 11,
     "metadata": {},
     "output_type": "execute_result"
    }
   ],
   "source": [
    "old_mibig_file = \"/mnt/scratch/louwe015/NPLinker/classifying/ClassifyNPDB/InFiles/All_MIBiG_compounds_with_SMILES_and_PMID_MAS.txt\"\n",
    "with open(old_mibig_file, \"r\") as inf:\n",
    "    header = inf.readline()\n",
    "header"
   ]
  },
  {
   "cell_type": "code",
   "execution_count": 31,
   "id": "charming-arrow",
   "metadata": {},
   "outputs": [],
   "source": [
    "out_file = \"All_MIBiG2.0_compounds_with_SMILES_and_PMID_MAS.txt\"\n",
    "with open(out_file, 'w') as outf:\n",
    "    outf.write(header)\n",
    "    for bgc_info in info_list:\n",
    "        outf.write(\"{}\\n\".format('\\t'.join(bgc_info)))"
   ]
  }
 ],
 "metadata": {
  "kernelspec": {
   "display_name": "Python 3",
   "language": "python",
   "name": "python3"
  },
  "language_info": {
   "codemirror_mode": {
    "name": "ipython",
    "version": 3
   },
   "file_extension": ".py",
   "mimetype": "text/x-python",
   "name": "python",
   "nbconvert_exporter": "python",
   "pygments_lexer": "ipython3",
   "version": "3.7.2"
  }
 },
 "nbformat": 4,
 "nbformat_minor": 5
}
