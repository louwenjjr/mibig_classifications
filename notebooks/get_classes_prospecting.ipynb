{
 "cells": [
  {
   "cell_type": "markdown",
   "id": "varied-ghana",
   "metadata": {},
   "source": [
    "# Summary\n",
    "In this notebook I am prospecting how to gather chemical and bgc classes from mibigs. This is inspired by ClassifyNPDB.\n",
    "\n",
    "I will try to use the gnps classyfire api and see how many chemical classifications that results in, so the need for pyclassyfire is obsolete."
   ]
  },
  {
   "cell_type": "code",
   "execution_count": 6,
   "id": "hazardous-insulin",
   "metadata": {},
   "outputs": [],
   "source": [
    "import os\n",
    "import urllib\n",
    "import glob\n",
    "import json"
   ]
  },
  {
   "cell_type": "code",
   "execution_count": 7,
   "id": "advance-crash",
   "metadata": {},
   "outputs": [
    {
     "name": "stdout",
     "output_type": "stream",
     "text": [
      "mibig_smiles_path exists is True\n"
     ]
    }
   ],
   "source": [
    "mibig_folder = \"/mnt/scratch/louwe015/mibig_json_2.0/\"\n",
    "\n",
    "base_path = \"/mnt/scratch/louwe015/NPLinker/classifying/mibig_classifications/\"\n",
    "mibig_smiles_path = os.path.join(base_path, \"files/All_MIBiG_compounds_with_SMILES_and_PMID_MAS.txt\")\n",
    "print(\"mibig_smiles_path exists is\", os.path.isfile(mibig_smiles_path))"
   ]
  },
  {
   "cell_type": "code",
   "execution_count": null,
   "id": "manufactured-raleigh",
   "metadata": {},
   "outputs": [],
   "source": []
  }
 ],
 "metadata": {
  "kernelspec": {
   "display_name": "Python 3",
   "language": "python",
   "name": "python3"
  },
  "language_info": {
   "codemirror_mode": {
    "name": "ipython",
    "version": 3
   },
   "file_extension": ".py",
   "mimetype": "text/x-python",
   "name": "python",
   "nbconvert_exporter": "python",
   "pygments_lexer": "ipython3",
   "version": "3.7.9"
  }
 },
 "nbformat": 4,
 "nbformat_minor": 5
}
