{
 "cells": [
  {
   "cell_type": "markdown",
   "id": "stock-album",
   "metadata": {},
   "source": [
    "# Summary\n",
    "Get antismash classes for the relevant mibig bgcs."
   ]
  },
  {
   "cell_type": "code",
   "execution_count": 1,
   "id": "certified-cable",
   "metadata": {},
   "outputs": [],
   "source": [
    "import os\n",
    "import urllib\n",
    "import glob\n",
    "import json"
   ]
  },
  {
   "cell_type": "code",
   "execution_count": 3,
   "id": "medium-gothic",
   "metadata": {},
   "outputs": [
    {
     "name": "stdout",
     "output_type": "stream",
     "text": [
      "mibig_classes exists is True\n"
     ]
    }
   ],
   "source": [
    "mibig_folder = \"/mnt/scratch/louwe015/mibig_json_2.0/\"\n",
    "\n",
    "base_path = \"/mnt/scratch/louwe015/NPLinker/classifying/mibig_classifications/\"\n",
    "out_base = os.path.split(base_path[:-1])[0]\n",
    "mibig_classes = os.path.join(out_base, \"All_MIBiG_compounds_with_BGC_CF_NPC_classes.txt\")\n",
    "print(\"mibig_classes exists is\", os.path.isfile(mibig_classes))"
   ]
  },
  {
   "cell_type": "markdown",
   "id": "occasional-station",
   "metadata": {},
   "source": [
    "## Read input classes file"
   ]
  },
  {
   "cell_type": "code",
   "execution_count": 4,
   "id": "fixed-ability",
   "metadata": {},
   "outputs": [
    {
     "name": "stdout",
     "output_type": "stream",
     "text": [
      "compound_name\tclass:subclass\tsmiles\tinchi_key\tkingdom\tsuperclass\tclass\tsubclass\tdirect_parent\tclass_results\tsuperclass_results\tpathway_results\tisglycoside\n"
     ]
    },
    {
     "data": {
      "text/plain": [
       "[('BGC0000001_abyssomicin C',\n",
       "  ['Polyketide:Other',\n",
       "   'CC1C[C@]23OC(=O)C4=C2OC1C(O)C3\\\\C=C/C(=O)[C@@H](C)C[C@@H](C)C4=O',\n",
       "   'FNEADFUPWHAVTA-UHFFFAOYSA-N',\n",
       "   'Organic compounds',\n",
       "   'Organoheterocyclic compounds',\n",
       "   'Oxanes',\n",
       "   '',\n",
       "   'Oxanes',\n",
       "   'Spirotetronate macrolides',\n",
       "   'Macrolides',\n",
       "   'Polyketides',\n",
       "   '0']),\n",
       " ('BGC0000001_atrop-abyssomicin C',\n",
       "  ['Polyketide:Other',\n",
       "   'CC1CC23OC(=O)C4=C2OC1C(O)C3\\\\C=C/C(=O)C(C)CC(C)C4=O',\n",
       "   'FNEADFUPWHAVTA-UHFFFAOYSA-N',\n",
       "   'Organic compounds',\n",
       "   'Organoheterocyclic compounds',\n",
       "   'Oxanes',\n",
       "   '',\n",
       "   'Oxanes',\n",
       "   'Spirotetronate macrolides',\n",
       "   'Macrolides',\n",
       "   'Polyketides',\n",
       "   '0'])]"
      ]
     },
     "execution_count": 4,
     "metadata": {},
     "output_type": "execute_result"
    }
   ],
   "source": [
    "mibig_dict = {}\n",
    "with open(mibig_classes) as inf:\n",
    "    header = inf.readline()\n",
    "    for line in inf:\n",
    "        line = line.strip().split('\\t')\n",
    "        chem_id = line.pop(0)\n",
    "        mibig_dict[chem_id] = line\n",
    "print(header.strip())\n",
    "list(mibig_dict.items())[:2]"
   ]
  },
  {
   "cell_type": "code",
   "execution_count": null,
   "id": "handy-smell",
   "metadata": {},
   "outputs": [],
   "source": []
  }
 ],
 "metadata": {
  "kernelspec": {
   "display_name": "Python 3",
   "language": "python",
   "name": "python3"
  },
  "language_info": {
   "codemirror_mode": {
    "name": "ipython",
    "version": 3
   },
   "file_extension": ".py",
   "mimetype": "text/x-python",
   "name": "python",
   "nbconvert_exporter": "python",
   "pygments_lexer": "ipython3",
   "version": "3.7.2"
  }
 },
 "nbformat": 4,
 "nbformat_minor": 5
}
