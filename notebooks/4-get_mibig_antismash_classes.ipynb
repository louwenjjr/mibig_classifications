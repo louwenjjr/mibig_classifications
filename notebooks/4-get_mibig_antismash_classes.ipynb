{
 "cells": [
  {
   "cell_type": "markdown",
   "id": "stock-album",
   "metadata": {},
   "source": [
    "# Summary\n",
    "Get antismash classes for the relevant mibig bgcs."
   ]
  },
  {
   "cell_type": "code",
   "execution_count": 20,
   "id": "certified-cable",
   "metadata": {},
   "outputs": [],
   "source": [
    "import os\n",
    "import urllib\n",
    "import glob\n",
    "import json\n",
    "import time\n",
    "from copy import deepcopy"
   ]
  },
  {
   "cell_type": "code",
   "execution_count": 2,
   "id": "medium-gothic",
   "metadata": {},
   "outputs": [
    {
     "name": "stdout",
     "output_type": "stream",
     "text": [
      "mibig_classes exists is True\n"
     ]
    }
   ],
   "source": [
    "mibig_folder = \"/mnt/scratch/louwe015/mibig_json_2.0/\"\n",
    "\n",
    "base_path = \"/mnt/scratch/louwe015/NPLinker/classifying/mibig_classifications/\"\n",
    "out_base = os.path.split(base_path[:-1])[0]\n",
    "mibig_classes = os.path.join(out_base, \"All_MIBiG_compounds_with_BGC_CF_NPC_classes.txt\")\n",
    "print(\"mibig_classes exists is\", os.path.isfile(mibig_classes))"
   ]
  },
  {
   "cell_type": "markdown",
   "id": "occasional-station",
   "metadata": {},
   "source": [
    "## Read input classes file"
   ]
  },
  {
   "cell_type": "code",
   "execution_count": 24,
   "id": "fixed-ability",
   "metadata": {},
   "outputs": [
    {
     "name": "stdout",
     "output_type": "stream",
     "text": [
      "compound_name\tclass:subclass\tsmiles\tinchi_key\tkingdom\tsuperclass\tclass\tsubclass\tdirect_parent\tclass_results\tsuperclass_results\tpathway_results\tisglycoside\n"
     ]
    },
    {
     "data": {
      "text/plain": [
       "[('BGC0000001_abyssomicin C',\n",
       "  ['Polyketide:Other',\n",
       "   'CC1C[C@]23OC(=O)C4=C2OC1C(O)C3\\\\C=C/C(=O)[C@@H](C)C[C@@H](C)C4=O',\n",
       "   'FNEADFUPWHAVTA-UHFFFAOYSA-N',\n",
       "   'Organic compounds',\n",
       "   'Organoheterocyclic compounds',\n",
       "   'Oxanes',\n",
       "   '',\n",
       "   'Oxanes',\n",
       "   'Spirotetronate macrolides',\n",
       "   'Macrolides',\n",
       "   'Polyketides',\n",
       "   '0']),\n",
       " ('BGC0000001_atrop-abyssomicin C',\n",
       "  ['Polyketide:Other',\n",
       "   'CC1CC23OC(=O)C4=C2OC1C(O)C3\\\\C=C/C(=O)C(C)CC(C)C4=O',\n",
       "   'FNEADFUPWHAVTA-UHFFFAOYSA-N',\n",
       "   'Organic compounds',\n",
       "   'Organoheterocyclic compounds',\n",
       "   'Oxanes',\n",
       "   '',\n",
       "   'Oxanes',\n",
       "   'Spirotetronate macrolides',\n",
       "   'Macrolides',\n",
       "   'Polyketides',\n",
       "   '0'])]"
      ]
     },
     "execution_count": 24,
     "metadata": {},
     "output_type": "execute_result"
    }
   ],
   "source": [
    "mibig_dict = {}\n",
    "with open(mibig_classes) as inf:\n",
    "    header = inf.readline()\n",
    "    for line in inf:\n",
    "        line = line.strip().split('\\t')\n",
    "        chem_id = line.pop(0)\n",
    "        mibig_dict[chem_id] = line\n",
    "print(header.strip())\n",
    "list(mibig_dict.items())[:2]"
   ]
  },
  {
   "cell_type": "markdown",
   "id": "changed-specific",
   "metadata": {},
   "source": [
    "## Fetching antismash result from mibig and getting class info"
   ]
  },
  {
   "cell_type": "code",
   "execution_count": 5,
   "id": "handy-smell",
   "metadata": {},
   "outputs": [
    {
     "data": {
      "text/plain": [
       "'BGC0000002'"
      ]
     },
     "execution_count": 5,
     "metadata": {},
     "output_type": "execute_result"
    }
   ],
   "source": [
    "test_bgc_id, test_vals = list(mibig_dict.items())[2]\n",
    "test_bgc = test_bgc_id.partition('_')[0]\n",
    "test_bgc"
   ]
  },
  {
   "cell_type": "code",
   "execution_count": 6,
   "id": "saving-tokyo",
   "metadata": {},
   "outputs": [],
   "source": [
    "url = \"https://mibig.secondarymetabolites.org/repository/{}/generated/{}.1.region001.json\".format(test_bgc, test_bgc)\n",
    "with urllib.request.urlopen(url) as inf:\n",
    "    test_result = json.load(inf)"
   ]
  },
  {
   "cell_type": "code",
   "execution_count": 7,
   "id": "religious-invasion",
   "metadata": {},
   "outputs": [
    {
     "name": "stdout",
     "output_type": "stream",
     "text": [
      "dict_keys(['version', 'input_file', 'records', 'timings', 'taxon', 'schema'])\n",
      "dict_keys(['id', 'seq', 'features', 'name', 'description', 'dbxrefs', 'annotations', 'letter_annotations', 'modules'])\n"
     ]
    },
    {
     "data": {
      "text/plain": [
       "[{'location': '[0:138784]',\n",
       "  'type': 'cand_cluster',\n",
       "  'id': '<unknown id>',\n",
       "  'qualifiers': {'candidate_cluster_number': ['1'],\n",
       "   'contig_edge': ['True'],\n",
       "   'detection_rules': ['cds(PKS_AT and (PKS_KS or ene_KS or mod_KS or hyb_KS or itr_KS or tra_KS))',\n",
       "    '(minimum(3, [DUF1205, Glyco_transf_28, Glycos_transf_1, Glycos_transf_2, MGT]) and minscore(MGT, 150))'],\n",
       "   'kind': ['neighbouring'],\n",
       "   'product': ['T1PKS', 'oligosaccharide'],\n",
       "   'protoclusters': ['1', '2'],\n",
       "   'tool': ['antismash']}},\n",
       " {'location': '[0:126784]',\n",
       "  'type': 'cand_cluster',\n",
       "  'id': '<unknown id>',\n",
       "  'qualifiers': {'candidate_cluster_number': ['2'],\n",
       "   'contig_edge': ['True'],\n",
       "   'detection_rules': ['cds(PKS_AT and (PKS_KS or ene_KS or mod_KS or hyb_KS or itr_KS or tra_KS))'],\n",
       "   'kind': ['single'],\n",
       "   'product': ['T1PKS'],\n",
       "   'protoclusters': ['1'],\n",
       "   'tool': ['antismash']}},\n",
       " {'location': '[98200:138784]',\n",
       "  'type': 'cand_cluster',\n",
       "  'id': '<unknown id>',\n",
       "  'qualifiers': {'candidate_cluster_number': ['3'],\n",
       "   'contig_edge': ['False'],\n",
       "   'detection_rules': ['(minimum(3, [DUF1205, Glyco_transf_28, Glycos_transf_1, Glycos_transf_2, MGT]) and minscore(MGT, 150))'],\n",
       "   'kind': ['single'],\n",
       "   'product': ['oligosaccharide'],\n",
       "   'protoclusters': ['2'],\n",
       "   'tool': ['antismash']}}]"
      ]
     },
     "execution_count": 7,
     "metadata": {},
     "output_type": "execute_result"
    }
   ],
   "source": [
    "print(test_result.keys())\n",
    "print(test_result['records'][0].keys())\n",
    "cand_cluster = []\n",
    "for feature in test_result['records'][0]['features']:\n",
    "    if feature['type'] == 'cand_cluster':\n",
    "        cand_cluster.append(feature)\n",
    "cand_cluster"
   ]
  },
  {
   "cell_type": "code",
   "execution_count": 25,
   "id": "offshore-sunglasses",
   "metadata": {},
   "outputs": [
    {
     "name": "stdout",
     "output_type": "stream",
     "text": [
      "No AS record for BGC0000053_elaiophylin\n",
      "No AS record for BGC0000350_ET-743\n",
      "No AS record for BGC0000669_marneral\n",
      "No AS record for BGC0000670_thaliandiol\n",
      "No AS record for BGC0000670_thalianol\n",
      "No AS record for BGC0000671_momilactone\n",
      "No AS record for BGC0000672_oryzalides\n",
      "No AS record for BGC0000672_phytocassane\n",
      "No AS record for BGC0000798_dhurrin\n",
      "No AS record for BGC0000810_benzoxazinone DIMBOA\n",
      "No AS record for BGC0001068_pyripyropene A\n",
      "No AS record for BGC0001109_pederin\n",
      "No AS record for BGC0001314_tirucalla\n",
      "No AS record for BGC0001316_linamarin\n",
      "No AS record for BGC0001316_lotaustralin\n",
      "No AS record for BGC0001317_lupeol\n",
      "No AS record for BGC0001318_linamarin\n",
      "No AS record for BGC0001322_lycosantalonol\n",
      "No AS record for BGC0001325_noscapine\n",
      "No AS record for BGC0001533_borrelidin\n",
      "No AS record for BGC0001554_coenzyme F430\n",
      "No AS record for BGC0001799_thebaine\n",
      "No AS record for BGC0001816_valactamide A\n",
      "No AS record for BGC0001883_porphyra-334\n",
      "No AS record for BGC0001949_domoic acid\n",
      "No AS record for BGC0001974_kainic acid\n",
      "No AS record for BGC0001997_capsidiol\n",
      "Recorded 1878/2112 antismash classes. Missing 234\n",
      "Took 11.13 minutes\n"
     ]
    }
   ],
   "source": [
    "all_as_classes = []\n",
    "mibig_as_classes = {}\n",
    "start = time.time()\n",
    "local_mibig_dict = deepcopy(mibig_dict)  # avoid annoying things when rerunning notebook\n",
    "for bgc_id, vals in local_mibig_dict.items():\n",
    "    # fetch json of antismash generated result\n",
    "    bgc_num = bgc_id.partition('_')[0]\n",
    "    url = \"https://mibig.secondarymetabolites.org/repository/{}/generated/{}.1.region001.json\".format(bgc_num, bgc_num)\n",
    "    try:\n",
    "        with urllib.request.urlopen(url) as inf:\n",
    "            bgc_json = json.load(inf)\n",
    "    except urllib.error.HTTPError:\n",
    "        bgc_json = None\n",
    "        print(\"No AS record for\", bgc_id)\n",
    "\n",
    "    # parse json to get classes (products)\n",
    "    as_classes = \"\"\n",
    "    if bgc_json:\n",
    "        for feature in bgc_json['records'][0]['features']:\n",
    "            if feature['type'] == 'cand_cluster':\n",
    "                # 'qualifiers': {'candidate_cluster_number': ['1'],\n",
    "                qualifiers = feature['qualifiers']\n",
    "                if qualifiers['candidate_cluster_number'][0] == '1':\n",
    "                    as_classes = ','.join(qualifiers['product'])\n",
    "    vals.append(as_classes)\n",
    "    \n",
    "    # populate new dict, with added AS class\n",
    "    mibig_as_classes[bgc_id] = vals\n",
    "    all_as_classes.append(as_classes)  # record to inspect results\n",
    "\n",
    "len_recorded = len([cls for cls in all_as_classes if cls])\n",
    "len_tot = len(all_as_classes)\n",
    "print(\"Recorded {}/{} antismash classes. Missing {}\".format(len_recorded, len_tot, len_tot-len_recorded))\n",
    "end = time.time()\n",
    "print(\"Took {:.2f} minutes\".format((end-start)/60))"
   ]
  },
  {
   "cell_type": "code",
   "execution_count": 23,
   "id": "interior-tournament",
   "metadata": {},
   "outputs": [
    {
     "data": {
      "text/plain": [
       "['T1PKS',\n",
       " 'T1PKS',\n",
       " 'T1PKS,oligosaccharide',\n",
       " 'T1PKS',\n",
       " 'T1PKS',\n",
       " '',\n",
       " 'T1PKS',\n",
       " 'T1PKS',\n",
       " 'T1PKS',\n",
       " 'T1PKS']"
      ]
     },
     "execution_count": 23,
     "metadata": {},
     "output_type": "execute_result"
    }
   ],
   "source": [
    "all_as_classes[:10]"
   ]
  },
  {
   "cell_type": "markdown",
   "id": "expired-master",
   "metadata": {},
   "source": [
    "## Writing to out file"
   ]
  },
  {
   "cell_type": "code",
   "execution_count": 26,
   "id": "moved-shoulder",
   "metadata": {},
   "outputs": [
    {
     "name": "stdout",
     "output_type": "stream",
     "text": [
      "['compound_name', 'class:subclass', 'AS_classes', 'smiles', 'inchi_key', 'kingdom', 'superclass', 'class', 'subclass', 'direct_parent', 'class_results', 'superclass_results', 'pathway_results', 'isglycoside']\n",
      "BGC0002036_dehydrofosmidomycin\tOther:\tphosphonate\tC(C=CP(=O)(O)O)N(C=O)O\tYTTBDWKRMPYBDN-UHFFFAOYSA-N\t\t\t\t\t\t\t\t\t0\n",
      "\n"
     ]
    }
   ],
   "source": [
    "out_file = os.path.join(out_base, \"All_MIBiG_compounds_with_AS_BGC_CF_NPC_classes.txt\")\n",
    "header_split = header.strip().split('\\t')\n",
    "new_header = header_split[:2] + [\"AS_classes\"] + header_split[2:]\n",
    "print(new_header)\n",
    "local_mibig_as_classes = deepcopy(mibig_as_classes)  # avoid annoying things when rerunning notebook\n",
    "with open(out_file, 'w') as outf:\n",
    "    outf.write(\"{}\\n\".format('\\t'.join(new_header)))\n",
    "    for key, vals in local_mibig_as_classes.items():\n",
    "        as_classes = vals.pop(-1)\n",
    "        classes = vals.pop(0)\n",
    "        out_str = \"{}\\t{}\\t{}\\t{}\\n\".format(key, classes, as_classes, '\\t'.join(vals))\n",
    "        outf.write(out_str)\n",
    "\n",
    "print(out_str)  # example"
   ]
  }
 ],
 "metadata": {
  "kernelspec": {
   "display_name": "Python 3",
   "language": "python",
   "name": "python3"
  },
  "language_info": {
   "codemirror_mode": {
    "name": "ipython",
    "version": 3
   },
   "file_extension": ".py",
   "mimetype": "text/x-python",
   "name": "python",
   "nbconvert_exporter": "python",
   "pygments_lexer": "ipython3",
   "version": "3.7.2"
  }
 },
 "nbformat": 4,
 "nbformat_minor": 5
}
